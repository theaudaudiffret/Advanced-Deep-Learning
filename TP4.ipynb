{
 "cells": [
  {
   "cell_type": "markdown",
   "metadata": {
    "cell_ktag": "NlwqZF0IUj4b"
   },
   "source": [
    "# TP4 :  Learning on a low budget\n",
    "**Théo Rudkiewicz, Cyriaque Rousselot**"
   ]
  },
  {
   "cell_type": "markdown",
   "metadata": {
    "cell_ktag": "NlwqZF0IUj4b"
   },
   "source": [
    "# Introduction\n",
    "\n",
    "**Context :**\n",
    "\n",
    "Assume we are in a context where few \"gold\" labeled data samples are available for training, say \n",
    "\n",
    "$$\\mathcal{X}_{\\text{train}} = \\{(x_n,y_n)\\}_{n\\leq N_{\\text{train}}}$$\n",
    "\n",
    "where $N_{\\text{train}}$ is small. \n",
    "\n",
    "A large test set $\\mathcal{X}_{\\text{test}}$ exists but is not accessible. \n",
    "(To make your task easier, we provide you with some data (named `test_dataset` in the code) that you can use to test your model, but you **must not** use it to train your model).\n",
    "\n",
    "We also assume that we have a limited computational budget.\n",
    "\n",
    "The goal of this practical session is to guide you through different methods that will help you get better results from few resources (data & compute)."
   ]
  },
  {
   "cell_type": "markdown",
   "metadata": {
    "cell_ktag": "NlwqZF0IUj4b"
   },
   "source": [
    "In this practical, we will use the `resnet18` architecture. We will use models from the [pytorch vision hub ](https://pytorch.org/vision/stable/models.html#)."
   ]
  },
  {
   "cell_type": "markdown",
   "metadata": {
    "cell_ktag": "NlwqZF0IUj4b"
   },
   "source": [
    "# QUESTIONS\n",
    "\n",
    "## Grading\n",
    "\n",
    "You will be graded on 5 questions. You will need to provide 7 files : \n",
    "1. This Notebook\n",
    "2. `utils.py`\n",
    "3. `last_layer_finetune.pth` (the file **must be of size less than 5Mo**)\n",
    "4. `daug_resnet.pth` (the file **must be of size less than 50Mo**)\n",
    "5. `final_model.pth` (the file **must be of size less than 50Mo**)\n",
    "6. `drawing_lora.png`\n",
    "7. `cutmix.png`\n",
    "\n",
    "If the code you defined passes all our tests, you will get the full grade. Otherwise we  will look at the intermediate questions in the notebook to give you partial credit.\n",
    "\n",
    "\n",
    "\n",
    " Please provide clear and short answers between `<div class=\"alert alert-info\">  <your answer>  </div>` tags (when it's not code).  "
   ]
  },
  {
   "cell_type": "markdown",
   "metadata": {
    "cell_ktag": "NlwqZF0IUj4b"
   },
   "source": [
    "<div class=\"alert alert-info\">  Example of answer  </div>"
   ]
  },
  {
   "cell_type": "code",
   "execution_count": 4,
   "metadata": {
    "cell_ktag": "NlwqZF0IUj4b"
   },
   "outputs": [],
   "source": [
    "import os\n",
    "\n",
    "if not os.path.exists(\"data\"):\n",
    "    os.mkdir(\"data\")\n",
    "if not os.path.exists(\"data/TP4_images\"):\n",
    "    os.mkdir(\"data/TP4_images\")\n",
    "    !cd data/TP4_images && wget -O north_dataset_train.zip  \"https://nextcloud.lisn.upsaclay.fr/index.php/s/yzQRWE2YjmFn9WA/download/north_dataset_train.zip\" && unzip north_dataset_train.zip\n",
    "    !cd data/TP4_images && wget -O north_dataset_test.zip  \"https://nextcloud.lisn.upsaclay.fr/index.php/s/zntidWrFdYsGMDm/download/north_dataset_test.zip\" && unzip north_dataset_test.zip\n",
    "dir_path = \"../data/TP4_images/\"\n"
   ]
  },
  {
   "cell_type": "code",
   "execution_count": 100,
   "metadata": {
    "cell_ktag": "NlwqZF0IUj4b"
   },
   "outputs": [],
   "source": [
    "import torch\n",
    "import torch.nn as nn\n",
    "from torchvision import datasets, transforms, models\n",
    "from torchmetrics.classification import BinaryAccuracy, Accuracy, ConfusionMatrix\n",
    "# you can install torchmetrics with `pip install torchmetrics`\n",
    "\n",
    "\n",
    "device = torch.device(\"cuda\" if torch.cuda.is_available() else \"cpu\")\n",
    "\n",
    "\n",
    "north_dataset = datasets.ImageFolder(\n",
    "    dir_path + \"north_dataset_sample\",\n",
    "    transform=transforms.Compose([transforms.ToTensor()]),\n",
    ")\n",
    "test_dataset = datasets.ImageFolder(\n",
    "    dir_path + \"north_dataset_test\",\n",
    "    transform=transforms.Compose([transforms.ToTensor()]),\n",
    ")\n",
    "base_model = models.resnet18()"
   ]
  },
  {
   "cell_type": "markdown",
   "metadata": {
    "cell_ktag": "NlwqZF0IUj4b"
   },
   "source": [
    "## Question 1 : \n",
    ">  Change the last layer of the resnet model so that its size fits the problem. "
   ]
  },
  {
   "cell_type": "code",
   "execution_count": 103,
   "metadata": {
    "cell_ktag": "NlwqZF0IUj4b"
   },
   "outputs": [
    {
     "name": "stdout",
     "output_type": "stream",
     "text": [
      "ResNet(\n",
      "  (conv1): Conv2d(3, 64, kernel_size=(7, 7), stride=(2, 2), padding=(3, 3), bias=False)\n",
      "  (bn1): BatchNorm2d(64, eps=1e-05, momentum=0.1, affine=True, track_running_stats=True)\n",
      "  (relu): ReLU(inplace=True)\n",
      "  (maxpool): MaxPool2d(kernel_size=3, stride=2, padding=1, dilation=1, ceil_mode=False)\n",
      "  (layer1): Sequential(\n",
      "    (0): BasicBlock(\n",
      "      (conv1): Conv2d(64, 64, kernel_size=(3, 3), stride=(1, 1), padding=(1, 1), bias=False)\n",
      "      (bn1): BatchNorm2d(64, eps=1e-05, momentum=0.1, affine=True, track_running_stats=True)\n",
      "      (relu): ReLU(inplace=True)\n",
      "      (conv2): Conv2d(64, 64, kernel_size=(3, 3), stride=(1, 1), padding=(1, 1), bias=False)\n",
      "      (bn2): BatchNorm2d(64, eps=1e-05, momentum=0.1, affine=True, track_running_stats=True)\n",
      "    )\n",
      "    (1): BasicBlock(\n",
      "      (conv1): Conv2d(64, 64, kernel_size=(3, 3), stride=(1, 1), padding=(1, 1), bias=False)\n",
      "      (bn1): BatchNorm2d(64, eps=1e-05, momentum=0.1, affine=True, track_running_stats=True)\n",
      "      (relu): ReLU(inplace=True)\n",
      "      (conv2): Conv2d(64, 64, kernel_size=(3, 3), stride=(1, 1), padding=(1, 1), bias=False)\n",
      "      (bn2): BatchNorm2d(64, eps=1e-05, momentum=0.1, affine=True, track_running_stats=True)\n",
      "    )\n",
      "  )\n",
      "  (layer2): Sequential(\n",
      "    (0): BasicBlock(\n",
      "      (conv1): Conv2d(64, 128, kernel_size=(3, 3), stride=(2, 2), padding=(1, 1), bias=False)\n",
      "      (bn1): BatchNorm2d(128, eps=1e-05, momentum=0.1, affine=True, track_running_stats=True)\n",
      "      (relu): ReLU(inplace=True)\n",
      "      (conv2): Conv2d(128, 128, kernel_size=(3, 3), stride=(1, 1), padding=(1, 1), bias=False)\n",
      "      (bn2): BatchNorm2d(128, eps=1e-05, momentum=0.1, affine=True, track_running_stats=True)\n",
      "      (downsample): Sequential(\n",
      "        (0): Conv2d(64, 128, kernel_size=(1, 1), stride=(2, 2), bias=False)\n",
      "        (1): BatchNorm2d(128, eps=1e-05, momentum=0.1, affine=True, track_running_stats=True)\n",
      "      )\n",
      "    )\n",
      "    (1): BasicBlock(\n",
      "      (conv1): Conv2d(128, 128, kernel_size=(3, 3), stride=(1, 1), padding=(1, 1), bias=False)\n",
      "      (bn1): BatchNorm2d(128, eps=1e-05, momentum=0.1, affine=True, track_running_stats=True)\n",
      "      (relu): ReLU(inplace=True)\n",
      "      (conv2): Conv2d(128, 128, kernel_size=(3, 3), stride=(1, 1), padding=(1, 1), bias=False)\n",
      "      (bn2): BatchNorm2d(128, eps=1e-05, momentum=0.1, affine=True, track_running_stats=True)\n",
      "    )\n",
      "  )\n",
      "  (layer3): Sequential(\n",
      "    (0): BasicBlock(\n",
      "      (conv1): Conv2d(128, 256, kernel_size=(3, 3), stride=(2, 2), padding=(1, 1), bias=False)\n",
      "      (bn1): BatchNorm2d(256, eps=1e-05, momentum=0.1, affine=True, track_running_stats=True)\n",
      "      (relu): ReLU(inplace=True)\n",
      "      (conv2): Conv2d(256, 256, kernel_size=(3, 3), stride=(1, 1), padding=(1, 1), bias=False)\n",
      "      (bn2): BatchNorm2d(256, eps=1e-05, momentum=0.1, affine=True, track_running_stats=True)\n",
      "      (downsample): Sequential(\n",
      "        (0): Conv2d(128, 256, kernel_size=(1, 1), stride=(2, 2), bias=False)\n",
      "        (1): BatchNorm2d(256, eps=1e-05, momentum=0.1, affine=True, track_running_stats=True)\n",
      "      )\n",
      "    )\n",
      "    (1): BasicBlock(\n",
      "      (conv1): Conv2d(256, 256, kernel_size=(3, 3), stride=(1, 1), padding=(1, 1), bias=False)\n",
      "      (bn1): BatchNorm2d(256, eps=1e-05, momentum=0.1, affine=True, track_running_stats=True)\n",
      "      (relu): ReLU(inplace=True)\n",
      "      (conv2): Conv2d(256, 256, kernel_size=(3, 3), stride=(1, 1), padding=(1, 1), bias=False)\n",
      "      (bn2): BatchNorm2d(256, eps=1e-05, momentum=0.1, affine=True, track_running_stats=True)\n",
      "    )\n",
      "  )\n",
      "  (layer4): Sequential(\n",
      "    (0): BasicBlock(\n",
      "      (conv1): Conv2d(256, 512, kernel_size=(3, 3), stride=(2, 2), padding=(1, 1), bias=False)\n",
      "      (bn1): BatchNorm2d(512, eps=1e-05, momentum=0.1, affine=True, track_running_stats=True)\n",
      "      (relu): ReLU(inplace=True)\n",
      "      (conv2): Conv2d(512, 512, kernel_size=(3, 3), stride=(1, 1), padding=(1, 1), bias=False)\n",
      "      (bn2): BatchNorm2d(512, eps=1e-05, momentum=0.1, affine=True, track_running_stats=True)\n",
      "      (downsample): Sequential(\n",
      "        (0): Conv2d(256, 512, kernel_size=(1, 1), stride=(2, 2), bias=False)\n",
      "        (1): BatchNorm2d(512, eps=1e-05, momentum=0.1, affine=True, track_running_stats=True)\n",
      "      )\n",
      "    )\n",
      "    (1): BasicBlock(\n",
      "      (conv1): Conv2d(512, 512, kernel_size=(3, 3), stride=(1, 1), padding=(1, 1), bias=False)\n",
      "      (bn1): BatchNorm2d(512, eps=1e-05, momentum=0.1, affine=True, track_running_stats=True)\n",
      "      (relu): ReLU(inplace=True)\n",
      "      (conv2): Conv2d(512, 512, kernel_size=(3, 3), stride=(1, 1), padding=(1, 1), bias=False)\n",
      "      (bn2): BatchNorm2d(512, eps=1e-05, momentum=0.1, affine=True, track_running_stats=True)\n",
      "    )\n",
      "  )\n",
      "  (avgpool): AdaptiveAvgPool2d(output_size=(1, 1))\n",
      "  (fc): Linear(in_features=512, out_features=1000, bias=True)\n",
      ")\n"
     ]
    }
   ],
   "source": [
    "# Hint \n",
    "print(base_model)\n",
    "base_model.fc = nn.Linear(base_model.fc.in_features, 2, bias=True)"
   ]
  },
  {
   "cell_type": "code",
   "execution_count": 104,
   "metadata": {
    "cell_ktag": "NlwqZF0IUj4b"
   },
   "outputs": [],
   "source": [
    "assert (\n",
    "    base_model.fc.out_features == 2\n",
    ")  # we could also change the last layer to have 1 output. Do it with 2 so that it matches our tests procedure during grading."
   ]
  },
  {
   "cell_type": "code",
   "execution_count": 148,
   "metadata": {},
   "outputs": [],
   "source": [
    "from torch.utils.data import Dataset\n",
    "class OneHotDataset(Dataset):\n",
    "    def __init__(self, dataset, num_classes=2):\n",
    "        self.dataset = dataset\n",
    "        self.num_classes = num_classes\n",
    "\n",
    "    def __len__(self):\n",
    "        return len(self.dataset)\n",
    "\n",
    "    def __getitem__(self, idx):\n",
    "        image, target = self.dataset[idx]\n",
    "        target = torch.nn.functional.one_hot(torch.tensor(target), num_classes=self.num_classes).to(torch.float32)\n",
    "        return image, target"
   ]
  },
  {
   "cell_type": "markdown",
   "metadata": {
    "cell_ktag": "NlwqZF0IUj4b"
   },
   "source": [
    "## Question 2: \n",
    "> Train the last layer of a randomly initialized resnet model. Provide a function precompute_features in `utils.py` that creates a new dataset from the features precomputed by the model.\n",
    "\n",
    "Intermediate question :  Provide the training process in the notebook with training curve. Comment on the accuracy. "
   ]
  },
  {
   "cell_type": "code",
   "execution_count": 149,
   "metadata": {
    "cell_ktag": "NlwqZF0IUj4b"
   },
   "outputs": [],
   "source": [
    "def precompute_features(\n",
    "    model: models.ResNet, \n",
    "    dataset: torch.utils.data.Dataset, \n",
    "    device: torch.device\n",
    ") -> torch.utils.data.Dataset:\n",
    "    \"\"\"\n",
    "    Create a new dataset with the features precomputed by the model.\n",
    "\n",
    "    If the model is $f \\circ g$ where $f$ is the last layer and $g$ is \n",
    "    the rest of the model, it is not necessary to recompute $g(x)$ at \n",
    "    each epoch as $g$ is fixed. Hence you can precompute $g(x)$ and \n",
    "    create a new dataset \n",
    "    $\\mathcal{X}_{\\text{train}}' = \\{(g(x_n),y_n)\\}_{n\\leq N_{\\text{train}}}$\n",
    "\n",
    "    Arguments:\n",
    "    ----------\n",
    "    model: models.ResNet\n",
    "        The model used to precompute the features\n",
    "    dataset: torch.utils.data.Dataset\n",
    "        The dataset to precompute the features from\n",
    "    device: torch.device\n",
    "        The device to use for the computation\n",
    "    \n",
    "    Returns:\n",
    "    --------\n",
    "    torch.utils.data.Dataset\n",
    "        The new dataset with the features precomputed\n",
    "    \"\"\"\n",
    "    dataloader = torch.utils.data.DataLoader(dataset, batch_size=64, shuffle=False)\n",
    "    features_list = []\n",
    "    labels_list = []\n",
    "\n",
    "    # Remove the last layer (fc) to get the feature extractor part of the model\n",
    "    precompute_model = nn.Sequential(*list(model.children())[:-1])\n",
    "    precompute_model.eval()\n",
    "    precompute_model.to(device)\n",
    "\n",
    "    with torch.no_grad():\n",
    "        for X, y in dataloader:\n",
    "            X = X.to(device)\n",
    "            features = precompute_model(X)\n",
    "            features = features.view(features.size(0), -1)  # Flatten the features\n",
    "            features_list.append(features.cpu())\n",
    "            labels_list.append(y.cpu())\n",
    "\n",
    "    features_tensor = torch.cat(features_list)\n",
    "    labels_tensor = torch.cat(labels_list)\n",
    "\n",
    "    new_dataset = torch.utils.data.TensorDataset(features_tensor, labels_tensor)\n",
    "    return new_dataset"
   ]
  },
  {
   "cell_type": "code",
   "execution_count": 150,
   "metadata": {},
   "outputs": [],
   "source": [
    "train_dataloader = torch.utils.data.DataLoader(precompute_features(base_model, OneHotDataset(north_dataset), device), batch_size=64, shuffle=False)\n",
    "test_dataloader = torch.utils.data.DataLoader(precompute_features(base_model, OneHotDataset(test_dataset), device), batch_size=64, shuffle=False)"
   ]
  },
  {
   "cell_type": "code",
   "execution_count": 151,
   "metadata": {},
   "outputs": [],
   "source": [
    "def train_model(model, lr, criterion, dataloader, epochs=500):\n",
    "  optimizer = torch.optim.Adam(model.parameters(), lr=lr)\n",
    "  losses = []\n",
    "  for _ in range(epochs):\n",
    "    train_loss = 0\n",
    "    for X, y in dataloader:\n",
    "      optimizer.zero_grad()\n",
    "      X = X.to(device)\n",
    "      y = y.to(device)\n",
    "      y_pred = model(X)\n",
    "      loss = criterion(y_pred, y)\n",
    "      loss.backward()\n",
    "      train_loss += loss.item()\n",
    "      optimizer.step()\n",
    "    if _ % 10 == 0:\n",
    "      print(f'Training loss for {_}/{epochs}: {train_loss}')\n",
    "    losses.append(train_loss)\n",
    "  return losses"
   ]
  },
  {
   "cell_type": "code",
   "execution_count": 152,
   "metadata": {},
   "outputs": [
    {
     "name": "stdout",
     "output_type": "stream",
     "text": [
      "Training loss for 0/2000: 1.2053449153900146\n",
      "Training loss for 10/2000: 0.9275075793266296\n",
      "Training loss for 20/2000: 0.8838087916374207\n",
      "Training loss for 30/2000: 0.885044276714325\n",
      "Training loss for 40/2000: 0.8815682530403137\n",
      "Training loss for 50/2000: 0.8772154450416565\n",
      "Training loss for 60/2000: 0.8741158246994019\n",
      "Training loss for 70/2000: 0.8714056611061096\n",
      "Training loss for 80/2000: 0.8686467409133911\n",
      "Training loss for 90/2000: 0.8657656311988831\n",
      "Training loss for 100/2000: 0.8627730011940002\n",
      "Training loss for 110/2000: 0.8596793413162231\n",
      "Training loss for 120/2000: 0.856495201587677\n",
      "Training loss for 130/2000: 0.8532296419143677\n",
      "Training loss for 140/2000: 0.8498906493186951\n",
      "Training loss for 150/2000: 0.8464856743812561\n",
      "Training loss for 160/2000: 0.8430210947990417\n",
      "Training loss for 170/2000: 0.8395030498504639\n",
      "Training loss for 180/2000: 0.8359366655349731\n",
      "Training loss for 190/2000: 0.8323270082473755\n",
      "Training loss for 200/2000: 0.8286782503128052\n",
      "Training loss for 210/2000: 0.8249947428703308\n",
      "Training loss for 220/2000: 0.8212803602218628\n",
      "Training loss for 230/2000: 0.8175383806228638\n",
      "Training loss for 240/2000: 0.8137720227241516\n",
      "Training loss for 250/2000: 0.8099845051765442\n",
      "Training loss for 260/2000: 0.8061783313751221\n",
      "Training loss for 270/2000: 0.8023561835289001\n",
      "Training loss for 280/2000: 0.7985203862190247\n",
      "Training loss for 290/2000: 0.7946732640266418\n",
      "Training loss for 300/2000: 0.7908169627189636\n",
      "Training loss for 310/2000: 0.786953330039978\n",
      "Training loss for 320/2000: 0.7830840349197388\n",
      "Training loss for 330/2000: 0.779211163520813\n",
      "Training loss for 340/2000: 0.775335967540741\n",
      "Training loss for 350/2000: 0.7714599370956421\n",
      "Training loss for 360/2000: 0.7675845623016357\n",
      "Training loss for 370/2000: 0.7637112736701965\n",
      "Training loss for 380/2000: 0.7598410844802856\n",
      "Training loss for 390/2000: 0.7559752464294434\n",
      "Training loss for 400/2000: 0.7521148324012756\n",
      "Training loss for 410/2000: 0.7482607960700989\n",
      "Training loss for 420/2000: 0.7444140315055847\n",
      "Training loss for 430/2000: 0.7405755519866943\n",
      "Training loss for 440/2000: 0.7367460131645203\n",
      "Training loss for 450/2000: 0.7329262495040894\n",
      "Training loss for 460/2000: 0.7291171550750732\n",
      "Training loss for 470/2000: 0.7253192067146301\n",
      "Training loss for 480/2000: 0.7215331196784973\n",
      "Training loss for 490/2000: 0.7177594304084778\n",
      "Training loss for 500/2000: 0.7139986753463745\n",
      "Training loss for 510/2000: 0.7102514505386353\n",
      "Training loss for 520/2000: 0.7065181732177734\n",
      "Training loss for 530/2000: 0.7027993202209473\n",
      "Training loss for 540/2000: 0.6990953087806702\n",
      "Training loss for 550/2000: 0.695406436920166\n",
      "Training loss for 560/2000: 0.6917332410812378\n",
      "Training loss for 570/2000: 0.6880759000778198\n",
      "Training loss for 580/2000: 0.684434711933136\n",
      "Training loss for 590/2000: 0.6808100342750549\n",
      "Training loss for 600/2000: 0.6772021055221558\n",
      "Training loss for 610/2000: 0.6736111044883728\n",
      "Training loss for 620/2000: 0.6700373888015747\n",
      "Training loss for 630/2000: 0.6664811372756958\n",
      "Training loss for 640/2000: 0.6629423499107361\n",
      "Training loss for 650/2000: 0.659421443939209\n",
      "Training loss for 660/2000: 0.6559184193611145\n",
      "Training loss for 670/2000: 0.6524333953857422\n",
      "Training loss for 680/2000: 0.6489665508270264\n",
      "Training loss for 690/2000: 0.6455179452896118\n",
      "Training loss for 700/2000: 0.6420878171920776\n",
      "Training loss for 710/2000: 0.638676106929779\n",
      "Training loss for 720/2000: 0.6352829933166504\n",
      "Training loss for 730/2000: 0.6319083571434021\n",
      "Training loss for 740/2000: 0.6285523772239685\n",
      "Training loss for 750/2000: 0.6252151727676392\n",
      "Training loss for 760/2000: 0.6218966245651245\n",
      "Training loss for 770/2000: 0.6185968518257141\n",
      "Training loss for 780/2000: 0.615315854549408\n",
      "Training loss for 790/2000: 0.612053632736206\n",
      "Training loss for 800/2000: 0.6088102459907532\n",
      "Training loss for 810/2000: 0.6055855751037598\n",
      "Training loss for 820/2000: 0.6023796796798706\n",
      "Training loss for 830/2000: 0.5991925597190857\n",
      "Training loss for 840/2000: 0.5960241556167603\n",
      "Training loss for 850/2000: 0.5928744077682495\n",
      "Training loss for 860/2000: 0.5897433757781982\n",
      "Training loss for 870/2000: 0.5866309404373169\n",
      "Training loss for 880/2000: 0.5835371017456055\n",
      "Training loss for 890/2000: 0.5804618000984192\n",
      "Training loss for 900/2000: 0.5774050354957581\n",
      "Training loss for 910/2000: 0.5743667483329773\n",
      "Training loss for 920/2000: 0.5713467001914978\n",
      "Training loss for 930/2000: 0.5683449506759644\n",
      "Training loss for 940/2000: 0.565361499786377\n",
      "Training loss for 950/2000: 0.5623963475227356\n",
      "Training loss for 960/2000: 0.5594490766525269\n",
      "Training loss for 970/2000: 0.5565199851989746\n",
      "Training loss for 980/2000: 0.553608775138855\n",
      "Training loss for 990/2000: 0.550715446472168\n",
      "Training loss for 1000/2000: 0.5478399991989136\n",
      "Training loss for 1010/2000: 0.5449822545051575\n",
      "Training loss for 1020/2000: 0.5421420931816101\n",
      "Training loss for 1030/2000: 0.5393194556236267\n",
      "Training loss for 1040/2000: 0.5365142822265625\n",
      "Training loss for 1050/2000: 0.5337264537811279\n",
      "Training loss for 1060/2000: 0.5309559106826782\n",
      "Training loss for 1070/2000: 0.5282025337219238\n",
      "Training loss for 1080/2000: 0.52546626329422\n",
      "Training loss for 1090/2000: 0.5227469205856323\n",
      "Training loss for 1100/2000: 0.5200444459915161\n",
      "Training loss for 1110/2000: 0.5173588991165161\n",
      "Training loss for 1120/2000: 0.5146899223327637\n",
      "Training loss for 1130/2000: 0.5120375156402588\n",
      "Training loss for 1140/2000: 0.5094016790390015\n",
      "Training loss for 1150/2000: 0.5067821741104126\n",
      "Training loss for 1160/2000: 0.5041789412498474\n",
      "Training loss for 1170/2000: 0.5015919208526611\n",
      "Training loss for 1180/2000: 0.49902108311653137\n",
      "Training loss for 1190/2000: 0.49646610021591187\n",
      "Training loss for 1200/2000: 0.4939269423484802\n",
      "Training loss for 1210/2000: 0.4914036691188812\n",
      "Training loss for 1220/2000: 0.4888960123062134\n",
      "Training loss for 1230/2000: 0.4864039123058319\n",
      "Training loss for 1240/2000: 0.48392727971076965\n",
      "Training loss for 1250/2000: 0.4814659655094147\n",
      "Training loss for 1260/2000: 0.4790199398994446\n",
      "Training loss for 1270/2000: 0.4765889644622803\n",
      "Training loss for 1280/2000: 0.4741731286048889\n",
      "Training loss for 1290/2000: 0.47177234292030334\n",
      "Training loss for 1300/2000: 0.4693860411643982\n",
      "Training loss for 1310/2000: 0.4670146703720093\n",
      "Training loss for 1320/2000: 0.4646579325199127\n",
      "Training loss for 1330/2000: 0.46231573820114136\n",
      "Training loss for 1340/2000: 0.4599878191947937\n",
      "Training loss for 1350/2000: 0.4576743543148041\n",
      "Training loss for 1360/2000: 0.45537495613098145\n",
      "Training loss for 1370/2000: 0.45308977365493774\n",
      "Training loss for 1380/2000: 0.45081856846809387\n",
      "Training loss for 1390/2000: 0.44856125116348267\n",
      "Training loss for 1400/2000: 0.4463176727294922\n",
      "Training loss for 1410/2000: 0.44408783316612244\n",
      "Training loss for 1420/2000: 0.44187164306640625\n",
      "Training loss for 1430/2000: 0.4396688938140869\n",
      "Training loss for 1440/2000: 0.4374794661998749\n",
      "Training loss for 1450/2000: 0.4353034198284149\n",
      "Training loss for 1460/2000: 0.4331405758857727\n",
      "Training loss for 1470/2000: 0.43099066615104675\n",
      "Training loss for 1480/2000: 0.42885392904281616\n",
      "Training loss for 1490/2000: 0.42673006653785706\n",
      "Training loss for 1500/2000: 0.42461898922920227\n",
      "Training loss for 1510/2000: 0.4225206971168518\n",
      "Training loss for 1520/2000: 0.4204348921775818\n",
      "Training loss for 1530/2000: 0.4183616042137146\n",
      "Training loss for 1540/2000: 0.4163009226322174\n",
      "Training loss for 1550/2000: 0.4142523407936096\n",
      "Training loss for 1560/2000: 0.41221609711647034\n",
      "Training loss for 1570/2000: 0.4101920425891876\n",
      "Training loss for 1580/2000: 0.40817996859550476\n",
      "Training loss for 1590/2000: 0.4061799645423889\n",
      "Training loss for 1600/2000: 0.40419164299964905\n",
      "Training loss for 1610/2000: 0.4022153317928314\n",
      "Training loss for 1620/2000: 0.40025049448013306\n",
      "Training loss for 1630/2000: 0.39829736948013306\n",
      "Training loss for 1640/2000: 0.3963557183742523\n",
      "Training loss for 1650/2000: 0.39442554116249084\n",
      "Training loss for 1660/2000: 0.3925066590309143\n",
      "Training loss for 1670/2000: 0.3905991017818451\n",
      "Training loss for 1680/2000: 0.3887026607990265\n",
      "Training loss for 1690/2000: 0.38681721687316895\n",
      "Training loss for 1700/2000: 0.3849429488182068\n",
      "Training loss for 1710/2000: 0.38307952880859375\n",
      "Training loss for 1720/2000: 0.38122689723968506\n",
      "Training loss for 1730/2000: 0.3793851137161255\n",
      "Training loss for 1740/2000: 0.37755388021469116\n",
      "Training loss for 1750/2000: 0.37573328614234924\n",
      "Training loss for 1760/2000: 0.3739232122898102\n",
      "Training loss for 1770/2000: 0.3721235394477844\n",
      "Training loss for 1780/2000: 0.370334267616272\n",
      "Training loss for 1790/2000: 0.3685552477836609\n",
      "Training loss for 1800/2000: 0.3667864501476288\n",
      "Training loss for 1810/2000: 0.3650277256965637\n",
      "Training loss for 1820/2000: 0.36327898502349854\n",
      "Training loss for 1830/2000: 0.3615403473377228\n",
      "Training loss for 1840/2000: 0.35981154441833496\n",
      "Training loss for 1850/2000: 0.3580925464630127\n",
      "Training loss for 1860/2000: 0.3563833236694336\n",
      "Training loss for 1870/2000: 0.35468363761901855\n",
      "Training loss for 1880/2000: 0.35299378633499146\n",
      "Training loss for 1890/2000: 0.3513133227825165\n",
      "Training loss for 1900/2000: 0.34964239597320557\n",
      "Training loss for 1910/2000: 0.3479807376861572\n",
      "Training loss for 1920/2000: 0.34632840752601624\n",
      "Training loss for 1930/2000: 0.34468531608581543\n",
      "Training loss for 1940/2000: 0.3430514931678772\n",
      "Training loss for 1950/2000: 0.3414267599582672\n",
      "Training loss for 1960/2000: 0.3398109972476959\n",
      "Training loss for 1970/2000: 0.3382043242454529\n",
      "Training loss for 1980/2000: 0.3366064429283142\n",
      "Training loss for 1990/2000: 0.33501744270324707\n"
     ]
    }
   ],
   "source": [
    "epochs = 2000\n",
    "base_model.fc = nn.Linear(512, 2)\n",
    "linear_classifier = nn.Linear(base_model.fc.in_features, 2, bias=True).to(device)\n",
    "losses = train_model(linear_classifier, 1e-3, nn.BCEWithLogitsLoss(weight=torch.Tensor([1., 2.])), train_dataloader, epochs)"
   ]
  },
  {
   "cell_type": "code",
   "execution_count": 184,
   "metadata": {},
   "outputs": [],
   "source": [
    "import numpy as np\n",
    "def eval_model(model, criterion, test_dataloader):\n",
    "  model.eval()\n",
    "  test_error = 0\n",
    "  all_preds = []\n",
    "  all_labels = []\n",
    "  for X, y in test_dataloader:\n",
    "    X = X.to(device)\n",
    "    y = y.to(device)\n",
    "    y_pred = model(X)\n",
    "    test_error += criterion(y_pred, y).item()\n",
    "    all_preds.append(y_pred.argmax(dim=1).cpu())\n",
    "    all_labels.append(y.argmax(dim=1).cpu())\n",
    "  test_error /= len(test_dataloader)\n",
    "  print(f'Test error: {test_error}')\n",
    "  \n",
    "  all_preds = torch.cat(all_preds).flatten()\n",
    "  all_labels = torch.cat(all_labels).flatten()\n",
    "  cm = ConfusionMatrix(task='binary', num_classes=2)\n",
    "  confusion_matrix = cm(all_preds, all_labels)\n",
    "  print(f'Confusion Matrix:\\n{confusion_matrix}')\n",
    "  \n",
    "  acc = Accuracy(task=\"binary\", num_classes=2)\n",
    "  print(f'Accuracy: {acc(all_preds, all_labels)}')\n"
   ]
  },
  {
   "cell_type": "code",
   "execution_count": 153,
   "metadata": {},
   "outputs": [
    {
     "name": "stdout",
     "output_type": "stream",
     "text": [
      "Test error: 0.7794966101646423\n",
      "Confusion Matrix:\n",
      "tensor([[21,  0],\n",
      "        [21,  0]])\n",
      "Accuracy: 0.5\n"
     ]
    }
   ],
   "source": [
    "eval_model(base_model.fc, nn.BCEWithLogitsLoss(), test_dataloader)"
   ]
  },
  {
   "cell_type": "code",
   "execution_count": 154,
   "metadata": {},
   "outputs": [
    {
     "data": {
      "text/plain": [
       "[<matplotlib.lines.Line2D at 0x21fa77c8640>]"
      ]
     },
     "execution_count": 154,
     "metadata": {},
     "output_type": "execute_result"
    },
    {
     "data": {
      "image/png": "[encoded data removed]",
      "text/plain": [
       "<Figure size 640x480 with 1 Axes>"
      ]
     },
     "metadata": {},
     "output_type": "display_data"
    }
   ],
   "source": [
    "import matplotlib.pyplot as plt\n",
    "figure = plt.figure()\n",
    "plt.plot(losses)"
   ]
  },
  {
   "cell_type": "code",
   "execution_count": null,
   "metadata": {
    "cell_ktag": "NlwqZF0IUj4b"
   },
   "outputs": [],
   "source": [
    "from utils import precompute_features"
   ]
  },
  {
   "cell_type": "markdown",
   "metadata": {
    "cell_ktag": "NlwqZF0IUj4b"
   },
   "source": [
    "<div class=\"alert alert-info\">  Example of answer  </div>"
   ]
  },
  {
   "cell_type": "markdown",
   "metadata": {
    "cell_ktag": "NlwqZF0IUj4b"
   },
   "source": [
    "## Question 3 : \n",
    "> Now start from a pretained model on Imagenet (https://pytorch.org/vision/stable/models.html#) and only train the last layer. Provide the training process in the notebook with training curve. \n",
    "\n",
    " Provide two files : (https://pytorch.org/tutorials/beginner/saving_loading_models.html)\n",
    " -  a file  `utils.py` containing only the last layer class `LastLayer` inheriting from `torch.nn.Module` architecture of your final model to load\n",
    " -  a `last_layer_finetune.pth` file containing __only the last layer weights__ ( we will check the size) \n",
    " \n",
    " We will test your model on final accuracy on a test set. \n",
    " "
   ]
  },
  {
   "cell_type": "code",
   "execution_count": 155,
   "metadata": {},
   "outputs": [],
   "source": [
    "class LastLayer(nn.Module):\n",
    "    def __init__(self):\n",
    "        super(LastLayer, self).__init__()\n",
    "        self.fc1 = nn.Linear(512, 2)\n",
    "        self.relu = nn.ReLU()\n",
    "\n",
    "    def forward(self, x):\n",
    "        x = self.fc1(x)\n",
    "        return x"
   ]
  },
  {
   "cell_type": "code",
   "execution_count": 156,
   "metadata": {},
   "outputs": [
    {
     "data": {
      "text/plain": [
       "ResNet(\n",
       "  (conv1): Conv2d(3, 64, kernel_size=(7, 7), stride=(2, 2), padding=(3, 3), bias=False)\n",
       "  (bn1): BatchNorm2d(64, eps=1e-05, momentum=0.1, affine=True, track_running_stats=True)\n",
       "  (relu): ReLU(inplace=True)\n",
       "  (maxpool): MaxPool2d(kernel_size=3, stride=2, padding=1, dilation=1, ceil_mode=False)\n",
       "  (layer1): Sequential(\n",
       "    (0): BasicBlock(\n",
       "      (conv1): Conv2d(64, 64, kernel_size=(3, 3), stride=(1, 1), padding=(1, 1), bias=False)\n",
       "      (bn1): BatchNorm2d(64, eps=1e-05, momentum=0.1, affine=True, track_running_stats=True)\n",
       "      (relu): ReLU(inplace=True)\n",
       "      (conv2): Conv2d(64, 64, kernel_size=(3, 3), stride=(1, 1), padding=(1, 1), bias=False)\n",
       "      (bn2): BatchNorm2d(64, eps=1e-05, momentum=0.1, affine=True, track_running_stats=True)\n",
       "    )\n",
       "    (1): BasicBlock(\n",
       "      (conv1): Conv2d(64, 64, kernel_size=(3, 3), stride=(1, 1), padding=(1, 1), bias=False)\n",
       "      (bn1): BatchNorm2d(64, eps=1e-05, momentum=0.1, affine=True, track_running_stats=True)\n",
       "      (relu): ReLU(inplace=True)\n",
       "      (conv2): Conv2d(64, 64, kernel_size=(3, 3), stride=(1, 1), padding=(1, 1), bias=False)\n",
       "      (bn2): BatchNorm2d(64, eps=1e-05, momentum=0.1, affine=True, track_running_stats=True)\n",
       "    )\n",
       "  )\n",
       "  (layer2): Sequential(\n",
       "    (0): BasicBlock(\n",
       "      (conv1): Conv2d(64, 128, kernel_size=(3, 3), stride=(2, 2), padding=(1, 1), bias=False)\n",
       "      (bn1): BatchNorm2d(128, eps=1e-05, momentum=0.1, affine=True, track_running_stats=True)\n",
       "      (relu): ReLU(inplace=True)\n",
       "      (conv2): Conv2d(128, 128, kernel_size=(3, 3), stride=(1, 1), padding=(1, 1), bias=False)\n",
       "      (bn2): BatchNorm2d(128, eps=1e-05, momentum=0.1, affine=True, track_running_stats=True)\n",
       "      (downsample): Sequential(\n",
       "        (0): Conv2d(64, 128, kernel_size=(1, 1), stride=(2, 2), bias=False)\n",
       "        (1): BatchNorm2d(128, eps=1e-05, momentum=0.1, affine=True, track_running_stats=True)\n",
       "      )\n",
       "    )\n",
       "    (1): BasicBlock(\n",
       "      (conv1): Conv2d(128, 128, kernel_size=(3, 3), stride=(1, 1), padding=(1, 1), bias=False)\n",
       "      (bn1): BatchNorm2d(128, eps=1e-05, momentum=0.1, affine=True, track_running_stats=True)\n",
       "      (relu): ReLU(inplace=True)\n",
       "      (conv2): Conv2d(128, 128, kernel_size=(3, 3), stride=(1, 1), padding=(1, 1), bias=False)\n",
       "      (bn2): BatchNorm2d(128, eps=1e-05, momentum=0.1, affine=True, track_running_stats=True)\n",
       "    )\n",
       "  )\n",
       "  (layer3): Sequential(\n",
       "    (0): BasicBlock(\n",
       "      (conv1): Conv2d(128, 256, kernel_size=(3, 3), stride=(2, 2), padding=(1, 1), bias=False)\n",
       "      (bn1): BatchNorm2d(256, eps=1e-05, momentum=0.1, affine=True, track_running_stats=True)\n",
       "      (relu): ReLU(inplace=True)\n",
       "      (conv2): Conv2d(256, 256, kernel_size=(3, 3), stride=(1, 1), padding=(1, 1), bias=False)\n",
       "      (bn2): BatchNorm2d(256, eps=1e-05, momentum=0.1, affine=True, track_running_stats=True)\n",
       "      (downsample): Sequential(\n",
       "        (0): Conv2d(128, 256, kernel_size=(1, 1), stride=(2, 2), bias=False)\n",
       "        (1): BatchNorm2d(256, eps=1e-05, momentum=0.1, affine=True, track_running_stats=True)\n",
       "      )\n",
       "    )\n",
       "    (1): BasicBlock(\n",
       "      (conv1): Conv2d(256, 256, kernel_size=(3, 3), stride=(1, 1), padding=(1, 1), bias=False)\n",
       "      (bn1): BatchNorm2d(256, eps=1e-05, momentum=0.1, affine=True, track_running_stats=True)\n",
       "      (relu): ReLU(inplace=True)\n",
       "      (conv2): Conv2d(256, 256, kernel_size=(3, 3), stride=(1, 1), padding=(1, 1), bias=False)\n",
       "      (bn2): BatchNorm2d(256, eps=1e-05, momentum=0.1, affine=True, track_running_stats=True)\n",
       "    )\n",
       "  )\n",
       "  (layer4): Sequential(\n",
       "    (0): BasicBlock(\n",
       "      (conv1): Conv2d(256, 512, kernel_size=(3, 3), stride=(2, 2), padding=(1, 1), bias=False)\n",
       "      (bn1): BatchNorm2d(512, eps=1e-05, momentum=0.1, affine=True, track_running_stats=True)\n",
       "      (relu): ReLU(inplace=True)\n",
       "      (conv2): Conv2d(512, 512, kernel_size=(3, 3), stride=(1, 1), padding=(1, 1), bias=False)\n",
       "      (bn2): BatchNorm2d(512, eps=1e-05, momentum=0.1, affine=True, track_running_stats=True)\n",
       "      (downsample): Sequential(\n",
       "        (0): Conv2d(256, 512, kernel_size=(1, 1), stride=(2, 2), bias=False)\n",
       "        (1): BatchNorm2d(512, eps=1e-05, momentum=0.1, affine=True, track_running_stats=True)\n",
       "      )\n",
       "    )\n",
       "    (1): BasicBlock(\n",
       "      (conv1): Conv2d(512, 512, kernel_size=(3, 3), stride=(1, 1), padding=(1, 1), bias=False)\n",
       "      (bn1): BatchNorm2d(512, eps=1e-05, momentum=0.1, affine=True, track_running_stats=True)\n",
       "      (relu): ReLU(inplace=True)\n",
       "      (conv2): Conv2d(512, 512, kernel_size=(3, 3), stride=(1, 1), padding=(1, 1), bias=False)\n",
       "      (bn2): BatchNorm2d(512, eps=1e-05, momentum=0.1, affine=True, track_running_stats=True)\n",
       "    )\n",
       "  )\n",
       "  (avgpool): AdaptiveAvgPool2d(output_size=(1, 1))\n",
       "  (fc): LastLayer(\n",
       "    (fc1): Linear(in_features=512, out_features=2, bias=True)\n",
       "    (relu): ReLU()\n",
       "  )\n",
       ")"
      ]
     },
     "execution_count": 156,
     "metadata": {},
     "output_type": "execute_result"
    }
   ],
   "source": [
    "#from utils import LastLayer\n",
    "\n",
    "resnet = models.resnet18(weights=\"DEFAULT\")\n",
    "fc = LastLayer()  # !  Important : No argument\n",
    "#fc.load_state_dict(torch.load(\"lastlayer.pth\", weights_only=True))\n",
    "resnet.fc = fc\n",
    "resnet.eval()\n"
   ]
  },
  {
   "cell_type": "code",
   "execution_count": 176,
   "metadata": {},
   "outputs": [
    {
     "name": "stdout",
     "output_type": "stream",
     "text": [
      "Training loss for 0/2000: 13.820637702941895\n",
      "Training loss for 10/2000: 12.37720012664795\n",
      "Training loss for 20/2000: 10.93376350402832\n",
      "Training loss for 30/2000: 9.490324020385742\n",
      "Training loss for 40/2000: 8.046890258789062\n",
      "Training loss for 50/2000: 6.6037139892578125\n",
      "Training loss for 60/2000: 5.174555778503418\n",
      "Training loss for 70/2000: 3.8901143074035645\n",
      "Training loss for 80/2000: 2.8274216651916504\n",
      "Training loss for 90/2000: 1.9750540256500244\n",
      "Training loss for 100/2000: 1.3978400230407715\n",
      "Training loss for 110/2000: 1.1206529140472412\n",
      "Training loss for 120/2000: 1.0351314544677734\n",
      "Training loss for 130/2000: 0.9931834936141968\n",
      "Training loss for 140/2000: 0.9487006664276123\n",
      "Training loss for 150/2000: 0.9027615785598755\n",
      "Training loss for 160/2000: 0.8592334985733032\n",
      "Training loss for 170/2000: 0.8180869817733765\n",
      "Training loss for 180/2000: 0.7784451246261597\n",
      "Training loss for 190/2000: 0.7400522232055664\n",
      "Training loss for 200/2000: 0.7029698491096497\n",
      "Training loss for 210/2000: 0.6672466993331909\n",
      "Training loss for 220/2000: 0.6329006552696228\n",
      "Training loss for 230/2000: 0.5999583601951599\n",
      "Training loss for 240/2000: 0.5684716105461121\n",
      "Training loss for 250/2000: 0.5385221838951111\n",
      "Training loss for 260/2000: 0.5102195739746094\n",
      "Training loss for 270/2000: 0.48369067907333374\n",
      "Training loss for 280/2000: 0.4590510427951813\n",
      "Training loss for 290/2000: 0.43637076020240784\n",
      "Training loss for 300/2000: 0.4156482219696045\n",
      "Training loss for 310/2000: 0.3968040943145752\n",
      "Training loss for 320/2000: 0.3796958923339844\n",
      "Training loss for 330/2000: 0.36414143443107605\n",
      "Training loss for 340/2000: 0.34994426369667053\n",
      "Training loss for 350/2000: 0.33691421151161194\n",
      "Training loss for 360/2000: 0.32487696409225464\n",
      "Training loss for 370/2000: 0.31367987394332886\n",
      "Training loss for 380/2000: 0.3031933307647705\n",
      "Training loss for 390/2000: 0.2933090627193451\n",
      "Training loss for 400/2000: 0.283937007188797\n",
      "Training loss for 410/2000: 0.2750020921230316\n",
      "Training loss for 420/2000: 0.26644381880760193\n",
      "Training loss for 430/2000: 0.2582113742828369\n",
      "Training loss for 440/2000: 0.25026386976242065\n",
      "Training loss for 450/2000: 0.24256740510463715\n",
      "Training loss for 460/2000: 0.23509393632411957\n",
      "Training loss for 470/2000: 0.2278217375278473\n",
      "Training loss for 480/2000: 0.22073207795619965\n",
      "Training loss for 490/2000: 0.21381092071533203\n",
      "Training loss for 500/2000: 0.2070465385913849\n",
      "Training loss for 510/2000: 0.20043013989925385\n",
      "Training loss for 520/2000: 0.19395564496517181\n",
      "Training loss for 530/2000: 0.1876177042722702\n",
      "Training loss for 540/2000: 0.1814141571521759\n",
      "Training loss for 550/2000: 0.17534294724464417\n",
      "Training loss for 560/2000: 0.16940371692180634\n",
      "Training loss for 570/2000: 0.16359731554985046\n",
      "Training loss for 580/2000: 0.15792496502399445\n",
      "Training loss for 590/2000: 0.15238884091377258\n",
      "Training loss for 600/2000: 0.14699120819568634\n",
      "Training loss for 610/2000: 0.14173467457294464\n",
      "Training loss for 620/2000: 0.13662222027778625\n",
      "Training loss for 630/2000: 0.131656676530838\n",
      "Training loss for 640/2000: 0.1268402487039566\n",
      "Training loss for 650/2000: 0.12217552214860916\n",
      "Training loss for 660/2000: 0.11766413599252701\n",
      "Training loss for 670/2000: 0.11330743134021759\n",
      "Training loss for 680/2000: 0.10910597443580627\n",
      "Training loss for 690/2000: 0.10505980253219604\n",
      "Training loss for 700/2000: 0.10116872191429138\n",
      "Training loss for 710/2000: 0.0974312275648117\n",
      "Training loss for 720/2000: 0.09384554624557495\n",
      "Training loss for 730/2000: 0.0904093012213707\n",
      "Training loss for 740/2000: 0.08711950480937958\n",
      "Training loss for 750/2000: 0.08397265523672104\n",
      "Training loss for 760/2000: 0.08096498996019363\n",
      "Training loss for 770/2000: 0.07809215784072876\n",
      "Training loss for 780/2000: 0.07534971088171005\n",
      "Training loss for 790/2000: 0.0727328509092331\n",
      "Training loss for 800/2000: 0.0702369213104248\n",
      "Training loss for 810/2000: 0.06785677373409271\n",
      "Training loss for 820/2000: 0.06558734178543091\n",
      "Training loss for 830/2000: 0.06342379003763199\n",
      "Training loss for 840/2000: 0.0613609254360199\n",
      "Training loss for 850/2000: 0.059394221752882004\n",
      "Training loss for 860/2000: 0.05751881003379822\n",
      "Training loss for 870/2000: 0.05572987720370293\n",
      "Training loss for 880/2000: 0.05402325838804245\n",
      "Training loss for 890/2000: 0.05239446461200714\n",
      "Training loss for 900/2000: 0.050839588046073914\n",
      "Training loss for 910/2000: 0.04935453459620476\n",
      "Training loss for 920/2000: 0.047935549169778824\n",
      "Training loss for 930/2000: 0.04657912626862526\n",
      "Training loss for 940/2000: 0.0452820248901844\n",
      "Training loss for 950/2000: 0.04404086619615555\n",
      "Training loss for 960/2000: 0.04285280406475067\n",
      "Training loss for 970/2000: 0.04171481728553772\n",
      "Training loss for 980/2000: 0.04062429815530777\n",
      "Training loss for 990/2000: 0.03957877680659294\n",
      "Training loss for 1000/2000: 0.038575779646635056\n",
      "Training loss for 1010/2000: 0.03761300817131996\n",
      "Training loss for 1020/2000: 0.0366884283721447\n",
      "Training loss for 1030/2000: 0.03580009937286377\n",
      "Training loss for 1040/2000: 0.03494603559374809\n",
      "Training loss for 1050/2000: 0.03412456437945366\n",
      "Training loss for 1060/2000: 0.03333396092057228\n",
      "Training loss for 1070/2000: 0.03257272392511368\n",
      "Training loss for 1080/2000: 0.031839389353990555\n",
      "Training loss for 1090/2000: 0.03113262727856636\n",
      "Training loss for 1100/2000: 0.030450968071818352\n",
      "Training loss for 1110/2000: 0.02979331649839878\n",
      "Training loss for 1120/2000: 0.029158499091863632\n",
      "Training loss for 1130/2000: 0.028545478358864784\n",
      "Training loss for 1140/2000: 0.02795320376753807\n",
      "Training loss for 1150/2000: 0.027380673214793205\n",
      "Training loss for 1160/2000: 0.026827005669474602\n",
      "Training loss for 1170/2000: 0.026291290298104286\n",
      "Training loss for 1180/2000: 0.025772875174880028\n",
      "Training loss for 1190/2000: 0.02527076005935669\n",
      "Training loss for 1200/2000: 0.02478448860347271\n",
      "Training loss for 1210/2000: 0.02431328594684601\n",
      "Training loss for 1220/2000: 0.023856384679675102\n",
      "Training loss for 1230/2000: 0.023413266986608505\n",
      "Training loss for 1240/2000: 0.022983362898230553\n",
      "Training loss for 1250/2000: 0.022566121071577072\n",
      "Training loss for 1260/2000: 0.022161010652780533\n",
      "Training loss for 1270/2000: 0.021767528727650642\n",
      "Training loss for 1280/2000: 0.021385177969932556\n",
      "Training loss for 1290/2000: 0.021013597026467323\n",
      "Training loss for 1300/2000: 0.020652329549193382\n",
      "Training loss for 1310/2000: 0.02030094712972641\n",
      "Training loss for 1320/2000: 0.0199591014534235\n",
      "Training loss for 1330/2000: 0.019626434892416\n",
      "Training loss for 1340/2000: 0.019302550703287125\n",
      "Training loss for 1350/2000: 0.018987182527780533\n",
      "Training loss for 1360/2000: 0.018679950386285782\n",
      "Training loss for 1370/2000: 0.01838066428899765\n",
      "Training loss for 1380/2000: 0.01808890700340271\n",
      "Training loss for 1390/2000: 0.017804495990276337\n",
      "Training loss for 1400/2000: 0.017527177929878235\n",
      "Training loss for 1410/2000: 0.017256688326597214\n",
      "Training loss for 1420/2000: 0.016992757096886635\n",
      "Training loss for 1430/2000: 0.016735177487134933\n",
      "Training loss for 1440/2000: 0.01648375578224659\n",
      "Training loss for 1450/2000: 0.01623820699751377\n",
      "Training loss for 1460/2000: 0.015998438000679016\n",
      "Training loss for 1470/2000: 0.015764249488711357\n",
      "Training loss for 1480/2000: 0.015535444021224976\n",
      "Training loss for 1490/2000: 0.015311772003769875\n",
      "Training loss for 1500/2000: 0.01509317010641098\n",
      "Training loss for 1510/2000: 0.014879418537020683\n",
      "Training loss for 1520/2000: 0.014670406468212605\n",
      "Training loss for 1530/2000: 0.014465908519923687\n",
      "Training loss for 1540/2000: 0.014265835285186768\n",
      "Training loss for 1550/2000: 0.014070103876292706\n",
      "Training loss for 1560/2000: 0.0138785969465971\n",
      "Training loss for 1570/2000: 0.013690982945263386\n",
      "Training loss for 1580/2000: 0.01350735779851675\n",
      "Training loss for 1590/2000: 0.01332755759358406\n",
      "Training loss for 1600/2000: 0.013151455670595169\n",
      "Training loss for 1610/2000: 0.012978906743228436\n",
      "Training loss for 1620/2000: 0.012809856794774532\n",
      "Training loss for 1630/2000: 0.01264413632452488\n",
      "Training loss for 1640/2000: 0.01248178631067276\n",
      "Training loss for 1650/2000: 0.012322582304477692\n",
      "Training loss for 1660/2000: 0.012166528031229973\n",
      "Training loss for 1670/2000: 0.012013467028737068\n",
      "Training loss for 1680/2000: 0.011863362044095993\n",
      "Training loss for 1690/2000: 0.011716105975210667\n",
      "Training loss for 1700/2000: 0.011571638286113739\n",
      "Training loss for 1710/2000: 0.011429860256612301\n",
      "Training loss for 1720/2000: 0.011290833353996277\n",
      "Training loss for 1730/2000: 0.01115422323346138\n",
      "Training loss for 1740/2000: 0.011020146310329437\n",
      "Training loss for 1750/2000: 0.010888554155826569\n",
      "Training loss for 1760/2000: 0.010759337805211544\n",
      "Training loss for 1770/2000: 0.010632400400936604\n",
      "Training loss for 1780/2000: 0.010507759638130665\n",
      "Training loss for 1790/2000: 0.010385347530245781\n",
      "Training loss for 1800/2000: 0.010265020653605461\n",
      "Training loss for 1810/2000: 0.010146798565983772\n",
      "Training loss for 1820/2000: 0.010030634701251984\n",
      "Training loss for 1830/2000: 0.009916447103023529\n",
      "Training loss for 1840/2000: 0.009804175235331059\n",
      "Training loss for 1850/2000: 0.00969389732927084\n",
      "Training loss for 1860/2000: 0.009585361927747726\n",
      "Training loss for 1870/2000: 0.009478743188083172\n",
      "Training loss for 1880/2000: 0.00937379989773035\n",
      "Training loss for 1890/2000: 0.009270678274333477\n",
      "Training loss for 1900/2000: 0.009169151075184345\n",
      "Training loss for 1910/2000: 0.009069330990314484\n",
      "Training loss for 1920/2000: 0.008971059694886208\n",
      "Training loss for 1930/2000: 0.008874429389834404\n",
      "Training loss for 1940/2000: 0.008779359981417656\n",
      "Training loss for 1950/2000: 0.008685771375894547\n",
      "Training loss for 1960/2000: 0.008593600243330002\n",
      "Training loss for 1970/2000: 0.008502880111336708\n",
      "Training loss for 1980/2000: 0.00841359794139862\n",
      "Training loss for 1990/2000: 0.008325662463903427\n"
     ]
    }
   ],
   "source": [
    "train_dataloader = torch.utils.data.DataLoader(precompute_features(resnet, OneHotDataset(north_dataset), device), batch_size=64, shuffle=False)\n",
    "test_dataloader = torch.utils.data.DataLoader(precompute_features(resnet, OneHotDataset(test_dataset), device), batch_size=64, shuffle=False)\n",
    "losses = train_model(resnet.fc, 1e-3, nn.BCEWithLogitsLoss(weight=torch.Tensor([1., 2.])), train_dataloader, 2000)"
   ]
  },
  {
   "cell_type": "code",
   "execution_count": 177,
   "metadata": {},
   "outputs": [
    {
     "name": "stdout",
     "output_type": "stream",
     "text": [
      "Test error: 1.7527709007263184\n",
      "Confusion Matrix:\n",
      "tensor([[19,  2],\n",
      "        [ 7, 14]])\n",
      "Accuracy: 0.7857142686843872\n"
     ]
    }
   ],
   "source": [
    "eval_model(resnet.fc.to(device), nn.BCEWithLogitsLoss(), test_dataloader)"
   ]
  },
  {
   "cell_type": "code",
   "execution_count": 178,
   "metadata": {
    "cell_ktag": "NlwqZF0IUj4b"
   },
   "outputs": [],
   "source": [
    "torch.save(base_model.fc.state_dict(), \"lastlayer.pth\")"
   ]
  },
  {
   "cell_type": "markdown",
   "metadata": {
    "cell_ktag": "NlwqZF0IUj4b"
   },
   "source": [
    "## Question 4 : \n",
    "> Perform  LoRA https://arxiv.org/pdf/2106.09685  on the model  (We are perfectly fine if you use an external library **for this question only**, and of course use it in the next questions). (Warning : without data augmentation it may not improve the accuracy.)\n",
    "\n",
    "Intermediate question : Describe LoRA. There are different ways of implementing LoRa for convolutions. You can choose your preferred one. Explain the version of LoRa you used, provide a drawing of the process in the `drawing_lora.png` file. (Hint: you can obtain a small rank convolution by combining a convolution and a 1x1 convolution. One of the two goes from a higher number of channels to a lower number of channels and the other one restores the number of channels.)"
   ]
  },
  {
   "cell_type": "code",
   "execution_count": 160,
   "metadata": {},
   "outputs": [],
   "source": [
    "class LoRAConv(nn.Module):\n",
    "    def __init__(self, in_channels, out_channels, kernel_size, rank, stride=1, padding=0, bias=False):\n",
    "        super(LoRAConv, self).__init__()\n",
    "        \n",
    "        # First convolution reduces the number of channels (compression)\n",
    "        self.conv1 = nn.Conv2d(in_channels, rank, kernel_size, stride=stride, padding=padding, bias=bias)\n",
    "        \n",
    "        # Second 1x1 convolution restores the number of channels\n",
    "        self.conv2 = nn.Conv2d(rank, out_channels, kernel_size=1, stride=1, padding=0, bias=bias)\n",
    "    \n",
    "    def forward(self, x):\n",
    "        x = self.conv1(x)\n",
    "        x = self.conv2(x)\n",
    "        return x\n",
    "    \n",
    "class LoRAResNet(nn.Module):\n",
    "  def __init__(self, base_model, rank=4):\n",
    "    super(LoRAResNet, self).__init__()\n",
    "    self.base_model = base_model\n",
    "\n",
    "    for parameter in self.base_model.parameters():\n",
    "        parameter.requires_grad = False\n",
    "\n",
    "    # Replace convolution layers with LoRA convolution layers\n",
    "    temp = list(self.base_model.named_modules())\n",
    "    for name, module in temp:\n",
    "        if isinstance(module, nn.Conv2d) and module.kernel_size != (1, 1):  # Avoid modifying 1x1 convs\n",
    "            in_channels = module.in_channels\n",
    "            out_channels = module.out_channels\n",
    "            kernel_size = module.kernel_size\n",
    "            stride = module.stride\n",
    "            padding = module.padding\n",
    "        \n",
    "            # Replace with LoRA convolution\n",
    "            lora_conv = LoRAConv(in_channels, out_channels, kernel_size, rank, stride, padding)\n",
    "            setattr(self.base_model, name, lora_conv)\n",
    "    print(self.base_model)          \n",
    "      \n",
    "  \n",
    "  def forward(self, x):\n",
    "      return self.base_model(x)"
   ]
  },
  {
   "cell_type": "code",
   "execution_count": 171,
   "metadata": {},
   "outputs": [],
   "source": [
    "from lora_pytorch import LoRA\n",
    "base_resnet = models.resnet18(weights='DEFAULT')\n",
    "base_resnet.fc = nn.Linear(base_resnet.fc.in_features, 2, bias=True)\n",
    "lora_resnet = LoRA.from_module(base_resnet, rank=5)\n",
    "#lora_resnet = LoRAResNet(base_resnet, rank=4)"
   ]
  },
  {
   "cell_type": "code",
   "execution_count": 181,
   "metadata": {},
   "outputs": [],
   "source": [
    "train_dataloader = torch.utils.data.DataLoader(OneHotDataset(north_dataset), batch_size=64, shuffle=True)\n",
    "test_dataloader = torch.utils.data.DataLoader(OneHotDataset(test_dataset), batch_size=64, shuffle=False)"
   ]
  },
  {
   "cell_type": "code",
   "execution_count": 173,
   "metadata": {},
   "outputs": [
    {
     "name": "stdout",
     "output_type": "stream",
     "text": [
      "Training loss for 0/50: 0.7859816551208496\n",
      "Training loss for 10/50: 0.5604530572891235\n",
      "Training loss for 20/50: 0.3740842044353485\n",
      "Training loss for 30/50: 0.38268592953681946\n",
      "Training loss for 40/50: 0.287068635225296\n"
     ]
    }
   ],
   "source": [
    "losses = train_model(lora_resnet.to(device), 0.001, nn.BCEWithLogitsLoss(), train_dataloader, 50)"
   ]
  },
  {
   "cell_type": "code",
   "execution_count": 174,
   "metadata": {},
   "outputs": [
    {
     "data": {
      "text/plain": [
       "[<matplotlib.lines.Line2D at 0x21fabcba250>]"
      ]
     },
     "execution_count": 174,
     "metadata": {},
     "output_type": "execute_result"
    },
    {
     "data": {
      "image/png": "[encoded data removed]",
      "text/plain": [
       "<Figure size 640x480 with 1 Axes>"
      ]
     },
     "metadata": {},
     "output_type": "display_data"
    }
   ],
   "source": [
    "plt.plot(losses)"
   ]
  },
  {
   "cell_type": "code",
   "execution_count": 185,
   "metadata": {},
   "outputs": [
    {
     "name": "stdout",
     "output_type": "stream",
     "text": [
      "Test error: 0.7936198115348816\n",
      "Confusion Matrix:\n",
      "tensor([[21,  0],\n",
      "        [ 9, 12]])\n",
      "Accuracy: 0.7857142686843872\n"
     ]
    }
   ],
   "source": [
    "eval_model(lora_resnet, nn.BCEWithLogitsLoss(), test_dataloader)"
   ]
  },
  {
   "cell_type": "code",
   "execution_count": null,
   "metadata": {
    "cell_ktag": "NlwqZF0IUj4b"
   },
   "outputs": [],
   "source": [
    "torch.save(lora_model.state_dict(), \"lora_resnet.pth\")"
   ]
  },
  {
   "cell_type": "markdown",
   "metadata": {
    "cell_ktag": "NlwqZF0IUj4b"
   },
   "source": [
    "## Question 5 : \n",
    "In order to better train our LORA weights, let's do some Data Augmentation https://en.wikipedia.org/wiki/Data_augmentation . Load some alteration of the data from the `torchvision.transforms` module and incorporate them in your training pipeline.\n",
    "\n",
    " Intermediate question : Check CutMix  (https://pytorch.org/vision/stable/auto_examples/transforms/plot_cutmix_mixup.html#sphx-glr-auto-examples-transforms-plot-cutmix-mixup-py) and explain it with a small drawing `cutmix.png`. \n",
    "\n",
    "\n",
    "  Provide one file : (https://pytorch.org/tutorials/beginner/saving_loading_models.html)\n",
    " -  a `daug_resnet.pth` file containing the weight of the ResNet18 after DAUG  (  !  It  has to be of the class ResNet so you have to merge LoRA weights with the ResNet18 weights)"
   ]
  },
  {
   "cell_type": "code",
   "execution_count": null,
   "metadata": {
    "cell_ktag": "NlwqZF0IUj4b"
   },
   "outputs": [],
   "source": [
    "## Data Augmentation\n",
    "from torchvision.transforms import v2"
   ]
  },
  {
   "cell_type": "code",
   "execution_count": null,
   "metadata": {
    "cell_ktag": "NlwqZF0IUj4b"
   },
   "outputs": [],
   "source": [
    "lora_model = NotImplementedError  # <YOUR CODE>\n",
    "assert isinstance(lora_model, models.ResNet)"
   ]
  },
  {
   "cell_type": "code",
   "execution_count": null,
   "metadata": {
    "cell_ktag": "NlwqZF0IUj4b"
   },
   "outputs": [],
   "source": [
    "torch.save(lora_model.state_dict(), \"daug_resnet.pth\")"
   ]
  },
  {
   "cell_type": "markdown",
   "metadata": {
    "cell_ktag": "NlwqZF0IUj4b"
   },
   "source": [
    "## Question 6 : (BONUS) \n",
    "> Do the best you can : improve performance on test set while keeping ResNet 18 architecture, or decrease the size of the model\n",
    "\n",
    "Provide a file  `final_model.pth` containing the weights of the final model and provide the class `FinalModel()` in the `utils.py` file. "
   ]
  },
  {
   "cell_type": "markdown",
   "metadata": {
    "cell_ktag": "NlwqZF0IUj4b"
   },
   "source": []
  }
 ],
 "metadata": {
  "kernelspec": {
   "display_name": "dlip-env",
   "language": "python",
   "name": "python3"
  },
  "kfiletag": "NlwqZF0IUj4b",
  "language_info": {
   "codemirror_mode": {
    "name": "ipython",
    "version": 3
   },
   "file_extension": ".py",
   "mimetype": "text/x-python",
   "name": "python",
   "nbconvert_exporter": "python",
   "pygments_lexer": "ipython3",
   "version": "3.9.7"
  }
 },
 "nbformat": 4,
 "nbformat_minor": 2
}
