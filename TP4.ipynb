{
 "cells": [
  {
   "cell_type": "markdown",
   "metadata": {
    "cell_ktag": "NlwqZF0IUj4b"
   },
   "source": [
    "# TP4 :  Learning on a low budget\n",
    "**Théo Rudkiewicz, Cyriaque Rousselot**"
   ]
  },
  {
   "cell_type": "markdown",
   "metadata": {
    "cell_ktag": "NlwqZF0IUj4b"
   },
   "source": [
    "# Introduction\n",
    "\n",
    "**Context :**\n",
    "\n",
    "Assume we are in a context where few \"gold\" labeled data samples are available for training, say \n",
    "\n",
    "$$\\mathcal{X}_{\\text{train}} = \\{(x_n,y_n)\\}_{n\\leq N_{\\text{train}}}$$\n",
    "\n",
    "where $N_{\\text{train}}$ is small. \n",
    "\n",
    "A large test set $\\mathcal{X}_{\\text{test}}$ exists but is not accessible. \n",
    "(To make your task easier, we provide you with some data (named `test_dataset` in the code) that you can use to test your model, but you **must not** use it to train your model).\n",
    "\n",
    "We also assume that we have a limited computational budget.\n",
    "\n",
    "The goal of this practical session is to guide you through different methods that will help you get better results from few resources (data & compute)."
   ]
  },
  {
   "cell_type": "markdown",
   "metadata": {
    "cell_ktag": "NlwqZF0IUj4b"
   },
   "source": [
    "In this practical, we will use the `resnet18` architecture. We will use models from the [pytorch vision hub ](https://pytorch.org/vision/stable/models.html#)."
   ]
  },
  {
   "cell_type": "markdown",
   "metadata": {
    "cell_ktag": "NlwqZF0IUj4b"
   },
   "source": [
    "# QUESTIONS\n",
    "\n",
    "## Grading\n",
    "\n",
    "You will be graded on 5 questions. You will need to provide 7 files : \n",
    "1. This Notebook\n",
    "2. `utils.py`\n",
    "3. `last_layer_finetune.pth` (the file **must be of size less than 5Mo**)\n",
    "4. `daug_resnet.pth` (the file **must be of size less than 50Mo**)\n",
    "5. `final_model.pth` (the file **must be of size less than 50Mo**)\n",
    "6. `drawing_lora.png`\n",
    "7. `cutmix.png`\n",
    "\n",
    "If the code you defined passes all our tests, you will get the full grade. Otherwise we  will look at the intermediate questions in the notebook to give you partial credit.\n",
    "\n",
    "\n",
    "\n",
    " Please provide clear and short answers between `<div class=\"alert alert-info\">  <your answer>  </div>` tags (when it's not code).  "
   ]
  },
  {
   "cell_type": "markdown",
   "metadata": {
    "cell_ktag": "NlwqZF0IUj4b"
   },
   "source": [
    "<div class=\"alert alert-info\">  Example of answer  </div>"
   ]
  },
  {
   "cell_type": "code",
   "execution_count": 1,
   "metadata": {
    "cell_ktag": "NlwqZF0IUj4b"
   },
   "outputs": [],
   "source": [
    "import os\n",
    "\n",
    "if not os.path.exists(\"data\"):\n",
    "    os.mkdir(\"data\")\n",
    "if not os.path.exists(\"data/TP4_images\"):\n",
    "    os.mkdir(\"data/TP4_images\")\n",
    "    !cd data/TP4_images && wget -O north_dataset_train.zip  \"https://nextcloud.lisn.upsaclay.fr/index.php/s/yzQRWE2YjmFn9WA/download/north_dataset_train.zip\" && unzip north_dataset_train.zip\n",
    "    !cd data/TP4_images && wget -O north_dataset_test.zip  \"https://nextcloud.lisn.upsaclay.fr/index.php/s/zntidWrFdYsGMDm/download/north_dataset_test.zip\" && unzip north_dataset_test.zip\n",
    "dir_path = \"data/TP4_images/\"\n"
   ]
  },
  {
   "cell_type": "code",
   "execution_count": 2,
   "metadata": {
    "cell_ktag": "NlwqZF0IUj4b"
   },
   "outputs": [],
   "source": [
    "import torch\n",
    "import torch.nn as nn\n",
    "from torchvision import datasets, transforms, models\n",
    "from torchmetrics.classification import BinaryAccuracy, Accuracy, ConfusionMatrix\n",
    "# you can install torchmetrics with `pip install torchmetrics`\n",
    "\n",
    "\n",
    "device = torch.device(\"cuda\" if torch.cuda.is_available() else \"cpu\")\n",
    "\n",
    "\n",
    "north_dataset = datasets.ImageFolder(\n",
    "    dir_path + \"north_dataset_sample\",\n",
    "    transform=transforms.Compose([transforms.ToTensor()]),\n",
    ")\n",
    "test_dataset = datasets.ImageFolder(\n",
    "    dir_path + \"north_dataset_test\",\n",
    "    transform=transforms.Compose([transforms.ToTensor()]),\n",
    ")\n",
    "base_model = models.resnet18()"
   ]
  },
  {
   "cell_type": "markdown",
   "metadata": {
    "cell_ktag": "NlwqZF0IUj4b"
   },
   "source": [
    "## Question 1 : \n",
    ">  Change the last layer of the resnet model so that its size fits the problem. "
   ]
  },
  {
   "cell_type": "code",
   "execution_count": 3,
   "metadata": {
    "cell_ktag": "NlwqZF0IUj4b"
   },
   "outputs": [
    {
     "name": "stdout",
     "output_type": "stream",
     "text": [
      "ResNet(\n",
      "  (conv1): Conv2d(3, 64, kernel_size=(7, 7), stride=(2, 2), padding=(3, 3), bias=False)\n",
      "  (bn1): BatchNorm2d(64, eps=1e-05, momentum=0.1, affine=True, track_running_stats=True)\n",
      "  (relu): ReLU(inplace=True)\n",
      "  (maxpool): MaxPool2d(kernel_size=3, stride=2, padding=1, dilation=1, ceil_mode=False)\n",
      "  (layer1): Sequential(\n",
      "    (0): BasicBlock(\n",
      "      (conv1): Conv2d(64, 64, kernel_size=(3, 3), stride=(1, 1), padding=(1, 1), bias=False)\n",
      "      (bn1): BatchNorm2d(64, eps=1e-05, momentum=0.1, affine=True, track_running_stats=True)\n",
      "      (relu): ReLU(inplace=True)\n",
      "      (conv2): Conv2d(64, 64, kernel_size=(3, 3), stride=(1, 1), padding=(1, 1), bias=False)\n",
      "      (bn2): BatchNorm2d(64, eps=1e-05, momentum=0.1, affine=True, track_running_stats=True)\n",
      "    )\n",
      "    (1): BasicBlock(\n",
      "      (conv1): Conv2d(64, 64, kernel_size=(3, 3), stride=(1, 1), padding=(1, 1), bias=False)\n",
      "      (bn1): BatchNorm2d(64, eps=1e-05, momentum=0.1, affine=True, track_running_stats=True)\n",
      "      (relu): ReLU(inplace=True)\n",
      "      (conv2): Conv2d(64, 64, kernel_size=(3, 3), stride=(1, 1), padding=(1, 1), bias=False)\n",
      "      (bn2): BatchNorm2d(64, eps=1e-05, momentum=0.1, affine=True, track_running_stats=True)\n",
      "    )\n",
      "  )\n",
      "  (layer2): Sequential(\n",
      "    (0): BasicBlock(\n",
      "      (conv1): Conv2d(64, 128, kernel_size=(3, 3), stride=(2, 2), padding=(1, 1), bias=False)\n",
      "      (bn1): BatchNorm2d(128, eps=1e-05, momentum=0.1, affine=True, track_running_stats=True)\n",
      "      (relu): ReLU(inplace=True)\n",
      "      (conv2): Conv2d(128, 128, kernel_size=(3, 3), stride=(1, 1), padding=(1, 1), bias=False)\n",
      "      (bn2): BatchNorm2d(128, eps=1e-05, momentum=0.1, affine=True, track_running_stats=True)\n",
      "      (downsample): Sequential(\n",
      "        (0): Conv2d(64, 128, kernel_size=(1, 1), stride=(2, 2), bias=False)\n",
      "        (1): BatchNorm2d(128, eps=1e-05, momentum=0.1, affine=True, track_running_stats=True)\n",
      "      )\n",
      "    )\n",
      "    (1): BasicBlock(\n",
      "      (conv1): Conv2d(128, 128, kernel_size=(3, 3), stride=(1, 1), padding=(1, 1), bias=False)\n",
      "      (bn1): BatchNorm2d(128, eps=1e-05, momentum=0.1, affine=True, track_running_stats=True)\n",
      "      (relu): ReLU(inplace=True)\n",
      "      (conv2): Conv2d(128, 128, kernel_size=(3, 3), stride=(1, 1), padding=(1, 1), bias=False)\n",
      "      (bn2): BatchNorm2d(128, eps=1e-05, momentum=0.1, affine=True, track_running_stats=True)\n",
      "    )\n",
      "  )\n",
      "  (layer3): Sequential(\n",
      "    (0): BasicBlock(\n",
      "      (conv1): Conv2d(128, 256, kernel_size=(3, 3), stride=(2, 2), padding=(1, 1), bias=False)\n",
      "      (bn1): BatchNorm2d(256, eps=1e-05, momentum=0.1, affine=True, track_running_stats=True)\n",
      "      (relu): ReLU(inplace=True)\n",
      "      (conv2): Conv2d(256, 256, kernel_size=(3, 3), stride=(1, 1), padding=(1, 1), bias=False)\n",
      "      (bn2): BatchNorm2d(256, eps=1e-05, momentum=0.1, affine=True, track_running_stats=True)\n",
      "      (downsample): Sequential(\n",
      "        (0): Conv2d(128, 256, kernel_size=(1, 1), stride=(2, 2), bias=False)\n",
      "        (1): BatchNorm2d(256, eps=1e-05, momentum=0.1, affine=True, track_running_stats=True)\n",
      "      )\n",
      "    )\n",
      "    (1): BasicBlock(\n",
      "      (conv1): Conv2d(256, 256, kernel_size=(3, 3), stride=(1, 1), padding=(1, 1), bias=False)\n",
      "      (bn1): BatchNorm2d(256, eps=1e-05, momentum=0.1, affine=True, track_running_stats=True)\n",
      "      (relu): ReLU(inplace=True)\n",
      "      (conv2): Conv2d(256, 256, kernel_size=(3, 3), stride=(1, 1), padding=(1, 1), bias=False)\n",
      "      (bn2): BatchNorm2d(256, eps=1e-05, momentum=0.1, affine=True, track_running_stats=True)\n",
      "    )\n",
      "  )\n",
      "  (layer4): Sequential(\n",
      "    (0): BasicBlock(\n",
      "      (conv1): Conv2d(256, 512, kernel_size=(3, 3), stride=(2, 2), padding=(1, 1), bias=False)\n",
      "      (bn1): BatchNorm2d(512, eps=1e-05, momentum=0.1, affine=True, track_running_stats=True)\n",
      "      (relu): ReLU(inplace=True)\n",
      "      (conv2): Conv2d(512, 512, kernel_size=(3, 3), stride=(1, 1), padding=(1, 1), bias=False)\n",
      "      (bn2): BatchNorm2d(512, eps=1e-05, momentum=0.1, affine=True, track_running_stats=True)\n",
      "      (downsample): Sequential(\n",
      "        (0): Conv2d(256, 512, kernel_size=(1, 1), stride=(2, 2), bias=False)\n",
      "        (1): BatchNorm2d(512, eps=1e-05, momentum=0.1, affine=True, track_running_stats=True)\n",
      "      )\n",
      "    )\n",
      "    (1): BasicBlock(\n",
      "      (conv1): Conv2d(512, 512, kernel_size=(3, 3), stride=(1, 1), padding=(1, 1), bias=False)\n",
      "      (bn1): BatchNorm2d(512, eps=1e-05, momentum=0.1, affine=True, track_running_stats=True)\n",
      "      (relu): ReLU(inplace=True)\n",
      "      (conv2): Conv2d(512, 512, kernel_size=(3, 3), stride=(1, 1), padding=(1, 1), bias=False)\n",
      "      (bn2): BatchNorm2d(512, eps=1e-05, momentum=0.1, affine=True, track_running_stats=True)\n",
      "    )\n",
      "  )\n",
      "  (avgpool): AdaptiveAvgPool2d(output_size=(1, 1))\n",
      "  (fc): Linear(in_features=512, out_features=1000, bias=True)\n",
      ")\n"
     ]
    }
   ],
   "source": [
    "# Hint \n",
    "print(base_model)\n",
    "base_model.fc = nn.Linear(512, 2, bias=True)"
   ]
  },
  {
   "cell_type": "code",
   "execution_count": 4,
   "metadata": {
    "cell_ktag": "NlwqZF0IUj4b"
   },
   "outputs": [],
   "source": [
    "assert (\n",
    "    base_model.fc.out_features == 2\n",
    ")  # we could also change the last layer to have 1 output. Do it with 2 so that it matches our tests procedure during grading."
   ]
  },
  {
   "cell_type": "markdown",
   "metadata": {
    "cell_ktag": "NlwqZF0IUj4b"
   },
   "source": [
    "## Question 2: \n",
    "> Train the last layer of a randomly initialized resnet model. Provide a function precompute_features in `utils.py` that creates a new dataset from the features precomputed by the model.\n",
    "\n",
    "Intermediate question :  Provide the training process in the notebook with training curve. Comment on the accuracy. "
   ]
  },
  {
   "cell_type": "code",
   "execution_count": 5,
   "metadata": {
    "cell_ktag": "NlwqZF0IUj4b"
   },
   "outputs": [],
   "source": [
    "def precompute_features(\n",
    "    model: models.ResNet, \n",
    "    dataset: torch.utils.data.Dataset, \n",
    "    device: torch.device\n",
    ") -> torch.utils.data.Dataset:\n",
    "    \"\"\"\n",
    "    Create a new dataset with the features precomputed by the model.\n",
    "\n",
    "    If the model is $f \\circ g$ where $f$ is the last layer and $g$ is \n",
    "    the rest of the model, it is not necessary to recompute $g(x)$ at \n",
    "    each epoch as $g$ is fixed. Hence you can precompute $g(x)$ and \n",
    "    create a new dataset \n",
    "    $\\mathcal{X}_{\\text{train}}' = \\{(g(x_n),y_n)\\}_{n\\leq N_{\\text{train}}}$\n",
    "\n",
    "    Arguments:\n",
    "    ----------\n",
    "    model: models.ResNet\n",
    "        The model used to precompute the features\n",
    "    dataset: torch.utils.data.Dataset\n",
    "        The dataset to precompute the features from\n",
    "    device: torch.device\n",
    "        The device to use for the computation\n",
    "    \n",
    "    Returns:\n",
    "    --------\n",
    "    torch.utils.data.Dataset\n",
    "        The new dataset with the features precomputed\n",
    "    \"\"\"\n",
    "    dataloader = torch.utils.data.DataLoader(dataset, batch_size=64, shuffle=False)\n",
    "    features_list = []\n",
    "    labels_list = []\n",
    "\n",
    "    # Remove the last layer (fc) to get the feature extractor part of the model\n",
    "    base_model = nn.Sequential(*list(model.children())[:-1])\n",
    "    base_model.to(device)\n",
    "\n",
    "    with torch.no_grad():\n",
    "        for X, y in dataloader:\n",
    "            X = X.to(device)\n",
    "            features = base_model(X)\n",
    "            features = features.view(features.size(0), -1)  # Flatten the features\n",
    "            features_list.append(features.cpu())\n",
    "            y_one_hot = torch.nn.functional.one_hot(y, num_classes=2).float()\n",
    "            labels_list.append(y_one_hot.cpu())\n",
    "\n",
    "    features_tensor = torch.cat(features_list)\n",
    "    labels_tensor = torch.cat(labels_list)\n",
    "\n",
    "    new_dataset = torch.utils.data.TensorDataset(features_tensor, labels_tensor)\n",
    "    return new_dataset"
   ]
  },
  {
   "cell_type": "code",
   "execution_count": 6,
   "metadata": {},
   "outputs": [],
   "source": [
    "train_dataloader = torch.utils.data.DataLoader(precompute_features(base_model, north_dataset, device), batch_size=64, shuffle=False)\n",
    "test_dataloader = torch.utils.data.DataLoader(precompute_features(base_model, test_dataset, device), batch_size=64, shuffle=False)"
   ]
  },
  {
   "cell_type": "code",
   "execution_count": 51,
   "metadata": {},
   "outputs": [],
   "source": [
    "def train_model(model, lr, criterion, dataloader, epochs=500):\n",
    "  optimizer = torch.optim.Adam(model.parameters(), lr=lr)\n",
    "  losses = []\n",
    "  for _ in range(epochs):\n",
    "    train_loss = 0\n",
    "    for X, y in dataloader:\n",
    "      optimizer.zero_grad()\n",
    "      X = X.to(device)\n",
    "      y = y.to(device)\n",
    "      y_pred = model(X)\n",
    "      loss = criterion(y_pred, y)\n",
    "      loss.backward()\n",
    "      train_loss += loss.item()\n",
    "      optimizer.step()\n",
    "    if _ % 10 == 0:\n",
    "      print(f'Training loss for {_}/{epochs}: {train_loss}')\n",
    "    losses.append(train_loss)\n",
    "  return losses"
   ]
  },
  {
   "cell_type": "code",
   "execution_count": 52,
   "metadata": {},
   "outputs": [
    {
     "name": "stdout",
     "output_type": "stream",
     "text": [
      "Training loss for 0/2000: 0.9646340608596802\n",
      "Training loss for 10/2000: 0.8480774760246277\n",
      "Training loss for 20/2000: 0.792921245098114\n",
      "Training loss for 30/2000: 0.7472180128097534\n",
      "Training loss for 40/2000: 0.7057929039001465\n",
      "Training loss for 50/2000: 0.6699512600898743\n",
      "Training loss for 60/2000: 0.6381913423538208\n",
      "Training loss for 70/2000: 0.6096358299255371\n",
      "Training loss for 80/2000: 0.5836039185523987\n",
      "Training loss for 90/2000: 0.5595448613166809\n",
      "Training loss for 100/2000: 0.5370743870735168\n",
      "Training loss for 110/2000: 0.5159475803375244\n",
      "Training loss for 120/2000: 0.4959973692893982\n",
      "Training loss for 130/2000: 0.47710078954696655\n",
      "Training loss for 140/2000: 0.45916515588760376\n",
      "Training loss for 150/2000: 0.44211679697036743\n",
      "Training loss for 160/2000: 0.42589396238327026\n",
      "Training loss for 170/2000: 0.41044384241104126\n",
      "Training loss for 180/2000: 0.3957194685935974\n",
      "Training loss for 190/2000: 0.38167884945869446\n",
      "Training loss for 200/2000: 0.3682836890220642\n",
      "Training loss for 210/2000: 0.3554985523223877\n",
      "Training loss for 220/2000: 0.3432907164096832\n",
      "Training loss for 230/2000: 0.3316296637058258\n",
      "Training loss for 240/2000: 0.320486843585968\n",
      "Training loss for 250/2000: 0.30983537435531616\n",
      "Training loss for 260/2000: 0.299650102853775\n",
      "Training loss for 270/2000: 0.28990715742111206\n",
      "Training loss for 280/2000: 0.28058409690856934\n",
      "Training loss for 290/2000: 0.2716599106788635\n",
      "Training loss for 300/2000: 0.26311442255973816\n",
      "Training loss for 310/2000: 0.2549287974834442\n",
      "Training loss for 320/2000: 0.24708522856235504\n",
      "Training loss for 330/2000: 0.2395668476819992\n",
      "Training loss for 340/2000: 0.2323577105998993\n",
      "Training loss for 350/2000: 0.22544272243976593\n",
      "Training loss for 360/2000: 0.21880751848220825\n",
      "Training loss for 370/2000: 0.2124386727809906\n",
      "Training loss for 380/2000: 0.2063232809305191\n",
      "Training loss for 390/2000: 0.2004493772983551\n",
      "Training loss for 400/2000: 0.19480541348457336\n",
      "Training loss for 410/2000: 0.18938055634498596\n",
      "Training loss for 420/2000: 0.18416449427604675\n",
      "Training loss for 430/2000: 0.17914748191833496\n",
      "Training loss for 440/2000: 0.1743203103542328\n",
      "Training loss for 450/2000: 0.16967418789863586\n",
      "Training loss for 460/2000: 0.165200874209404\n",
      "Training loss for 470/2000: 0.16089242696762085\n",
      "Training loss for 480/2000: 0.1567414402961731\n",
      "Training loss for 490/2000: 0.15274085104465485\n",
      "Training loss for 500/2000: 0.1488838791847229\n",
      "Training loss for 510/2000: 0.14516419172286987\n",
      "Training loss for 520/2000: 0.14157572388648987\n",
      "Training loss for 530/2000: 0.13811275362968445\n",
      "Training loss for 540/2000: 0.13476978242397308\n",
      "Training loss for 550/2000: 0.13154169917106628\n",
      "Training loss for 560/2000: 0.1284235119819641\n",
      "Training loss for 570/2000: 0.12541058659553528\n",
      "Training loss for 580/2000: 0.12249842286109924\n",
      "Training loss for 590/2000: 0.11968281120061874\n",
      "Training loss for 600/2000: 0.11695968359708786\n",
      "Training loss for 610/2000: 0.11432532966136932\n",
      "Training loss for 620/2000: 0.11177598685026169\n",
      "Training loss for 630/2000: 0.10930825769901276\n",
      "Training loss for 640/2000: 0.10691878944635391\n",
      "Training loss for 650/2000: 0.10460443794727325\n",
      "Training loss for 660/2000: 0.10236221551895142\n",
      "Training loss for 670/2000: 0.10018927603960037\n",
      "Training loss for 680/2000: 0.09808286279439926\n",
      "Training loss for 690/2000: 0.09604040533304214\n",
      "Training loss for 700/2000: 0.09405940026044846\n",
      "Training loss for 710/2000: 0.09213747084140778\n",
      "Training loss for 720/2000: 0.09027241170406342\n",
      "Training loss for 730/2000: 0.08846200257539749\n",
      "Training loss for 740/2000: 0.08670423924922943\n",
      "Training loss for 750/2000: 0.08499713242053986\n",
      "Training loss for 760/2000: 0.08333880454301834\n",
      "Training loss for 770/2000: 0.08172745257616043\n",
      "Training loss for 780/2000: 0.08016131073236465\n",
      "Training loss for 790/2000: 0.07863887399435043\n",
      "Training loss for 800/2000: 0.07715845108032227\n",
      "Training loss for 810/2000: 0.07571856677532196\n",
      "Training loss for 820/2000: 0.07431783527135849\n",
      "Training loss for 830/2000: 0.07295473664999008\n",
      "Training loss for 840/2000: 0.0716281309723854\n",
      "Training loss for 850/2000: 0.07033666968345642\n",
      "Training loss for 860/2000: 0.06907910108566284\n",
      "Training loss for 870/2000: 0.06785434484481812\n",
      "Training loss for 880/2000: 0.06666118651628494\n",
      "Training loss for 890/2000: 0.06549868732690811\n",
      "Training loss for 900/2000: 0.06436571478843689\n",
      "Training loss for 910/2000: 0.06326135247945786\n",
      "Training loss for 920/2000: 0.062184661626815796\n",
      "Training loss for 930/2000: 0.06113462150096893\n",
      "Training loss for 940/2000: 0.06011054664850235\n",
      "Training loss for 950/2000: 0.05911144241690636\n",
      "Training loss for 960/2000: 0.05813656374812126\n",
      "Training loss for 970/2000: 0.057185184210538864\n",
      "Training loss for 980/2000: 0.05625651404261589\n",
      "Training loss for 990/2000: 0.05534983426332474\n",
      "Training loss for 1000/2000: 0.05446448177099228\n",
      "Training loss for 1010/2000: 0.053599778562784195\n",
      "Training loss for 1020/2000: 0.05275510996580124\n",
      "Training loss for 1030/2000: 0.051929861307144165\n",
      "Training loss for 1040/2000: 0.05112343654036522\n",
      "Training loss for 1050/2000: 0.05033525452017784\n",
      "Training loss for 1060/2000: 0.04956481605768204\n",
      "Training loss for 1070/2000: 0.04881156235933304\n",
      "Training loss for 1080/2000: 0.048074960708618164\n",
      "Training loss for 1090/2000: 0.047354575246572495\n",
      "Training loss for 1100/2000: 0.04664990305900574\n",
      "Training loss for 1110/2000: 0.04596051573753357\n",
      "Training loss for 1120/2000: 0.045285969972610474\n",
      "Training loss for 1130/2000: 0.04462580010294914\n",
      "Training loss for 1140/2000: 0.04397964850068092\n",
      "Training loss for 1150/2000: 0.04334711283445358\n",
      "Training loss for 1160/2000: 0.042727772146463394\n",
      "Training loss for 1170/2000: 0.04212133213877678\n",
      "Training loss for 1180/2000: 0.04152736812829971\n",
      "Training loss for 1190/2000: 0.04094560816884041\n",
      "Training loss for 1200/2000: 0.040375638753175735\n",
      "Training loss for 1210/2000: 0.039817217737436295\n",
      "Training loss for 1220/2000: 0.03927001729607582\n",
      "Training loss for 1230/2000: 0.03873371332883835\n",
      "Training loss for 1240/2000: 0.03820796310901642\n",
      "Training loss for 1250/2000: 0.037692662328481674\n",
      "Training loss for 1260/2000: 0.037187360227108\n",
      "Training loss for 1270/2000: 0.03669187054038048\n",
      "Training loss for 1280/2000: 0.03620593249797821\n",
      "Training loss for 1290/2000: 0.03572925925254822\n",
      "Training loss for 1300/2000: 0.03526172786951065\n",
      "Training loss for 1310/2000: 0.03480302914977074\n",
      "Training loss for 1320/2000: 0.034352950751781464\n",
      "Training loss for 1330/2000: 0.03391125425696373\n",
      "Training loss for 1340/2000: 0.03347774222493172\n",
      "Training loss for 1350/2000: 0.033052247017621994\n",
      "Training loss for 1360/2000: 0.03263450786471367\n",
      "Training loss for 1370/2000: 0.032224416732788086\n",
      "Training loss for 1380/2000: 0.03182172775268555\n",
      "Training loss for 1390/2000: 0.03142629191279411\n",
      "Training loss for 1400/2000: 0.031037932261824608\n",
      "Training loss for 1410/2000: 0.030656401067972183\n",
      "Training loss for 1420/2000: 0.030281666666269302\n",
      "Training loss for 1430/2000: 0.0299135223031044\n",
      "Training loss for 1440/2000: 0.029551761224865913\n",
      "Training loss for 1450/2000: 0.029196279123425484\n",
      "Training loss for 1460/2000: 0.028846967965364456\n",
      "Training loss for 1470/2000: 0.02850356511771679\n",
      "Training loss for 1480/2000: 0.028166046366095543\n",
      "Training loss for 1490/2000: 0.027834273874759674\n",
      "Training loss for 1500/2000: 0.027508046478033066\n",
      "Training loss for 1510/2000: 0.027187330648303032\n",
      "Training loss for 1520/2000: 0.02687191590666771\n",
      "Training loss for 1530/2000: 0.026561692357063293\n",
      "Training loss for 1540/2000: 0.026256626471877098\n",
      "Training loss for 1550/2000: 0.02595655992627144\n",
      "Training loss for 1560/2000: 0.025661326944828033\n",
      "Training loss for 1570/2000: 0.025370940566062927\n",
      "Training loss for 1580/2000: 0.02508516050875187\n",
      "Training loss for 1590/2000: 0.024803970009088516\n",
      "Training loss for 1600/2000: 0.024527274072170258\n",
      "Training loss for 1610/2000: 0.024254923686385155\n",
      "Training loss for 1620/2000: 0.02398688718676567\n",
      "Training loss for 1630/2000: 0.023723039776086807\n",
      "Training loss for 1640/2000: 0.023463323712348938\n",
      "Training loss for 1650/2000: 0.023207632824778557\n",
      "Training loss for 1660/2000: 0.02295585535466671\n",
      "Training loss for 1670/2000: 0.022707970812916756\n",
      "Training loss for 1680/2000: 0.022463813424110413\n",
      "Training loss for 1690/2000: 0.02222338505089283\n",
      "Training loss for 1700/2000: 0.021986640989780426\n",
      "Training loss for 1710/2000: 0.021753350272774696\n",
      "Training loss for 1720/2000: 0.021523643285036087\n",
      "Training loss for 1730/2000: 0.02129731886088848\n",
      "Training loss for 1740/2000: 0.021074289456009865\n",
      "Training loss for 1750/2000: 0.020854566246271133\n",
      "Training loss for 1760/2000: 0.02063809148967266\n",
      "Training loss for 1770/2000: 0.020424768328666687\n",
      "Training loss for 1780/2000: 0.0202145017683506\n",
      "Training loss for 1790/2000: 0.02000727318227291\n",
      "Training loss for 1800/2000: 0.01980304904282093\n",
      "Training loss for 1810/2000: 0.019601693376898766\n",
      "Training loss for 1820/2000: 0.019403204321861267\n",
      "Training loss for 1830/2000: 0.019207533448934555\n",
      "Training loss for 1840/2000: 0.0190146304666996\n",
      "Training loss for 1850/2000: 0.018824435770511627\n",
      "Training loss for 1860/2000: 0.01863688975572586\n",
      "Training loss for 1870/2000: 0.018451936542987823\n",
      "Training loss for 1880/2000: 0.018269529566168785\n",
      "Training loss for 1890/2000: 0.01808963157236576\n",
      "Training loss for 1900/2000: 0.017912160605192184\n",
      "Training loss for 1910/2000: 0.017737168818712234\n",
      "Training loss for 1920/2000: 0.01756453886628151\n",
      "Training loss for 1930/2000: 0.01739424467086792\n",
      "Training loss for 1940/2000: 0.017226150259375572\n",
      "Training loss for 1950/2000: 0.017060402780771255\n",
      "Training loss for 1960/2000: 0.016896821558475494\n",
      "Training loss for 1970/2000: 0.016735384240746498\n",
      "Training loss for 1980/2000: 0.016576137393712997\n",
      "Training loss for 1990/2000: 0.01641891337931156\n"
     ]
    }
   ],
   "source": [
    "epochs = 1000\n",
    "base_model.fc = nn.Linear(512, 2)\n",
    "linear_classifier = base_model.fc.to(device)\n",
    "losses = train_model(linear_classifier, 0.001, nn.BCEWithLogitsLoss(weight=torch.Tensor([1., 2.])), train_dataloader, 2000)"
   ]
  },
  {
   "cell_type": "code",
   "execution_count": 53,
   "metadata": {},
   "outputs": [],
   "source": [
    "import numpy as np\n",
    "def eval_model(model, criterion, test_dataloader):\n",
    "  model.eval()\n",
    "  test_error = 0\n",
    "  all_preds = []\n",
    "  all_labels = []\n",
    "  for X, y in test_dataloader:\n",
    "    X = X.to(device)\n",
    "    y = y.to(device)\n",
    "    y_pred = model(X)\n",
    "    test_error += criterion(y_pred, y).item()\n",
    "    all_preds.append(y_pred.argmax(dim=1).cpu())\n",
    "    all_labels.append(y.argmax(dim=1).cpu())\n",
    "  test_error /= len(test_dataloader)\n",
    "  print(f'Test error: {test_error}')\n",
    "  \n",
    "  all_preds = torch.cat(all_preds).flatten()\n",
    "  all_labels = torch.cat(all_labels).flatten()\n",
    "  cm = ConfusionMatrix(task='binary', num_classes=2)\n",
    "  confusion_matrix = cm(all_preds, all_labels)\n",
    "  print(f'Confusion Matrix:\\n{confusion_matrix}')\n",
    "  \n",
    "  acc = Accuracy(task=\"binary\", num_classes=2)\n",
    "  print(f'Accuracy: {acc(all_preds, all_labels)}')\n"
   ]
  },
  {
   "cell_type": "code",
   "execution_count": 55,
   "metadata": {},
   "outputs": [
    {
     "name": "stdout",
     "output_type": "stream",
     "text": [
      "Test error: 1.4475703239440918\n",
      "Confusion Matrix:\n",
      "tensor([[19,  2],\n",
      "        [16,  5]])\n",
      "Accuracy: 0.5714285969734192\n"
     ]
    }
   ],
   "source": [
    "eval_model(base_model.fc, nn.BCEWithLogitsLoss(), test_dataloader)"
   ]
  },
  {
   "cell_type": "code",
   "execution_count": 56,
   "metadata": {},
   "outputs": [
    {
     "data": {
      "text/plain": [
       "[<matplotlib.lines.Line2D at 0x1fb2eb7a9a0>]"
      ]
     },
     "execution_count": 56,
     "metadata": {},
     "output_type": "execute_result"
    },
    {
     "data": {
      "image/png": "[encoded data removed]",
      "text/plain": [
       "<Figure size 640x480 with 1 Axes>"
      ]
     },
     "metadata": {},
     "output_type": "display_data"
    }
   ],
   "source": [
    "import matplotlib.pyplot as plt\n",
    "figure = plt.figure()\n",
    "plt.plot(losses)"
   ]
  },
  {
   "cell_type": "code",
   "execution_count": null,
   "metadata": {
    "cell_ktag": "NlwqZF0IUj4b"
   },
   "outputs": [],
   "source": [
    "from utils import precompute_features"
   ]
  },
  {
   "cell_type": "markdown",
   "metadata": {
    "cell_ktag": "NlwqZF0IUj4b"
   },
   "source": [
    "<div class=\"alert alert-info\">  Example of answer  </div>"
   ]
  },
  {
   "cell_type": "markdown",
   "metadata": {
    "cell_ktag": "NlwqZF0IUj4b"
   },
   "source": [
    "## Question 3 : \n",
    "> Now start from a pretained model on Imagenet (https://pytorch.org/vision/stable/models.html#) and only train the last layer. Provide the training process in the notebook with training curve. \n",
    "\n",
    " Provide two files : (https://pytorch.org/tutorials/beginner/saving_loading_models.html)\n",
    " -  a file  `utils.py` containing only the last layer class `LastLayer` inheriting from `torch.nn.Module` architecture of your final model to load\n",
    " -  a `last_layer_finetune.pth` file containing __only the last layer weights__ ( we will check the size) \n",
    " \n",
    " We will test your model on final accuracy on a test set. \n",
    " "
   ]
  },
  {
   "cell_type": "code",
   "execution_count": 57,
   "metadata": {},
   "outputs": [],
   "source": [
    "class LastLayer(nn.Module):\n",
    "    def __init__(self):\n",
    "        super(LastLayer, self).__init__()\n",
    "        self.fc1 = nn.Linear(512, 2)\n",
    "        self.relu = nn.ReLU()\n",
    "\n",
    "    def forward(self, x):\n",
    "        x = self.fc1(x)\n",
    "        return x"
   ]
  },
  {
   "cell_type": "code",
   "execution_count": 58,
   "metadata": {},
   "outputs": [
    {
     "data": {
      "text/plain": [
       "ResNet(\n",
       "  (conv1): Conv2d(3, 64, kernel_size=(7, 7), stride=(2, 2), padding=(3, 3), bias=False)\n",
       "  (bn1): BatchNorm2d(64, eps=1e-05, momentum=0.1, affine=True, track_running_stats=True)\n",
       "  (relu): ReLU(inplace=True)\n",
       "  (maxpool): MaxPool2d(kernel_size=3, stride=2, padding=1, dilation=1, ceil_mode=False)\n",
       "  (layer1): Sequential(\n",
       "    (0): BasicBlock(\n",
       "      (conv1): Conv2d(64, 64, kernel_size=(3, 3), stride=(1, 1), padding=(1, 1), bias=False)\n",
       "      (bn1): BatchNorm2d(64, eps=1e-05, momentum=0.1, affine=True, track_running_stats=True)\n",
       "      (relu): ReLU(inplace=True)\n",
       "      (conv2): Conv2d(64, 64, kernel_size=(3, 3), stride=(1, 1), padding=(1, 1), bias=False)\n",
       "      (bn2): BatchNorm2d(64, eps=1e-05, momentum=0.1, affine=True, track_running_stats=True)\n",
       "    )\n",
       "    (1): BasicBlock(\n",
       "      (conv1): Conv2d(64, 64, kernel_size=(3, 3), stride=(1, 1), padding=(1, 1), bias=False)\n",
       "      (bn1): BatchNorm2d(64, eps=1e-05, momentum=0.1, affine=True, track_running_stats=True)\n",
       "      (relu): ReLU(inplace=True)\n",
       "      (conv2): Conv2d(64, 64, kernel_size=(3, 3), stride=(1, 1), padding=(1, 1), bias=False)\n",
       "      (bn2): BatchNorm2d(64, eps=1e-05, momentum=0.1, affine=True, track_running_stats=True)\n",
       "    )\n",
       "  )\n",
       "  (layer2): Sequential(\n",
       "    (0): BasicBlock(\n",
       "      (conv1): Conv2d(64, 128, kernel_size=(3, 3), stride=(2, 2), padding=(1, 1), bias=False)\n",
       "      (bn1): BatchNorm2d(128, eps=1e-05, momentum=0.1, affine=True, track_running_stats=True)\n",
       "      (relu): ReLU(inplace=True)\n",
       "      (conv2): Conv2d(128, 128, kernel_size=(3, 3), stride=(1, 1), padding=(1, 1), bias=False)\n",
       "      (bn2): BatchNorm2d(128, eps=1e-05, momentum=0.1, affine=True, track_running_stats=True)\n",
       "      (downsample): Sequential(\n",
       "        (0): Conv2d(64, 128, kernel_size=(1, 1), stride=(2, 2), bias=False)\n",
       "        (1): BatchNorm2d(128, eps=1e-05, momentum=0.1, affine=True, track_running_stats=True)\n",
       "      )\n",
       "    )\n",
       "    (1): BasicBlock(\n",
       "      (conv1): Conv2d(128, 128, kernel_size=(3, 3), stride=(1, 1), padding=(1, 1), bias=False)\n",
       "      (bn1): BatchNorm2d(128, eps=1e-05, momentum=0.1, affine=True, track_running_stats=True)\n",
       "      (relu): ReLU(inplace=True)\n",
       "      (conv2): Conv2d(128, 128, kernel_size=(3, 3), stride=(1, 1), padding=(1, 1), bias=False)\n",
       "      (bn2): BatchNorm2d(128, eps=1e-05, momentum=0.1, affine=True, track_running_stats=True)\n",
       "    )\n",
       "  )\n",
       "  (layer3): Sequential(\n",
       "    (0): BasicBlock(\n",
       "      (conv1): Conv2d(128, 256, kernel_size=(3, 3), stride=(2, 2), padding=(1, 1), bias=False)\n",
       "      (bn1): BatchNorm2d(256, eps=1e-05, momentum=0.1, affine=True, track_running_stats=True)\n",
       "      (relu): ReLU(inplace=True)\n",
       "      (conv2): Conv2d(256, 256, kernel_size=(3, 3), stride=(1, 1), padding=(1, 1), bias=False)\n",
       "      (bn2): BatchNorm2d(256, eps=1e-05, momentum=0.1, affine=True, track_running_stats=True)\n",
       "      (downsample): Sequential(\n",
       "        (0): Conv2d(128, 256, kernel_size=(1, 1), stride=(2, 2), bias=False)\n",
       "        (1): BatchNorm2d(256, eps=1e-05, momentum=0.1, affine=True, track_running_stats=True)\n",
       "      )\n",
       "    )\n",
       "    (1): BasicBlock(\n",
       "      (conv1): Conv2d(256, 256, kernel_size=(3, 3), stride=(1, 1), padding=(1, 1), bias=False)\n",
       "      (bn1): BatchNorm2d(256, eps=1e-05, momentum=0.1, affine=True, track_running_stats=True)\n",
       "      (relu): ReLU(inplace=True)\n",
       "      (conv2): Conv2d(256, 256, kernel_size=(3, 3), stride=(1, 1), padding=(1, 1), bias=False)\n",
       "      (bn2): BatchNorm2d(256, eps=1e-05, momentum=0.1, affine=True, track_running_stats=True)\n",
       "    )\n",
       "  )\n",
       "  (layer4): Sequential(\n",
       "    (0): BasicBlock(\n",
       "      (conv1): Conv2d(256, 512, kernel_size=(3, 3), stride=(2, 2), padding=(1, 1), bias=False)\n",
       "      (bn1): BatchNorm2d(512, eps=1e-05, momentum=0.1, affine=True, track_running_stats=True)\n",
       "      (relu): ReLU(inplace=True)\n",
       "      (conv2): Conv2d(512, 512, kernel_size=(3, 3), stride=(1, 1), padding=(1, 1), bias=False)\n",
       "      (bn2): BatchNorm2d(512, eps=1e-05, momentum=0.1, affine=True, track_running_stats=True)\n",
       "      (downsample): Sequential(\n",
       "        (0): Conv2d(256, 512, kernel_size=(1, 1), stride=(2, 2), bias=False)\n",
       "        (1): BatchNorm2d(512, eps=1e-05, momentum=0.1, affine=True, track_running_stats=True)\n",
       "      )\n",
       "    )\n",
       "    (1): BasicBlock(\n",
       "      (conv1): Conv2d(512, 512, kernel_size=(3, 3), stride=(1, 1), padding=(1, 1), bias=False)\n",
       "      (bn1): BatchNorm2d(512, eps=1e-05, momentum=0.1, affine=True, track_running_stats=True)\n",
       "      (relu): ReLU(inplace=True)\n",
       "      (conv2): Conv2d(512, 512, kernel_size=(3, 3), stride=(1, 1), padding=(1, 1), bias=False)\n",
       "      (bn2): BatchNorm2d(512, eps=1e-05, momentum=0.1, affine=True, track_running_stats=True)\n",
       "    )\n",
       "  )\n",
       "  (avgpool): AdaptiveAvgPool2d(output_size=(1, 1))\n",
       "  (fc): LastLayer(\n",
       "    (fc1): Linear(in_features=512, out_features=2, bias=True)\n",
       "    (relu): ReLU()\n",
       "  )\n",
       ")"
      ]
     },
     "execution_count": 58,
     "metadata": {},
     "output_type": "execute_result"
    }
   ],
   "source": [
    "#from utils import LastLayer\n",
    "\n",
    "resnet = models.resnet18(weights=\"DEFAULT\")\n",
    "fc = LastLayer()  # !  Important : No argument\n",
    "#fc.load_state_dict(torch.load(\"lastlayer.pth\", weights_only=True))\n",
    "resnet.fc = fc\n",
    "resnet.eval()\n"
   ]
  },
  {
   "cell_type": "code",
   "execution_count": 59,
   "metadata": {},
   "outputs": [
    {
     "name": "stdout",
     "output_type": "stream",
     "text": [
      "Training loss for 0/2000: 0.717465877532959\n",
      "Training loss for 10/2000: 0.5846236944198608\n",
      "Training loss for 20/2000: 0.5547781586647034\n",
      "Training loss for 30/2000: 0.5277633666992188\n",
      "Training loss for 40/2000: 0.5030351877212524\n",
      "Training loss for 50/2000: 0.480819970369339\n",
      "Training loss for 60/2000: 0.46095672249794006\n",
      "Training loss for 70/2000: 0.44293057918548584\n",
      "Training loss for 80/2000: 0.42649105191230774\n",
      "Training loss for 90/2000: 0.4113611578941345\n",
      "Training loss for 100/2000: 0.39729073643684387\n",
      "Training loss for 110/2000: 0.38409969210624695\n",
      "Training loss for 120/2000: 0.37164318561553955\n",
      "Training loss for 130/2000: 0.3598135709762573\n",
      "Training loss for 140/2000: 0.34853053092956543\n",
      "Training loss for 150/2000: 0.3377353549003601\n",
      "Training loss for 160/2000: 0.32738423347473145\n",
      "Training loss for 170/2000: 0.3174436092376709\n",
      "Training loss for 180/2000: 0.30788713693618774\n",
      "Training loss for 190/2000: 0.2986932098865509\n",
      "Training loss for 200/2000: 0.2898435890674591\n",
      "Training loss for 210/2000: 0.28132227063179016\n",
      "Training loss for 220/2000: 0.2731148302555084\n",
      "Training loss for 230/2000: 0.26520809531211853\n",
      "Training loss for 240/2000: 0.2575894892215729\n",
      "Training loss for 250/2000: 0.2502472996711731\n",
      "Training loss for 260/2000: 0.24317029118537903\n",
      "Training loss for 270/2000: 0.2363477498292923\n",
      "Training loss for 280/2000: 0.22976934909820557\n",
      "Training loss for 290/2000: 0.22342520952224731\n",
      "Training loss for 300/2000: 0.21730588376522064\n",
      "Training loss for 310/2000: 0.21140225231647491\n",
      "Training loss for 320/2000: 0.20570556819438934\n",
      "Training loss for 330/2000: 0.20020757615566254\n",
      "Training loss for 340/2000: 0.19490016996860504\n",
      "Training loss for 350/2000: 0.1897757351398468\n",
      "Training loss for 360/2000: 0.18482694029808044\n",
      "Training loss for 370/2000: 0.18004676699638367\n",
      "Training loss for 380/2000: 0.17542850971221924\n",
      "Training loss for 390/2000: 0.170965775847435\n",
      "Training loss for 400/2000: 0.1666523963212967\n",
      "Training loss for 410/2000: 0.16248257458209991\n",
      "Training loss for 420/2000: 0.1584506630897522\n",
      "Training loss for 430/2000: 0.15455134212970734\n",
      "Training loss for 440/2000: 0.1507793813943863\n",
      "Training loss for 450/2000: 0.14713001251220703\n",
      "Training loss for 460/2000: 0.14359845221042633\n",
      "Training loss for 470/2000: 0.14018024504184723\n",
      "Training loss for 480/2000: 0.1368710845708847\n",
      "Training loss for 490/2000: 0.13366682827472687\n",
      "Training loss for 500/2000: 0.13056354224681854\n",
      "Training loss for 510/2000: 0.12755748629570007\n",
      "Training loss for 520/2000: 0.12464497238397598\n",
      "Training loss for 530/2000: 0.12182258069515228\n",
      "Training loss for 540/2000: 0.11908699572086334\n",
      "Training loss for 550/2000: 0.11643493920564651\n",
      "Training loss for 560/2000: 0.11386344581842422\n",
      "Training loss for 570/2000: 0.1113695427775383\n",
      "Training loss for 580/2000: 0.1089504137635231\n",
      "Training loss for 590/2000: 0.10660336166620255\n",
      "Training loss for 600/2000: 0.1043257936835289\n",
      "Training loss for 610/2000: 0.102115198969841\n",
      "Training loss for 620/2000: 0.09996925294399261\n",
      "Training loss for 630/2000: 0.09788558632135391\n",
      "Training loss for 640/2000: 0.0958620235323906\n",
      "Training loss for 650/2000: 0.09389647096395493\n",
      "Training loss for 660/2000: 0.09198689460754395\n",
      "Training loss for 670/2000: 0.09013130515813828\n",
      "Training loss for 680/2000: 0.08832788467407227\n",
      "Training loss for 690/2000: 0.08657480776309967\n",
      "Training loss for 700/2000: 0.08487030118703842\n",
      "Training loss for 710/2000: 0.08321279287338257\n",
      "Training loss for 720/2000: 0.0816006064414978\n",
      "Training loss for 730/2000: 0.08003222197294235\n",
      "Training loss for 740/2000: 0.07850618660449982\n",
      "Training loss for 750/2000: 0.07702108472585678\n",
      "Training loss for 760/2000: 0.07557550817728043\n",
      "Training loss for 770/2000: 0.07416818290948868\n",
      "Training loss for 780/2000: 0.07279781252145767\n",
      "Training loss for 790/2000: 0.07146323472261429\n",
      "Training loss for 800/2000: 0.07016321271657944\n",
      "Training loss for 810/2000: 0.06889666616916656\n",
      "Training loss for 820/2000: 0.06766247749328613\n",
      "Training loss for 830/2000: 0.06645964831113815\n",
      "Training loss for 840/2000: 0.06528717279434204\n",
      "Training loss for 850/2000: 0.06414403021335602\n",
      "Training loss for 860/2000: 0.06302933394908905\n",
      "Training loss for 870/2000: 0.06194218993186951\n",
      "Training loss for 880/2000: 0.06088172644376755\n",
      "Training loss for 890/2000: 0.05984712392091751\n",
      "Training loss for 900/2000: 0.05883753299713135\n",
      "Training loss for 910/2000: 0.05785223841667175\n",
      "Training loss for 920/2000: 0.05689048767089844\n",
      "Training loss for 930/2000: 0.05595152825117111\n",
      "Training loss for 940/2000: 0.05503470450639725\n",
      "Training loss for 950/2000: 0.05413932353258133\n",
      "Training loss for 960/2000: 0.05326475948095322\n",
      "Training loss for 970/2000: 0.05241040885448456\n",
      "Training loss for 980/2000: 0.05157560855150223\n",
      "Training loss for 990/2000: 0.05075985565781593\n",
      "Training loss for 1000/2000: 0.04996257275342941\n",
      "Training loss for 1010/2000: 0.049183186143636703\n",
      "Training loss for 1020/2000: 0.04842120036482811\n",
      "Training loss for 1030/2000: 0.047676119953393936\n",
      "Training loss for 1040/2000: 0.046947501599788666\n",
      "Training loss for 1050/2000: 0.046234771609306335\n",
      "Training loss for 1060/2000: 0.0455375611782074\n",
      "Training loss for 1070/2000: 0.04485544562339783\n",
      "Training loss for 1080/2000: 0.04418793320655823\n",
      "Training loss for 1090/2000: 0.043534643948078156\n",
      "Training loss for 1100/2000: 0.04289521649479866\n",
      "Training loss for 1110/2000: 0.04226924106478691\n",
      "Training loss for 1120/2000: 0.04165635257959366\n",
      "Training loss for 1130/2000: 0.04105622321367264\n",
      "Training loss for 1140/2000: 0.04046846181154251\n",
      "Training loss for 1150/2000: 0.0398927740752697\n",
      "Training loss for 1160/2000: 0.03932879492640495\n",
      "Training loss for 1170/2000: 0.038776248693466187\n",
      "Training loss for 1180/2000: 0.03823481500148773\n",
      "Training loss for 1190/2000: 0.0377042293548584\n",
      "Training loss for 1200/2000: 0.03718419373035431\n",
      "Training loss for 1210/2000: 0.036674439907073975\n",
      "Training loss for 1220/2000: 0.03617463633418083\n",
      "Training loss for 1230/2000: 0.035684626549482346\n",
      "Training loss for 1240/2000: 0.03520411252975464\n",
      "Training loss for 1250/2000: 0.03473284840583801\n",
      "Training loss for 1260/2000: 0.03427060320973396\n",
      "Training loss for 1270/2000: 0.03381717577576637\n",
      "Training loss for 1280/2000: 0.03337232768535614\n",
      "Training loss for 1290/2000: 0.03293583542108536\n",
      "Training loss for 1300/2000: 0.03250748664140701\n",
      "Training loss for 1310/2000: 0.03208710998296738\n",
      "Training loss for 1320/2000: 0.031674522906541824\n",
      "Training loss for 1330/2000: 0.03126949071884155\n",
      "Training loss for 1340/2000: 0.030871829017996788\n",
      "Training loss for 1350/2000: 0.03048142045736313\n",
      "Training loss for 1360/2000: 0.030098041519522667\n",
      "Training loss for 1370/2000: 0.029721520841121674\n",
      "Training loss for 1380/2000: 0.02935173362493515\n",
      "Training loss for 1390/2000: 0.028988508507609367\n",
      "Training loss for 1400/2000: 0.028631653636693954\n",
      "Training loss for 1410/2000: 0.028281064704060555\n",
      "Training loss for 1420/2000: 0.027936581522226334\n",
      "Training loss for 1430/2000: 0.02759808860719204\n",
      "Training loss for 1440/2000: 0.027265409007668495\n",
      "Training loss for 1450/2000: 0.026938438415527344\n",
      "Training loss for 1460/2000: 0.026617027819156647\n",
      "Training loss for 1470/2000: 0.02630106918513775\n",
      "Training loss for 1480/2000: 0.025990420952439308\n",
      "Training loss for 1490/2000: 0.025685003027319908\n",
      "Training loss for 1500/2000: 0.02538464218378067\n",
      "Training loss for 1510/2000: 0.025089291855692863\n",
      "Training loss for 1520/2000: 0.02479877881705761\n",
      "Training loss for 1530/2000: 0.024513043463230133\n",
      "Training loss for 1540/2000: 0.024231966584920883\n",
      "Training loss for 1550/2000: 0.023955436423420906\n",
      "Training loss for 1560/2000: 0.023683369159698486\n",
      "Training loss for 1570/2000: 0.023415688425302505\n",
      "Training loss for 1580/2000: 0.023152265697717667\n",
      "Training loss for 1590/2000: 0.022893015295267105\n",
      "Training loss for 1600/2000: 0.022637860849499702\n",
      "Training loss for 1610/2000: 0.022386716678738594\n",
      "Training loss for 1620/2000: 0.022139480337500572\n",
      "Training loss for 1630/2000: 0.021896133199334145\n",
      "Training loss for 1640/2000: 0.021656522527337074\n",
      "Training loss for 1650/2000: 0.021420583128929138\n",
      "Training loss for 1660/2000: 0.021188294515013695\n",
      "Training loss for 1670/2000: 0.020959503948688507\n",
      "Training loss for 1680/2000: 0.02073419652879238\n",
      "Training loss for 1690/2000: 0.020512297749519348\n",
      "Training loss for 1700/2000: 0.020293721929192543\n",
      "Training loss for 1710/2000: 0.020078420639038086\n",
      "Training loss for 1720/2000: 0.01986629143357277\n",
      "Training loss for 1730/2000: 0.019657304510474205\n",
      "Training loss for 1740/2000: 0.019451413303613663\n",
      "Training loss for 1750/2000: 0.019248519092798233\n",
      "Training loss for 1760/2000: 0.01904856227338314\n",
      "Training loss for 1770/2000: 0.01885152794420719\n",
      "Training loss for 1780/2000: 0.018657350912690163\n",
      "Training loss for 1790/2000: 0.01846594177186489\n",
      "Training loss for 1800/2000: 0.01827726513147354\n",
      "Training loss for 1810/2000: 0.018091272562742233\n",
      "Training loss for 1820/2000: 0.017907924950122833\n",
      "Training loss for 1830/2000: 0.017727136611938477\n",
      "Training loss for 1840/2000: 0.017548909410834312\n",
      "Training loss for 1850/2000: 0.01737314648926258\n",
      "Training loss for 1860/2000: 0.017199840396642685\n",
      "Training loss for 1870/2000: 0.017028933390975\n",
      "Training loss for 1880/2000: 0.01686035469174385\n",
      "Training loss for 1890/2000: 0.016694121062755585\n",
      "Training loss for 1900/2000: 0.0165301114320755\n",
      "Training loss for 1910/2000: 0.01636836677789688\n",
      "Training loss for 1920/2000: 0.01620883122086525\n",
      "Training loss for 1930/2000: 0.016051391139626503\n",
      "Training loss for 1940/2000: 0.015896078199148178\n",
      "Training loss for 1950/2000: 0.01574283093214035\n",
      "Training loss for 1960/2000: 0.015591626986861229\n",
      "Training loss for 1970/2000: 0.015442398376762867\n",
      "Training loss for 1980/2000: 0.015295179560780525\n",
      "Training loss for 1990/2000: 0.01514988113194704\n"
     ]
    }
   ],
   "source": [
    "losses = train_model(resnet.fc, 0.001, nn.BCEWithLogitsLoss(), train_dataloader, 2000)"
   ]
  },
  {
   "cell_type": "code",
   "execution_count": 60,
   "metadata": {},
   "outputs": [
    {
     "name": "stdout",
     "output_type": "stream",
     "text": [
      "Test error: 1.3930901288986206\n",
      "Confusion Matrix:\n",
      "tensor([[19,  2],\n",
      "        [15,  6]])\n",
      "Accuracy: 0.5952380895614624\n"
     ]
    }
   ],
   "source": [
    "eval_model(resnet.fc.to(device), nn.BCEWithLogitsLoss(), test_dataloader)"
   ]
  },
  {
   "cell_type": "code",
   "execution_count": 44,
   "metadata": {
    "cell_ktag": "NlwqZF0IUj4b"
   },
   "outputs": [],
   "source": [
    "torch.save(base_model.fc.state_dict(), \"lastlayer.pth\")"
   ]
  },
  {
   "cell_type": "markdown",
   "metadata": {
    "cell_ktag": "NlwqZF0IUj4b"
   },
   "source": [
    "## Question 4 : \n",
    "> Perform  LoRA https://arxiv.org/pdf/2106.09685  on the model  (We are perfectly fine if you use an external library **for this question only**, and of course use it in the next questions). (Warning : without data augmentation it may not improve the accuracy.)\n",
    "\n",
    "Intermediate question : Describe LoRA. There are different ways of implementing LoRa for convolutions. You can choose your preferred one. Explain the version of LoRa you used, provide a drawing of the process in the `drawing_lora.png` file. (Hint: you can obtain a small rank convolution by combining a convolution and a 1x1 convolution. One of the two goes from a higher number of channels to a lower number of channels and the other one restores the number of channels.)"
   ]
  },
  {
   "cell_type": "code",
   "execution_count": 61,
   "metadata": {},
   "outputs": [],
   "source": [
    "class LoRAConv(nn.Module):\n",
    "    def __init__(self, in_channels, out_channels, kernel_size, rank, stride=1, padding=0, bias=False):\n",
    "        super(LoRAConv, self).__init__()\n",
    "        \n",
    "        # First convolution reduces the number of channels (compression)\n",
    "        self.conv1 = nn.Conv2d(in_channels, rank, kernel_size, stride=stride, padding=padding, bias=bias)\n",
    "        \n",
    "        # Second 1x1 convolution restores the number of channels\n",
    "        self.conv2 = nn.Conv2d(rank, out_channels, kernel_size=1, stride=1, padding=0, bias=bias)\n",
    "    \n",
    "    def forward(self, x):\n",
    "        x = self.conv1(x)\n",
    "        x = self.conv2(x)\n",
    "        return x\n",
    "    \n",
    "class LoRAResNet(nn.Module):\n",
    "  def __init__(self, base_model, rank=4):\n",
    "      super(LoRAResNet, self).__init__()\n",
    "      self.base_model = base_model\n",
    "      \n",
    "      for parameter in self.base_model.parameters():\n",
    "            parameter.requires_grad = False\n",
    "      \n",
    "      # Replace convolution layers with LoRA convolution layers\n",
    "      temp = list(self.base_model.named_modules())\n",
    "      for name, module in temp:\n",
    "          if isinstance(module, nn.Conv2d) and module.kernel_size != (1, 1):  # Avoid modifying 1x1 convs\n",
    "              in_channels = module.in_channels\n",
    "              out_channels = module.out_channels\n",
    "              kernel_size = module.kernel_size\n",
    "              stride = module.stride\n",
    "              padding = module.padding\n",
    "              \n",
    "              # Replace with LoRA convolution\n",
    "              lora_conv = LoRAConv(in_channels, out_channels, kernel_size, rank, stride, padding)\n",
    "              setattr(self.base_model, name, lora_conv)\n",
    "  \n",
    "  def forward(self, x):\n",
    "      return self.base_model(x)"
   ]
  },
  {
   "cell_type": "code",
   "execution_count": 62,
   "metadata": {},
   "outputs": [],
   "source": [
    "base_resnet = models.resnet18(weights='DEFAULT')\n",
    "lora_resnet = LoRAResNet(base_resnet, rank=4)"
   ]
  },
  {
   "cell_type": "code",
   "execution_count": 63,
   "metadata": {},
   "outputs": [
    {
     "ename": "RuntimeError",
     "evalue": "Expected 3D (unbatched) or 4D (batched) input to conv2d, but got input of size: [42, 512]",
     "output_type": "error",
     "traceback": [
      "\u001b[1;31m---------------------------------------------------------------------------\u001b[0m",
      "\u001b[1;31mRuntimeError\u001b[0m                              Traceback (most recent call last)",
      "Cell \u001b[1;32mIn[63], line 1\u001b[0m\n\u001b[1;32m----> 1\u001b[0m losses \u001b[38;5;241m=\u001b[39m \u001b[43mtrain_model\u001b[49m\u001b[43m(\u001b[49m\u001b[43mlora_resnet\u001b[49m\u001b[38;5;241;43m.\u001b[39;49m\u001b[43mto\u001b[49m\u001b[43m(\u001b[49m\u001b[43mdevice\u001b[49m\u001b[43m)\u001b[49m\u001b[43m,\u001b[49m\u001b[43m \u001b[49m\u001b[38;5;241;43m0.001\u001b[39;49m\u001b[43m,\u001b[49m\u001b[43m \u001b[49m\u001b[43mnn\u001b[49m\u001b[38;5;241;43m.\u001b[39;49m\u001b[43mBCEWithLogitsLoss\u001b[49m\u001b[43m(\u001b[49m\u001b[43m)\u001b[49m\u001b[43m,\u001b[49m\u001b[43m \u001b[49m\u001b[43mtrain_dataloader\u001b[49m\u001b[43m,\u001b[49m\u001b[43m \u001b[49m\u001b[38;5;241;43m2000\u001b[39;49m\u001b[43m)\u001b[49m\n",
      "Cell \u001b[1;32mIn[51], line 10\u001b[0m, in \u001b[0;36mtrain_model\u001b[1;34m(model, lr, criterion, dataloader, epochs)\u001b[0m\n\u001b[0;32m      8\u001b[0m X \u001b[38;5;241m=\u001b[39m X\u001b[38;5;241m.\u001b[39mto(device)\n\u001b[0;32m      9\u001b[0m y \u001b[38;5;241m=\u001b[39m y\u001b[38;5;241m.\u001b[39mto(device)\n\u001b[1;32m---> 10\u001b[0m y_pred \u001b[38;5;241m=\u001b[39m \u001b[43mmodel\u001b[49m\u001b[43m(\u001b[49m\u001b[43mX\u001b[49m\u001b[43m)\u001b[49m\n\u001b[0;32m     11\u001b[0m loss \u001b[38;5;241m=\u001b[39m criterion(y_pred, y)\n\u001b[0;32m     12\u001b[0m loss\u001b[38;5;241m.\u001b[39mbackward()\n",
      "File \u001b[1;32mc:\\Users\\tlc29\\Documents\\CS\\3A\\DLIP\\dlip-env\\lib\\site-packages\\torch\\nn\\modules\\module.py:1739\u001b[0m, in \u001b[0;36mModule._wrapped_call_impl\u001b[1;34m(self, *args, **kwargs)\u001b[0m\n\u001b[0;32m   1737\u001b[0m     \u001b[38;5;28;01mreturn\u001b[39;00m \u001b[38;5;28mself\u001b[39m\u001b[38;5;241m.\u001b[39m_compiled_call_impl(\u001b[38;5;241m*\u001b[39margs, \u001b[38;5;241m*\u001b[39m\u001b[38;5;241m*\u001b[39mkwargs)  \u001b[38;5;66;03m# type: ignore[misc]\u001b[39;00m\n\u001b[0;32m   1738\u001b[0m \u001b[38;5;28;01melse\u001b[39;00m:\n\u001b[1;32m-> 1739\u001b[0m     \u001b[38;5;28;01mreturn\u001b[39;00m \u001b[38;5;28mself\u001b[39m\u001b[38;5;241m.\u001b[39m_call_impl(\u001b[38;5;241m*\u001b[39margs, \u001b[38;5;241m*\u001b[39m\u001b[38;5;241m*\u001b[39mkwargs)\n",
      "File \u001b[1;32mc:\\Users\\tlc29\\Documents\\CS\\3A\\DLIP\\dlip-env\\lib\\site-packages\\torch\\nn\\modules\\module.py:1750\u001b[0m, in \u001b[0;36mModule._call_impl\u001b[1;34m(self, *args, **kwargs)\u001b[0m\n\u001b[0;32m   1745\u001b[0m \u001b[38;5;66;03m# If we don't have any hooks, we want to skip the rest of the logic in\u001b[39;00m\n\u001b[0;32m   1746\u001b[0m \u001b[38;5;66;03m# this function, and just call forward.\u001b[39;00m\n\u001b[0;32m   1747\u001b[0m \u001b[38;5;28;01mif\u001b[39;00m \u001b[38;5;129;01mnot\u001b[39;00m (\u001b[38;5;28mself\u001b[39m\u001b[38;5;241m.\u001b[39m_backward_hooks \u001b[38;5;129;01mor\u001b[39;00m \u001b[38;5;28mself\u001b[39m\u001b[38;5;241m.\u001b[39m_backward_pre_hooks \u001b[38;5;129;01mor\u001b[39;00m \u001b[38;5;28mself\u001b[39m\u001b[38;5;241m.\u001b[39m_forward_hooks \u001b[38;5;129;01mor\u001b[39;00m \u001b[38;5;28mself\u001b[39m\u001b[38;5;241m.\u001b[39m_forward_pre_hooks\n\u001b[0;32m   1748\u001b[0m         \u001b[38;5;129;01mor\u001b[39;00m _global_backward_pre_hooks \u001b[38;5;129;01mor\u001b[39;00m _global_backward_hooks\n\u001b[0;32m   1749\u001b[0m         \u001b[38;5;129;01mor\u001b[39;00m _global_forward_hooks \u001b[38;5;129;01mor\u001b[39;00m _global_forward_pre_hooks):\n\u001b[1;32m-> 1750\u001b[0m     \u001b[38;5;28;01mreturn\u001b[39;00m forward_call(\u001b[38;5;241m*\u001b[39margs, \u001b[38;5;241m*\u001b[39m\u001b[38;5;241m*\u001b[39mkwargs)\n\u001b[0;32m   1752\u001b[0m result \u001b[38;5;241m=\u001b[39m \u001b[38;5;28;01mNone\u001b[39;00m\n\u001b[0;32m   1753\u001b[0m called_always_called_hooks \u001b[38;5;241m=\u001b[39m \u001b[38;5;28mset\u001b[39m()\n",
      "Cell \u001b[1;32mIn[61], line 39\u001b[0m, in \u001b[0;36mLoRAResNet.forward\u001b[1;34m(self, x)\u001b[0m\n\u001b[0;32m     38\u001b[0m \u001b[38;5;28;01mdef\u001b[39;00m\u001b[38;5;250m \u001b[39m\u001b[38;5;21mforward\u001b[39m(\u001b[38;5;28mself\u001b[39m, x):\n\u001b[1;32m---> 39\u001b[0m     \u001b[38;5;28;01mreturn\u001b[39;00m \u001b[38;5;28;43mself\u001b[39;49m\u001b[38;5;241;43m.\u001b[39;49m\u001b[43mbase_model\u001b[49m\u001b[43m(\u001b[49m\u001b[43mx\u001b[49m\u001b[43m)\u001b[49m\n",
      "File \u001b[1;32mc:\\Users\\tlc29\\Documents\\CS\\3A\\DLIP\\dlip-env\\lib\\site-packages\\torch\\nn\\modules\\module.py:1739\u001b[0m, in \u001b[0;36mModule._wrapped_call_impl\u001b[1;34m(self, *args, **kwargs)\u001b[0m\n\u001b[0;32m   1737\u001b[0m     \u001b[38;5;28;01mreturn\u001b[39;00m \u001b[38;5;28mself\u001b[39m\u001b[38;5;241m.\u001b[39m_compiled_call_impl(\u001b[38;5;241m*\u001b[39margs, \u001b[38;5;241m*\u001b[39m\u001b[38;5;241m*\u001b[39mkwargs)  \u001b[38;5;66;03m# type: ignore[misc]\u001b[39;00m\n\u001b[0;32m   1738\u001b[0m \u001b[38;5;28;01melse\u001b[39;00m:\n\u001b[1;32m-> 1739\u001b[0m     \u001b[38;5;28;01mreturn\u001b[39;00m \u001b[38;5;28mself\u001b[39m\u001b[38;5;241m.\u001b[39m_call_impl(\u001b[38;5;241m*\u001b[39margs, \u001b[38;5;241m*\u001b[39m\u001b[38;5;241m*\u001b[39mkwargs)\n",
      "File \u001b[1;32mc:\\Users\\tlc29\\Documents\\CS\\3A\\DLIP\\dlip-env\\lib\\site-packages\\torch\\nn\\modules\\module.py:1750\u001b[0m, in \u001b[0;36mModule._call_impl\u001b[1;34m(self, *args, **kwargs)\u001b[0m\n\u001b[0;32m   1745\u001b[0m \u001b[38;5;66;03m# If we don't have any hooks, we want to skip the rest of the logic in\u001b[39;00m\n\u001b[0;32m   1746\u001b[0m \u001b[38;5;66;03m# this function, and just call forward.\u001b[39;00m\n\u001b[0;32m   1747\u001b[0m \u001b[38;5;28;01mif\u001b[39;00m \u001b[38;5;129;01mnot\u001b[39;00m (\u001b[38;5;28mself\u001b[39m\u001b[38;5;241m.\u001b[39m_backward_hooks \u001b[38;5;129;01mor\u001b[39;00m \u001b[38;5;28mself\u001b[39m\u001b[38;5;241m.\u001b[39m_backward_pre_hooks \u001b[38;5;129;01mor\u001b[39;00m \u001b[38;5;28mself\u001b[39m\u001b[38;5;241m.\u001b[39m_forward_hooks \u001b[38;5;129;01mor\u001b[39;00m \u001b[38;5;28mself\u001b[39m\u001b[38;5;241m.\u001b[39m_forward_pre_hooks\n\u001b[0;32m   1748\u001b[0m         \u001b[38;5;129;01mor\u001b[39;00m _global_backward_pre_hooks \u001b[38;5;129;01mor\u001b[39;00m _global_backward_hooks\n\u001b[0;32m   1749\u001b[0m         \u001b[38;5;129;01mor\u001b[39;00m _global_forward_hooks \u001b[38;5;129;01mor\u001b[39;00m _global_forward_pre_hooks):\n\u001b[1;32m-> 1750\u001b[0m     \u001b[38;5;28;01mreturn\u001b[39;00m forward_call(\u001b[38;5;241m*\u001b[39margs, \u001b[38;5;241m*\u001b[39m\u001b[38;5;241m*\u001b[39mkwargs)\n\u001b[0;32m   1752\u001b[0m result \u001b[38;5;241m=\u001b[39m \u001b[38;5;28;01mNone\u001b[39;00m\n\u001b[0;32m   1753\u001b[0m called_always_called_hooks \u001b[38;5;241m=\u001b[39m \u001b[38;5;28mset\u001b[39m()\n",
      "File \u001b[1;32mc:\\Users\\tlc29\\Documents\\CS\\3A\\DLIP\\dlip-env\\lib\\site-packages\\torchvision\\models\\resnet.py:285\u001b[0m, in \u001b[0;36mResNet.forward\u001b[1;34m(self, x)\u001b[0m\n\u001b[0;32m    284\u001b[0m \u001b[38;5;28;01mdef\u001b[39;00m\u001b[38;5;250m \u001b[39m\u001b[38;5;21mforward\u001b[39m(\u001b[38;5;28mself\u001b[39m, x: Tensor) \u001b[38;5;241m-\u001b[39m\u001b[38;5;241m>\u001b[39m Tensor:\n\u001b[1;32m--> 285\u001b[0m     \u001b[38;5;28;01mreturn\u001b[39;00m \u001b[38;5;28;43mself\u001b[39;49m\u001b[38;5;241;43m.\u001b[39;49m\u001b[43m_forward_impl\u001b[49m\u001b[43m(\u001b[49m\u001b[43mx\u001b[49m\u001b[43m)\u001b[49m\n",
      "File \u001b[1;32mc:\\Users\\tlc29\\Documents\\CS\\3A\\DLIP\\dlip-env\\lib\\site-packages\\torchvision\\models\\resnet.py:268\u001b[0m, in \u001b[0;36mResNet._forward_impl\u001b[1;34m(self, x)\u001b[0m\n\u001b[0;32m    266\u001b[0m \u001b[38;5;28;01mdef\u001b[39;00m\u001b[38;5;250m \u001b[39m\u001b[38;5;21m_forward_impl\u001b[39m(\u001b[38;5;28mself\u001b[39m, x: Tensor) \u001b[38;5;241m-\u001b[39m\u001b[38;5;241m>\u001b[39m Tensor:\n\u001b[0;32m    267\u001b[0m     \u001b[38;5;66;03m# See note [TorchScript super()]\u001b[39;00m\n\u001b[1;32m--> 268\u001b[0m     x \u001b[38;5;241m=\u001b[39m \u001b[38;5;28;43mself\u001b[39;49m\u001b[38;5;241;43m.\u001b[39;49m\u001b[43mconv1\u001b[49m\u001b[43m(\u001b[49m\u001b[43mx\u001b[49m\u001b[43m)\u001b[49m\n\u001b[0;32m    269\u001b[0m     x \u001b[38;5;241m=\u001b[39m \u001b[38;5;28mself\u001b[39m\u001b[38;5;241m.\u001b[39mbn1(x)\n\u001b[0;32m    270\u001b[0m     x \u001b[38;5;241m=\u001b[39m \u001b[38;5;28mself\u001b[39m\u001b[38;5;241m.\u001b[39mrelu(x)\n",
      "File \u001b[1;32mc:\\Users\\tlc29\\Documents\\CS\\3A\\DLIP\\dlip-env\\lib\\site-packages\\torch\\nn\\modules\\module.py:1739\u001b[0m, in \u001b[0;36mModule._wrapped_call_impl\u001b[1;34m(self, *args, **kwargs)\u001b[0m\n\u001b[0;32m   1737\u001b[0m     \u001b[38;5;28;01mreturn\u001b[39;00m \u001b[38;5;28mself\u001b[39m\u001b[38;5;241m.\u001b[39m_compiled_call_impl(\u001b[38;5;241m*\u001b[39margs, \u001b[38;5;241m*\u001b[39m\u001b[38;5;241m*\u001b[39mkwargs)  \u001b[38;5;66;03m# type: ignore[misc]\u001b[39;00m\n\u001b[0;32m   1738\u001b[0m \u001b[38;5;28;01melse\u001b[39;00m:\n\u001b[1;32m-> 1739\u001b[0m     \u001b[38;5;28;01mreturn\u001b[39;00m \u001b[38;5;28mself\u001b[39m\u001b[38;5;241m.\u001b[39m_call_impl(\u001b[38;5;241m*\u001b[39margs, \u001b[38;5;241m*\u001b[39m\u001b[38;5;241m*\u001b[39mkwargs)\n",
      "File \u001b[1;32mc:\\Users\\tlc29\\Documents\\CS\\3A\\DLIP\\dlip-env\\lib\\site-packages\\torch\\nn\\modules\\module.py:1750\u001b[0m, in \u001b[0;36mModule._call_impl\u001b[1;34m(self, *args, **kwargs)\u001b[0m\n\u001b[0;32m   1745\u001b[0m \u001b[38;5;66;03m# If we don't have any hooks, we want to skip the rest of the logic in\u001b[39;00m\n\u001b[0;32m   1746\u001b[0m \u001b[38;5;66;03m# this function, and just call forward.\u001b[39;00m\n\u001b[0;32m   1747\u001b[0m \u001b[38;5;28;01mif\u001b[39;00m \u001b[38;5;129;01mnot\u001b[39;00m (\u001b[38;5;28mself\u001b[39m\u001b[38;5;241m.\u001b[39m_backward_hooks \u001b[38;5;129;01mor\u001b[39;00m \u001b[38;5;28mself\u001b[39m\u001b[38;5;241m.\u001b[39m_backward_pre_hooks \u001b[38;5;129;01mor\u001b[39;00m \u001b[38;5;28mself\u001b[39m\u001b[38;5;241m.\u001b[39m_forward_hooks \u001b[38;5;129;01mor\u001b[39;00m \u001b[38;5;28mself\u001b[39m\u001b[38;5;241m.\u001b[39m_forward_pre_hooks\n\u001b[0;32m   1748\u001b[0m         \u001b[38;5;129;01mor\u001b[39;00m _global_backward_pre_hooks \u001b[38;5;129;01mor\u001b[39;00m _global_backward_hooks\n\u001b[0;32m   1749\u001b[0m         \u001b[38;5;129;01mor\u001b[39;00m _global_forward_hooks \u001b[38;5;129;01mor\u001b[39;00m _global_forward_pre_hooks):\n\u001b[1;32m-> 1750\u001b[0m     \u001b[38;5;28;01mreturn\u001b[39;00m forward_call(\u001b[38;5;241m*\u001b[39margs, \u001b[38;5;241m*\u001b[39m\u001b[38;5;241m*\u001b[39mkwargs)\n\u001b[0;32m   1752\u001b[0m result \u001b[38;5;241m=\u001b[39m \u001b[38;5;28;01mNone\u001b[39;00m\n\u001b[0;32m   1753\u001b[0m called_always_called_hooks \u001b[38;5;241m=\u001b[39m \u001b[38;5;28mset\u001b[39m()\n",
      "Cell \u001b[1;32mIn[61], line 12\u001b[0m, in \u001b[0;36mLoRAConv.forward\u001b[1;34m(self, x)\u001b[0m\n\u001b[0;32m     11\u001b[0m \u001b[38;5;28;01mdef\u001b[39;00m\u001b[38;5;250m \u001b[39m\u001b[38;5;21mforward\u001b[39m(\u001b[38;5;28mself\u001b[39m, x):\n\u001b[1;32m---> 12\u001b[0m     x \u001b[38;5;241m=\u001b[39m \u001b[38;5;28;43mself\u001b[39;49m\u001b[38;5;241;43m.\u001b[39;49m\u001b[43mconv1\u001b[49m\u001b[43m(\u001b[49m\u001b[43mx\u001b[49m\u001b[43m)\u001b[49m\n\u001b[0;32m     13\u001b[0m     x \u001b[38;5;241m=\u001b[39m \u001b[38;5;28mself\u001b[39m\u001b[38;5;241m.\u001b[39mconv2(x)\n\u001b[0;32m     14\u001b[0m     \u001b[38;5;28;01mreturn\u001b[39;00m x\n",
      "File \u001b[1;32mc:\\Users\\tlc29\\Documents\\CS\\3A\\DLIP\\dlip-env\\lib\\site-packages\\torch\\nn\\modules\\module.py:1739\u001b[0m, in \u001b[0;36mModule._wrapped_call_impl\u001b[1;34m(self, *args, **kwargs)\u001b[0m\n\u001b[0;32m   1737\u001b[0m     \u001b[38;5;28;01mreturn\u001b[39;00m \u001b[38;5;28mself\u001b[39m\u001b[38;5;241m.\u001b[39m_compiled_call_impl(\u001b[38;5;241m*\u001b[39margs, \u001b[38;5;241m*\u001b[39m\u001b[38;5;241m*\u001b[39mkwargs)  \u001b[38;5;66;03m# type: ignore[misc]\u001b[39;00m\n\u001b[0;32m   1738\u001b[0m \u001b[38;5;28;01melse\u001b[39;00m:\n\u001b[1;32m-> 1739\u001b[0m     \u001b[38;5;28;01mreturn\u001b[39;00m \u001b[38;5;28mself\u001b[39m\u001b[38;5;241m.\u001b[39m_call_impl(\u001b[38;5;241m*\u001b[39margs, \u001b[38;5;241m*\u001b[39m\u001b[38;5;241m*\u001b[39mkwargs)\n",
      "File \u001b[1;32mc:\\Users\\tlc29\\Documents\\CS\\3A\\DLIP\\dlip-env\\lib\\site-packages\\torch\\nn\\modules\\module.py:1750\u001b[0m, in \u001b[0;36mModule._call_impl\u001b[1;34m(self, *args, **kwargs)\u001b[0m\n\u001b[0;32m   1745\u001b[0m \u001b[38;5;66;03m# If we don't have any hooks, we want to skip the rest of the logic in\u001b[39;00m\n\u001b[0;32m   1746\u001b[0m \u001b[38;5;66;03m# this function, and just call forward.\u001b[39;00m\n\u001b[0;32m   1747\u001b[0m \u001b[38;5;28;01mif\u001b[39;00m \u001b[38;5;129;01mnot\u001b[39;00m (\u001b[38;5;28mself\u001b[39m\u001b[38;5;241m.\u001b[39m_backward_hooks \u001b[38;5;129;01mor\u001b[39;00m \u001b[38;5;28mself\u001b[39m\u001b[38;5;241m.\u001b[39m_backward_pre_hooks \u001b[38;5;129;01mor\u001b[39;00m \u001b[38;5;28mself\u001b[39m\u001b[38;5;241m.\u001b[39m_forward_hooks \u001b[38;5;129;01mor\u001b[39;00m \u001b[38;5;28mself\u001b[39m\u001b[38;5;241m.\u001b[39m_forward_pre_hooks\n\u001b[0;32m   1748\u001b[0m         \u001b[38;5;129;01mor\u001b[39;00m _global_backward_pre_hooks \u001b[38;5;129;01mor\u001b[39;00m _global_backward_hooks\n\u001b[0;32m   1749\u001b[0m         \u001b[38;5;129;01mor\u001b[39;00m _global_forward_hooks \u001b[38;5;129;01mor\u001b[39;00m _global_forward_pre_hooks):\n\u001b[1;32m-> 1750\u001b[0m     \u001b[38;5;28;01mreturn\u001b[39;00m forward_call(\u001b[38;5;241m*\u001b[39margs, \u001b[38;5;241m*\u001b[39m\u001b[38;5;241m*\u001b[39mkwargs)\n\u001b[0;32m   1752\u001b[0m result \u001b[38;5;241m=\u001b[39m \u001b[38;5;28;01mNone\u001b[39;00m\n\u001b[0;32m   1753\u001b[0m called_always_called_hooks \u001b[38;5;241m=\u001b[39m \u001b[38;5;28mset\u001b[39m()\n",
      "File \u001b[1;32mc:\\Users\\tlc29\\Documents\\CS\\3A\\DLIP\\dlip-env\\lib\\site-packages\\torch\\nn\\modules\\conv.py:554\u001b[0m, in \u001b[0;36mConv2d.forward\u001b[1;34m(self, input)\u001b[0m\n\u001b[0;32m    553\u001b[0m \u001b[38;5;28;01mdef\u001b[39;00m\u001b[38;5;250m \u001b[39m\u001b[38;5;21mforward\u001b[39m(\u001b[38;5;28mself\u001b[39m, \u001b[38;5;28minput\u001b[39m: Tensor) \u001b[38;5;241m-\u001b[39m\u001b[38;5;241m>\u001b[39m Tensor:\n\u001b[1;32m--> 554\u001b[0m     \u001b[38;5;28;01mreturn\u001b[39;00m \u001b[38;5;28;43mself\u001b[39;49m\u001b[38;5;241;43m.\u001b[39;49m\u001b[43m_conv_forward\u001b[49m\u001b[43m(\u001b[49m\u001b[38;5;28;43minput\u001b[39;49m\u001b[43m,\u001b[49m\u001b[43m \u001b[49m\u001b[38;5;28;43mself\u001b[39;49m\u001b[38;5;241;43m.\u001b[39;49m\u001b[43mweight\u001b[49m\u001b[43m,\u001b[49m\u001b[43m \u001b[49m\u001b[38;5;28;43mself\u001b[39;49m\u001b[38;5;241;43m.\u001b[39;49m\u001b[43mbias\u001b[49m\u001b[43m)\u001b[49m\n",
      "File \u001b[1;32mc:\\Users\\tlc29\\Documents\\CS\\3A\\DLIP\\dlip-env\\lib\\site-packages\\torch\\nn\\modules\\conv.py:549\u001b[0m, in \u001b[0;36mConv2d._conv_forward\u001b[1;34m(self, input, weight, bias)\u001b[0m\n\u001b[0;32m    537\u001b[0m \u001b[38;5;28;01mif\u001b[39;00m \u001b[38;5;28mself\u001b[39m\u001b[38;5;241m.\u001b[39mpadding_mode \u001b[38;5;241m!=\u001b[39m \u001b[38;5;124m\"\u001b[39m\u001b[38;5;124mzeros\u001b[39m\u001b[38;5;124m\"\u001b[39m:\n\u001b[0;32m    538\u001b[0m     \u001b[38;5;28;01mreturn\u001b[39;00m F\u001b[38;5;241m.\u001b[39mconv2d(\n\u001b[0;32m    539\u001b[0m         F\u001b[38;5;241m.\u001b[39mpad(\n\u001b[0;32m    540\u001b[0m             \u001b[38;5;28minput\u001b[39m, \u001b[38;5;28mself\u001b[39m\u001b[38;5;241m.\u001b[39m_reversed_padding_repeated_twice, mode\u001b[38;5;241m=\u001b[39m\u001b[38;5;28mself\u001b[39m\u001b[38;5;241m.\u001b[39mpadding_mode\n\u001b[1;32m   (...)\u001b[0m\n\u001b[0;32m    547\u001b[0m         \u001b[38;5;28mself\u001b[39m\u001b[38;5;241m.\u001b[39mgroups,\n\u001b[0;32m    548\u001b[0m     )\n\u001b[1;32m--> 549\u001b[0m \u001b[38;5;28;01mreturn\u001b[39;00m \u001b[43mF\u001b[49m\u001b[38;5;241;43m.\u001b[39;49m\u001b[43mconv2d\u001b[49m\u001b[43m(\u001b[49m\n\u001b[0;32m    550\u001b[0m \u001b[43m    \u001b[49m\u001b[38;5;28;43minput\u001b[39;49m\u001b[43m,\u001b[49m\u001b[43m \u001b[49m\u001b[43mweight\u001b[49m\u001b[43m,\u001b[49m\u001b[43m \u001b[49m\u001b[43mbias\u001b[49m\u001b[43m,\u001b[49m\u001b[43m \u001b[49m\u001b[38;5;28;43mself\u001b[39;49m\u001b[38;5;241;43m.\u001b[39;49m\u001b[43mstride\u001b[49m\u001b[43m,\u001b[49m\u001b[43m \u001b[49m\u001b[38;5;28;43mself\u001b[39;49m\u001b[38;5;241;43m.\u001b[39;49m\u001b[43mpadding\u001b[49m\u001b[43m,\u001b[49m\u001b[43m \u001b[49m\u001b[38;5;28;43mself\u001b[39;49m\u001b[38;5;241;43m.\u001b[39;49m\u001b[43mdilation\u001b[49m\u001b[43m,\u001b[49m\u001b[43m \u001b[49m\u001b[38;5;28;43mself\u001b[39;49m\u001b[38;5;241;43m.\u001b[39;49m\u001b[43mgroups\u001b[49m\n\u001b[0;32m    551\u001b[0m \u001b[43m\u001b[49m\u001b[43m)\u001b[49m\n",
      "\u001b[1;31mRuntimeError\u001b[0m: Expected 3D (unbatched) or 4D (batched) input to conv2d, but got input of size: [42, 512]"
     ]
    }
   ],
   "source": [
    "losses = train_model(lora_resnet.to(device), 0.001, nn.BCEWithLogitsLoss(), train_dataloader, 2000)"
   ]
  },
  {
   "cell_type": "code",
   "execution_count": null,
   "metadata": {},
   "outputs": [
    {
     "data": {
      "text/plain": [
       "[<matplotlib.lines.Line2D at 0x2559cf62d90>]"
      ]
     },
     "execution_count": 315,
     "metadata": {},
     "output_type": "execute_result"
    },
    {
     "data": {
      "image/png": "[encoded data removed]",
      "text/plain": [
       "<Figure size 640x480 with 1 Axes>"
      ]
     },
     "metadata": {},
     "output_type": "display_data"
    }
   ],
   "source": [
    "plt.plot(losses)"
   ]
  },
  {
   "cell_type": "code",
   "execution_count": null,
   "metadata": {},
   "outputs": [
    {
     "ename": "RuntimeError",
     "evalue": "Expected 3D (unbatched) or 4D (batched) input to conv2d, but got input of size: [42, 512]",
     "output_type": "error",
     "traceback": [
      "\u001b[1;31m---------------------------------------------------------------------------\u001b[0m",
      "\u001b[1;31mRuntimeError\u001b[0m                              Traceback (most recent call last)",
      "Cell \u001b[1;32mIn[318], line 1\u001b[0m\n\u001b[1;32m----> 1\u001b[0m \u001b[43meval_model\u001b[49m\u001b[43m(\u001b[49m\u001b[43mlora_resnet\u001b[49m\u001b[43m,\u001b[49m\u001b[43m \u001b[49m\u001b[43mnn\u001b[49m\u001b[38;5;241;43m.\u001b[39;49m\u001b[43mBCELoss\u001b[49m\u001b[43m(\u001b[49m\u001b[43m)\u001b[49m\u001b[43m,\u001b[49m\u001b[43m \u001b[49m\u001b[43mtest_dataloader\u001b[49m\u001b[43m)\u001b[49m\n",
      "Cell \u001b[1;32mIn[310], line 10\u001b[0m, in \u001b[0;36meval_model\u001b[1;34m(model, criterion, test_dataloader)\u001b[0m\n\u001b[0;32m      8\u001b[0m X \u001b[38;5;241m=\u001b[39m X\u001b[38;5;241m.\u001b[39mto(device)\n\u001b[0;32m      9\u001b[0m y \u001b[38;5;241m=\u001b[39m y\u001b[38;5;241m.\u001b[39mto(device)\n\u001b[1;32m---> 10\u001b[0m y_pred \u001b[38;5;241m=\u001b[39m \u001b[43mmodel\u001b[49m\u001b[43m(\u001b[49m\u001b[43mX\u001b[49m\u001b[43m)\u001b[49m\n\u001b[0;32m     11\u001b[0m test_error \u001b[38;5;241m+\u001b[39m\u001b[38;5;241m=\u001b[39m criterion(y_pred, y)\u001b[38;5;241m.\u001b[39mitem()\n\u001b[0;32m     12\u001b[0m all_preds\u001b[38;5;241m.\u001b[39mappend(y_pred\u001b[38;5;241m.\u001b[39margmax(dim\u001b[38;5;241m=\u001b[39m\u001b[38;5;241m1\u001b[39m)\u001b[38;5;241m.\u001b[39mcpu())\n",
      "File \u001b[1;32mc:\\Users\\tlc29\\Documents\\CS\\3A\\DLIP\\dlip-env\\lib\\site-packages\\torch\\nn\\modules\\module.py:1739\u001b[0m, in \u001b[0;36mModule._wrapped_call_impl\u001b[1;34m(self, *args, **kwargs)\u001b[0m\n\u001b[0;32m   1737\u001b[0m     \u001b[38;5;28;01mreturn\u001b[39;00m \u001b[38;5;28mself\u001b[39m\u001b[38;5;241m.\u001b[39m_compiled_call_impl(\u001b[38;5;241m*\u001b[39margs, \u001b[38;5;241m*\u001b[39m\u001b[38;5;241m*\u001b[39mkwargs)  \u001b[38;5;66;03m# type: ignore[misc]\u001b[39;00m\n\u001b[0;32m   1738\u001b[0m \u001b[38;5;28;01melse\u001b[39;00m:\n\u001b[1;32m-> 1739\u001b[0m     \u001b[38;5;28;01mreturn\u001b[39;00m \u001b[38;5;28mself\u001b[39m\u001b[38;5;241m.\u001b[39m_call_impl(\u001b[38;5;241m*\u001b[39margs, \u001b[38;5;241m*\u001b[39m\u001b[38;5;241m*\u001b[39mkwargs)\n",
      "File \u001b[1;32mc:\\Users\\tlc29\\Documents\\CS\\3A\\DLIP\\dlip-env\\lib\\site-packages\\torch\\nn\\modules\\module.py:1750\u001b[0m, in \u001b[0;36mModule._call_impl\u001b[1;34m(self, *args, **kwargs)\u001b[0m\n\u001b[0;32m   1745\u001b[0m \u001b[38;5;66;03m# If we don't have any hooks, we want to skip the rest of the logic in\u001b[39;00m\n\u001b[0;32m   1746\u001b[0m \u001b[38;5;66;03m# this function, and just call forward.\u001b[39;00m\n\u001b[0;32m   1747\u001b[0m \u001b[38;5;28;01mif\u001b[39;00m \u001b[38;5;129;01mnot\u001b[39;00m (\u001b[38;5;28mself\u001b[39m\u001b[38;5;241m.\u001b[39m_backward_hooks \u001b[38;5;129;01mor\u001b[39;00m \u001b[38;5;28mself\u001b[39m\u001b[38;5;241m.\u001b[39m_backward_pre_hooks \u001b[38;5;129;01mor\u001b[39;00m \u001b[38;5;28mself\u001b[39m\u001b[38;5;241m.\u001b[39m_forward_hooks \u001b[38;5;129;01mor\u001b[39;00m \u001b[38;5;28mself\u001b[39m\u001b[38;5;241m.\u001b[39m_forward_pre_hooks\n\u001b[0;32m   1748\u001b[0m         \u001b[38;5;129;01mor\u001b[39;00m _global_backward_pre_hooks \u001b[38;5;129;01mor\u001b[39;00m _global_backward_hooks\n\u001b[0;32m   1749\u001b[0m         \u001b[38;5;129;01mor\u001b[39;00m _global_forward_hooks \u001b[38;5;129;01mor\u001b[39;00m _global_forward_pre_hooks):\n\u001b[1;32m-> 1750\u001b[0m     \u001b[38;5;28;01mreturn\u001b[39;00m forward_call(\u001b[38;5;241m*\u001b[39margs, \u001b[38;5;241m*\u001b[39m\u001b[38;5;241m*\u001b[39mkwargs)\n\u001b[0;32m   1752\u001b[0m result \u001b[38;5;241m=\u001b[39m \u001b[38;5;28;01mNone\u001b[39;00m\n\u001b[0;32m   1753\u001b[0m called_always_called_hooks \u001b[38;5;241m=\u001b[39m \u001b[38;5;28mset\u001b[39m()\n",
      "Cell \u001b[1;32mIn[312], line 39\u001b[0m, in \u001b[0;36mLoRAResNet.forward\u001b[1;34m(self, x)\u001b[0m\n\u001b[0;32m     38\u001b[0m \u001b[38;5;28;01mdef\u001b[39;00m\u001b[38;5;250m \u001b[39m\u001b[38;5;21mforward\u001b[39m(\u001b[38;5;28mself\u001b[39m, x):\n\u001b[1;32m---> 39\u001b[0m     \u001b[38;5;28;01mreturn\u001b[39;00m \u001b[38;5;28;43mself\u001b[39;49m\u001b[38;5;241;43m.\u001b[39;49m\u001b[43mbase_model\u001b[49m\u001b[43m(\u001b[49m\u001b[43mx\u001b[49m\u001b[43m)\u001b[49m\n",
      "File \u001b[1;32mc:\\Users\\tlc29\\Documents\\CS\\3A\\DLIP\\dlip-env\\lib\\site-packages\\torch\\nn\\modules\\module.py:1739\u001b[0m, in \u001b[0;36mModule._wrapped_call_impl\u001b[1;34m(self, *args, **kwargs)\u001b[0m\n\u001b[0;32m   1737\u001b[0m     \u001b[38;5;28;01mreturn\u001b[39;00m \u001b[38;5;28mself\u001b[39m\u001b[38;5;241m.\u001b[39m_compiled_call_impl(\u001b[38;5;241m*\u001b[39margs, \u001b[38;5;241m*\u001b[39m\u001b[38;5;241m*\u001b[39mkwargs)  \u001b[38;5;66;03m# type: ignore[misc]\u001b[39;00m\n\u001b[0;32m   1738\u001b[0m \u001b[38;5;28;01melse\u001b[39;00m:\n\u001b[1;32m-> 1739\u001b[0m     \u001b[38;5;28;01mreturn\u001b[39;00m \u001b[38;5;28mself\u001b[39m\u001b[38;5;241m.\u001b[39m_call_impl(\u001b[38;5;241m*\u001b[39margs, \u001b[38;5;241m*\u001b[39m\u001b[38;5;241m*\u001b[39mkwargs)\n",
      "File \u001b[1;32mc:\\Users\\tlc29\\Documents\\CS\\3A\\DLIP\\dlip-env\\lib\\site-packages\\torch\\nn\\modules\\module.py:1750\u001b[0m, in \u001b[0;36mModule._call_impl\u001b[1;34m(self, *args, **kwargs)\u001b[0m\n\u001b[0;32m   1745\u001b[0m \u001b[38;5;66;03m# If we don't have any hooks, we want to skip the rest of the logic in\u001b[39;00m\n\u001b[0;32m   1746\u001b[0m \u001b[38;5;66;03m# this function, and just call forward.\u001b[39;00m\n\u001b[0;32m   1747\u001b[0m \u001b[38;5;28;01mif\u001b[39;00m \u001b[38;5;129;01mnot\u001b[39;00m (\u001b[38;5;28mself\u001b[39m\u001b[38;5;241m.\u001b[39m_backward_hooks \u001b[38;5;129;01mor\u001b[39;00m \u001b[38;5;28mself\u001b[39m\u001b[38;5;241m.\u001b[39m_backward_pre_hooks \u001b[38;5;129;01mor\u001b[39;00m \u001b[38;5;28mself\u001b[39m\u001b[38;5;241m.\u001b[39m_forward_hooks \u001b[38;5;129;01mor\u001b[39;00m \u001b[38;5;28mself\u001b[39m\u001b[38;5;241m.\u001b[39m_forward_pre_hooks\n\u001b[0;32m   1748\u001b[0m         \u001b[38;5;129;01mor\u001b[39;00m _global_backward_pre_hooks \u001b[38;5;129;01mor\u001b[39;00m _global_backward_hooks\n\u001b[0;32m   1749\u001b[0m         \u001b[38;5;129;01mor\u001b[39;00m _global_forward_hooks \u001b[38;5;129;01mor\u001b[39;00m _global_forward_pre_hooks):\n\u001b[1;32m-> 1750\u001b[0m     \u001b[38;5;28;01mreturn\u001b[39;00m forward_call(\u001b[38;5;241m*\u001b[39margs, \u001b[38;5;241m*\u001b[39m\u001b[38;5;241m*\u001b[39mkwargs)\n\u001b[0;32m   1752\u001b[0m result \u001b[38;5;241m=\u001b[39m \u001b[38;5;28;01mNone\u001b[39;00m\n\u001b[0;32m   1753\u001b[0m called_always_called_hooks \u001b[38;5;241m=\u001b[39m \u001b[38;5;28mset\u001b[39m()\n",
      "File \u001b[1;32mc:\\Users\\tlc29\\Documents\\CS\\3A\\DLIP\\dlip-env\\lib\\site-packages\\torchvision\\models\\resnet.py:285\u001b[0m, in \u001b[0;36mResNet.forward\u001b[1;34m(self, x)\u001b[0m\n\u001b[0;32m    284\u001b[0m \u001b[38;5;28;01mdef\u001b[39;00m\u001b[38;5;250m \u001b[39m\u001b[38;5;21mforward\u001b[39m(\u001b[38;5;28mself\u001b[39m, x: Tensor) \u001b[38;5;241m-\u001b[39m\u001b[38;5;241m>\u001b[39m Tensor:\n\u001b[1;32m--> 285\u001b[0m     \u001b[38;5;28;01mreturn\u001b[39;00m \u001b[38;5;28;43mself\u001b[39;49m\u001b[38;5;241;43m.\u001b[39;49m\u001b[43m_forward_impl\u001b[49m\u001b[43m(\u001b[49m\u001b[43mx\u001b[49m\u001b[43m)\u001b[49m\n",
      "File \u001b[1;32mc:\\Users\\tlc29\\Documents\\CS\\3A\\DLIP\\dlip-env\\lib\\site-packages\\torchvision\\models\\resnet.py:268\u001b[0m, in \u001b[0;36mResNet._forward_impl\u001b[1;34m(self, x)\u001b[0m\n\u001b[0;32m    266\u001b[0m \u001b[38;5;28;01mdef\u001b[39;00m\u001b[38;5;250m \u001b[39m\u001b[38;5;21m_forward_impl\u001b[39m(\u001b[38;5;28mself\u001b[39m, x: Tensor) \u001b[38;5;241m-\u001b[39m\u001b[38;5;241m>\u001b[39m Tensor:\n\u001b[0;32m    267\u001b[0m     \u001b[38;5;66;03m# See note [TorchScript super()]\u001b[39;00m\n\u001b[1;32m--> 268\u001b[0m     x \u001b[38;5;241m=\u001b[39m \u001b[38;5;28;43mself\u001b[39;49m\u001b[38;5;241;43m.\u001b[39;49m\u001b[43mconv1\u001b[49m\u001b[43m(\u001b[49m\u001b[43mx\u001b[49m\u001b[43m)\u001b[49m\n\u001b[0;32m    269\u001b[0m     x \u001b[38;5;241m=\u001b[39m \u001b[38;5;28mself\u001b[39m\u001b[38;5;241m.\u001b[39mbn1(x)\n\u001b[0;32m    270\u001b[0m     x \u001b[38;5;241m=\u001b[39m \u001b[38;5;28mself\u001b[39m\u001b[38;5;241m.\u001b[39mrelu(x)\n",
      "File \u001b[1;32mc:\\Users\\tlc29\\Documents\\CS\\3A\\DLIP\\dlip-env\\lib\\site-packages\\torch\\nn\\modules\\module.py:1739\u001b[0m, in \u001b[0;36mModule._wrapped_call_impl\u001b[1;34m(self, *args, **kwargs)\u001b[0m\n\u001b[0;32m   1737\u001b[0m     \u001b[38;5;28;01mreturn\u001b[39;00m \u001b[38;5;28mself\u001b[39m\u001b[38;5;241m.\u001b[39m_compiled_call_impl(\u001b[38;5;241m*\u001b[39margs, \u001b[38;5;241m*\u001b[39m\u001b[38;5;241m*\u001b[39mkwargs)  \u001b[38;5;66;03m# type: ignore[misc]\u001b[39;00m\n\u001b[0;32m   1738\u001b[0m \u001b[38;5;28;01melse\u001b[39;00m:\n\u001b[1;32m-> 1739\u001b[0m     \u001b[38;5;28;01mreturn\u001b[39;00m \u001b[38;5;28mself\u001b[39m\u001b[38;5;241m.\u001b[39m_call_impl(\u001b[38;5;241m*\u001b[39margs, \u001b[38;5;241m*\u001b[39m\u001b[38;5;241m*\u001b[39mkwargs)\n",
      "File \u001b[1;32mc:\\Users\\tlc29\\Documents\\CS\\3A\\DLIP\\dlip-env\\lib\\site-packages\\torch\\nn\\modules\\module.py:1750\u001b[0m, in \u001b[0;36mModule._call_impl\u001b[1;34m(self, *args, **kwargs)\u001b[0m\n\u001b[0;32m   1745\u001b[0m \u001b[38;5;66;03m# If we don't have any hooks, we want to skip the rest of the logic in\u001b[39;00m\n\u001b[0;32m   1746\u001b[0m \u001b[38;5;66;03m# this function, and just call forward.\u001b[39;00m\n\u001b[0;32m   1747\u001b[0m \u001b[38;5;28;01mif\u001b[39;00m \u001b[38;5;129;01mnot\u001b[39;00m (\u001b[38;5;28mself\u001b[39m\u001b[38;5;241m.\u001b[39m_backward_hooks \u001b[38;5;129;01mor\u001b[39;00m \u001b[38;5;28mself\u001b[39m\u001b[38;5;241m.\u001b[39m_backward_pre_hooks \u001b[38;5;129;01mor\u001b[39;00m \u001b[38;5;28mself\u001b[39m\u001b[38;5;241m.\u001b[39m_forward_hooks \u001b[38;5;129;01mor\u001b[39;00m \u001b[38;5;28mself\u001b[39m\u001b[38;5;241m.\u001b[39m_forward_pre_hooks\n\u001b[0;32m   1748\u001b[0m         \u001b[38;5;129;01mor\u001b[39;00m _global_backward_pre_hooks \u001b[38;5;129;01mor\u001b[39;00m _global_backward_hooks\n\u001b[0;32m   1749\u001b[0m         \u001b[38;5;129;01mor\u001b[39;00m _global_forward_hooks \u001b[38;5;129;01mor\u001b[39;00m _global_forward_pre_hooks):\n\u001b[1;32m-> 1750\u001b[0m     \u001b[38;5;28;01mreturn\u001b[39;00m forward_call(\u001b[38;5;241m*\u001b[39margs, \u001b[38;5;241m*\u001b[39m\u001b[38;5;241m*\u001b[39mkwargs)\n\u001b[0;32m   1752\u001b[0m result \u001b[38;5;241m=\u001b[39m \u001b[38;5;28;01mNone\u001b[39;00m\n\u001b[0;32m   1753\u001b[0m called_always_called_hooks \u001b[38;5;241m=\u001b[39m \u001b[38;5;28mset\u001b[39m()\n",
      "Cell \u001b[1;32mIn[312], line 12\u001b[0m, in \u001b[0;36mLoRAConv.forward\u001b[1;34m(self, x)\u001b[0m\n\u001b[0;32m     11\u001b[0m \u001b[38;5;28;01mdef\u001b[39;00m\u001b[38;5;250m \u001b[39m\u001b[38;5;21mforward\u001b[39m(\u001b[38;5;28mself\u001b[39m, x):\n\u001b[1;32m---> 12\u001b[0m     x \u001b[38;5;241m=\u001b[39m \u001b[38;5;28;43mself\u001b[39;49m\u001b[38;5;241;43m.\u001b[39;49m\u001b[43mconv1\u001b[49m\u001b[43m(\u001b[49m\u001b[43mx\u001b[49m\u001b[43m)\u001b[49m\n\u001b[0;32m     13\u001b[0m     x \u001b[38;5;241m=\u001b[39m \u001b[38;5;28mself\u001b[39m\u001b[38;5;241m.\u001b[39mconv2(x)\n\u001b[0;32m     14\u001b[0m     \u001b[38;5;28;01mreturn\u001b[39;00m x\n",
      "File \u001b[1;32mc:\\Users\\tlc29\\Documents\\CS\\3A\\DLIP\\dlip-env\\lib\\site-packages\\torch\\nn\\modules\\module.py:1739\u001b[0m, in \u001b[0;36mModule._wrapped_call_impl\u001b[1;34m(self, *args, **kwargs)\u001b[0m\n\u001b[0;32m   1737\u001b[0m     \u001b[38;5;28;01mreturn\u001b[39;00m \u001b[38;5;28mself\u001b[39m\u001b[38;5;241m.\u001b[39m_compiled_call_impl(\u001b[38;5;241m*\u001b[39margs, \u001b[38;5;241m*\u001b[39m\u001b[38;5;241m*\u001b[39mkwargs)  \u001b[38;5;66;03m# type: ignore[misc]\u001b[39;00m\n\u001b[0;32m   1738\u001b[0m \u001b[38;5;28;01melse\u001b[39;00m:\n\u001b[1;32m-> 1739\u001b[0m     \u001b[38;5;28;01mreturn\u001b[39;00m \u001b[38;5;28mself\u001b[39m\u001b[38;5;241m.\u001b[39m_call_impl(\u001b[38;5;241m*\u001b[39margs, \u001b[38;5;241m*\u001b[39m\u001b[38;5;241m*\u001b[39mkwargs)\n",
      "File \u001b[1;32mc:\\Users\\tlc29\\Documents\\CS\\3A\\DLIP\\dlip-env\\lib\\site-packages\\torch\\nn\\modules\\module.py:1750\u001b[0m, in \u001b[0;36mModule._call_impl\u001b[1;34m(self, *args, **kwargs)\u001b[0m\n\u001b[0;32m   1745\u001b[0m \u001b[38;5;66;03m# If we don't have any hooks, we want to skip the rest of the logic in\u001b[39;00m\n\u001b[0;32m   1746\u001b[0m \u001b[38;5;66;03m# this function, and just call forward.\u001b[39;00m\n\u001b[0;32m   1747\u001b[0m \u001b[38;5;28;01mif\u001b[39;00m \u001b[38;5;129;01mnot\u001b[39;00m (\u001b[38;5;28mself\u001b[39m\u001b[38;5;241m.\u001b[39m_backward_hooks \u001b[38;5;129;01mor\u001b[39;00m \u001b[38;5;28mself\u001b[39m\u001b[38;5;241m.\u001b[39m_backward_pre_hooks \u001b[38;5;129;01mor\u001b[39;00m \u001b[38;5;28mself\u001b[39m\u001b[38;5;241m.\u001b[39m_forward_hooks \u001b[38;5;129;01mor\u001b[39;00m \u001b[38;5;28mself\u001b[39m\u001b[38;5;241m.\u001b[39m_forward_pre_hooks\n\u001b[0;32m   1748\u001b[0m         \u001b[38;5;129;01mor\u001b[39;00m _global_backward_pre_hooks \u001b[38;5;129;01mor\u001b[39;00m _global_backward_hooks\n\u001b[0;32m   1749\u001b[0m         \u001b[38;5;129;01mor\u001b[39;00m _global_forward_hooks \u001b[38;5;129;01mor\u001b[39;00m _global_forward_pre_hooks):\n\u001b[1;32m-> 1750\u001b[0m     \u001b[38;5;28;01mreturn\u001b[39;00m forward_call(\u001b[38;5;241m*\u001b[39margs, \u001b[38;5;241m*\u001b[39m\u001b[38;5;241m*\u001b[39mkwargs)\n\u001b[0;32m   1752\u001b[0m result \u001b[38;5;241m=\u001b[39m \u001b[38;5;28;01mNone\u001b[39;00m\n\u001b[0;32m   1753\u001b[0m called_always_called_hooks \u001b[38;5;241m=\u001b[39m \u001b[38;5;28mset\u001b[39m()\n",
      "File \u001b[1;32mc:\\Users\\tlc29\\Documents\\CS\\3A\\DLIP\\dlip-env\\lib\\site-packages\\torch\\nn\\modules\\conv.py:554\u001b[0m, in \u001b[0;36mConv2d.forward\u001b[1;34m(self, input)\u001b[0m\n\u001b[0;32m    553\u001b[0m \u001b[38;5;28;01mdef\u001b[39;00m\u001b[38;5;250m \u001b[39m\u001b[38;5;21mforward\u001b[39m(\u001b[38;5;28mself\u001b[39m, \u001b[38;5;28minput\u001b[39m: Tensor) \u001b[38;5;241m-\u001b[39m\u001b[38;5;241m>\u001b[39m Tensor:\n\u001b[1;32m--> 554\u001b[0m     \u001b[38;5;28;01mreturn\u001b[39;00m \u001b[38;5;28;43mself\u001b[39;49m\u001b[38;5;241;43m.\u001b[39;49m\u001b[43m_conv_forward\u001b[49m\u001b[43m(\u001b[49m\u001b[38;5;28;43minput\u001b[39;49m\u001b[43m,\u001b[49m\u001b[43m \u001b[49m\u001b[38;5;28;43mself\u001b[39;49m\u001b[38;5;241;43m.\u001b[39;49m\u001b[43mweight\u001b[49m\u001b[43m,\u001b[49m\u001b[43m \u001b[49m\u001b[38;5;28;43mself\u001b[39;49m\u001b[38;5;241;43m.\u001b[39;49m\u001b[43mbias\u001b[49m\u001b[43m)\u001b[49m\n",
      "File \u001b[1;32mc:\\Users\\tlc29\\Documents\\CS\\3A\\DLIP\\dlip-env\\lib\\site-packages\\torch\\nn\\modules\\conv.py:549\u001b[0m, in \u001b[0;36mConv2d._conv_forward\u001b[1;34m(self, input, weight, bias)\u001b[0m\n\u001b[0;32m    537\u001b[0m \u001b[38;5;28;01mif\u001b[39;00m \u001b[38;5;28mself\u001b[39m\u001b[38;5;241m.\u001b[39mpadding_mode \u001b[38;5;241m!=\u001b[39m \u001b[38;5;124m\"\u001b[39m\u001b[38;5;124mzeros\u001b[39m\u001b[38;5;124m\"\u001b[39m:\n\u001b[0;32m    538\u001b[0m     \u001b[38;5;28;01mreturn\u001b[39;00m F\u001b[38;5;241m.\u001b[39mconv2d(\n\u001b[0;32m    539\u001b[0m         F\u001b[38;5;241m.\u001b[39mpad(\n\u001b[0;32m    540\u001b[0m             \u001b[38;5;28minput\u001b[39m, \u001b[38;5;28mself\u001b[39m\u001b[38;5;241m.\u001b[39m_reversed_padding_repeated_twice, mode\u001b[38;5;241m=\u001b[39m\u001b[38;5;28mself\u001b[39m\u001b[38;5;241m.\u001b[39mpadding_mode\n\u001b[1;32m   (...)\u001b[0m\n\u001b[0;32m    547\u001b[0m         \u001b[38;5;28mself\u001b[39m\u001b[38;5;241m.\u001b[39mgroups,\n\u001b[0;32m    548\u001b[0m     )\n\u001b[1;32m--> 549\u001b[0m \u001b[38;5;28;01mreturn\u001b[39;00m \u001b[43mF\u001b[49m\u001b[38;5;241;43m.\u001b[39;49m\u001b[43mconv2d\u001b[49m\u001b[43m(\u001b[49m\n\u001b[0;32m    550\u001b[0m \u001b[43m    \u001b[49m\u001b[38;5;28;43minput\u001b[39;49m\u001b[43m,\u001b[49m\u001b[43m \u001b[49m\u001b[43mweight\u001b[49m\u001b[43m,\u001b[49m\u001b[43m \u001b[49m\u001b[43mbias\u001b[49m\u001b[43m,\u001b[49m\u001b[43m \u001b[49m\u001b[38;5;28;43mself\u001b[39;49m\u001b[38;5;241;43m.\u001b[39;49m\u001b[43mstride\u001b[49m\u001b[43m,\u001b[49m\u001b[43m \u001b[49m\u001b[38;5;28;43mself\u001b[39;49m\u001b[38;5;241;43m.\u001b[39;49m\u001b[43mpadding\u001b[49m\u001b[43m,\u001b[49m\u001b[43m \u001b[49m\u001b[38;5;28;43mself\u001b[39;49m\u001b[38;5;241;43m.\u001b[39;49m\u001b[43mdilation\u001b[49m\u001b[43m,\u001b[49m\u001b[43m \u001b[49m\u001b[38;5;28;43mself\u001b[39;49m\u001b[38;5;241;43m.\u001b[39;49m\u001b[43mgroups\u001b[49m\n\u001b[0;32m    551\u001b[0m \u001b[43m\u001b[49m\u001b[43m)\u001b[49m\n",
      "\u001b[1;31mRuntimeError\u001b[0m: Expected 3D (unbatched) or 4D (batched) input to conv2d, but got input of size: [42, 512]"
     ]
    }
   ],
   "source": [
    "eval_model(lora_resnet, nn.BCELoss(), test_dataloader)"
   ]
  },
  {
   "cell_type": "code",
   "execution_count": null,
   "metadata": {
    "cell_ktag": "NlwqZF0IUj4b"
   },
   "outputs": [],
   "source": [
    "torch.save(lora_model.state_dict(), \"lora_resnet.pth\")"
   ]
  },
  {
   "cell_type": "markdown",
   "metadata": {
    "cell_ktag": "NlwqZF0IUj4b"
   },
   "source": [
    "## Question 5 : \n",
    "In order to better train our LORA weights, let's do some Data Augmentation https://en.wikipedia.org/wiki/Data_augmentation . Load some alteration of the data from the `torchvision.transforms` module and incorporate them in your training pipeline.\n",
    "\n",
    " Intermediate question : Check CutMix  (https://pytorch.org/vision/stable/auto_examples/transforms/plot_cutmix_mixup.html#sphx-glr-auto-examples-transforms-plot-cutmix-mixup-py) and explain it with a small drawing `cutmix.png`. \n",
    "\n",
    "\n",
    "  Provide one file : (https://pytorch.org/tutorials/beginner/saving_loading_models.html)\n",
    " -  a `daug_resnet.pth` file containing the weight of the ResNet18 after DAUG  (  !  It  has to be of the class ResNet so you have to merge LoRA weights with the ResNet18 weights)"
   ]
  },
  {
   "cell_type": "code",
   "execution_count": null,
   "metadata": {
    "cell_ktag": "NlwqZF0IUj4b"
   },
   "outputs": [],
   "source": [
    "## Data Augmentation\n",
    "from torchvision.transforms import v2"
   ]
  },
  {
   "cell_type": "code",
   "execution_count": null,
   "metadata": {
    "cell_ktag": "NlwqZF0IUj4b"
   },
   "outputs": [],
   "source": [
    "lora_model = NotImplementedError  # <YOUR CODE>\n",
    "assert isinstance(lora_model, models.ResNet)"
   ]
  },
  {
   "cell_type": "code",
   "execution_count": null,
   "metadata": {
    "cell_ktag": "NlwqZF0IUj4b"
   },
   "outputs": [],
   "source": [
    "torch.save(lora_model.state_dict(), \"daug_resnet.pth\")"
   ]
  },
  {
   "cell_type": "markdown",
   "metadata": {
    "cell_ktag": "NlwqZF0IUj4b"
   },
   "source": [
    "## Question 6 : (BONUS) \n",
    "> Do the best you can : improve performance on test set while keeping ResNet 18 architecture, or decrease the size of the model\n",
    "\n",
    "Provide a file  `final_model.pth` containing the weights of the final model and provide the class `FinalModel()` in the `utils.py` file. "
   ]
  },
  {
   "cell_type": "markdown",
   "metadata": {
    "cell_ktag": "NlwqZF0IUj4b"
   },
   "source": []
  }
 ],
 "metadata": {
  "kernelspec": {
   "display_name": "dlip-env",
   "language": "python",
   "name": "python3"
  },
  "kfiletag": "NlwqZF0IUj4b",
  "language_info": {
   "codemirror_mode": {
    "name": "ipython",
    "version": 3
   },
   "file_extension": ".py",
   "mimetype": "text/x-python",
   "name": "python",
   "nbconvert_exporter": "python",
   "pygments_lexer": "ipython3",
   "version": "3.9.7"
  }
 },
 "nbformat": 4,
 "nbformat_minor": 2
}
