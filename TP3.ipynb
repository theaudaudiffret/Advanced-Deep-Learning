{
  "cells": [
    {
      "cell_type": "markdown",
      "metadata": {
        "cell_ktag": "B+URKbY2kSgR",
        "id": "nlPNIOLc8pOY"
      },
      "source": [
        "# TP 3  : Graph Neural Networks Architecture\n",
        "\n",
        "**Théo Rudkiewicz, Cyriaque Rousselot**"
      ]
    },
    {
      "cell_type": "markdown",
      "metadata": {
        "cell_ktag": "B+URKbY2kSgR",
        "id": "ZxwTsp258pOa"
      },
      "source": [
        "# TUTORIAL"
      ]
    },
    {
      "cell_type": "markdown",
      "metadata": {
        "cell_ktag": "B+URKbY2kSgR",
        "id": "2Oz6XTMW8pOa"
      },
      "source": [
        "### Install Pytorch Geometric\n",
        "\n",
        "To handle graph data, we use the library Pytorch Geometric : https://pytorch-geometric.readthedocs.io/en/latest/\n",
        "\n",
        "*   If you use _Google Colab_, simply run the following cell to install Pytorch Geometric (**advised**).\n",
        "*   If you plan using your _own environment_, follow the documentation to install Pytorch Geometric : https://pytorch-geometric.readthedocs.io/en/latest/install/installation.html and skip the following cell."
      ]
    },
    {
      "cell_type": "code",
      "execution_count": 3,
      "metadata": {
        "cell_ktag": "B+URKbY2kSgR",
        "colab": {
          "base_uri": "https://localhost:8080/"
        },
        "id": "Sx5FrqLS8pOa",
        "outputId": "2b85e18b-b770-4b23-a6b2-38fab5294d1d"
      },
      "outputs": [
        {
          "output_type": "stream",
          "name": "stdout",
          "text": [
            "Looking in links: https://pytorch-geometric.com/whl/torch-2.5.1+cu124.html\n",
            "Collecting torch-scatter\n",
            "  Downloading https://data.pyg.org/whl/torch-2.5.0%2Bcu124/torch_scatter-2.1.2%2Bpt25cu124-cp311-cp311-linux_x86_64.whl (10.8 MB)\n",
            "\u001b[2K     \u001b[90m━━━━━━━━━━━━━━━━━━━━━━━━━━━━━━━━━━━━━━━━\u001b[0m \u001b[32m10.8/10.8 MB\u001b[0m \u001b[31m46.4 MB/s\u001b[0m eta \u001b[36m0:00:00\u001b[0m\n",
            "\u001b[?25hInstalling collected packages: torch-scatter\n",
            "Successfully installed torch-scatter-2.1.2+pt25cu124\n",
            "Looking in links: https://pytorch-geometric.com/whl/torch-2.5.1+cu124.html\n",
            "Collecting torch-sparse\n",
            "  Downloading https://data.pyg.org/whl/torch-2.5.0%2Bcu124/torch_sparse-0.6.18%2Bpt25cu124-cp311-cp311-linux_x86_64.whl (5.2 MB)\n",
            "\u001b[2K     \u001b[90m━━━━━━━━━━━━━━━━━━━━━━━━━━━━━━━━━━━━━━━━\u001b[0m \u001b[32m5.2/5.2 MB\u001b[0m \u001b[31m72.5 MB/s\u001b[0m eta \u001b[36m0:00:00\u001b[0m\n",
            "\u001b[?25hRequirement already satisfied: scipy in /usr/local/lib/python3.11/dist-packages (from torch-sparse) (1.13.1)\n",
            "Requirement already satisfied: numpy<2.3,>=1.22.4 in /usr/local/lib/python3.11/dist-packages (from scipy->torch-sparse) (1.26.4)\n",
            "Installing collected packages: torch-sparse\n",
            "Successfully installed torch-sparse-0.6.18+pt25cu124\n",
            "Looking in links: https://pytorch-geometric.com/whl/torch-2.5.1+cu124.html\n",
            "Collecting torch-cluster\n",
            "  Downloading https://data.pyg.org/whl/torch-2.5.0%2Bcu124/torch_cluster-1.6.3%2Bpt25cu124-cp311-cp311-linux_x86_64.whl (3.4 MB)\n",
            "\u001b[2K     \u001b[90m━━━━━━━━━━━━━━━━━━━━━━━━━━━━━━━━━━━━━━━━\u001b[0m \u001b[32m3.4/3.4 MB\u001b[0m \u001b[31m53.7 MB/s\u001b[0m eta \u001b[36m0:00:00\u001b[0m\n",
            "\u001b[?25hRequirement already satisfied: scipy in /usr/local/lib/python3.11/dist-packages (from torch-cluster) (1.13.1)\n",
            "Requirement already satisfied: numpy<2.3,>=1.22.4 in /usr/local/lib/python3.11/dist-packages (from scipy->torch-cluster) (1.26.4)\n",
            "Installing collected packages: torch-cluster\n",
            "Successfully installed torch-cluster-1.6.3+pt25cu124\n",
            "Looking in links: https://pytorch-geometric.com/whl/torch-2.5.1+cu124.html\n",
            "Collecting torch-spline-conv\n",
            "  Downloading https://data.pyg.org/whl/torch-2.5.0%2Bcu124/torch_spline_conv-1.2.2%2Bpt25cu124-cp311-cp311-linux_x86_64.whl (1.0 MB)\n",
            "\u001b[2K     \u001b[90m━━━━━━━━━━━━━━━━━━━━━━━━━━━━━━━━━━━━━━━━\u001b[0m \u001b[32m1.0/1.0 MB\u001b[0m \u001b[31m25.0 MB/s\u001b[0m eta \u001b[36m0:00:00\u001b[0m\n",
            "\u001b[?25hInstalling collected packages: torch-spline-conv\n",
            "Successfully installed torch-spline-conv-1.2.2+pt25cu124\n",
            "Collecting torch-geometric\n",
            "  Downloading torch_geometric-2.6.1-py3-none-any.whl.metadata (63 kB)\n",
            "\u001b[2K     \u001b[90m━━━━━━━━━━━━━━━━━━━━━━━━━━━━━━━━━━━━━━━━\u001b[0m \u001b[32m63.1/63.1 kB\u001b[0m \u001b[31m3.7 MB/s\u001b[0m eta \u001b[36m0:00:00\u001b[0m\n",
            "\u001b[?25hRequirement already satisfied: aiohttp in /usr/local/lib/python3.11/dist-packages (from torch-geometric) (3.11.13)\n",
            "Requirement already satisfied: fsspec in /usr/local/lib/python3.11/dist-packages (from torch-geometric) (2024.10.0)\n",
            "Requirement already satisfied: jinja2 in /usr/local/lib/python3.11/dist-packages (from torch-geometric) (3.1.5)\n",
            "Requirement already satisfied: numpy in /usr/local/lib/python3.11/dist-packages (from torch-geometric) (1.26.4)\n",
            "Requirement already satisfied: psutil>=5.8.0 in /usr/local/lib/python3.11/dist-packages (from torch-geometric) (5.9.5)\n",
            "Requirement already satisfied: pyparsing in /usr/local/lib/python3.11/dist-packages (from torch-geometric) (3.2.1)\n",
            "Requirement already satisfied: requests in /usr/local/lib/python3.11/dist-packages (from torch-geometric) (2.32.3)\n",
            "Requirement already satisfied: tqdm in /usr/local/lib/python3.11/dist-packages (from torch-geometric) (4.67.1)\n",
            "Requirement already satisfied: aiohappyeyeballs>=2.3.0 in /usr/local/lib/python3.11/dist-packages (from aiohttp->torch-geometric) (2.4.6)\n",
            "Requirement already satisfied: aiosignal>=1.1.2 in /usr/local/lib/python3.11/dist-packages (from aiohttp->torch-geometric) (1.3.2)\n",
            "Requirement already satisfied: attrs>=17.3.0 in /usr/local/lib/python3.11/dist-packages (from aiohttp->torch-geometric) (25.1.0)\n",
            "Requirement already satisfied: frozenlist>=1.1.1 in /usr/local/lib/python3.11/dist-packages (from aiohttp->torch-geometric) (1.5.0)\n",
            "Requirement already satisfied: multidict<7.0,>=4.5 in /usr/local/lib/python3.11/dist-packages (from aiohttp->torch-geometric) (6.1.0)\n",
            "Requirement already satisfied: propcache>=0.2.0 in /usr/local/lib/python3.11/dist-packages (from aiohttp->torch-geometric) (0.3.0)\n",
            "Requirement already satisfied: yarl<2.0,>=1.17.0 in /usr/local/lib/python3.11/dist-packages (from aiohttp->torch-geometric) (1.18.3)\n",
            "Requirement already satisfied: MarkupSafe>=2.0 in /usr/local/lib/python3.11/dist-packages (from jinja2->torch-geometric) (3.0.2)\n",
            "Requirement already satisfied: charset-normalizer<4,>=2 in /usr/local/lib/python3.11/dist-packages (from requests->torch-geometric) (3.4.1)\n",
            "Requirement already satisfied: idna<4,>=2.5 in /usr/local/lib/python3.11/dist-packages (from requests->torch-geometric) (3.10)\n",
            "Requirement already satisfied: urllib3<3,>=1.21.1 in /usr/local/lib/python3.11/dist-packages (from requests->torch-geometric) (2.3.0)\n",
            "Requirement already satisfied: certifi>=2017.4.17 in /usr/local/lib/python3.11/dist-packages (from requests->torch-geometric) (2025.1.31)\n",
            "Downloading torch_geometric-2.6.1-py3-none-any.whl (1.1 MB)\n",
            "\u001b[2K   \u001b[90m━━━━━━━━━━━━━━━━━━━━━━━━━━━━━━━━━━━━━━━━\u001b[0m \u001b[32m1.1/1.1 MB\u001b[0m \u001b[31m39.7 MB/s\u001b[0m eta \u001b[36m0:00:00\u001b[0m\n",
            "\u001b[?25hInstalling collected packages: torch-geometric\n",
            "Successfully installed torch-geometric-2.6.1\n"
          ]
        }
      ],
      "source": [
        "########## INSTALL TORCH GEOMETRIC ##################\n",
        "# https://pytorch-geometric.readthedocs.io/en/latest/\n",
        "#####################################################\n",
        "import torch\n",
        "\n",
        "\n",
        "def format_pytorch_version(version):\n",
        "    return version.split(\"+\")[0]\n",
        "\n",
        "\n",
        "TORCH_version = torch.__version__\n",
        "TORCH = format_pytorch_version(TORCH_version)\n",
        "\n",
        "\n",
        "def format_cuda_version(version):\n",
        "    return \"cu\" + version.replace(\".\", \"\")\n",
        "\n",
        "\n",
        "CUDA_version = torch.version.cuda\n",
        "CUDA = format_cuda_version(CUDA_version)\n",
        "\n",
        "!pip install torch-scatter     -f https://pytorch-geometric.com/whl/torch-{TORCH}+{CUDA}.html\n",
        "!pip install torch-sparse      -f https://pytorch-geometric.com/whl/torch-{TORCH}+{CUDA}.html\n",
        "!pip install torch-cluster     -f https://pytorch-geometric.com/whl/torch-{TORCH}+{CUDA}.html\n",
        "!pip install torch-spline-conv -f https://pytorch-geometric.com/whl/torch-{TORCH}+{CUDA}.html\n",
        "!pip install torch-geometric\n"
      ]
    },
    {
      "cell_type": "markdown",
      "metadata": {
        "cell_ktag": "B+URKbY2kSgR",
        "id": "IQd8x6Zu8pOb"
      },
      "source": [
        "### Import required packages\n",
        "\n",
        "Run the following cell to import all required packages. This cell **must not** be modified.\n",
        "\n",
        "To significantly accelerate your training, it is advised to use GPU. Using Google Colab, you need to activate it :\n",
        "\n",
        "*   Edit --> Notebook Setting --> Hardware accelerator --> GPU"
      ]
    },
    {
      "cell_type": "code",
      "execution_count": 4,
      "metadata": {
        "cell_ktag": "B+URKbY2kSgR",
        "id": "ubGE1jLC8pOb"
      },
      "outputs": [],
      "source": [
        "#####################################################\n",
        "################## PACKAGES #########################\n",
        "#####################################################\n",
        "import numpy as np\n",
        "import matplotlib.pyplot as plt\n",
        "\n",
        "import torch\n",
        "import torch.nn as nn\n",
        "import torch_geometric.nn as graphnn\n",
        "from sklearn.metrics import f1_score\n",
        "from torch_geometric.datasets import PPI\n",
        "from torch_geometric.loader import DataLoader"
      ]
    },
    {
      "cell_type": "markdown",
      "metadata": {
        "cell_ktag": "B+URKbY2kSgR",
        "id": "rv3mIdLo8pOb"
      },
      "source": [
        "### Dataset\n",
        "\n",
        "We use the Protein-Protein Interaction (PPI) network dataset which includes:\n",
        "- 20 graphs for training\n",
        "- 2 graphs for validation\n",
        "- 2 graphs for testing\n",
        "\n",
        "One graph of the PPI dataset has on average 2372 nodes. Each node has:\n",
        "- 50 features : positional gene sets / motif gene / immunological signatures ...\n",
        "- 121 (binary) labels : gene ontology sets (way to classify gene products like proteins).\n",
        "\n",
        "**This problem aims to predict, for a given PPI graph, the correct nodes' labels**.\n",
        "\n",
        "**It is a node (multi-label) classification task** (trained using supervised learning, with labels to be predicted for each node).\n",
        "\n",
        "For your curiosity, more detailed information on the dataset and some applications:\n",
        "- https://cs.stanford.edu/~jure/pubs/pathways-psb18.pdf\n",
        "- https://arxiv.org/abs/1707.04638\n",
        "\n",
        "To understand how a graph data is implemented in Pytorch Geometric, refer to : https://pytorch-geometric.readthedocs.io/en/latest/get_started/introduction.html\n"
      ]
    },
    {
      "cell_type": "code",
      "execution_count": 5,
      "metadata": {
        "cell_ktag": "B+URKbY2kSgR",
        "colab": {
          "base_uri": "https://localhost:8080/"
        },
        "id": "x2kj46KU8pOc",
        "outputId": "c2c192de-660d-43fb-f409-a012cdaa0474"
      },
      "outputs": [
        {
          "output_type": "stream",
          "name": "stderr",
          "text": [
            "Downloading https://data.dgl.ai/dataset/ppi.zip\n",
            "Extracting ./ppi.zip\n",
            "Processing...\n",
            "/usr/local/lib/python3.11/dist-packages/networkx/readwrite/json_graph/node_link.py:287: FutureWarning: \n",
            "The default value will be changed to `edges=\"edges\" in NetworkX 3.6.\n",
            "\n",
            "To make this warning go away, explicitly set the edges kwarg, e.g.:\n",
            "\n",
            "  nx.node_link_graph(data, edges=\"links\") to preserve current behavior, or\n",
            "  nx.node_link_graph(data, edges=\"edges\") for forward compatibility.\n",
            "  warnings.warn(\n"
          ]
        },
        {
          "output_type": "stream",
          "name": "stdout",
          "text": [
            "Number of samples in the train dataset:  20\n",
            "Number of samples in the val dataset:  2\n",
            "Number of samples in the test dataset:  2\n",
            "Output of one sample from the train dataset:  Data(x=[1767, 50], edge_index=[2, 32318], y=[1767, 121])\n",
            "Edge_index :\n",
            "tensor([[   0,    0,    0,  ..., 1744, 1745, 1749],\n",
            "        [ 372, 1101,  766,  ..., 1745, 1744, 1739]])\n",
            "Number of features per node:  50\n",
            "Number of classes per node:  121\n"
          ]
        },
        {
          "output_type": "stream",
          "name": "stderr",
          "text": [
            "Done!\n"
          ]
        }
      ],
      "source": [
        "### LOAD DATASETS\n",
        "\n",
        "BATCH_SIZE = 2\n",
        "\n",
        "# Train Dataset\n",
        "train_dataset = PPI(root=\"\", split=\"train\")\n",
        "train_dataloader = DataLoader(train_dataset, batch_size=BATCH_SIZE)\n",
        "# Val Dataset\n",
        "val_dataset = PPI(root=\"\", split=\"val\")\n",
        "val_dataloader = DataLoader(val_dataset, batch_size=BATCH_SIZE)\n",
        "# Test Dataset\n",
        "test_dataset = PPI(root=\"\", split=\"test\")\n",
        "test_dataloader = DataLoader(test_dataset, batch_size=BATCH_SIZE)\n",
        "\n",
        "# Number of features and classes\n",
        "n_features, n_classes = train_dataset[0].x.shape[1], train_dataset[0].y.shape[1]\n",
        "\n",
        "print(\"Number of samples in the train dataset: \", len(train_dataset))\n",
        "print(\"Number of samples in the val dataset: \", len(test_dataset))\n",
        "print(\"Number of samples in the test dataset: \", len(test_dataset))\n",
        "print(\"Output of one sample from the train dataset: \", train_dataset[0])\n",
        "print(\"Edge_index :\")\n",
        "print(train_dataset[0].edge_index)\n",
        "print(\"Number of features per node: \", n_features)\n",
        "print(\"Number of classes per node: \", n_classes)"
      ]
    },
    {
      "cell_type": "markdown",
      "metadata": {
        "cell_ktag": "B+URKbY2kSgR",
        "id": "IK8FDAm_8pOc"
      },
      "source": [
        "### Define a basic Model"
      ]
    },
    {
      "cell_type": "markdown",
      "metadata": {
        "cell_ktag": "B+URKbY2kSgR",
        "id": "v8gQJcLE8pOc"
      },
      "source": [
        "Here we define a very simple Graph Neural Network model which will be used as our baseline. This model consists of three graph convolutional layers (from https://arxiv.org/pdf/1609.02907.pdf). The first two layers computes 256 features, followed by an ELU activation function. The last layer is used for (multi-label) classification task, computing 121 features (for each node)."
      ]
    },
    {
      "cell_type": "code",
      "execution_count": 6,
      "metadata": {
        "cell_ktag": "B+URKbY2kSgR",
        "id": "V9tPS9pQ8pOc"
      },
      "outputs": [],
      "source": [
        "#####################################################\n",
        "################## MODEL ############################\n",
        "#####################################################\n",
        "class BasicGraphModel(nn.Module):\n",
        "    def __init__(self, input_size, hidden_size, output_size):\n",
        "        super().__init__()\n",
        "\n",
        "        self.graphconv1 = graphnn.GCNConv(input_size, hidden_size)\n",
        "        self.graphconv2 = graphnn.GCNConv(hidden_size, hidden_size)\n",
        "        self.graphconv3 = graphnn.GCNConv(hidden_size, output_size)\n",
        "\n",
        "        self.elu = nn.ELU()\n",
        "\n",
        "    def forward(self, x, edge_index):\n",
        "        x = self.graphconv1(x, edge_index)\n",
        "        x = self.elu(x)\n",
        "        x = self.graphconv2(x, edge_index)\n",
        "        x = self.elu(x)\n",
        "        x = self.graphconv3(x, edge_index)\n",
        "\n",
        "        return x"
      ]
    },
    {
      "cell_type": "markdown",
      "metadata": {
        "cell_ktag": "B+URKbY2kSgR",
        "id": "s8HN5KXY8pOd"
      },
      "source": [
        "Next function is designed to evaluate the performance of the model, computing the F1-Score"
      ]
    },
    {
      "cell_type": "code",
      "execution_count": 7,
      "metadata": {
        "cell_ktag": "B+URKbY2kSgR",
        "id": "pjeJj6C98pOd"
      },
      "outputs": [],
      "source": [
        "#####################################################\n",
        "############### TEST FUNCTION #######################\n",
        "#####################################################\n",
        "def evaluate(model, loss_fcn, device, dataloader):\n",
        "    score_list_batch = []\n",
        "\n",
        "    model.eval()\n",
        "    for i, batch in enumerate(dataloader):\n",
        "        batch = batch.to(device)\n",
        "        output = model(batch.x, batch.edge_index)\n",
        "        loss_test = loss_fcn(output, batch.y)\n",
        "        predict = np.where(output.detach().cpu().numpy() >= 0, 1, 0)\n",
        "        score = f1_score(batch.y.cpu().numpy(), predict, average=\"micro\")\n",
        "        score_list_batch.append(score)\n",
        "\n",
        "    return np.array(score_list_batch).mean()"
      ]
    },
    {
      "cell_type": "markdown",
      "metadata": {
        "cell_ktag": "B+URKbY2kSgR",
        "id": "-NZgavv88pOd"
      },
      "source": [
        "Next we construct the function to train the model."
      ]
    },
    {
      "cell_type": "code",
      "execution_count": 8,
      "metadata": {
        "cell_ktag": "B+URKbY2kSgR",
        "id": "fbTQE-Qi8pOd"
      },
      "outputs": [],
      "source": [
        "#####################################################\n",
        "############## TRAIN FUNCTION #######################\n",
        "#####################################################\n",
        "def train(model, loss_fcn, device, optimizer, max_epochs, train_dataloader, val_dataloader):\n",
        "    epoch_list = []\n",
        "    scores_list = []\n",
        "\n",
        "    # loop over epochs\n",
        "    for epoch in range(max_epochs):\n",
        "        model.train()\n",
        "        losses = []\n",
        "        # loop over batches\n",
        "        for i, train_batch in enumerate(train_dataloader):\n",
        "            optimizer.zero_grad()\n",
        "            train_batch_device = train_batch.to(device)\n",
        "            # logits is the output of the model\n",
        "            logits = model(train_batch_device.x, train_batch_device.edge_index)\n",
        "            # compute the loss\n",
        "            loss = loss_fcn(logits, train_batch_device.y)\n",
        "            # optimizer step\n",
        "            loss.backward()\n",
        "            optimizer.step()\n",
        "            losses.append(loss.item())\n",
        "        loss_data = np.array(losses).mean()\n",
        "        print(\"Epoch {:05d} | Loss: {:.4f}\".format(epoch + 1, loss_data))\n",
        "\n",
        "        if epoch % 5 == 0:\n",
        "            # evaluate the model on the validation set\n",
        "            # computes the f1-score (see next function)\n",
        "            score = evaluate(model, loss_fcn, device, val_dataloader)\n",
        "            print(\"F1-Score: {:.4f}\".format(score))\n",
        "            scores_list.append(score)\n",
        "            epoch_list.append(epoch)\n",
        "\n",
        "    return epoch_list, scores_list"
      ]
    },
    {
      "cell_type": "markdown",
      "metadata": {
        "cell_ktag": "B+URKbY2kSgR",
        "id": "gq6fJJ848pOd"
      },
      "source": [
        "Let's train this model !"
      ]
    },
    {
      "cell_type": "code",
      "execution_count": null,
      "metadata": {
        "cell_ktag": "B+URKbY2kSgR",
        "id": "eYT6nBli8pOd",
        "outputId": "8165b112-75fd-435b-e7bf-3d1a8f5f9453"
      },
      "outputs": [
        {
          "name": "stdout",
          "output_type": "stream",
          "text": [
            "\n",
            "Device:  cpu\n",
            "Epoch 00001 | Loss: 0.6362\n",
            "F1-Score: 0.4539\n",
            "Epoch 00002 | Loss: 0.5800\n",
            "Epoch 00003 | Loss: 0.5618\n",
            "Epoch 00004 | Loss: 0.5552\n",
            "Epoch 00005 | Loss: 0.5504\n",
            "Epoch 00006 | Loss: 0.5456\n",
            "F1-Score: 0.4971\n",
            "Epoch 00007 | Loss: 0.5412\n",
            "Epoch 00008 | Loss: 0.5373\n",
            "Epoch 00009 | Loss: 0.5341\n",
            "Epoch 00010 | Loss: 0.5313\n",
            "Epoch 00011 | Loss: 0.5288\n",
            "F1-Score: 0.5275\n",
            "Epoch 00012 | Loss: 0.5262\n",
            "Epoch 00013 | Loss: 0.5236\n",
            "Epoch 00014 | Loss: 0.5211\n",
            "Epoch 00015 | Loss: 0.5188\n",
            "Epoch 00016 | Loss: 0.5166\n",
            "F1-Score: 0.5230\n",
            "Epoch 00017 | Loss: 0.5143\n",
            "Epoch 00018 | Loss: 0.5121\n",
            "Epoch 00019 | Loss: 0.5098\n",
            "Epoch 00020 | Loss: 0.5075\n",
            "Epoch 00021 | Loss: 0.5052\n",
            "F1-Score: 0.5213\n",
            "Epoch 00022 | Loss: 0.5029\n",
            "Epoch 00023 | Loss: 0.5008\n",
            "Epoch 00024 | Loss: 0.4988\n",
            "Epoch 00025 | Loss: 0.4968\n",
            "Epoch 00026 | Loss: 0.4949\n",
            "F1-Score: 0.5388\n",
            "Epoch 00027 | Loss: 0.4929\n",
            "Epoch 00028 | Loss: 0.4911\n",
            "Epoch 00029 | Loss: 0.4891\n",
            "Epoch 00030 | Loss: 0.4874\n",
            "Epoch 00031 | Loss: 0.4855\n",
            "F1-Score: 0.5560\n",
            "Epoch 00032 | Loss: 0.4838\n",
            "Epoch 00033 | Loss: 0.4820\n",
            "Epoch 00034 | Loss: 0.4805\n",
            "Epoch 00035 | Loss: 0.4789\n",
            "Epoch 00036 | Loss: 0.4774\n",
            "F1-Score: 0.5732\n",
            "Epoch 00037 | Loss: 0.4761\n",
            "Epoch 00038 | Loss: 0.4747\n",
            "Epoch 00039 | Loss: 0.4736\n",
            "Epoch 00040 | Loss: 0.4727\n",
            "Epoch 00041 | Loss: 0.4719\n",
            "F1-Score: 0.5678\n",
            "Epoch 00042 | Loss: 0.4701\n",
            "Epoch 00043 | Loss: 0.4692\n",
            "Epoch 00044 | Loss: 0.4680\n",
            "Epoch 00045 | Loss: 0.4663\n",
            "Epoch 00046 | Loss: 0.4651\n",
            "F1-Score: 0.5903\n",
            "Epoch 00047 | Loss: 0.4647\n",
            "Epoch 00048 | Loss: 0.4625\n",
            "Epoch 00049 | Loss: 0.4612\n",
            "Epoch 00050 | Loss: 0.4605\n",
            "Epoch 00051 | Loss: 0.4604\n",
            "F1-Score: 0.5846\n",
            "Epoch 00052 | Loss: 0.4586\n",
            "Epoch 00053 | Loss: 0.4580\n",
            "Epoch 00054 | Loss: 0.4565\n",
            "Epoch 00055 | Loss: 0.4569\n",
            "Epoch 00056 | Loss: 0.4564\n",
            "F1-Score: 0.6059\n",
            "Epoch 00057 | Loss: 0.4566\n",
            "Epoch 00058 | Loss: 0.4548\n",
            "Epoch 00059 | Loss: 0.4547\n",
            "Epoch 00060 | Loss: 0.4530\n",
            "Epoch 00061 | Loss: 0.4525\n",
            "F1-Score: 0.6057\n",
            "Epoch 00062 | Loss: 0.4525\n",
            "Epoch 00063 | Loss: 0.4520\n",
            "Epoch 00064 | Loss: 0.4515\n",
            "Epoch 00065 | Loss: 0.4545\n",
            "Epoch 00066 | Loss: 0.4539\n",
            "F1-Score: 0.5768\n",
            "Epoch 00067 | Loss: 0.4513\n",
            "Epoch 00068 | Loss: 0.4494\n",
            "Epoch 00069 | Loss: 0.4472\n",
            "Epoch 00070 | Loss: 0.4457\n",
            "Epoch 00071 | Loss: 0.4439\n",
            "F1-Score: 0.5798\n",
            "Epoch 00072 | Loss: 0.4432\n",
            "Epoch 00073 | Loss: 0.4423\n",
            "Epoch 00074 | Loss: 0.4412\n",
            "Epoch 00075 | Loss: 0.4405\n",
            "Epoch 00076 | Loss: 0.4403\n",
            "F1-Score: 0.5944\n",
            "Epoch 00077 | Loss: 0.4407\n",
            "Epoch 00078 | Loss: 0.4416\n",
            "Epoch 00079 | Loss: 0.4412\n",
            "Epoch 00080 | Loss: 0.4407\n",
            "Epoch 00081 | Loss: 0.4395\n",
            "F1-Score: 0.6041\n",
            "Epoch 00082 | Loss: 0.4400\n",
            "Epoch 00083 | Loss: 0.4388\n",
            "Epoch 00084 | Loss: 0.4383\n",
            "Epoch 00085 | Loss: 0.4381\n",
            "Epoch 00086 | Loss: 0.4364\n",
            "F1-Score: 0.5962\n",
            "Epoch 00087 | Loss: 0.4351\n",
            "Epoch 00088 | Loss: 0.4342\n",
            "Epoch 00089 | Loss: 0.4335\n",
            "Epoch 00090 | Loss: 0.4325\n",
            "Epoch 00091 | Loss: 0.4314\n",
            "F1-Score: 0.6175\n",
            "Epoch 00092 | Loss: 0.4310\n",
            "Epoch 00093 | Loss: 0.4299\n",
            "Epoch 00094 | Loss: 0.4292\n",
            "Epoch 00095 | Loss: 0.4283\n",
            "Epoch 00096 | Loss: 0.4282\n",
            "F1-Score: 0.6188\n",
            "Epoch 00097 | Loss: 0.4277\n",
            "Epoch 00098 | Loss: 0.4278\n",
            "Epoch 00099 | Loss: 0.4275\n",
            "Epoch 00100 | Loss: 0.4293\n",
            "Epoch 00101 | Loss: 0.4292\n",
            "F1-Score: 0.6033\n",
            "Epoch 00102 | Loss: 0.4294\n",
            "Epoch 00103 | Loss: 0.4302\n",
            "Epoch 00104 | Loss: 0.4296\n",
            "Epoch 00105 | Loss: 0.4287\n",
            "Epoch 00106 | Loss: 0.4270\n",
            "F1-Score: 0.6220\n",
            "Epoch 00107 | Loss: 0.4276\n",
            "Epoch 00108 | Loss: 0.4277\n",
            "Epoch 00109 | Loss: 0.4273\n",
            "Epoch 00110 | Loss: 0.4260\n",
            "Epoch 00111 | Loss: 0.4240\n",
            "F1-Score: 0.6048\n",
            "Epoch 00112 | Loss: 0.4249\n",
            "Epoch 00113 | Loss: 0.4245\n",
            "Epoch 00114 | Loss: 0.4250\n",
            "Epoch 00115 | Loss: 0.4253\n",
            "Epoch 00116 | Loss: 0.4234\n",
            "F1-Score: 0.6002\n",
            "Epoch 00117 | Loss: 0.4224\n",
            "Epoch 00118 | Loss: 0.4241\n",
            "Epoch 00119 | Loss: 0.4255\n",
            "Epoch 00120 | Loss: 0.4235\n",
            "Epoch 00121 | Loss: 0.4247\n",
            "F1-Score: 0.6101\n",
            "Epoch 00122 | Loss: 0.4273\n",
            "Epoch 00123 | Loss: 0.4264\n",
            "Epoch 00124 | Loss: 0.4262\n",
            "Epoch 00125 | Loss: 0.4257\n",
            "Epoch 00126 | Loss: 0.4251\n",
            "F1-Score: 0.6191\n",
            "Epoch 00127 | Loss: 0.4264\n",
            "Epoch 00128 | Loss: 0.4240\n",
            "Epoch 00129 | Loss: 0.4232\n",
            "Epoch 00130 | Loss: 0.4233\n",
            "Epoch 00131 | Loss: 0.4221\n",
            "F1-Score: 0.6083\n",
            "Epoch 00132 | Loss: 0.4236\n",
            "Epoch 00133 | Loss: 0.4197\n",
            "Epoch 00134 | Loss: 0.4188\n",
            "Epoch 00135 | Loss: 0.4194\n",
            "Epoch 00136 | Loss: 0.4192\n",
            "F1-Score: 0.6127\n",
            "Epoch 00137 | Loss: 0.4179\n",
            "Epoch 00138 | Loss: 0.4173\n",
            "Epoch 00139 | Loss: 0.4157\n",
            "Epoch 00140 | Loss: 0.4150\n",
            "Epoch 00141 | Loss: 0.4137\n",
            "F1-Score: 0.6432\n",
            "Epoch 00142 | Loss: 0.4155\n",
            "Epoch 00143 | Loss: 0.4160\n",
            "Epoch 00144 | Loss: 0.4176\n",
            "Epoch 00145 | Loss: 0.4199\n",
            "Epoch 00146 | Loss: 0.4184\n",
            "F1-Score: 0.5914\n",
            "Epoch 00147 | Loss: 0.4234\n",
            "Epoch 00148 | Loss: 0.4211\n"
          ]
        },
        {
          "ename": "KeyboardInterrupt",
          "evalue": "",
          "output_type": "error",
          "traceback": [
            "\u001b[1;31m---------------------------------------------------------------------------\u001b[0m",
            "\u001b[1;31mKeyboardInterrupt\u001b[0m                         Traceback (most recent call last)",
            "Cell \u001b[1;32mIn[11], line 20\u001b[0m\n\u001b[0;32m     17\u001b[0m optimizer \u001b[38;5;241m=\u001b[39m torch\u001b[38;5;241m.\u001b[39moptim\u001b[38;5;241m.\u001b[39mAdam(basic_model\u001b[38;5;241m.\u001b[39mparameters(), lr\u001b[38;5;241m=\u001b[39m\u001b[38;5;241m0.005\u001b[39m)\n\u001b[0;32m     19\u001b[0m \u001b[38;5;66;03m### TRAIN THE MODEL\u001b[39;00m\n\u001b[1;32m---> 20\u001b[0m epoch_list, basic_model_scores \u001b[38;5;241m=\u001b[39m \u001b[43mtrain\u001b[49m\u001b[43m(\u001b[49m\n\u001b[0;32m     21\u001b[0m \u001b[43m    \u001b[49m\u001b[43mbasic_model\u001b[49m\u001b[43m,\u001b[49m\n\u001b[0;32m     22\u001b[0m \u001b[43m    \u001b[49m\u001b[43mloss_fcn\u001b[49m\u001b[43m,\u001b[49m\n\u001b[0;32m     23\u001b[0m \u001b[43m    \u001b[49m\u001b[43mdevice\u001b[49m\u001b[43m,\u001b[49m\n\u001b[0;32m     24\u001b[0m \u001b[43m    \u001b[49m\u001b[43moptimizer\u001b[49m\u001b[43m,\u001b[49m\n\u001b[0;32m     25\u001b[0m \u001b[43m    \u001b[49m\u001b[43mmax_epochs\u001b[49m\u001b[43m,\u001b[49m\n\u001b[0;32m     26\u001b[0m \u001b[43m    \u001b[49m\u001b[43mtrain_dataloader\u001b[49m\u001b[43m,\u001b[49m\n\u001b[0;32m     27\u001b[0m \u001b[43m    \u001b[49m\u001b[43mval_dataloader\u001b[49m\u001b[43m,\u001b[49m\n\u001b[0;32m     28\u001b[0m \u001b[43m)\u001b[49m\n",
            "Cell \u001b[1;32mIn[6], line 21\u001b[0m, in \u001b[0;36mtrain\u001b[1;34m(model, loss_fcn, device, optimizer, max_epochs, train_dataloader, val_dataloader)\u001b[0m\n\u001b[0;32m     19\u001b[0m loss \u001b[38;5;241m=\u001b[39m loss_fcn(logits, train_batch_device\u001b[38;5;241m.\u001b[39my)\n\u001b[0;32m     20\u001b[0m \u001b[38;5;66;03m# optimizer step\u001b[39;00m\n\u001b[1;32m---> 21\u001b[0m \u001b[43mloss\u001b[49m\u001b[38;5;241;43m.\u001b[39;49m\u001b[43mbackward\u001b[49m\u001b[43m(\u001b[49m\u001b[43m)\u001b[49m\n\u001b[0;32m     22\u001b[0m optimizer\u001b[38;5;241m.\u001b[39mstep()\n\u001b[0;32m     23\u001b[0m losses\u001b[38;5;241m.\u001b[39mappend(loss\u001b[38;5;241m.\u001b[39mitem())\n",
            "File \u001b[1;32mc:\\Users\\tlc29\\Documents\\CS\\3A\\DLIP\\dlip-env\\lib\\site-packages\\torch\\_tensor.py:626\u001b[0m, in \u001b[0;36mTensor.backward\u001b[1;34m(self, gradient, retain_graph, create_graph, inputs)\u001b[0m\n\u001b[0;32m    616\u001b[0m \u001b[38;5;28;01mif\u001b[39;00m has_torch_function_unary(\u001b[38;5;28mself\u001b[39m):\n\u001b[0;32m    617\u001b[0m     \u001b[38;5;28;01mreturn\u001b[39;00m handle_torch_function(\n\u001b[0;32m    618\u001b[0m         Tensor\u001b[38;5;241m.\u001b[39mbackward,\n\u001b[0;32m    619\u001b[0m         (\u001b[38;5;28mself\u001b[39m,),\n\u001b[1;32m   (...)\u001b[0m\n\u001b[0;32m    624\u001b[0m         inputs\u001b[38;5;241m=\u001b[39minputs,\n\u001b[0;32m    625\u001b[0m     )\n\u001b[1;32m--> 626\u001b[0m \u001b[43mtorch\u001b[49m\u001b[38;5;241;43m.\u001b[39;49m\u001b[43mautograd\u001b[49m\u001b[38;5;241;43m.\u001b[39;49m\u001b[43mbackward\u001b[49m\u001b[43m(\u001b[49m\n\u001b[0;32m    627\u001b[0m \u001b[43m    \u001b[49m\u001b[38;5;28;43mself\u001b[39;49m\u001b[43m,\u001b[49m\u001b[43m \u001b[49m\u001b[43mgradient\u001b[49m\u001b[43m,\u001b[49m\u001b[43m \u001b[49m\u001b[43mretain_graph\u001b[49m\u001b[43m,\u001b[49m\u001b[43m \u001b[49m\u001b[43mcreate_graph\u001b[49m\u001b[43m,\u001b[49m\u001b[43m \u001b[49m\u001b[43minputs\u001b[49m\u001b[38;5;241;43m=\u001b[39;49m\u001b[43minputs\u001b[49m\n\u001b[0;32m    628\u001b[0m \u001b[43m\u001b[49m\u001b[43m)\u001b[49m\n",
            "File \u001b[1;32mc:\\Users\\tlc29\\Documents\\CS\\3A\\DLIP\\dlip-env\\lib\\site-packages\\torch\\autograd\\__init__.py:347\u001b[0m, in \u001b[0;36mbackward\u001b[1;34m(tensors, grad_tensors, retain_graph, create_graph, grad_variables, inputs)\u001b[0m\n\u001b[0;32m    342\u001b[0m     retain_graph \u001b[38;5;241m=\u001b[39m create_graph\n\u001b[0;32m    344\u001b[0m \u001b[38;5;66;03m# The reason we repeat the same comment below is that\u001b[39;00m\n\u001b[0;32m    345\u001b[0m \u001b[38;5;66;03m# some Python versions print out the first line of a multi-line function\u001b[39;00m\n\u001b[0;32m    346\u001b[0m \u001b[38;5;66;03m# calls in the traceback and some print out the last line\u001b[39;00m\n\u001b[1;32m--> 347\u001b[0m \u001b[43m_engine_run_backward\u001b[49m\u001b[43m(\u001b[49m\n\u001b[0;32m    348\u001b[0m \u001b[43m    \u001b[49m\u001b[43mtensors\u001b[49m\u001b[43m,\u001b[49m\n\u001b[0;32m    349\u001b[0m \u001b[43m    \u001b[49m\u001b[43mgrad_tensors_\u001b[49m\u001b[43m,\u001b[49m\n\u001b[0;32m    350\u001b[0m \u001b[43m    \u001b[49m\u001b[43mretain_graph\u001b[49m\u001b[43m,\u001b[49m\n\u001b[0;32m    351\u001b[0m \u001b[43m    \u001b[49m\u001b[43mcreate_graph\u001b[49m\u001b[43m,\u001b[49m\n\u001b[0;32m    352\u001b[0m \u001b[43m    \u001b[49m\u001b[43minputs\u001b[49m\u001b[43m,\u001b[49m\n\u001b[0;32m    353\u001b[0m \u001b[43m    \u001b[49m\u001b[43mallow_unreachable\u001b[49m\u001b[38;5;241;43m=\u001b[39;49m\u001b[38;5;28;43;01mTrue\u001b[39;49;00m\u001b[43m,\u001b[49m\n\u001b[0;32m    354\u001b[0m \u001b[43m    \u001b[49m\u001b[43maccumulate_grad\u001b[49m\u001b[38;5;241;43m=\u001b[39;49m\u001b[38;5;28;43;01mTrue\u001b[39;49;00m\u001b[43m,\u001b[49m\n\u001b[0;32m    355\u001b[0m \u001b[43m\u001b[49m\u001b[43m)\u001b[49m\n",
            "File \u001b[1;32mc:\\Users\\tlc29\\Documents\\CS\\3A\\DLIP\\dlip-env\\lib\\site-packages\\torch\\autograd\\graph.py:823\u001b[0m, in \u001b[0;36m_engine_run_backward\u001b[1;34m(t_outputs, *args, **kwargs)\u001b[0m\n\u001b[0;32m    821\u001b[0m     unregister_hooks \u001b[38;5;241m=\u001b[39m _register_logging_hooks_on_whole_graph(t_outputs)\n\u001b[0;32m    822\u001b[0m \u001b[38;5;28;01mtry\u001b[39;00m:\n\u001b[1;32m--> 823\u001b[0m     \u001b[38;5;28;01mreturn\u001b[39;00m Variable\u001b[38;5;241m.\u001b[39m_execution_engine\u001b[38;5;241m.\u001b[39mrun_backward(  \u001b[38;5;66;03m# Calls into the C++ engine to run the backward pass\u001b[39;00m\n\u001b[0;32m    824\u001b[0m         t_outputs, \u001b[38;5;241m*\u001b[39margs, \u001b[38;5;241m*\u001b[39m\u001b[38;5;241m*\u001b[39mkwargs\n\u001b[0;32m    825\u001b[0m     )  \u001b[38;5;66;03m# Calls into the C++ engine to run the backward pass\u001b[39;00m\n\u001b[0;32m    826\u001b[0m \u001b[38;5;28;01mfinally\u001b[39;00m:\n\u001b[0;32m    827\u001b[0m     \u001b[38;5;28;01mif\u001b[39;00m attach_logging_hooks:\n",
            "\u001b[1;31mKeyboardInterrupt\u001b[0m: "
          ]
        }
      ],
      "source": [
        "### DEVICE GPU OR CPU : will select GPU if available\n",
        "device = torch.device(\"cuda\" if torch.cuda.is_available() else \"cpu\")\n",
        "print(\"\\nDevice: \", device)\n",
        "\n",
        "### Max number of epochs\n",
        "max_epochs = 200\n",
        "\n",
        "### DEFINE THE MODEL\n",
        "basic_model = BasicGraphModel(input_size=n_features, hidden_size=256, output_size=n_classes).to(\n",
        "    device\n",
        ")\n",
        "\n",
        "### DEFINE LOSS FUNCTION\n",
        "loss_fcn = nn.BCEWithLogitsLoss()\n",
        "\n",
        "### DEFINE OPTIMIZER\n",
        "optimizer = torch.optim.Adam(basic_model.parameters(), lr=0.005)\n",
        "\n",
        "### TRAIN THE MODEL\n",
        "epoch_list, basic_model_scores = train(\n",
        "    basic_model,\n",
        "    loss_fcn,\n",
        "    device,\n",
        "    optimizer,\n",
        "    max_epochs,\n",
        "    train_dataloader,\n",
        "    val_dataloader,\n",
        ")"
      ]
    },
    {
      "cell_type": "markdown",
      "metadata": {
        "cell_ktag": "B+URKbY2kSgR",
        "id": "CAez2ooc8pOd"
      },
      "source": [
        "Let's evaluate the performance of this basic model"
      ]
    },
    {
      "cell_type": "code",
      "execution_count": null,
      "metadata": {
        "cell_ktag": "B+URKbY2kSgR",
        "id": "PBqvWn_U8pOe",
        "outputId": "072c8423-a419-44c8-fcdf-af62199c62dc"
      },
      "outputs": [
        {
          "name": "stdout",
          "output_type": "stream",
          "text": [
            "Basic Model : F1-Score on the validation set: 0.6426\n"
          ]
        },
        {
          "ename": "NameError",
          "evalue": "name 'epoch_list' is not defined",
          "output_type": "error",
          "traceback": [
            "\u001b[1;31m---------------------------------------------------------------------------\u001b[0m",
            "\u001b[1;31mNameError\u001b[0m                                 Traceback (most recent call last)",
            "Cell \u001b[1;32mIn[12], line 15\u001b[0m\n\u001b[0;32m     11\u001b[0m     plt\u001b[38;5;241m.\u001b[39mylim([\u001b[38;5;241m0.0\u001b[39m, \u001b[38;5;241m1.0\u001b[39m])\n\u001b[0;32m     12\u001b[0m     plt\u001b[38;5;241m.\u001b[39mshow()\n\u001b[1;32m---> 15\u001b[0m plot_f1_score(\u001b[43mepoch_list\u001b[49m, basic_model_scores)\n",
            "\u001b[1;31mNameError\u001b[0m: name 'epoch_list' is not defined"
          ]
        }
      ],
      "source": [
        "### F1-SCORE ON VALID DATASET\n",
        "score_valid = evaluate(basic_model, loss_fcn, device, val_dataloader)\n",
        "print(\"Basic Model : F1-Score on the validation set: {:.4f}\".format(score_valid))\n",
        "\n",
        "\n",
        "### PLOT EVOLUTION OF F1-SCORE W.R.T EPOCHS\n",
        "def plot_f1_score(epoch_list, scores):\n",
        "    plt.figure(figsize=[10, 5])\n",
        "    plt.plot(epoch_list, scores)\n",
        "    plt.title(\"Evolution of F1-Score w.r.t epochs\")\n",
        "    plt.ylim([0.0, 1.0])\n",
        "    plt.show()\n",
        "\n",
        "\n",
        "plot_f1_score(epoch_list, basic_model_scores)"
      ]
    },
    {
      "cell_type": "markdown",
      "metadata": {
        "cell_ktag": "B+URKbY2kSgR",
        "id": "Rn43KT5x8pOe"
      },
      "source": [
        "# QUESTIONS\n",
        "\n",
        "## Grading\n",
        "\n",
        "You will be graded on 5 questions. You will need to provide at least 4 files :\n",
        "1. This Notebook\n",
        "2. `class_model_gnn.py`\n",
        "3. `model.pth` (the file **must be of size less than 50Mo** but 20Mo should be enough to get a very good model)\n",
        "4. `conv_as_message_passing.py`\n",
        "\n",
        "If the function you defined passes all the tests, you will get the full grade. Otherwise we  will look at the intermediate questions in the notebook to give you partial credit.\n",
        "\n",
        "\n",
        "\n",
        " Please provide clear, short and __bold font__ answers.  "
      ]
    },
    {
      "cell_type": "markdown",
      "metadata": {
        "cell_ktag": "B+URKbY2kSgR",
        "id": "WOl7KbK48pOe"
      },
      "source": [
        "> Question 1 : Design, build and train a model with a F1-score higher than 93% on validation set (**HINT :** https://arxiv.org/pdf/1710.10903.pdf).\n"
      ]
    },
    {
      "cell_type": "markdown",
      "metadata": {
        "cell_ktag": "B+URKbY2kSgR",
        "id": "UZFWC1L-8pOe"
      },
      "source": [
        " Provide two files : (https://pytorch.org/tutorials/beginner/saving_loading_models.html)\n",
        " -  a file  `class_model_gnn.py` containing the class inheriting from `torch.nn.Module` architecture of your final model to load\n",
        " -  a `model.pth` file : the model weights\n",
        "\n",
        " We will  test your model on final F1-Score on a test set. You must not use the test set for hyperparameter training.\n",
        "\n",
        "Intermediate question :\n",
        "\n",
        " Provide the script for training, and a plot of the training loss.  "
      ]
    },
    {
      "cell_type": "code",
      "source": [
        "def train_student(model, loss_fcn, device, optimizer, max_epochs, train_dataloader, val_dataloader):\n",
        "    epoch_list = []\n",
        "    scores_list = []\n",
        "    all_losses = []\n",
        "    # loop over epochs\n",
        "    for epoch in range(max_epochs):\n",
        "        model.train()\n",
        "        losses = []\n",
        "        # loop over batches\n",
        "        for i, train_batch in enumerate(train_dataloader):\n",
        "            optimizer.zero_grad()\n",
        "            train_batch_device = train_batch.to(device)\n",
        "            # logits is the output of the model\n",
        "            logits = model(train_batch_device.x, train_batch_device.edge_index)\n",
        "            # compute the loss\n",
        "            loss = loss_fcn(logits, train_batch_device.y)\n",
        "            # optimizer step\n",
        "            loss.backward()\n",
        "            optimizer.step()\n",
        "            all_losses.append(loss.item())\n",
        "        loss_data = np.array(losses).mean()\n",
        "        print(\"Epoch {:05d} | Loss: {:.4f}\".format(epoch + 1, loss_data))\n",
        "\n",
        "        if epoch % 5 == 0:\n",
        "            # evaluate the model on the validation set\n",
        "            # computes the f1-score (see next function)\n",
        "            score = evaluate(model, loss_fcn, device, val_dataloader)\n",
        "            print(\"F1-Score: {:.4f}\".format(score))\n",
        "            scores_list.append(score)\n",
        "            epoch_list.append(epoch)\n",
        "        losses.append(loss_data)\n",
        "\n",
        "    return epoch_list, scores_list, all_losses"
      ],
      "metadata": {
        "id": "zx_Np2biYLhh"
      },
      "execution_count": 61,
      "outputs": []
    },
    {
      "cell_type": "code",
      "execution_count": 59,
      "metadata": {
        "cell_ktag": "B+URKbY2kSgR",
        "id": "hgcOdfmy8pOe"
      },
      "outputs": [],
      "source": [
        "import torch\n",
        "import torch.nn as nn\n",
        "import torch.nn.functional as F\n",
        "from torch_geometric.nn import GATConv, GCNConv\n",
        "\n",
        "# Define model ( in your class_model_gnn.py)\n",
        "class StudentModel(nn.Module):\n",
        "    def __init__(self, in_channels, hidden_channels, out_channels, gat_heads=4, final_head=6):\n",
        "        super().__init__()\n",
        "\n",
        "        # Initial GAT layers\n",
        "        self.gat1 = GATConv(in_channels, hidden_channels, heads=gat_heads, concat=True)\n",
        "        self.gat2 = GATConv(hidden_channels * gat_heads, hidden_channels, heads=gat_heads, concat=True)\n",
        "        self.gat3 = GATConv(hidden_channels * gat_heads, out_channels, heads=final_head, concat=False)\n",
        "\n",
        "        self.residual_proj = nn.Linear(in_channels, out_channels)\n",
        "        #Xavier initialization\n",
        "        self._initialize_weights()\n",
        "\n",
        "    def forward(self, x, edge_index):\n",
        "        x_residual = x\n",
        "        x = F.elu(self.gat1(x, edge_index))\n",
        "        x = F.elu(self.gat2(x, edge_index))\n",
        "        x = F.elu(self.gat3(x, edge_index))\n",
        "\n",
        "        x_residual = self.residual_proj(x_residual)\n",
        "        x = x + x_residual\n",
        "        return x\n",
        "\n",
        "    def _initialize_weights(self):\n",
        "        for m in self.modules():\n",
        "            if isinstance(m, GATConv):\n",
        "                for param in m.parameters():\n",
        "                    if param.dim() > 1:  # Only apply Xavier to weight matrices\n",
        "                        nn.init.xavier_normal_(param)\n",
        "\n",
        "\n",
        "# Initialize model\n",
        "#model = StudentModel()\n",
        "\n",
        "# ## Save the model\n",
        "# torch.save(model.state_dict(), \"model.pth\")\n",
        "\n",
        "\n",
        "# ### This is the part we will run in the inference to grade your model\n",
        "# ## Load the model\n",
        "# model = StudentModel()  # !  Important : No argument\n",
        "# model.load_state_dict(torch.load(\"model.pth\", weights_only=True))\n",
        "# model.eval()\n",
        "# print(\"Model loaded successfully\")\n"
      ]
    },
    {
      "cell_type": "code",
      "execution_count": 83,
      "metadata": {
        "colab": {
          "base_uri": "https://localhost:8080/",
          "height": 1000
        },
        "id": "7AlRnSVL8pOe",
        "outputId": "a06d6c1c-9cfe-419a-e8de-4aef96c9c12e"
      },
      "outputs": [
        {
          "output_type": "stream",
          "name": "stdout",
          "text": [
            "\n",
            "Device:  cuda\n",
            "Epoch 00001 | Loss: 0.6252\n",
            "F1-Score: 0.4006\n",
            "Epoch 00002 | Loss: 0.5801\n",
            "Epoch 00003 | Loss: 0.5640\n",
            "Epoch 00004 | Loss: 0.5532\n",
            "Epoch 00005 | Loss: 0.5456\n",
            "Epoch 00006 | Loss: 0.5393\n",
            "F1-Score: 0.4794\n",
            "Epoch 00007 | Loss: 0.5387\n",
            "Epoch 00008 | Loss: 0.5333\n",
            "Epoch 00009 | Loss: 0.5276\n",
            "Epoch 00010 | Loss: 0.5219\n",
            "Epoch 00011 | Loss: 0.5183\n",
            "F1-Score: 0.5456\n",
            "Epoch 00012 | Loss: 0.5131\n",
            "Epoch 00013 | Loss: 0.5090\n",
            "Epoch 00014 | Loss: 0.5053\n",
            "Epoch 00015 | Loss: 0.5011\n",
            "Epoch 00016 | Loss: 0.5019\n",
            "F1-Score: 0.5318\n",
            "Epoch 00017 | Loss: 0.4928\n",
            "Epoch 00018 | Loss: 0.4865\n",
            "Epoch 00019 | Loss: 0.4822\n",
            "Epoch 00020 | Loss: 0.4785\n",
            "Epoch 00021 | Loss: 0.4750\n",
            "F1-Score: 0.6075\n",
            "Epoch 00022 | Loss: 0.4716\n",
            "Epoch 00023 | Loss: 0.4679\n",
            "Epoch 00024 | Loss: 0.4600\n",
            "Epoch 00025 | Loss: 0.4530\n",
            "Epoch 00026 | Loss: 0.4460\n",
            "F1-Score: 0.6347\n",
            "Epoch 00027 | Loss: 0.4401\n",
            "Epoch 00028 | Loss: 0.4395\n",
            "Epoch 00029 | Loss: 0.4416\n",
            "Epoch 00030 | Loss: 0.4406\n",
            "Epoch 00031 | Loss: 0.4358\n",
            "F1-Score: 0.6333\n",
            "Epoch 00032 | Loss: 0.4247\n",
            "Epoch 00033 | Loss: 0.4115\n",
            "Epoch 00034 | Loss: 0.4029\n",
            "Epoch 00035 | Loss: 0.3960\n",
            "Epoch 00036 | Loss: 0.3899\n",
            "F1-Score: 0.7040\n",
            "Epoch 00037 | Loss: 0.3853\n",
            "Epoch 00038 | Loss: 0.3815\n",
            "Epoch 00039 | Loss: 0.3783\n",
            "Epoch 00040 | Loss: 0.3701\n",
            "Epoch 00041 | Loss: 0.3628\n",
            "F1-Score: 0.7252\n",
            "Epoch 00042 | Loss: 0.3591\n",
            "Epoch 00043 | Loss: 0.3557\n",
            "Epoch 00044 | Loss: 0.3528\n",
            "Epoch 00045 | Loss: 0.3504\n",
            "Epoch 00046 | Loss: 0.3460\n",
            "F1-Score: 0.7340\n",
            "Epoch 00047 | Loss: 0.3359\n",
            "Epoch 00048 | Loss: 0.3272\n",
            "Epoch 00049 | Loss: 0.3278\n",
            "Epoch 00050 | Loss: 0.3367\n",
            "Epoch 00051 | Loss: 0.3434\n",
            "F1-Score: 0.7431\n",
            "Epoch 00052 | Loss: 0.3366\n",
            "Epoch 00053 | Loss: 0.3175\n",
            "Epoch 00054 | Loss: 0.3030\n",
            "Epoch 00055 | Loss: 0.2933\n",
            "Epoch 00056 | Loss: 0.2858\n",
            "F1-Score: 0.7940\n",
            "Epoch 00057 | Loss: 0.2796\n",
            "Epoch 00058 | Loss: 0.2741\n",
            "Epoch 00059 | Loss: 0.2720\n",
            "Epoch 00060 | Loss: 0.2736\n",
            "Epoch 00061 | Loss: 0.2757\n",
            "F1-Score: 0.7987\n",
            "Epoch 00062 | Loss: 0.2820\n",
            "Epoch 00063 | Loss: 0.2825\n",
            "Epoch 00064 | Loss: 0.2708\n",
            "Epoch 00065 | Loss: 0.2631\n",
            "Epoch 00066 | Loss: 0.2535\n",
            "F1-Score: 0.8202\n",
            "Epoch 00067 | Loss: 0.2447\n",
            "Epoch 00068 | Loss: 0.2381\n",
            "Epoch 00069 | Loss: 0.2334\n",
            "Epoch 00070 | Loss: 0.2319\n",
            "Epoch 00071 | Loss: 0.2315\n",
            "F1-Score: 0.8391\n",
            "Epoch 00072 | Loss: 0.2310\n",
            "Epoch 00073 | Loss: 0.2271\n",
            "Epoch 00074 | Loss: 0.2212\n",
            "Epoch 00075 | Loss: 0.2154\n",
            "Epoch 00076 | Loss: 0.2115\n",
            "F1-Score: 0.8513\n",
            "Epoch 00077 | Loss: 0.2064\n",
            "Epoch 00078 | Loss: 0.2039\n",
            "Epoch 00079 | Loss: 0.2011\n",
            "Epoch 00080 | Loss: 0.1981\n",
            "Epoch 00081 | Loss: 0.1945\n",
            "F1-Score: 0.8581\n",
            "Epoch 00082 | Loss: 0.1915\n",
            "Epoch 00083 | Loss: 0.1944\n",
            "Epoch 00084 | Loss: 0.1953\n",
            "Epoch 00085 | Loss: 0.1972\n",
            "Epoch 00086 | Loss: 0.1962\n",
            "F1-Score: 0.8617\n",
            "Epoch 00087 | Loss: 0.1904\n",
            "Epoch 00088 | Loss: 0.1843\n",
            "Epoch 00089 | Loss: 0.1754\n",
            "Epoch 00090 | Loss: 0.1686\n",
            "Epoch 00091 | Loss: 0.1633\n",
            "F1-Score: 0.8828\n",
            "Epoch 00092 | Loss: 0.1594\n",
            "Epoch 00093 | Loss: 0.1571\n",
            "Epoch 00094 | Loss: 0.1546\n",
            "Epoch 00095 | Loss: 0.1538\n",
            "Epoch 00096 | Loss: 0.1533\n",
            "F1-Score: 0.8857\n",
            "Epoch 00097 | Loss: 0.1539\n",
            "Epoch 00098 | Loss: 0.1537\n",
            "Epoch 00099 | Loss: 0.1588\n",
            "Epoch 00100 | Loss: 0.1657\n",
            "Epoch 00101 | Loss: 0.1721\n",
            "F1-Score: 0.8742\n",
            "Epoch 00102 | Loss: 0.1651\n",
            "Epoch 00103 | Loss: 0.1563\n",
            "Epoch 00104 | Loss: 0.1500\n",
            "Epoch 00105 | Loss: 0.1442\n",
            "Epoch 00106 | Loss: 0.1406\n",
            "F1-Score: 0.8902\n",
            "Epoch 00107 | Loss: 0.1393\n",
            "Epoch 00108 | Loss: 0.1374\n",
            "Epoch 00109 | Loss: 0.1367\n",
            "Epoch 00110 | Loss: 0.1354\n",
            "Epoch 00111 | Loss: 0.1335\n",
            "F1-Score: 0.8902\n",
            "Epoch 00112 | Loss: 0.1311\n",
            "Epoch 00113 | Loss: 0.1301\n",
            "Epoch 00114 | Loss: 0.1298\n",
            "Epoch 00115 | Loss: 0.1274\n",
            "Epoch 00116 | Loss: 0.1277\n",
            "F1-Score: 0.8917\n",
            "Epoch 00117 | Loss: 0.1302\n",
            "Epoch 00118 | Loss: 0.1294\n",
            "Epoch 00119 | Loss: 0.1279\n",
            "Epoch 00120 | Loss: 0.1334\n",
            "Epoch 00121 | Loss: 0.1320\n",
            "F1-Score: 0.8757\n",
            "Epoch 00122 | Loss: 0.1303\n",
            "Epoch 00123 | Loss: 0.1285\n",
            "Epoch 00124 | Loss: 0.1259\n",
            "Epoch 00125 | Loss: 0.1256\n",
            "Epoch 00126 | Loss: 0.1250\n",
            "F1-Score: 0.8855\n",
            "Epoch 00127 | Loss: 0.1225\n",
            "Epoch 00128 | Loss: 0.1188\n",
            "Epoch 00129 | Loss: 0.1199\n",
            "Epoch 00130 | Loss: 0.1216\n",
            "Epoch 00131 | Loss: 0.1227\n",
            "F1-Score: 0.8962\n",
            "Epoch 00132 | Loss: 0.1242\n",
            "Epoch 00133 | Loss: 0.1231\n",
            "Epoch 00134 | Loss: 0.1204\n",
            "Epoch 00135 | Loss: 0.1220\n",
            "Epoch 00136 | Loss: 0.1210\n",
            "F1-Score: 0.8985\n",
            "Epoch 00137 | Loss: 0.1193\n",
            "Epoch 00138 | Loss: 0.1179\n",
            "Epoch 00139 | Loss: 0.1153\n",
            "Epoch 00140 | Loss: 0.1148\n",
            "Epoch 00141 | Loss: 0.1145\n",
            "F1-Score: 0.9034\n",
            "Epoch 00142 | Loss: 0.1119\n",
            "Epoch 00143 | Loss: 0.1094\n",
            "Epoch 00144 | Loss: 0.1080\n",
            "Epoch 00145 | Loss: 0.1065\n",
            "Epoch 00146 | Loss: 0.1066\n",
            "F1-Score: 0.9055\n",
            "Epoch 00147 | Loss: 0.1038\n",
            "Epoch 00148 | Loss: 0.1000\n",
            "Epoch 00149 | Loss: 0.0993\n",
            "Epoch 00150 | Loss: 0.0975\n",
            "Epoch 00151 | Loss: 0.0978\n",
            "F1-Score: 0.9170\n",
            "Epoch 00152 | Loss: 0.0966\n",
            "Epoch 00153 | Loss: 0.0952\n",
            "Epoch 00154 | Loss: 0.0927\n",
            "Epoch 00155 | Loss: 0.0894\n",
            "Epoch 00156 | Loss: 0.0887\n",
            "F1-Score: 0.9205\n",
            "Epoch 00157 | Loss: 0.0910\n",
            "Epoch 00158 | Loss: 0.0892\n",
            "Epoch 00159 | Loss: 0.0881\n",
            "Epoch 00160 | Loss: 0.0852\n",
            "Epoch 00161 | Loss: 0.0835\n",
            "F1-Score: 0.9258\n",
            "Epoch 00162 | Loss: 0.0824\n",
            "Epoch 00163 | Loss: 0.0808\n",
            "Epoch 00164 | Loss: 0.0788\n",
            "Epoch 00165 | Loss: 0.0772\n",
            "Epoch 00166 | Loss: 0.0767\n",
            "F1-Score: 0.9255\n",
            "Epoch 00167 | Loss: 0.0740\n",
            "Epoch 00168 | Loss: 0.0715\n",
            "Epoch 00169 | Loss: 0.0708\n",
            "Epoch 00170 | Loss: 0.0691\n",
            "Epoch 00171 | Loss: 0.0686\n",
            "F1-Score: 0.9292\n",
            "Epoch 00172 | Loss: 0.0681\n",
            "Epoch 00173 | Loss: 0.0679\n",
            "Epoch 00174 | Loss: 0.0689\n",
            "Epoch 00175 | Loss: 0.0691\n",
            "Epoch 00176 | Loss: 0.0698\n",
            "F1-Score: 0.9248\n",
            "Epoch 00177 | Loss: 0.0714\n",
            "Epoch 00178 | Loss: 0.0725\n",
            "Epoch 00179 | Loss: 0.0740\n",
            "Epoch 00180 | Loss: 0.0749\n",
            "Epoch 00181 | Loss: 0.0749\n",
            "F1-Score: 0.9233\n",
            "Epoch 00182 | Loss: 0.0742\n",
            "Epoch 00183 | Loss: 0.0745\n",
            "Epoch 00184 | Loss: 0.0726\n",
            "Epoch 00185 | Loss: 0.0717\n",
            "Epoch 00186 | Loss: 0.0714\n",
            "F1-Score: 0.9269\n",
            "Epoch 00187 | Loss: 0.0705\n",
            "Epoch 00188 | Loss: 0.0702\n",
            "Epoch 00189 | Loss: 0.0702\n"
          ]
        },
        {
          "output_type": "error",
          "ename": "KeyboardInterrupt",
          "evalue": "",
          "traceback": [
            "\u001b[0;31m---------------------------------------------------------------------------\u001b[0m",
            "\u001b[0;31mKeyboardInterrupt\u001b[0m                         Traceback (most recent call last)",
            "\u001b[0;32m<ipython-input-83-96ec83410aa4>\u001b[0m in \u001b[0;36m<cell line: 0>\u001b[0;34m()\u001b[0m\n\u001b[1;32m     18\u001b[0m \u001b[0;34m\u001b[0m\u001b[0m\n\u001b[1;32m     19\u001b[0m \u001b[0;31m### TRAIN THE MODEL\u001b[0m\u001b[0;34m\u001b[0m\u001b[0;34m\u001b[0m\u001b[0m\n\u001b[0;32m---> 20\u001b[0;31m epoch_list, student_model_scores, losses = train_student(\n\u001b[0m\u001b[1;32m     21\u001b[0m     \u001b[0mstudent_model\u001b[0m\u001b[0;34m,\u001b[0m\u001b[0;34m\u001b[0m\u001b[0;34m\u001b[0m\u001b[0m\n\u001b[1;32m     22\u001b[0m     \u001b[0mloss_fcn\u001b[0m\u001b[0;34m,\u001b[0m\u001b[0;34m\u001b[0m\u001b[0;34m\u001b[0m\u001b[0m\n",
            "\u001b[0;32m<ipython-input-61-14b1296e8099>\u001b[0m in \u001b[0;36mtrain_student\u001b[0;34m(model, loss_fcn, device, optimizer, max_epochs, train_dataloader, val_dataloader)\u001b[0m\n\u001b[1;32m     18\u001b[0m             \u001b[0mloss\u001b[0m\u001b[0;34m.\u001b[0m\u001b[0mbackward\u001b[0m\u001b[0;34m(\u001b[0m\u001b[0;34m)\u001b[0m\u001b[0;34m\u001b[0m\u001b[0;34m\u001b[0m\u001b[0m\n\u001b[1;32m     19\u001b[0m             \u001b[0moptimizer\u001b[0m\u001b[0;34m.\u001b[0m\u001b[0mstep\u001b[0m\u001b[0;34m(\u001b[0m\u001b[0;34m)\u001b[0m\u001b[0;34m\u001b[0m\u001b[0;34m\u001b[0m\u001b[0m\n\u001b[0;32m---> 20\u001b[0;31m             \u001b[0mlosses\u001b[0m\u001b[0;34m.\u001b[0m\u001b[0mappend\u001b[0m\u001b[0;34m(\u001b[0m\u001b[0mloss\u001b[0m\u001b[0;34m.\u001b[0m\u001b[0mitem\u001b[0m\u001b[0;34m(\u001b[0m\u001b[0;34m)\u001b[0m\u001b[0;34m)\u001b[0m\u001b[0;34m\u001b[0m\u001b[0;34m\u001b[0m\u001b[0m\n\u001b[0m\u001b[1;32m     21\u001b[0m             \u001b[0mall_losses\u001b[0m\u001b[0;34m.\u001b[0m\u001b[0mappend\u001b[0m\u001b[0;34m(\u001b[0m\u001b[0mloss\u001b[0m\u001b[0;34m.\u001b[0m\u001b[0mitem\u001b[0m\u001b[0;34m(\u001b[0m\u001b[0;34m)\u001b[0m\u001b[0;34m)\u001b[0m\u001b[0;34m\u001b[0m\u001b[0;34m\u001b[0m\u001b[0m\n\u001b[1;32m     22\u001b[0m         \u001b[0mloss_data\u001b[0m \u001b[0;34m=\u001b[0m \u001b[0mnp\u001b[0m\u001b[0;34m.\u001b[0m\u001b[0marray\u001b[0m\u001b[0;34m(\u001b[0m\u001b[0mlosses\u001b[0m\u001b[0;34m)\u001b[0m\u001b[0;34m.\u001b[0m\u001b[0mmean\u001b[0m\u001b[0;34m(\u001b[0m\u001b[0;34m)\u001b[0m\u001b[0;34m\u001b[0m\u001b[0;34m\u001b[0m\u001b[0m\n",
            "\u001b[0;31mKeyboardInterrupt\u001b[0m: "
          ]
        }
      ],
      "source": [
        "### DEVICE GPU OR CPU : will select GPU if available\n",
        "device = torch.device(\"cuda\" if torch.cuda.is_available() else \"cpu\")\n",
        "print(\"\\nDevice: \", device)\n",
        "\n",
        "### Max number of epochs\n",
        "max_epochs = 250\n",
        "\n",
        "### DEFINE THE MODEL\n",
        "student_model = StudentModel(in_channels=n_features, hidden_channels=256, out_channels=n_classes, gat_heads=8, final_head=10).to(\n",
        "    device\n",
        ")\n",
        "\n",
        "### DEFINE LOSS FUNCTION\n",
        "loss_fcn = nn.BCEWithLogitsLoss()\n",
        "\n",
        "### DEFINE OPTIMIZER\n",
        "optimizer = torch.optim.Adam(student_model.parameters(), lr=0.0025)\n",
        "\n",
        "### TRAIN THE MODEL\n",
        "epoch_list, student_model_scores, losses = train_student(\n",
        "    student_model,\n",
        "    loss_fcn,\n",
        "    device,\n",
        "    optimizer,\n",
        "    max_epochs,\n",
        "    train_dataloader,\n",
        "    val_dataloader,\n",
        ")"
      ]
    },
    {
      "cell_type": "code",
      "source": [
        "import gc\n",
        "gc.collect()"
      ],
      "metadata": {
        "colab": {
          "base_uri": "https://localhost:8080/"
        },
        "id": "DakJ0yfx_VwG",
        "outputId": "5e9b2540-9580-421a-ab7c-68e5076ba6ec"
      },
      "execution_count": 77,
      "outputs": [
        {
          "output_type": "execute_result",
          "data": {
            "text/plain": [
              "8512"
            ]
          },
          "metadata": {},
          "execution_count": 77
        }
      ]
    },
    {
      "cell_type": "code",
      "source": [
        "### F1-SCORE ON VALID DATASET\n",
        "score_valid = evaluate(student_model, loss_fcn, device, val_dataloader)\n",
        "print(\"Basic Model : F1-Score on the validation set: {:.4f}\".format(score_valid))\n",
        "\n",
        "\n",
        "### PLOT EVOLUTION OF F1-SCORE W.R.T EPOCHS\n",
        "def plot_f1_score(epoch_list, scores):\n",
        "    plt.figure(figsize=[10, 5])\n",
        "    plt.plot(epoch_list, scores)\n",
        "    plt.title(\"Evolution of F1-Score w.r.t epochs\")\n",
        "    plt.ylim([0.0, 1.0])\n",
        "    plt.show()\n",
        "\n",
        "def plot_loss(epoch_list, losses):\n",
        "    plt.figure(figsize=[10, 5])\n",
        "    plt.plot(epoch_list, losses)\n",
        "    plt.title(\"Evolution of the loss w.r.t epochs\")\n",
        "    plt.ylim([0.0, 1.0])\n",
        "    plt.show()\n",
        "\n",
        "\n",
        "plot_f1_score(epoch_list, student_model_scores)\n",
        "plot_loss(epoch_list, losses)"
      ],
      "metadata": {
        "colab": {
          "base_uri": "https://localhost:8080/",
          "height": 1000
        },
        "id": "4SxkSNxc-0cN",
        "outputId": "a912ca5b-6fa9-4d3f-cb09-ff5ac8483ea5"
      },
      "execution_count": 82,
      "outputs": [
        {
          "output_type": "stream",
          "name": "stdout",
          "text": [
            "Basic Model : F1-Score on the validation set: 0.9408\n"
          ]
        },
        {
          "output_type": "display_data",
          "data": {
            "text/plain": [
              "<Figure size 1000x500 with 1 Axes>"
            ],
            "image/png": "[encoded data removed]"
          },
          "metadata": {}
        },
        {
          "output_type": "error",
          "ename": "ValueError",
          "evalue": "x and y must have same first dimension, but have shapes (50,) and (2500,)",
          "traceback": [
            "\u001b[0;31m---------------------------------------------------------------------------\u001b[0m",
            "\u001b[0;31mValueError\u001b[0m                                Traceback (most recent call last)",
            "\u001b[0;32m<ipython-input-82-86f54d624b5c>\u001b[0m in \u001b[0;36m<cell line: 0>\u001b[0;34m()\u001b[0m\n\u001b[1;32m     21\u001b[0m \u001b[0;34m\u001b[0m\u001b[0m\n\u001b[1;32m     22\u001b[0m \u001b[0mplot_f1_score\u001b[0m\u001b[0;34m(\u001b[0m\u001b[0mepoch_list\u001b[0m\u001b[0;34m,\u001b[0m \u001b[0mstudent_model_scores\u001b[0m\u001b[0;34m)\u001b[0m\u001b[0;34m\u001b[0m\u001b[0;34m\u001b[0m\u001b[0m\n\u001b[0;32m---> 23\u001b[0;31m \u001b[0mplot_loss\u001b[0m\u001b[0;34m(\u001b[0m\u001b[0mepoch_list\u001b[0m\u001b[0;34m,\u001b[0m \u001b[0mlosses\u001b[0m\u001b[0;34m)\u001b[0m\u001b[0;34m\u001b[0m\u001b[0;34m\u001b[0m\u001b[0m\n\u001b[0m",
            "\u001b[0;32m<ipython-input-82-86f54d624b5c>\u001b[0m in \u001b[0;36mplot_loss\u001b[0;34m(epoch_list, losses)\u001b[0m\n\u001b[1;32m     14\u001b[0m \u001b[0;32mdef\u001b[0m \u001b[0mplot_loss\u001b[0m\u001b[0;34m(\u001b[0m\u001b[0mepoch_list\u001b[0m\u001b[0;34m,\u001b[0m \u001b[0mlosses\u001b[0m\u001b[0;34m)\u001b[0m\u001b[0;34m:\u001b[0m\u001b[0;34m\u001b[0m\u001b[0;34m\u001b[0m\u001b[0m\n\u001b[1;32m     15\u001b[0m     \u001b[0mplt\u001b[0m\u001b[0;34m.\u001b[0m\u001b[0mfigure\u001b[0m\u001b[0;34m(\u001b[0m\u001b[0mfigsize\u001b[0m\u001b[0;34m=\u001b[0m\u001b[0;34m[\u001b[0m\u001b[0;36m10\u001b[0m\u001b[0;34m,\u001b[0m \u001b[0;36m5\u001b[0m\u001b[0;34m]\u001b[0m\u001b[0;34m)\u001b[0m\u001b[0;34m\u001b[0m\u001b[0;34m\u001b[0m\u001b[0m\n\u001b[0;32m---> 16\u001b[0;31m     \u001b[0mplt\u001b[0m\u001b[0;34m.\u001b[0m\u001b[0mplot\u001b[0m\u001b[0;34m(\u001b[0m\u001b[0mepoch_list\u001b[0m\u001b[0;34m,\u001b[0m \u001b[0mlosses\u001b[0m\u001b[0;34m)\u001b[0m\u001b[0;34m\u001b[0m\u001b[0;34m\u001b[0m\u001b[0m\n\u001b[0m\u001b[1;32m     17\u001b[0m     \u001b[0mplt\u001b[0m\u001b[0;34m.\u001b[0m\u001b[0mtitle\u001b[0m\u001b[0;34m(\u001b[0m\u001b[0;34m\"Evolution of the loss w.r.t epochs\"\u001b[0m\u001b[0;34m)\u001b[0m\u001b[0;34m\u001b[0m\u001b[0;34m\u001b[0m\u001b[0m\n\u001b[1;32m     18\u001b[0m     \u001b[0mplt\u001b[0m\u001b[0;34m.\u001b[0m\u001b[0mylim\u001b[0m\u001b[0;34m(\u001b[0m\u001b[0;34m[\u001b[0m\u001b[0;36m0.0\u001b[0m\u001b[0;34m,\u001b[0m \u001b[0;36m1.0\u001b[0m\u001b[0;34m]\u001b[0m\u001b[0;34m)\u001b[0m\u001b[0;34m\u001b[0m\u001b[0;34m\u001b[0m\u001b[0m\n",
            "\u001b[0;32m/usr/local/lib/python3.11/dist-packages/matplotlib/pyplot.py\u001b[0m in \u001b[0;36mplot\u001b[0;34m(scalex, scaley, data, *args, **kwargs)\u001b[0m\n\u001b[1;32m   3827\u001b[0m     \u001b[0;34m**\u001b[0m\u001b[0mkwargs\u001b[0m\u001b[0;34m,\u001b[0m\u001b[0;34m\u001b[0m\u001b[0;34m\u001b[0m\u001b[0m\n\u001b[1;32m   3828\u001b[0m ) -> list[Line2D]:\n\u001b[0;32m-> 3829\u001b[0;31m     return gca().plot(\n\u001b[0m\u001b[1;32m   3830\u001b[0m         \u001b[0;34m*\u001b[0m\u001b[0margs\u001b[0m\u001b[0;34m,\u001b[0m\u001b[0;34m\u001b[0m\u001b[0;34m\u001b[0m\u001b[0m\n\u001b[1;32m   3831\u001b[0m         \u001b[0mscalex\u001b[0m\u001b[0;34m=\u001b[0m\u001b[0mscalex\u001b[0m\u001b[0;34m,\u001b[0m\u001b[0;34m\u001b[0m\u001b[0;34m\u001b[0m\u001b[0m\n",
            "\u001b[0;32m/usr/local/lib/python3.11/dist-packages/matplotlib/axes/_axes.py\u001b[0m in \u001b[0;36mplot\u001b[0;34m(self, scalex, scaley, data, *args, **kwargs)\u001b[0m\n\u001b[1;32m   1775\u001b[0m         \"\"\"\n\u001b[1;32m   1776\u001b[0m         \u001b[0mkwargs\u001b[0m \u001b[0;34m=\u001b[0m \u001b[0mcbook\u001b[0m\u001b[0;34m.\u001b[0m\u001b[0mnormalize_kwargs\u001b[0m\u001b[0;34m(\u001b[0m\u001b[0mkwargs\u001b[0m\u001b[0;34m,\u001b[0m \u001b[0mmlines\u001b[0m\u001b[0;34m.\u001b[0m\u001b[0mLine2D\u001b[0m\u001b[0;34m)\u001b[0m\u001b[0;34m\u001b[0m\u001b[0;34m\u001b[0m\u001b[0m\n\u001b[0;32m-> 1777\u001b[0;31m         \u001b[0mlines\u001b[0m \u001b[0;34m=\u001b[0m \u001b[0;34m[\u001b[0m\u001b[0;34m*\u001b[0m\u001b[0mself\u001b[0m\u001b[0;34m.\u001b[0m\u001b[0m_get_lines\u001b[0m\u001b[0;34m(\u001b[0m\u001b[0mself\u001b[0m\u001b[0;34m,\u001b[0m \u001b[0;34m*\u001b[0m\u001b[0margs\u001b[0m\u001b[0;34m,\u001b[0m \u001b[0mdata\u001b[0m\u001b[0;34m=\u001b[0m\u001b[0mdata\u001b[0m\u001b[0;34m,\u001b[0m \u001b[0;34m**\u001b[0m\u001b[0mkwargs\u001b[0m\u001b[0;34m)\u001b[0m\u001b[0;34m]\u001b[0m\u001b[0;34m\u001b[0m\u001b[0;34m\u001b[0m\u001b[0m\n\u001b[0m\u001b[1;32m   1778\u001b[0m         \u001b[0;32mfor\u001b[0m \u001b[0mline\u001b[0m \u001b[0;32min\u001b[0m \u001b[0mlines\u001b[0m\u001b[0;34m:\u001b[0m\u001b[0;34m\u001b[0m\u001b[0;34m\u001b[0m\u001b[0m\n\u001b[1;32m   1779\u001b[0m             \u001b[0mself\u001b[0m\u001b[0;34m.\u001b[0m\u001b[0madd_line\u001b[0m\u001b[0;34m(\u001b[0m\u001b[0mline\u001b[0m\u001b[0;34m)\u001b[0m\u001b[0;34m\u001b[0m\u001b[0;34m\u001b[0m\u001b[0m\n",
            "\u001b[0;32m/usr/local/lib/python3.11/dist-packages/matplotlib/axes/_base.py\u001b[0m in \u001b[0;36m__call__\u001b[0;34m(self, axes, data, return_kwargs, *args, **kwargs)\u001b[0m\n\u001b[1;32m    295\u001b[0m                 \u001b[0mthis\u001b[0m \u001b[0;34m+=\u001b[0m \u001b[0margs\u001b[0m\u001b[0;34m[\u001b[0m\u001b[0;36m0\u001b[0m\u001b[0;34m]\u001b[0m\u001b[0;34m,\u001b[0m\u001b[0;34m\u001b[0m\u001b[0;34m\u001b[0m\u001b[0m\n\u001b[1;32m    296\u001b[0m                 \u001b[0margs\u001b[0m \u001b[0;34m=\u001b[0m \u001b[0margs\u001b[0m\u001b[0;34m[\u001b[0m\u001b[0;36m1\u001b[0m\u001b[0;34m:\u001b[0m\u001b[0;34m]\u001b[0m\u001b[0;34m\u001b[0m\u001b[0;34m\u001b[0m\u001b[0m\n\u001b[0;32m--> 297\u001b[0;31m             yield from self._plot_args(\n\u001b[0m\u001b[1;32m    298\u001b[0m                 \u001b[0maxes\u001b[0m\u001b[0;34m,\u001b[0m \u001b[0mthis\u001b[0m\u001b[0;34m,\u001b[0m \u001b[0mkwargs\u001b[0m\u001b[0;34m,\u001b[0m \u001b[0mambiguous_fmt_datakey\u001b[0m\u001b[0;34m=\u001b[0m\u001b[0mambiguous_fmt_datakey\u001b[0m\u001b[0;34m,\u001b[0m\u001b[0;34m\u001b[0m\u001b[0;34m\u001b[0m\u001b[0m\n\u001b[1;32m    299\u001b[0m                 \u001b[0mreturn_kwargs\u001b[0m\u001b[0;34m=\u001b[0m\u001b[0mreturn_kwargs\u001b[0m\u001b[0;34m\u001b[0m\u001b[0;34m\u001b[0m\u001b[0m\n",
            "\u001b[0;32m/usr/local/lib/python3.11/dist-packages/matplotlib/axes/_base.py\u001b[0m in \u001b[0;36m_plot_args\u001b[0;34m(self, axes, tup, kwargs, return_kwargs, ambiguous_fmt_datakey)\u001b[0m\n\u001b[1;32m    492\u001b[0m \u001b[0;34m\u001b[0m\u001b[0m\n\u001b[1;32m    493\u001b[0m         \u001b[0;32mif\u001b[0m \u001b[0mx\u001b[0m\u001b[0;34m.\u001b[0m\u001b[0mshape\u001b[0m\u001b[0;34m[\u001b[0m\u001b[0;36m0\u001b[0m\u001b[0;34m]\u001b[0m \u001b[0;34m!=\u001b[0m \u001b[0my\u001b[0m\u001b[0;34m.\u001b[0m\u001b[0mshape\u001b[0m\u001b[0;34m[\u001b[0m\u001b[0;36m0\u001b[0m\u001b[0;34m]\u001b[0m\u001b[0;34m:\u001b[0m\u001b[0;34m\u001b[0m\u001b[0;34m\u001b[0m\u001b[0m\n\u001b[0;32m--> 494\u001b[0;31m             raise ValueError(f\"x and y must have same first dimension, but \"\n\u001b[0m\u001b[1;32m    495\u001b[0m                              f\"have shapes {x.shape} and {y.shape}\")\n\u001b[1;32m    496\u001b[0m         \u001b[0;32mif\u001b[0m \u001b[0mx\u001b[0m\u001b[0;34m.\u001b[0m\u001b[0mndim\u001b[0m \u001b[0;34m>\u001b[0m \u001b[0;36m2\u001b[0m \u001b[0;32mor\u001b[0m \u001b[0my\u001b[0m\u001b[0;34m.\u001b[0m\u001b[0mndim\u001b[0m \u001b[0;34m>\u001b[0m \u001b[0;36m2\u001b[0m\u001b[0;34m:\u001b[0m\u001b[0;34m\u001b[0m\u001b[0;34m\u001b[0m\u001b[0m\n",
            "\u001b[0;31mValueError\u001b[0m: x and y must have same first dimension, but have shapes (50,) and (2500,)"
          ]
        },
        {
          "output_type": "display_data",
          "data": {
            "text/plain": [
              "<Figure size 1000x500 with 1 Axes>"
            ],
            "image/png": "[encoded data removed]"
          },
          "metadata": {}
        }
      ]
    },
    {
      "cell_type": "code",
      "source": [
        "plt.plot(range(2500), losses)"
      ],
      "metadata": {
        "colab": {
          "base_uri": "https://localhost:8080/",
          "height": 447
        },
        "id": "JjdOSsmDbWiy",
        "outputId": "319c556e-1300-48dd-ded5-d214e8fa8bf9"
      },
      "execution_count": 79,
      "outputs": [
        {
          "output_type": "execute_result",
          "data": {
            "text/plain": [
              "[<matplotlib.lines.Line2D at 0x7dc2742fe710>]"
            ]
          },
          "metadata": {},
          "execution_count": 79
        },
        {
          "output_type": "display_data",
          "data": {
            "text/plain": [
              "<Figure size 640x480 with 1 Axes>"
            ],
            "image/png": "[encoded data removed]"
          },
          "metadata": {}
        }
      ]
    },
    {
      "cell_type": "markdown",
      "metadata": {
        "cell_ktag": "B+URKbY2kSgR",
        "id": "UbUgErUe8pOe"
      },
      "source": [
        "## Conv 2D as Message Passing Neural Network\n",
        "\n",
        "\n",
        "## Introduction\n",
        "\n",
        "The use of graph is a way to structure data by adding neighborhood information between features. This then allows to do operations on the data that are local to each node and its neighbors. This is the main idea behind Graph Neural Networks (GNNs). [`pytorch-geometric`](https://pytorch-geometric.readthedocs.io/en/latest/) is a library compatible with PyTorch that allows to easily implement GNNs. The most general structure is the [`MessagePassing`](https://pytorch-geometric.readthedocs.io/en/latest/generated/torch_geometric.nn.conv.MessagePassing.html#torch_geometric.nn.conv.MessagePassing) class that is then used as a base for more specific GNNs as seen in the course ([Graph Convolutional Networks](https://pytorch-geometric.readthedocs.io/en/latest/generated/torch_geometric.nn.conv.GCNConv.html#torch_geometric.nn.conv.GCNConv) or [Graph AttenTion Convolution](https://pytorch-geometric.readthedocs.io/en/latest/generated/torch_geometric.nn.conv.GATConv.html#torch_geometric.nn.conv.GATConv)).\n",
        "\n",
        "On the other hand, you already know an operation that uses the structure of the data to do local operations: the convolution (https://pytorch.org/docs/stable/generated/torch.nn.Conv2d.html). One can see the convolution as a specific case of the message passing neural network. The goal of this notebook is to show how to use the `MessagePassing` class to implement a convolutional neural network.\n",
        "You will be asked to implement 3 functions. You should give back those three functions in a file named `conv_as_message_passing.py`. These functions will then be automatically tested. So be sure to respect the function signature and the function name.\n",
        "\n",
        "\n",
        "## Assumptions\n",
        "\n",
        "To make the implementation easier we will make some assumptions:\n",
        "- the input is a single image (batch size of 1) of size 'C x H x W'\n",
        "- the convolution will be a 3x3 kernel with stride 1 and padding 1.\n",
        "\n",
        "You may also assume that the Conv2D layer has no bias but it will be slightly penalized in the grading.\n",
        "\n",
        "Bonus points will be given if you can handle the cases that are not covered by those assumptions.\n",
        "\n",
        "\n",
        "## Questions\n",
        "\n",
        "### Question 2\n",
        "\n",
        "> Using the formalism used in the [`MessagePassing`](https://pytorch-geometric.readthedocs.io/en/latest/generated/torch_geometric.nn.conv.MessagePassing.html#torch_geometric.nn.conv.MessagePassing) documentation (and on [wikipedia](https://en.wikipedia.org/wiki/Graph_neural_network#Message_passing_layers) with sligthly different notations), explain how theorically you can simulate a 2D convolution using the `MessagePassing` formalism. This may include a pre-processing step to transform the image into a graph and then a post-processing step to transform the graph back into an image. (:warning: Those steps should be independent of the parameters of the convolution, but not necessarily from the hyper-parameters.)\n",
        "$$\\mathbf{x}_{i}^{\\prime} = \\gamma_{\\mathbf{\\Theta}}\\left( \\mathbf{x}_{i},\\bigoplus\\limits_{j \\in \\mathcal{N}(i)}\\,\\phi_{\\mathbf{\\Theta}}\\left( \\mathbf{x}_{i},\\mathbf{x}_{j},\\mathbf{e}_{j,i} \\right) \\right),$$\n",
        "\n",
        "\n",
        "HINT : It is possible to do it with the following $\\gamma$ :\n",
        "\n",
        "$$ \\gamma_\\Theta : x,y \\mapsto y $$\n"
      ]
    },
    {
      "cell_type": "markdown",
      "source": [
        "In a 2D convolution, for the ith-line & jth- column pixels,\n",
        "$$X^{'}_{i,j} = \\sum_{(i', j') \\in \\mathcal{N}(i,j)}W_{i',j'}X_{i+i', j+j'}\\quad  (1)$$  <br>\n",
        "Hence, here we will represent the image as graph where the node are the pixels and the node value will be the pixel value ( Grayscale, RGB, ...). The edges will be set to 1. <br>\n",
        "Therefore, we can write the convolution as a MessagePassing Problem where :\n",
        "$$ \\gamma_\\Theta : x,y \\mapsto y \\quad ; \\quad \\bigoplus\\limits_{j \\in \\mathcal{N}(i)} = \\sum_{j \\in \\mathcal{N}(i)}  \\quad ; \\quad \\phi_{\\mathbf{\\Theta}}(x_i, x_j, e_{i,j}) = \\frac{1}{9}x_j + \\frac{1}{9 |\\mathcal{N}(i)|}x_i $$\n",
        "$$ x^{'}_{i} = \\gamma_{\\Theta}(x_i, \\sum_{j \\in \\mathcal{N}(i)}\\frac{1}{9}x_j  + \\frac{1}{9 |\\mathcal{N}(i)|}x_i)$$\n"
      ],
      "metadata": {
        "id": "U1tMEPA6lbXm"
      }
    },
    {
      "cell_type": "code",
      "execution_count": null,
      "metadata": {
        "cell_ktag": "B+URKbY2kSgR",
        "id": "ZgIKKcRJ8pOf"
      },
      "outputs": [],
      "source": [
        "import torch\n",
        "import torch_geometric"
      ]
    },
    {
      "cell_type": "markdown",
      "metadata": {
        "cell_ktag": "B+URKbY2kSgR",
        "id": "CtnNHTIZ8pOf"
      },
      "source": [
        "### Question 3\n",
        "\n",
        "> Implement the pre-processing function, you can use the follwing code skeleton (you may change the output type, it is just a strong suggestion):"
      ]
    },
    {
      "cell_type": "code",
      "execution_count": null,
      "metadata": {
        "cell_ktag": "B+URKbY2kSgR",
        "id": "_9n1kgn68pOf"
      },
      "outputs": [],
      "source": [
        "def image_to_graph(\n",
        "    image: torch.Tensor, conv2d: torch.nn.Conv2d | None = None\n",
        ") -> torch_geometric.data.Data:\n",
        "    \"\"\"\n",
        "    Converts an image tensor to a PyTorch Geometric Data object.\n",
        "    COMPLETE\n",
        "\n",
        "    Arguments:\n",
        "    ----------\n",
        "    image : torch.Tensor\n",
        "        Image tensor of shape (C, H, W).\n",
        "    conv2d : torch.nn.Conv2d, optional\n",
        "        Conv2d layer to simulate, by default None\n",
        "        Is used to determine the size of the receptive field.\n",
        "\n",
        "    Returns:\n",
        "    --------\n",
        "    torch_geometric.data.Data\n",
        "        Graph representation of the image.\n",
        "    \"\"\"\n",
        "    # Assumptions (remove it for the bonus)\n",
        "    assert image.dim() == 3, f\"Expected 3D tensor, got {image.dim()}D tensor.\"\n",
        "    if conv2d is not None:\n",
        "        assert conv2d.padding[0] == conv2d.padding[1] == 1, \"Expected padding of 1 on both sides.\"\n",
        "        assert conv2d.kernel_size[0] == conv2d.kernel_size[1] == 3, \"Expected kernel size of 3x3.\"\n",
        "        assert conv2d.stride[0] == conv2d.stride[1] == 1, \"Expected stride of 1.\"\n",
        "\n",
        "    raise NotImplementedError"
      ]
    },
    {
      "cell_type": "markdown",
      "metadata": {
        "cell_ktag": "B+URKbY2kSgR",
        "id": "m0jk-d_c8pOf"
      },
      "source": [
        "### Question 4\n",
        "\n",
        "> Implement the post-processing function, you can use the follwing code skeleton:"
      ]
    },
    {
      "cell_type": "code",
      "execution_count": null,
      "metadata": {
        "cell_ktag": "B+URKbY2kSgR",
        "id": "UGKOeGNF8pOf"
      },
      "outputs": [],
      "source": [
        "def graph_to_image(\n",
        "    data: torch.Tensor, height: int, width: int, conv2d: torch.nn.Conv2d | None = None\n",
        ") -> torch.Tensor:\n",
        "    \"\"\"\n",
        "    Converts a graph representation of an image to an image tensor.\n",
        "\n",
        "    Arguments:\n",
        "    ----------\n",
        "    data : torch.Tensor\n",
        "        Graph data representation of the image.\n",
        "    height : int\n",
        "        Height of the image.\n",
        "    width : int\n",
        "        Width of the image.\n",
        "    conv2d : torch.nn.Conv2d, optional\n",
        "        Conv2d layer to simulate, by default None\n",
        "\n",
        "    Returns:\n",
        "    --------\n",
        "    torch.Tensor\n",
        "        Image tensor of shape (C, H, W).\n",
        "    \"\"\"\n",
        "    # Assumptions (remove it for the bonus)\n",
        "    assert data.dim() == 2, f\"Expected 2D tensor, got {data.dim()}D tensor.\"\n",
        "    if conv2d is not None:\n",
        "        assert conv2d.padding[0] == conv2d.padding[1] == 1, \"Expected padding of 1 on both sides.\"\n",
        "        assert conv2d.kernel_size[0] == conv2d.kernel_size[1] == 3, \"Expected kernel size of 3x3.\"\n",
        "        assert conv2d.stride[0] == conv2d.stride[1] == 1, \"Expected stride of 1.\"\n",
        "\n",
        "    raise NotImplementedError"
      ]
    },
    {
      "cell_type": "markdown",
      "metadata": {
        "cell_ktag": "B+URKbY2kSgR",
        "id": "Tn9Uvz_i8pOf"
      },
      "source": [
        "#### Recommended test cases\n",
        "\n",
        "We **encourage** you to test that you have the property that the pre-processing function followed by the post-processing function is the identity function."
      ]
    },
    {
      "cell_type": "code",
      "execution_count": null,
      "metadata": {
        "cell_ktag": "B+URKbY2kSgR",
        "id": "GOE7_far8pOf"
      },
      "outputs": [],
      "source": [
        "ref_conv = torch.nn.Conv2d(5, 7, kernel_size=3, padding=1, stride=1)\n",
        "image = torch.randn(5, 10, 11)\n",
        "g_image = image_to_graph(image, ref_conv)\n",
        "reconstructed_image = graph_to_image(g_image.x, 10, 11, ref_conv)\n",
        "assert torch.allclose(image, reconstructed_image)"
      ]
    },
    {
      "cell_type": "markdown",
      "metadata": {
        "cell_ktag": "B+URKbY2kSgR",
        "id": "SyvQ9WcD8pOf"
      },
      "source": [
        "### Question 5\n",
        "\n",
        "> Implement the `Conv2dMessagePassing` class that will simulate a 2D convolution using the `MessagePassing` formalism.\n",
        "You should inherit from the `MessagePassing` class and only change the `__init__` and `message` functions (the `forward` function has already been changed for you). You should use the following code skeleton:"
      ]
    },
    {
      "cell_type": "code",
      "execution_count": null,
      "metadata": {
        "cell_ktag": "B+URKbY2kSgR",
        "id": "UUpuJuhj8pOf"
      },
      "outputs": [],
      "source": [
        "class Conv2dMessagePassing(torch_geometric.nn.MessagePassing):\n",
        "    \"\"\"\n",
        "    A Message Passing layer that simulates a given Conv2d layer.\n",
        "    \"\"\"\n",
        "\n",
        "    def __init__(self, conv2d: torch.nn.Conv2d):\n",
        "        # <TO IMPLEMENT>\n",
        "        # Don't forget to call the parent constructor with the correct aguments\n",
        "        # super().__init__(<arguments>)\n",
        "        # </TO IMPLEMENT>\n",
        "        raise NotImplementedError\n",
        "\n",
        "    def forward(self, data):\n",
        "        self.edge_index = data.edge_index\n",
        "\n",
        "        x, edge_index, edge_attr = data.x, data.edge_index, data.edge_attr\n",
        "        out = self.propagate(edge_index, x=x, edge_attr=edge_attr)\n",
        "        return out\n",
        "\n",
        "    def message(self, x_j: torch.Tensor, edge_attr: torch.Tensor) -> torch.Tensor:\n",
        "        \"\"\"\n",
        "        Computes the message to be passed for each edge.\n",
        "        For each edge e = (u, v) in the graph indexed by i,\n",
        "        the message trough the edge e (ie from node u to node v)\n",
        "        should be returned as the i-th line of the output tensor.\n",
        "        (The message is phi(u, v, e) in the formalism.)\n",
        "        To do this you can access the features of the source node\n",
        "        in x_j[i] and the attributes of the edge in edge_attr[i].\n",
        "\n",
        "        Arguments:\n",
        "        ----------\n",
        "        x_j : torch.Tensor\n",
        "            The features of the souce node for each edge (of size E x in_channels).\n",
        "        edge_attr : torch.Tensor\n",
        "            The attributes of the edge (of size E x edge_attr_dim).\n",
        "\n",
        "        Returns:\n",
        "        --------\n",
        "        torch.Tensor\n",
        "            The message to be passed for each edge (of size COMPLETE)\n",
        "        \"\"\"\n",
        "        raise NotImplementedError\n"
      ]
    },
    {
      "cell_type": "markdown",
      "metadata": {
        "cell_ktag": "B+URKbY2kSgR",
        "id": "UT7krsc38pOg"
      },
      "source": [
        "## Test example"
      ]
    },
    {
      "cell_type": "code",
      "execution_count": null,
      "metadata": {
        "cell_ktag": "B+URKbY2kSgR",
        "id": "Wkqe-tT68pOg"
      },
      "outputs": [],
      "source": [
        "from conv_as_message_passing import image_to_graph, graph_to_image, Conv2dMessagePassing\n",
        "\n",
        "c = 5\n",
        "h = 10\n",
        "w = 11\n",
        "\n",
        "ref_conv = torch.nn.Conv2d(c, 2, kernel_size=3, padding=1, stride=1, bias=False)\n",
        "image = torch.randn(c, h, w)\n",
        "g_image = image_to_graph(image, ref_conv)\n",
        "ref_conv.weight.data = torch.randn_like(ref_conv.weight.data)\n",
        "\n",
        "conv_mp = Conv2dMessagePassing(ref_conv)\n",
        "g_image = conv_mp(g_image)\n",
        "\n",
        "y_th = ref_conv(image)\n",
        "\n",
        "ref_conv.weight.data = torch.randn_like(ref_conv.weight.data)\n",
        "reconstructed_image = graph_to_image(g_image, h, w, ref_conv)\n",
        "\n",
        "assert torch.allclose(y_th, reconstructed_image, atol=1e-4)\n"
      ]
    }
  ],
  "metadata": {
    "kernelspec": {
      "display_name": "Python 3",
      "name": "python3"
    },
    "kfiletag": "B+URKbY2kSgR",
    "language_info": {
      "codemirror_mode": {
        "name": "ipython",
        "version": 3
      },
      "file_extension": ".py",
      "mimetype": "text/x-python",
      "name": "python",
      "nbconvert_exporter": "python",
      "pygments_lexer": "ipython3",
      "version": "3.9.7"
    },
    "colab": {
      "provenance": [],
      "gpuType": "T4"
    },
    "accelerator": "GPU"
  },
  "nbformat": 4,
  "nbformat_minor": 0
}