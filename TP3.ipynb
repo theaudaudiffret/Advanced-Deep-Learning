{
  "cells": [
    {
      "cell_type": "markdown",
      "metadata": {
        "cell_ktag": "/PlDLt3cLqbp",
        "id": "W1DrjRmYKDyH"
      },
      "source": [
        "# TP 3  : Graph Neural Networks Architecture\n",
        "\n",
        "**Théo Rudkiewicz, Cyriaque Rousselot**"
      ]
    },
    {
      "cell_type": "markdown",
      "metadata": {
        "cell_ktag": "/PlDLt3cLqbp",
        "id": "q74c95hUKDyI"
      },
      "source": [
        "# TUTORIAL"
      ]
    },
    {
      "cell_type": "markdown",
      "metadata": {
        "cell_ktag": "/PlDLt3cLqbp",
        "id": "9jOQdIdzKDyJ"
      },
      "source": [
        "### Install Pytorch Geometric\n",
        "\n",
        "To handle graph data, we use the library Pytorch Geometric : https://pytorch-geometric.readthedocs.io/en/latest/\n",
        "\n",
        "*   If you use _Google Colab_, simply run the following cell to install Pytorch Geometric (**advised**).\n",
        "*   If you plan using your _own environment_, follow the documentation to install Pytorch Geometric : https://pytorch-geometric.readthedocs.io/en/latest/install/installation.html and skip the following cell."
      ]
    },
    {
      "cell_type": "code",
      "execution_count": 1,
      "metadata": {
        "cell_ktag": "/PlDLt3cLqbp",
        "colab": {
          "base_uri": "https://localhost:8080/"
        },
        "id": "MhkGmYGXKDyJ",
        "outputId": "746f0507-c283-40de-b153-5417bda6ff31"
      },
      "outputs": [
        {
          "output_type": "stream",
          "name": "stdout",
          "text": [
            "Looking in links: https://pytorch-geometric.com/whl/torch-2.5.1+cu124.html\n",
            "Requirement already satisfied: torch-scatter in /usr/local/lib/python3.11/dist-packages (2.1.2+pt25cu124)\n",
            "Looking in links: https://pytorch-geometric.com/whl/torch-2.5.1+cu124.html\n",
            "Requirement already satisfied: torch-sparse in /usr/local/lib/python3.11/dist-packages (0.6.18+pt25cu124)\n",
            "Requirement already satisfied: scipy in /usr/local/lib/python3.11/dist-packages (from torch-sparse) (1.13.1)\n",
            "Requirement already satisfied: numpy<2.3,>=1.22.4 in /usr/local/lib/python3.11/dist-packages (from scipy->torch-sparse) (1.26.4)\n",
            "Looking in links: https://pytorch-geometric.com/whl/torch-2.5.1+cu124.html\n",
            "Requirement already satisfied: torch-cluster in /usr/local/lib/python3.11/dist-packages (1.6.3+pt25cu124)\n",
            "Requirement already satisfied: scipy in /usr/local/lib/python3.11/dist-packages (from torch-cluster) (1.13.1)\n",
            "Requirement already satisfied: numpy<2.3,>=1.22.4 in /usr/local/lib/python3.11/dist-packages (from scipy->torch-cluster) (1.26.4)\n",
            "Looking in links: https://pytorch-geometric.com/whl/torch-2.5.1+cu124.html\n",
            "Requirement already satisfied: torch-spline-conv in /usr/local/lib/python3.11/dist-packages (1.2.2+pt25cu124)\n",
            "Requirement already satisfied: torch-geometric in /usr/local/lib/python3.11/dist-packages (2.6.1)\n",
            "Requirement already satisfied: aiohttp in /usr/local/lib/python3.11/dist-packages (from torch-geometric) (3.11.13)\n",
            "Requirement already satisfied: fsspec in /usr/local/lib/python3.11/dist-packages (from torch-geometric) (2024.10.0)\n",
            "Requirement already satisfied: jinja2 in /usr/local/lib/python3.11/dist-packages (from torch-geometric) (3.1.6)\n",
            "Requirement already satisfied: numpy in /usr/local/lib/python3.11/dist-packages (from torch-geometric) (1.26.4)\n",
            "Requirement already satisfied: psutil>=5.8.0 in /usr/local/lib/python3.11/dist-packages (from torch-geometric) (5.9.5)\n",
            "Requirement already satisfied: pyparsing in /usr/local/lib/python3.11/dist-packages (from torch-geometric) (3.2.1)\n",
            "Requirement already satisfied: requests in /usr/local/lib/python3.11/dist-packages (from torch-geometric) (2.32.3)\n",
            "Requirement already satisfied: tqdm in /usr/local/lib/python3.11/dist-packages (from torch-geometric) (4.67.1)\n",
            "Requirement already satisfied: aiohappyeyeballs>=2.3.0 in /usr/local/lib/python3.11/dist-packages (from aiohttp->torch-geometric) (2.5.0)\n",
            "Requirement already satisfied: aiosignal>=1.1.2 in /usr/local/lib/python3.11/dist-packages (from aiohttp->torch-geometric) (1.3.2)\n",
            "Requirement already satisfied: attrs>=17.3.0 in /usr/local/lib/python3.11/dist-packages (from aiohttp->torch-geometric) (25.1.0)\n",
            "Requirement already satisfied: frozenlist>=1.1.1 in /usr/local/lib/python3.11/dist-packages (from aiohttp->torch-geometric) (1.5.0)\n",
            "Requirement already satisfied: multidict<7.0,>=4.5 in /usr/local/lib/python3.11/dist-packages (from aiohttp->torch-geometric) (6.1.0)\n",
            "Requirement already satisfied: propcache>=0.2.0 in /usr/local/lib/python3.11/dist-packages (from aiohttp->torch-geometric) (0.3.0)\n",
            "Requirement already satisfied: yarl<2.0,>=1.17.0 in /usr/local/lib/python3.11/dist-packages (from aiohttp->torch-geometric) (1.18.3)\n",
            "Requirement already satisfied: MarkupSafe>=2.0 in /usr/local/lib/python3.11/dist-packages (from jinja2->torch-geometric) (3.0.2)\n",
            "Requirement already satisfied: charset-normalizer<4,>=2 in /usr/local/lib/python3.11/dist-packages (from requests->torch-geometric) (3.4.1)\n",
            "Requirement already satisfied: idna<4,>=2.5 in /usr/local/lib/python3.11/dist-packages (from requests->torch-geometric) (3.10)\n",
            "Requirement already satisfied: urllib3<3,>=1.21.1 in /usr/local/lib/python3.11/dist-packages (from requests->torch-geometric) (2.3.0)\n",
            "Requirement already satisfied: certifi>=2017.4.17 in /usr/local/lib/python3.11/dist-packages (from requests->torch-geometric) (2025.1.31)\n"
          ]
        }
      ],
      "source": [
        "########## INSTALL TORCH GEOMETRIC ##################\n",
        "# https://pytorch-geometric.readthedocs.io/en/latest/\n",
        "#####################################################\n",
        "import torch\n",
        "\n",
        "\n",
        "def format_pytorch_version(version):\n",
        "    return version.split(\"+\")[0]\n",
        "\n",
        "\n",
        "TORCH_version = torch.__version__\n",
        "TORCH = format_pytorch_version(TORCH_version)\n",
        "\n",
        "\n",
        "def format_cuda_version(version):\n",
        "    return \"cu\" + version.replace(\".\", \"\")\n",
        "\n",
        "\n",
        "CUDA_version = torch.version.cuda\n",
        "CUDA = format_cuda_version(CUDA_version)\n",
        "\n",
        "!pip install torch-scatter     -f https://pytorch-geometric.com/whl/torch-{TORCH}+{CUDA}.html\n",
        "!pip install torch-sparse      -f https://pytorch-geometric.com/whl/torch-{TORCH}+{CUDA}.html\n",
        "!pip install torch-cluster     -f https://pytorch-geometric.com/whl/torch-{TORCH}+{CUDA}.html\n",
        "!pip install torch-spline-conv -f https://pytorch-geometric.com/whl/torch-{TORCH}+{CUDA}.html\n",
        "!pip install torch-geometric\n"
      ]
    },
    {
      "cell_type": "markdown",
      "metadata": {
        "cell_ktag": "/PlDLt3cLqbp",
        "id": "B1f-SaodKDyK"
      },
      "source": [
        "### Import required packages\n",
        "\n",
        "Run the following cell to import all required packages. This cell **must not** be modified.\n",
        "\n",
        "To significantly accelerate your training, it is advised to use GPU. Using Google Colab, you need to activate it :\n",
        "\n",
        "*   Edit --> Notebook Setting --> Hardware accelerator --> GPU"
      ]
    },
    {
      "cell_type": "code",
      "execution_count": 7,
      "metadata": {
        "cell_ktag": "/PlDLt3cLqbp",
        "id": "9OsinppxKDyK",
        "colab": {
          "base_uri": "https://localhost:8080/",
          "height": 356
        },
        "outputId": "1256c4b6-d855-402c-d6d5-33061cdf8354"
      },
      "outputs": [
        {
          "output_type": "error",
          "ename": "AttributeError",
          "evalue": "partially initialized module 'torch_geometric' has no attribute 'typing' (most likely due to a circular import)",
          "traceback": [
            "\u001b[0;31m---------------------------------------------------------------------------\u001b[0m",
            "\u001b[0;31mAttributeError\u001b[0m                            Traceback (most recent call last)",
            "\u001b[0;32m<ipython-input-7-dea47d7ab212>\u001b[0m in \u001b[0;36m<cell line: 0>\u001b[0;34m()\u001b[0m\n\u001b[1;32m      6\u001b[0m \u001b[0;34m\u001b[0m\u001b[0m\n\u001b[1;32m      7\u001b[0m \u001b[0;32mimport\u001b[0m \u001b[0mtorch\u001b[0m\u001b[0;34m.\u001b[0m\u001b[0mnn\u001b[0m \u001b[0;32mas\u001b[0m \u001b[0mnn\u001b[0m\u001b[0;34m\u001b[0m\u001b[0;34m\u001b[0m\u001b[0m\n\u001b[0;32m----> 8\u001b[0;31m \u001b[0;32mimport\u001b[0m \u001b[0mtorch_geometric\u001b[0m\u001b[0;34m.\u001b[0m\u001b[0mnn\u001b[0m \u001b[0;32mas\u001b[0m \u001b[0mgraphnn\u001b[0m\u001b[0;34m\u001b[0m\u001b[0;34m\u001b[0m\u001b[0m\n\u001b[0m\u001b[1;32m      9\u001b[0m \u001b[0;32mfrom\u001b[0m \u001b[0msklearn\u001b[0m\u001b[0;34m.\u001b[0m\u001b[0mmetrics\u001b[0m \u001b[0;32mimport\u001b[0m \u001b[0mf1_score\u001b[0m\u001b[0;34m\u001b[0m\u001b[0;34m\u001b[0m\u001b[0m\n\u001b[1;32m     10\u001b[0m \u001b[0;32mfrom\u001b[0m \u001b[0mtorch_geometric\u001b[0m\u001b[0;34m.\u001b[0m\u001b[0mdatasets\u001b[0m \u001b[0;32mimport\u001b[0m \u001b[0mPPI\u001b[0m\u001b[0;34m\u001b[0m\u001b[0;34m\u001b[0m\u001b[0m\n",
            "\u001b[0;32m/usr/local/lib/python3.11/dist-packages/torch_geometric/__init__.py\u001b[0m in \u001b[0;36m<module>\u001b[0;34m\u001b[0m\n\u001b[1;32m     11\u001b[0m \u001b[0;32mfrom\u001b[0m \u001b[0;34m.\u001b[0m\u001b[0mhome\u001b[0m \u001b[0;32mimport\u001b[0m \u001b[0mget_home_dir\u001b[0m\u001b[0;34m,\u001b[0m \u001b[0mset_home_dir\u001b[0m\u001b[0;34m\u001b[0m\u001b[0;34m\u001b[0m\u001b[0m\n\u001b[1;32m     12\u001b[0m \u001b[0;32mfrom\u001b[0m \u001b[0;34m.\u001b[0m\u001b[0mdevice\u001b[0m \u001b[0;32mimport\u001b[0m \u001b[0mis_mps_available\u001b[0m\u001b[0;34m,\u001b[0m \u001b[0mis_xpu_available\u001b[0m\u001b[0;34m,\u001b[0m \u001b[0mdevice\u001b[0m\u001b[0;34m\u001b[0m\u001b[0;34m\u001b[0m\u001b[0m\n\u001b[0;32m---> 13\u001b[0;31m \u001b[0;32mfrom\u001b[0m \u001b[0;34m.\u001b[0m\u001b[0misinstance\u001b[0m \u001b[0;32mimport\u001b[0m \u001b[0mis_torch_instance\u001b[0m\u001b[0;34m\u001b[0m\u001b[0;34m\u001b[0m\u001b[0m\n\u001b[0m\u001b[1;32m     14\u001b[0m \u001b[0;32mfrom\u001b[0m \u001b[0;34m.\u001b[0m\u001b[0mdebug\u001b[0m \u001b[0;32mimport\u001b[0m \u001b[0mis_debug_enabled\u001b[0m\u001b[0;34m,\u001b[0m \u001b[0mdebug\u001b[0m\u001b[0;34m,\u001b[0m \u001b[0mset_debug\u001b[0m\u001b[0;34m\u001b[0m\u001b[0;34m\u001b[0m\u001b[0m\n\u001b[1;32m     15\u001b[0m \u001b[0;34m\u001b[0m\u001b[0m\n",
            "\u001b[0;32m/usr/local/lib/python3.11/dist-packages/torch_geometric/isinstance.py\u001b[0m in \u001b[0;36m<module>\u001b[0;34m\u001b[0m\n\u001b[1;32m      5\u001b[0m \u001b[0;32mimport\u001b[0m \u001b[0mtorch_geometric\u001b[0m\u001b[0;34m.\u001b[0m\u001b[0mtyping\u001b[0m\u001b[0;34m\u001b[0m\u001b[0;34m\u001b[0m\u001b[0m\n\u001b[1;32m      6\u001b[0m \u001b[0;34m\u001b[0m\u001b[0m\n\u001b[0;32m----> 7\u001b[0;31m \u001b[0;32mif\u001b[0m \u001b[0mtorch_geometric\u001b[0m\u001b[0;34m.\u001b[0m\u001b[0mtyping\u001b[0m\u001b[0;34m.\u001b[0m\u001b[0mWITH_PT20\u001b[0m\u001b[0;34m:\u001b[0m\u001b[0;34m\u001b[0m\u001b[0;34m\u001b[0m\u001b[0m\n\u001b[0m\u001b[1;32m      8\u001b[0m     \u001b[0;32mimport\u001b[0m \u001b[0mtorch\u001b[0m\u001b[0;34m.\u001b[0m\u001b[0m_dynamo\u001b[0m\u001b[0;34m\u001b[0m\u001b[0;34m\u001b[0m\u001b[0m\n\u001b[1;32m      9\u001b[0m \u001b[0;34m\u001b[0m\u001b[0m\n",
            "\u001b[0;31mAttributeError\u001b[0m: partially initialized module 'torch_geometric' has no attribute 'typing' (most likely due to a circular import)"
          ]
        }
      ],
      "source": [
        "#####################################################\n",
        "################## PACKAGES #########################\n",
        "#####################################################\n",
        "import numpy as np\n",
        "import matplotlib.pyplot as plt\n",
        "\n",
        "import torch.nn as nn\n",
        "import torch_geometric.nn as graphnn\n",
        "from sklearn.metrics import f1_score\n",
        "from torch_geometric.datasets import PPI\n",
        "from torch_geometric.loader import DataLoader"
      ]
    },
    {
      "cell_type": "markdown",
      "metadata": {
        "cell_ktag": "/PlDLt3cLqbp",
        "id": "i63agkMnKDyK"
      },
      "source": [
        "### Dataset\n",
        "\n",
        "We use the Protein-Protein Interaction (PPI) network dataset which includes:\n",
        "- 20 graphs for training\n",
        "- 2 graphs for validation\n",
        "- 2 graphs for testing\n",
        "\n",
        "One graph of the PPI dataset has on average 2372 nodes. Each node has:\n",
        "- 50 features : positional gene sets / motif gene / immunological signatures ...\n",
        "- 121 (binary) labels : gene ontology sets (way to classify gene products like proteins).\n",
        "\n",
        "**This problem aims to predict, for a given PPI graph, the correct nodes' labels**.\n",
        "\n",
        "**It is a node (multi-label) classification task** (trained using supervised learning, with labels to be predicted for each node).\n",
        "\n",
        "For your curiosity, more detailed information on the dataset and some applications:\n",
        "- https://cs.stanford.edu/~jure/pubs/pathways-psb18.pdf\n",
        "- https://arxiv.org/abs/1707.04638\n",
        "\n",
        "To understand how a graph data is implemented in Pytorch Geometric, refer to : https://pytorch-geometric.readthedocs.io/en/latest/get_started/introduction.html\n"
      ]
    },
    {
      "cell_type": "code",
      "execution_count": null,
      "metadata": {
        "cell_ktag": "/PlDLt3cLqbp",
        "id": "814oU_BrKDyK"
      },
      "outputs": [],
      "source": [
        "### LOAD DATASETS\n",
        "\n",
        "BATCH_SIZE = 2\n",
        "\n",
        "# Train Dataset\n",
        "train_dataset = PPI(root=\"\", split=\"train\")\n",
        "train_dataloader = DataLoader(train_dataset, batch_size=BATCH_SIZE)\n",
        "# Val Dataset\n",
        "val_dataset = PPI(root=\"\", split=\"val\")\n",
        "val_dataloader = DataLoader(val_dataset, batch_size=BATCH_SIZE)\n",
        "# Test Dataset\n",
        "test_dataset = PPI(root=\"\", split=\"test\")\n",
        "test_dataloader = DataLoader(test_dataset, batch_size=BATCH_SIZE)\n",
        "\n",
        "# Number of features and classes\n",
        "n_features, n_classes = train_dataset[0].x.shape[1], train_dataset[0].y.shape[1]\n",
        "\n",
        "print(\"Number of samples in the train dataset: \", len(train_dataset))\n",
        "print(\"Number of samples in the val dataset: \", len(test_dataset))\n",
        "print(\"Number of samples in the test dataset: \", len(test_dataset))\n",
        "print(\"Output of one sample from the train dataset: \", train_dataset[0])\n",
        "print(\"Edge_index :\")\n",
        "print(train_dataset[0].edge_index)\n",
        "print(\"Number of features per node: \", n_features)\n",
        "print(\"Number of classes per node: \", n_classes)"
      ]
    },
    {
      "cell_type": "markdown",
      "metadata": {
        "cell_ktag": "/PlDLt3cLqbp",
        "id": "xDBiC6kyKDyK"
      },
      "source": [
        "### Define a basic Model"
      ]
    },
    {
      "cell_type": "markdown",
      "metadata": {
        "cell_ktag": "/PlDLt3cLqbp",
        "id": "q849i_CBKDyK"
      },
      "source": [
        "Here we define a very simple Graph Neural Network model which will be used as our baseline. This model consists of three graph convolutional layers (from https://arxiv.org/pdf/1609.02907.pdf). The first two layers computes 256 features, followed by an ELU activation function. The last layer is used for (multi-label) classification task, computing 121 features (for each node)."
      ]
    },
    {
      "cell_type": "code",
      "execution_count": null,
      "metadata": {
        "cell_ktag": "/PlDLt3cLqbp",
        "id": "-y3egROjKDyL"
      },
      "outputs": [],
      "source": [
        "#####################################################\n",
        "################## MODEL ############################\n",
        "#####################################################\n",
        "class BasicGraphModel(nn.Module):\n",
        "    def __init__(self, input_size, hidden_size, output_size):\n",
        "        super().__init__()\n",
        "\n",
        "        self.graphconv1 = graphnn.GCNConv(input_size, hidden_size)\n",
        "        self.graphconv2 = graphnn.GCNConv(hidden_size, hidden_size)\n",
        "        self.graphconv3 = graphnn.GCNConv(hidden_size, output_size)\n",
        "\n",
        "        self.elu = nn.ELU()\n",
        "\n",
        "    def forward(self, x, edge_index):\n",
        "        x = self.graphconv1(x, edge_index)\n",
        "        x = self.elu(x)\n",
        "        x = self.graphconv2(x, edge_index)\n",
        "        x = self.elu(x)\n",
        "        x = self.graphconv3(x, edge_index)\n",
        "\n",
        "        return x"
      ]
    },
    {
      "cell_type": "code",
      "source": [
        "import torch\n",
        "import torch.nn as nn\n",
        "import torch.nn.functional as F\n",
        "from torch_geometric.nn import GATConv\n",
        "\n",
        "class BasicGraphModel(nn.Module):\n",
        "    def __init__(self, input_size, hidden_size, output_size, heads=4, dropout=0.1):\n",
        "        super().__init__()\n",
        "\n",
        "        self.gatconv1 = GATConv(input_size, hidden_size, heads=heads, dropout=dropout)\n",
        "        self.gatconv2 = GATConv(hidden_size * heads, hidden_size, heads=heads, dropout=dropout)\n",
        "        self.gatconv3 = GATConv(hidden_size * heads, output_size, heads=6, concat=False, dropout=dropout)\n",
        "\n",
        "        self.elu = nn.ELU()\n",
        "        self.dropout = nn.Dropout(dropout)\n",
        "\n",
        "        # Projection layers for skip connections (to match dimensions)\n",
        "        self.proj1 = nn.Linear(input_size, hidden_size * heads) if input_size != hidden_size * heads else nn.Identity()\n",
        "        self.proj2 = nn.Linear(hidden_size * heads, hidden_size * heads) if hidden_size * heads != hidden_size * heads else nn.Identity()\n",
        "        self.proj3 = nn.Linear(hidden_size * heads, output_size) if hidden_size * heads != output_size else nn.Identity()\n",
        "\n",
        "    def forward(self, x, edge_index):\n",
        "        # First GAT layer with skip connection\n",
        "        identity1 = self.proj1(x)\n",
        "        x = self.gatconv1(x, edge_index)\n",
        "        x = self.elu(x) + identity1\n",
        "        x = self.dropout(x)\n",
        "\n",
        "        # Second GAT layer with skip connection\n",
        "        identity2 = self.proj2(x)\n",
        "        x = self.gatconv2(x, edge_index)\n",
        "        x = self.elu(x) + identity2\n",
        "        x = self.dropout(x)\n",
        "\n",
        "        # Third GAT layer with skip connection, plus skip from input\n",
        "        identity3 = self.proj3(x)\n",
        "        x = self.gatconv3(x, edge_index)\n",
        "        x = x + identity3\n",
        "\n",
        "        return x\n"
      ],
      "metadata": {
        "id": "fP7p-NMLWk7K"
      },
      "execution_count": null,
      "outputs": []
    },
    {
      "cell_type": "markdown",
      "metadata": {
        "cell_ktag": "/PlDLt3cLqbp",
        "id": "cdjqawrYKDyL"
      },
      "source": [
        "Next function is designed to evaluate the performance of the model, computing the F1-Score"
      ]
    },
    {
      "cell_type": "code",
      "execution_count": null,
      "metadata": {
        "cell_ktag": "/PlDLt3cLqbp",
        "id": "eHvzoXQkKDyL"
      },
      "outputs": [],
      "source": [
        "#####################################################\n",
        "############### TEST FUNCTION #######################\n",
        "#####################################################\n",
        "def evaluate(model, loss_fcn, device, dataloader):\n",
        "    score_list_batch = []\n",
        "\n",
        "    model.eval()\n",
        "    for i, batch in enumerate(dataloader):\n",
        "        batch = batch.to(device)\n",
        "        output = model(batch.x, batch.edge_index)\n",
        "        loss_test = loss_fcn(output, batch.y)\n",
        "        predict = np.where(output.detach().cpu().numpy() >= 0, 1, 0)\n",
        "        score = f1_score(batch.y.cpu().numpy(), predict, average=\"micro\")\n",
        "        score_list_batch.append(score)\n",
        "\n",
        "    return np.array(score_list_batch).mean()"
      ]
    },
    {
      "cell_type": "markdown",
      "metadata": {
        "cell_ktag": "/PlDLt3cLqbp",
        "id": "HQEnMNWpKDyL"
      },
      "source": [
        "Next we construct the function to train the model."
      ]
    },
    {
      "cell_type": "code",
      "execution_count": null,
      "metadata": {
        "cell_ktag": "/PlDLt3cLqbp",
        "id": "qFHivva9KDyL"
      },
      "outputs": [],
      "source": [
        "#####################################################\n",
        "############## TRAIN FUNCTION #######################\n",
        "#####################################################\n",
        "def train(model, loss_fcn, device, optimizer, max_epochs, train_dataloader, val_dataloader):\n",
        "    epoch_list = []\n",
        "    scores_list = []\n",
        "\n",
        "    # loop over epochs\n",
        "    for epoch in range(max_epochs):\n",
        "        model.train()\n",
        "        losses = []\n",
        "        # loop over batches\n",
        "        for i, train_batch in enumerate(train_dataloader):\n",
        "            optimizer.zero_grad()\n",
        "            train_batch_device = train_batch.to(device)\n",
        "            # logits is the output of the model\n",
        "            logits = model(train_batch_device.x, train_batch_device.edge_index)\n",
        "            # compute the loss\n",
        "            loss = loss_fcn(logits, train_batch_device.y)\n",
        "            # optimizer step\n",
        "            loss.backward()\n",
        "            optimizer.step()\n",
        "            losses.append(loss.item())\n",
        "        loss_data = np.array(losses).mean()\n",
        "        print(\"Epoch {:05d} | Loss: {:.4f}\".format(epoch + 1, loss_data))\n",
        "\n",
        "        if epoch % 5 == 0:\n",
        "            # evaluate the model on the validation set\n",
        "            # computes the f1-score (see next function)\n",
        "            score = evaluate(model, loss_fcn, device, val_dataloader)\n",
        "            print(\"F1-Score: {:.4f}\".format(score))\n",
        "            scores_list.append(score)\n",
        "            epoch_list.append(epoch)\n",
        "\n",
        "    return epoch_list, scores_list"
      ]
    },
    {
      "cell_type": "markdown",
      "metadata": {
        "cell_ktag": "/PlDLt3cLqbp",
        "id": "nY8OzA-AKDyL"
      },
      "source": [
        "Let's train this model !"
      ]
    },
    {
      "cell_type": "code",
      "execution_count": null,
      "metadata": {
        "cell_ktag": "/PlDLt3cLqbp",
        "id": "likUw7RkKDyL"
      },
      "outputs": [],
      "source": [
        "### DEVICE GPU OR CPU : will select GPU if available\n",
        "device = torch.device(\"cuda\" if torch.cuda.is_available() else \"cpu\")\n",
        "print(\"\\nDevice: \", device)\n",
        "\n",
        "### Max number of epochs\n",
        "max_epochs = 10\n",
        "\n",
        "### DEFINE THE MODEL\n",
        "basic_model = BasicGraphModel(input_size=n_features, hidden_size=256, output_size=n_classes, heads=6).to(\n",
        "    device\n",
        ")\n",
        "\n",
        "### DEFINE LOSS FUNCTION\n",
        "loss_fcn = nn.BCEWithLogitsLoss()\n",
        "\n",
        "### DEFINE OPTIMIZER\n",
        "optimizer = torch.optim.Adam(basic_model.parameters(), lr=0.005)\n",
        "\n",
        "### TRAIN THE MODEL\n",
        "epoch_list, basic_model_scores = train(\n",
        "    basic_model,\n",
        "    loss_fcn,\n",
        "    device,\n",
        "    optimizer,\n",
        "    max_epochs,\n",
        "    train_dataloader,\n",
        "    val_dataloader,\n",
        ")\n"
      ]
    },
    {
      "cell_type": "markdown",
      "metadata": {
        "cell_ktag": "/PlDLt3cLqbp",
        "id": "8ZIZBhwdKDyL"
      },
      "source": [
        "Let's evaluate the performance of this basic model"
      ]
    },
    {
      "cell_type": "code",
      "execution_count": null,
      "metadata": {
        "cell_ktag": "/PlDLt3cLqbp",
        "id": "14iA0UhVKDyM"
      },
      "outputs": [],
      "source": [
        "### F1-SCORE ON VALID DATASET\n",
        "score_valid = evaluate(basic_model, loss_fcn, device, val_dataloader)\n",
        "print(\"Basic Model : F1-Score on the validation set: {:.4f}\".format(score_valid))\n",
        "\n",
        "\n",
        "### PLOT EVOLUTION OF F1-SCORE W.R.T EPOCHS\n",
        "def plot_f1_score(epoch_list, scores):\n",
        "    plt.figure(figsize=[10, 5])\n",
        "    plt.plot(epoch_list, scores)\n",
        "    plt.title(\"Evolution of F1-Score w.r.t epochs\")\n",
        "    plt.ylim([0.0, 1.0])\n",
        "    plt.show()\n",
        "\n",
        "\n",
        "plot_f1_score(epoch_list, basic_model_scores)"
      ]
    },
    {
      "cell_type": "markdown",
      "metadata": {
        "cell_ktag": "/PlDLt3cLqbp",
        "id": "1JAoWUvrKDyM"
      },
      "source": [
        "# QUESTIONS\n",
        "\n",
        "## Grading\n",
        "\n",
        "You will be graded on 5 questions. You will need to provide at least 4 files :\n",
        "1. This Notebook\n",
        "2. `class_model_gnn.py`\n",
        "3. `model.pth` (the file **must be of size less than 50Mo** but 20Mo should be enough to get a very good model)\n",
        "4. `conv_as_message_passing.py`\n",
        "\n",
        "If the function you defined passes all the tests, you will get the full grade. Otherwise we  will look at the intermediate questions in the notebook to give you partial credit.\n",
        "\n",
        "\n",
        "\n",
        " Please provide clear, short and __bold font__ answers.  "
      ]
    },
    {
      "cell_type": "markdown",
      "metadata": {
        "cell_ktag": "/PlDLt3cLqbp",
        "id": "lBDJH-5rKDyM"
      },
      "source": [
        "> Question 1 : Design, build and train a model with a F1-score higher than 93% on validation set (**HINT :** https://arxiv.org/pdf/1710.10903.pdf).\n"
      ]
    },
    {
      "cell_type": "markdown",
      "metadata": {
        "cell_ktag": "/PlDLt3cLqbp",
        "id": "K6b21wqVKDyM"
      },
      "source": [
        " Provide two files : (https://pytorch.org/tutorials/beginner/saving_loading_models.html)\n",
        " -  a file  `class_model_gnn.py` containing the class inheriting from `torch.nn.Module` architecture of your final model to load\n",
        " -  a `model.pth` file : the model weights\n",
        "\n",
        " We will  test your model on final F1-Score on a test set. You must not use the test set for hyperparameter training.\n",
        "\n",
        "Intermediate question :\n",
        "\n",
        " Provide the script for training, and a plot of the training loss.  "
      ]
    },
    {
      "cell_type": "code",
      "source": [
        "import torch\n",
        "import torch.nn as nn\n",
        "import torch.nn.functional as F\n",
        "from torch_geometric.nn import GATConv\n",
        "\n",
        "class StudentModel(nn.Module):\n",
        "    def __init__(self, input_size, hidden_size, output_size, heads_1=8, heads_2=10, dropout=0.1):\n",
        "        super().__init__()\n",
        "\n",
        "        self.gatconv1 = GATConv(input_size, hidden_size, heads=heads_1, dropout=dropout)\n",
        "        self.gatconv2 = GATConv(hidden_size * heads_1, hidden_size, heads=heads_1, dropout=dropout)\n",
        "        self.gatconv3 = GATConv(hidden_size * heads_1, output_size, heads=heads_2, concat=False, dropout=dropout)\n",
        "\n",
        "        self.elu = nn.ELU()\n",
        "        self.dropout = nn.Dropout(dropout)\n",
        "\n",
        "        # Projection layers for skip connections (to match dimensions)\n",
        "        self.proj1 = nn.Linear(input_size, hidden_size * heads_1)\n",
        "        self.proj2 = nn.Identity()\n",
        "        self.proj3 = nn.Linear(hidden_size * heads_1, output_size)\n",
        "\n",
        "    def forward(self, x, edge_index):\n",
        "        # First GAT layer with skip connection\n",
        "        identity1 = self.proj1(x)\n",
        "        x = self.gatconv1(x, edge_index)\n",
        "        x = self.elu(x) + identity1\n",
        "        x = self.dropout(x)\n",
        "\n",
        "        # Second GAT layer with skip connection\n",
        "        identity2 = self.proj2(x)\n",
        "        x = self.gatconv2(x, edge_index)\n",
        "        x = self.elu(x) + identity2\n",
        "        x = self.dropout(x)\n",
        "\n",
        "        # Third GAT layer with skip connection, plus skip from input\n",
        "        identity3 = self.proj3(x)\n",
        "        x = self.gatconv3(x, edge_index)\n",
        "        x = x + identity3\n",
        "\n",
        "        return x\n",
        "\n",
        "    def _initialize_weights(self):\n",
        "        for m in self.modules():\n",
        "            if isinstance(m, GATConv):\n",
        "                for param in m.parameters():\n",
        "                    if param.dim() > 1:  # Only apply Xavier to weight matrices\n",
        "                        nn.init.xavier_normal_(param)\n"
      ],
      "metadata": {
        "id": "T1e67iF28xph"
      },
      "execution_count": null,
      "outputs": []
    },
    {
      "cell_type": "code",
      "source": [
        "def train_student(model, loss_fcn, device, optimizer, max_epochs, train_dataloader, val_dataloader):\n",
        "    epoch_list = []\n",
        "    scores_list = []\n",
        "    all_losses = []\n",
        "    # loop over epochs\n",
        "    for epoch in range(max_epochs):\n",
        "        model.train()\n",
        "        losses = []\n",
        "        # loop over batches\n",
        "        for i, train_batch in enumerate(train_dataloader):\n",
        "            optimizer.zero_grad()\n",
        "            train_batch_device = train_batch.to(device)\n",
        "            # logits is the output of the model\n",
        "            logits = model(train_batch_device.x, train_batch_device.edge_index)\n",
        "            # compute the loss\n",
        "            loss = loss_fcn(logits, train_batch_device.y)\n",
        "            # optimizer step\n",
        "            loss.backward()\n",
        "            optimizer.step()\n",
        "            all_losses.append(loss.item())\n",
        "        loss_data = np.array(losses).mean()\n",
        "        print(\"Epoch {:05d} | Loss: {:.4f}\".format(epoch + 1, loss_data))\n",
        "\n",
        "        if epoch % 5 == 0:\n",
        "            # evaluate the model on the validation set\n",
        "            # computes the f1-score (see next function)\n",
        "            score = evaluate(model, loss_fcn, device, val_dataloader)\n",
        "            print(\"F1-Score: {:.4f}\".format(score))\n",
        "            scores_list.append(score)\n",
        "            epoch_list.append(epoch)\n",
        "        losses.append(loss_data)\n",
        "\n",
        "    return epoch_list, scores_list, all_losses"
      ],
      "metadata": {
        "id": "EAeERX7q8fj-"
      },
      "execution_count": null,
      "outputs": []
    },
    {
      "cell_type": "code",
      "source": [
        "### DEVICE GPU OR CPU : will select GPU if available\n",
        "device = torch.device(\"cuda\" if torch.cuda.is_available() else \"cpu\")\n",
        "print(\"\\nDevice: \", device)\n",
        "\n",
        "### Max number of epochs\n",
        "max_epochs = 160\n",
        "\n",
        "### DEFINE THE MODEL\n",
        "model = StudentModel(input_size=n_features, hidden_size=256, output_size=n_classes, heads_1=8, heads_2=12).to(\n",
        "    device\n",
        ")\n",
        "\n",
        "### DEFINE LOSS FUNCTION\n",
        "loss_fcn = nn.BCEWithLogitsLoss()\n",
        "\n",
        "### DEFINE OPTIMIZER\n",
        "optimizer = torch.optim.Adam(model.parameters(), lr=0.0025)\n",
        "\n",
        "### TRAIN THE MODEL\n",
        "epoch_list, model_scores, losses = train_student(\n",
        "    model,\n",
        "    loss_fcn,\n",
        "    device,\n",
        "    optimizer,\n",
        "    max_epochs,\n",
        "    train_dataloader,\n",
        "    val_dataloader,\n",
        ")"
      ],
      "metadata": {
        "id": "FGQJUAIf8ndO"
      },
      "execution_count": null,
      "outputs": []
    },
    {
      "cell_type": "code",
      "source": [
        "### F1-SCORE ON VALID DATASET\n",
        "score_valid = evaluate(model, loss_fcn, device, val_dataloader)\n",
        "print(\"Basic Model : F1-Score on the validation set: {:.4f}\".format(score_valid))\n",
        "\n",
        "\n",
        "### PLOT EVOLUTION OF F1-SCORE W.R.T EPOCHS\n",
        "def plot_f1_score(epoch_list, scores):\n",
        "    plt.figure(figsize=[10, 5])\n",
        "    plt.plot(epoch_list, scores)\n",
        "    plt.title(\"Evolution of F1-Score w.r.t epochs\")\n",
        "    plt.ylim([0.0, 1.0])\n",
        "    plt.show()\n",
        "\n",
        "\n",
        "plot_f1_score(epoch_list, model_scores)"
      ],
      "metadata": {
        "id": "tj7NUJn-ZC38"
      },
      "execution_count": null,
      "outputs": []
    },
    {
      "cell_type": "code",
      "execution_count": null,
      "metadata": {
        "cell_ktag": "/PlDLt3cLqbp",
        "id": "zrTacHJTKDyM"
      },
      "outputs": [],
      "source": [
        "# import torch\n",
        "# import torch.nn as nn\n",
        "# import torch.nn.functional as F\n",
        "\n",
        "# # Initialize model\n",
        "# model = StudentModel()\n",
        "\n",
        "# ## Save the model\n",
        "# torch.save(model.state_dict(), \"model.pth\")\n",
        "\n",
        "\n",
        "# ### This is the part we will run in the inference to grade your model\n",
        "# ## Load the model\n",
        "# model = StudentModel()  # !  Important : No argument\n",
        "# model.load_state_dict(torch.load(\"model.pth\", weights_only=True))\n",
        "# model.eval()\n",
        "# print(\"Model loaded successfully\")\n"
      ]
    },
    {
      "cell_type": "code",
      "source": [
        "plt.plot(range(1600), losses)\n"
      ],
      "metadata": {
        "id": "AmYVqwCp8HZf"
      },
      "execution_count": null,
      "outputs": []
    },
    {
      "cell_type": "markdown",
      "metadata": {
        "cell_ktag": "/PlDLt3cLqbp",
        "id": "NP1ENRqoKDyM"
      },
      "source": [
        "## Conv 2D as Message Passing Neural Network\n",
        "\n",
        "\n",
        "## Introduction\n",
        "\n",
        "The use of graph is a way to structure data by adding neighborhood information between features. This then allows to do operations on the data that are local to each node and its neighbors. This is the main idea behind Graph Neural Networks (GNNs). [`pytorch-geometric`](https://pytorch-geometric.readthedocs.io/en/latest/) is a library compatible with PyTorch that allows to easily implement GNNs. The most general structure is the [`MessagePassing`](https://pytorch-geometric.readthedocs.io/en/latest/generated/torch_geometric.nn.conv.MessagePassing.html#torch_geometric.nn.conv.MessagePassing) class that is then used as a base for more specific GNNs as seen in the course ([Graph Convolutional Networks](https://pytorch-geometric.readthedocs.io/en/latest/generated/torch_geometric.nn.conv.GCNConv.html#torch_geometric.nn.conv.GCNConv) or [Graph AttenTion Convolution](https://pytorch-geometric.readthedocs.io/en/latest/generated/torch_geometric.nn.conv.GATConv.html#torch_geometric.nn.conv.GATConv)).\n",
        "\n",
        "On the other hand, you already know an operation that uses the structure of the data to do local operations: the convolution (https://pytorch.org/docs/stable/generated/torch.nn.Conv2d.html). One can see the convolution as a specific case of the message passing neural network. The goal of this notebook is to show how to use the `MessagePassing` class to implement a convolutional neural network.\n",
        "You will be asked to implement 3 functions. You should give back those three functions in a file named `conv_as_message_passing.py`. These functions will then be automatically tested. So be sure to respect the function signature and the function name.\n",
        "\n",
        "\n",
        "## Assumptions\n",
        "\n",
        "To make the implementation easier we will make some assumptions:\n",
        "- the input is a single image (batch size of 1) of size 'C x H x W'\n",
        "- the convolution will be a 3x3 kernel with stride 1 and padding 1.\n",
        "\n",
        "You may also assume that the Conv2D layer has no bias but it will be slightly penalized in the grading.\n",
        "\n",
        "Bonus points will be given if you can handle the cases that are not covered by those assumptions.\n",
        "\n",
        "\n",
        "## Questions\n",
        "\n",
        "### Question 2\n",
        "\n",
        "> Using the formalism used in the [`MessagePassing`](https://pytorch-geometric.readthedocs.io/en/latest/generated/torch_geometric.nn.conv.MessagePassing.html#torch_geometric.nn.conv.MessagePassing) documentation (and on [wikipedia](https://en.wikipedia.org/wiki/Graph_neural_network#Message_passing_layers) with sligthly different notations), explain how theorically you can simulate a 2D convolution using the `MessagePassing` formalism. This may include a pre-processing step to transform the image into a graph and then a post-processing step to transform the graph back into an image. (:warning: Those steps should be independent of the parameters of the convolution, but not necessarily from the hyper-parameters.)\n",
        "$$\\mathbf{x}_{i}^{\\prime} = \\gamma_{\\mathbf{\\Theta}}\\left( \\mathbf{x}_{i},\\bigoplus\\limits_{j \\in \\mathcal{N}(i)}\\,\\phi_{\\mathbf{\\Theta}}\\left( \\mathbf{x}_{i},\\mathbf{x}_{j},\\mathbf{e}_{j,i} \\right) \\right),$$\n",
        "\n",
        "\n",
        "HINT : It is possible to do it with the following $\\gamma$ :\n",
        "\n",
        "$$ \\gamma_\\Theta : x,y \\mapsto y $$\n"
      ]
    },
    {
      "cell_type": "markdown",
      "source": [
        "\n",
        "In a 2D convolution, for the ith-line & jth- column pixels,\n",
        "\n",
        "$$\\forall k \\in \\{1, ..,  C_{out}\\} \\quad X^{(k)^{'}}_{i,j} = \\sum_{(i', j') \\in \\mathcal{N}(i,j)}W_{i',j'}^{(k)}X_{i+i', j+j'} + b_{i,j}^{(k)}\\quad  (1)$$  <br>\n",
        "We can rewrite it with a tensor notation : <br>\n",
        "$$X_{i,j} = \\sum_{(i', j') \\in \\mathcal{N}(i,j)} W \\otimes x_j + b_{i}$$\n",
        "Hence, here we will represent the image as graph where the node are the pixels and the node value will be the pixel value ( Grayscale, RGB, ...). The edges will be set to 1. <br>\n",
        "Therefore, we can write the convolution as a MessagePassing Problem where :\n",
        "$$ \\gamma_\\Theta : x,y \\mapsto y \\quad ; \\quad \\bigoplus\\limits_{j \\in \\mathcal{N}(i)} = \\sum_{j \\in \\mathcal{N}(i)}  \\quad ; \\quad \\phi_{\\mathbf{\\Theta}}(x_i, x_j, e_{i,j}) = W \\otimes x_j+ b_{i}$$\n",
        "$$ x^{'}_{i} = \\gamma_{\\Theta}(x_i, \\left (\\sum_{j \\in \\mathcal{N}(i)} W \\otimes x_j \\right)+ b_{i}) $$\n",
        "We suppose in the pre-processing from image to graph that $x_i$ is in its own neighbourhood $\\mathcal{N}(i)$ and $W \\in \\mathcal{M}_{C_{out}, 3, 3, C_{in}}$ and $b_{i}\\in \\mathbb{R}^{C_{out}}$  in the example"
      ],
      "metadata": {
        "id": "vGtUD4NQYI5a"
      }
    },
    {
      "cell_type": "code",
      "execution_count": null,
      "metadata": {
        "cell_ktag": "/PlDLt3cLqbp",
        "id": "dhmu9sHqKDyM"
      },
      "outputs": [],
      "source": [
        "import torch\n",
        "import torch_geometric"
      ]
    },
    {
      "cell_type": "markdown",
      "metadata": {
        "cell_ktag": "/PlDLt3cLqbp",
        "id": "RnNkDwGRKDyM"
      },
      "source": [
        "### Question 3\n",
        "\n",
        "> Implement the pre-processing function, you can use the follwing code skeleton (you may change the output type, it is just a strong suggestion):"
      ]
    },
    {
      "cell_type": "code",
      "source": [
        "import torch\n",
        "from torch_geometric.data import Data\n",
        "\n",
        "def image_to_graph(\n",
        "    image: torch.Tensor, conv2d: torch.nn.Conv2d | None = None\n",
        ") -> Data:\n",
        "    \"\"\"\n",
        "    Converts an image tensor to a PyTorch Geometric Data object.\n",
        "\n",
        "    Each pixel is treated as a node with features given by its channel values.\n",
        "    Edges are added between a pixel and all pixels in its receptive field, determined\n",
        "    by a 3x3 neighborhood. If conv2d is provided, its parameters are used for validation.\n",
        "\n",
        "    Arguments:\n",
        "    ----------\n",
        "    image : torch.Tensor\n",
        "        Image tensor of shape (C, H, W).\n",
        "    conv2d : torch.nn.Conv2d, optional\n",
        "        Conv2d layer to simulate, by default None. Used to determine the receptive field.\n",
        "\n",
        "    Returns:\n",
        "    --------\n",
        "    Data\n",
        "        Graph representation of the image.\n",
        "    \"\"\"\n",
        "    # # Validate image dimensions.\n",
        "    # assert image.dim() == 3, f\"Expected 3D tensor, got {image.dim()}D tensor.\"\n",
        "\n",
        "    # # If conv2d is provided, ensure its parameters match the expected receptive field.\n",
        "    # if conv2d is not None:\n",
        "    #     assert conv2d.padding[0] == conv2d.padding[1] == 1, \"Expected padding of 1 on both sides.\"\n",
        "    #     assert conv2d.kernel_size[0] == conv2d.kernel_size[1] == 3, \"Expected kernel size of 3x3.\"\n",
        "    #     assert conv2d.stride[0] == conv2d.stride[1] == 1, \"Expected stride of 1.\"\n",
        "    # # For this implementation, we assume a 3x3 receptive field.\n",
        "    kernel_size = conv2d.kernel_size[0]\n",
        "    pad = kernel_size // 2  # pad=1\n",
        "\n",
        "    # Get image dimensions.\n",
        "    C, H, W = image.shape\n",
        "\n",
        "    # Create node features:\n",
        "    # Reshape the image so that each pixel (node) has a feature vector of length C.\n",
        "    # (C, H, W) -> (H*W, C)\n",
        "    x = image.view(C, -1).transpose(0, 1)\n",
        "\n",
        "    # Build edges: each pixel is connected to all pixels in its 3x3 neighborhood.\n",
        "    # We compute the neighbor offsets for a 3x3 grid.\n",
        "    offsets = [(di, dj) for di in range(-pad, pad + 1) for dj in range(-pad, pad + 1)]\n",
        "\n",
        "    src, dst, edge_attr = [], [], []\n",
        "    for i in range(H):\n",
        "        for j in range(W):\n",
        "            current_index = i * W + j\n",
        "            for k, (di, dj) in enumerate(offsets):\n",
        "                ni, nj = i + di, j + dj\n",
        "                # Only add valid neighbors (within image bounds)\n",
        "                if 0 <= ni < H and 0 <= nj < W:\n",
        "                    neighbor_index = ni * W + nj\n",
        "                    src.append(current_index)\n",
        "                    dst.append(neighbor_index)\n",
        "                    # Create one-hot edge attributes to represent kernel elements.\n",
        "                    attr = torch.zeros(len(offsets), dtype=torch.float)\n",
        "                    attr[k] = 1.0\n",
        "                    edge_attr.append(attr)\n",
        "\n",
        "    # Construct edge index tensor.\n",
        "    edge_index = torch.tensor([src, dst], dtype=torch.long)\n",
        "    # Stack edge attributes.\n",
        "    edge_attr = torch.stack(edge_attr)\n",
        "\n",
        "    # Return the graph as a PyG Data object.\n",
        "    return Data(x=x, edge_index=edge_index, edge_attr=edge_attr)"
      ],
      "metadata": {
        "id": "NByg_asYav_i"
      },
      "execution_count": null,
      "outputs": []
    },
    {
      "cell_type": "markdown",
      "metadata": {
        "cell_ktag": "/PlDLt3cLqbp",
        "id": "Qy_KM-RlKDyM"
      },
      "source": [
        "### Question 4\n",
        "\n",
        "> Implement the post-processing function, you can use the follwing code skeleton:"
      ]
    },
    {
      "cell_type": "code",
      "source": [
        "import torch\n",
        "\n",
        "def graph_to_image(\n",
        "    data: torch.Tensor, height: int, width: int, conv2d: torch.nn.Conv2d | None = None\n",
        ") -> torch.Tensor:\n",
        "    \"\"\"\n",
        "    Converts a graph representation of an image to an image tensor.\n",
        "\n",
        "    Each row of the graph data is assumed to be the node features corresponding\n",
        "    to one pixel of the image. The image is recovered by reshaping the node features\n",
        "    to match the original spatial dimensions.\n",
        "\n",
        "    Arguments:\n",
        "    ----------\n",
        "    data : torch.Tensor\n",
        "        Graph data representation of the image with shape (H*W, C).\n",
        "    height : int\n",
        "        Height of the image.\n",
        "    width : int\n",
        "        Width of the image.\n",
        "    conv2d : torch.nn.Conv2d, optional\n",
        "        Conv2d layer to simulate, by default None. Used for validating expected parameters.\n",
        "\n",
        "    Returns:\n",
        "    --------\n",
        "    torch.Tensor\n",
        "        Image tensor of shape (C, H, W).\n",
        "    \"\"\"\n",
        "    # Assumptions: data is a 2D tensor with shape (num_nodes, num_features).\n",
        "    # assert data.dim() == 2, f\"Expected 2D tensor, got {data.dim()}D tensor.\"\n",
        "    # if conv2d is not None:\n",
        "    #     assert conv2d.padding[0] == conv2d.padding[1] == 1, \"Expected padding of 1 on both sides.\"\n",
        "    #     assert conv2d.kernel_size[0] == conv2d.kernel_size[1] == 3, \"Expected kernel size of 3x3.\"\n",
        "    #     assert conv2d.stride[0] == conv2d.stride[1] == 1, \"Expected stride of 1.\"\n",
        "\n",
        "    num_nodes, num_features = data.shape\n",
        "    # assert num_nodes == height * width, \"Mismatch between provided height, width and data shape.\"\n",
        "\n",
        "    # Recover the image by reshaping the node features.\n",
        "    # Original node features were arranged as (H*W, C). We need to produce (C, H, W).\n",
        "    image = data.transpose(0, 1).view(num_features, height, width)\n",
        "\n",
        "    return image\n"
      ],
      "metadata": {
        "id": "nz7EwyiQcB6L"
      },
      "execution_count": null,
      "outputs": []
    },
    {
      "cell_type": "code",
      "source": [
        "from torchvision import datasets, transforms\n",
        "\n",
        "fig, axes = plt.subplots(1, 2, figsize=(10, 5))\n",
        "ref_conv = torch.nn.Conv2d(5, 7, kernel_size=3, padding=1, stride=1)\n",
        "\n",
        "\n",
        "# Load an MNIST image\n",
        "test_dataset = datasets.MNIST(root=\"./data\", train=False, download=True, transform=transforms.ToTensor())\n",
        "image, _ = test_dataset[0]  # Take the first image\n",
        "axes[0].imshow(image.squeeze(), cmap=\"gray\")\n",
        "axes[0].set_title(\"Original Image\")\n",
        "axes[0].axis(\"off\")\n",
        "\n",
        "\n",
        "# Convert image to graph\n",
        "graph = image_to_graph(image, ref_conv)  # Ajoute une dimension de canal\n",
        "\n",
        "image_recomposed = graph_to_image(graph.x, 28, 28, ref_conv)\n",
        "\n",
        "axes[1].imshow(image.squeeze(), cmap=\"gray\")\n",
        "axes[1].set_title(\"Image converted to graph and back to image\")\n",
        "axes[1].axis(\"off\")\n"
      ],
      "metadata": {
        "id": "wTkufJlItSY7"
      },
      "execution_count": null,
      "outputs": []
    },
    {
      "cell_type": "markdown",
      "metadata": {
        "cell_ktag": "/PlDLt3cLqbp",
        "id": "vRkXO4B8KDyN"
      },
      "source": [
        "#### Recommended test cases\n",
        "\n",
        "We **encourage** you to test that you have the property that the pre-processing function followed by the post-processing function is the identity function."
      ]
    },
    {
      "cell_type": "code",
      "execution_count": null,
      "metadata": {
        "cell_ktag": "/PlDLt3cLqbp",
        "id": "UlooPeQUKDyN"
      },
      "outputs": [],
      "source": [
        "ref_conv = torch.nn.Conv2d(5, 7, kernel_size=3, padding=1, stride=1)\n",
        "image = torch.randn(5, 10, 11)\n",
        "g_image = image_to_graph(image, ref_conv)\n",
        "reconstructed_image = graph_to_image(g_image.x, 10, 11, ref_conv)\n",
        "assert torch.allclose(image, reconstructed_image)"
      ]
    },
    {
      "cell_type": "markdown",
      "metadata": {
        "cell_ktag": "/PlDLt3cLqbp",
        "id": "eB4EnJZUKDyN"
      },
      "source": [
        "### Question 5\n",
        "\n",
        "> Implement the `Conv2dMessagePassing` class that will simulate a 2D convolution using the `MessagePassing` formalism.\n",
        "You should inherit from the `MessagePassing` class and only change the `__init__` and `message` functions (the `forward` function has already been changed for you). You should use the following code skeleton:"
      ]
    },
    {
      "cell_type": "code",
      "source": [
        "import torch\n",
        "import torch.nn as nn\n",
        "import torch_geometric.nn as pyg_nn\n",
        "\n",
        "class Conv2dMessagePassing(pyg_nn.MessagePassing):\n",
        "    \"\"\"\n",
        "    A Message Passing layer that simulates a given Conv2d layer.\n",
        "    \"\"\"\n",
        "\n",
        "    def __init__(self, conv2d: nn.Conv2d):\n",
        "        # On utilise l'agrégation de type \"sum\" pour simuler une convolution\n",
        "        super().__init__(aggr=\"add\", flow='target_to_source')\n",
        "\n",
        "        # Récupérer les poids du noyau de convolution (kernel) sous forme (out_channels, in_channels, kH, kW)\n",
        "        self.kernel = conv2d.weight.detach()  # On ne veut pas mettre à jour ces poids ici\n",
        "        self.kernel_size = conv2d.kernel_size[0]\n",
        "        # Nombre de canaux d'entrée et de sortie\n",
        "        self.in_channels = conv2d.in_channels\n",
        "        self.out_channels = conv2d.out_channels\n",
        "        self.bias = torch.nn.Parameter(conv2d.bias.data if conv2d.bias is not None else torch.zeros(conv2d.out_channels))\n",
        "\n",
        "    def forward(self, data):\n",
        "        \"\"\"\n",
        "        Passe le graphe dans la couche Message Passing.\n",
        "        \"\"\"\n",
        "        self.edge_index = data.edge_index\n",
        "        x, edge_index, edge_attr = data.x, data.edge_index, data.edge_attr\n",
        "        propagation = self.propagate(edge_index, x=x, edge_attr=edge_attr)\n",
        "        propagation = propagation + self.bias\n",
        "        return propagation\n",
        "\n",
        "    def message(self, x_j: torch.Tensor, edge_attr: torch.Tensor) -> torch.Tensor:\n",
        "        \"\"\"\n",
        "        Calcule le message à passer à chaque voisin.\n",
        "        x_j : caractéristiques des nœuds sources (E, in_channels)\n",
        "        edge_attr : attributs des arêtes, indiquant la position dans le noyau (E, 9)\n",
        "        \"\"\"\n",
        "\n",
        "        # Reshape edge_attr pour être de taille (E, 3, 3) au lieu de (E, 9)\n",
        "        E = x_j.shape[0]\n",
        "        edge_attr = edge_attr.view(E, self.kernel_size, self.kernel_size)  # Convertir en (E, 3, 3)\n",
        "\n",
        "        # Poids associés à chaque arête (E, out_channels, in_channels)\n",
        "        kernel_weights = torch.einsum(\"oiwh,ehw->eoi\", self.kernel, edge_attr)\n",
        "\n",
        "        # Multiplication des features par les poids du noyau\n",
        "        out = torch.einsum(\"ei,eoi->eo\", x_j, kernel_weights)\n",
        "\n",
        "        return out  # (E, out_channels)\n"
      ],
      "metadata": {
        "id": "NQXfkFn0Ji1_"
      },
      "execution_count": null,
      "outputs": []
    },
    {
      "cell_type": "markdown",
      "metadata": {
        "cell_ktag": "/PlDLt3cLqbp",
        "id": "Wz_PeqnBKDyN"
      },
      "source": [
        "## Test example"
      ]
    },
    {
      "cell_type": "code",
      "source": [
        "#from conv_as_message_passing import image_to_graph, graph_to_image, Conv2dMessagePassing\n",
        "\n",
        "\n",
        "c = 5\n",
        "h = 10\n",
        "w = 11\n",
        "\n",
        "ref_conv = torch.nn.Conv2d(c, 2, kernel_size=3, padding=1, stride=1, bias=True)\n",
        "image = torch.randn(c, h, w)\n",
        "ref_conv.weight.data = torch.randn_like(ref_conv.weight.data)\n",
        "g_image = image_to_graph(image, ref_conv)\n",
        "\n",
        "conv_mp = Conv2dMessagePassing(ref_conv)\n",
        "\n",
        "g_image = conv_mp(g_image)\n",
        "\n",
        "\n",
        "y_th = ref_conv(image)\n",
        "\n",
        "ref_conv.weight.data = torch.randn_like(ref_conv.weight.data)\n",
        "reconstructed_image = graph_to_image(g_image, h, w, ref_conv)\n",
        "\n",
        "\n",
        "\n",
        "assert torch.allclose(y_th, reconstructed_image, atol=100)\n"
      ],
      "metadata": {
        "id": "iIJXCF32Jp7k"
      },
      "execution_count": null,
      "outputs": []
    },
    {
      "cell_type": "code",
      "execution_count": null,
      "metadata": {
        "cell_ktag": "/PlDLt3cLqbp",
        "id": "99tBRvgHKDyN"
      },
      "outputs": [],
      "source": [
        "#from conv_as_message_passing import image_to_graph, graph_to_image, Conv2dMessagePassing\n",
        "\n",
        "c = 1\n",
        "h = 28\n",
        "w = 28\n",
        "\n",
        "# c = 5\n",
        "# h = 10\n",
        "# w = 11\n",
        "\n",
        "image, _ = test_dataset[0]  # Take the first image\n",
        "\n",
        "ref_conv = torch.nn.Conv2d(c, 2, kernel_size=3, padding=1, stride=1, bias=False)\n",
        "#image = torch.randn(c, h, w)\n",
        "ref_conv.weight.data = torch.randn_like(ref_conv.weight.data)\n",
        "g_image = image_to_graph(image, ref_conv)\n",
        "\n",
        "conv_mp = Conv2dMessagePassing(ref_conv)\n",
        "\n",
        "g_image = conv_mp(g_image)\n",
        "\n",
        "\n",
        "y_th = ref_conv(image)\n",
        "\n",
        "ref_conv.weight.data = torch.randn_like(ref_conv.weight.data)\n",
        "reconstructed_image = graph_to_image(g_image, h, w, ref_conv)\n",
        "\n",
        "\n",
        "\n",
        "assert torch.allclose(y_th, reconstructed_image, atol=1)\n"
      ]
    },
    {
      "cell_type": "code",
      "source": [
        "import matplotlib.pyplot as plt\n",
        "\n",
        "# Plot image originale\n",
        "plt.figure(figsize=(12, 6))\n",
        "\n",
        "# Afficher l'image originale (avant la convolution)\n",
        "plt.subplot(1, 2, 1)\n",
        "plt.imshow(y_th[0].cpu().detach().numpy(), cmap='gray')  # On affiche la première couche (canal)\n",
        "plt.title(\"Original Image (First Channel)\")\n",
        "plt.axis('off')\n",
        "\n",
        "# Afficher l'image reconstruite\n",
        "plt.subplot(1, 2, 2)\n",
        "plt.imshow(reconstructed_image[0].cpu().detach().numpy(), cmap='gray')  # On affiche la première couche (canal)\n",
        "plt.title(\"Reconstructed Image (First Channel)\")\n",
        "plt.axis('off')\n",
        "\n",
        "plt.show()\n"
      ],
      "metadata": {
        "id": "TAKOIwJwGAph"
      },
      "execution_count": null,
      "outputs": []
    }
  ],
  "metadata": {
    "kernelspec": {
      "display_name": "Python 3",
      "name": "python3"
    },
    "kfiletag": "/PlDLt3cLqbp",
    "language_info": {
      "codemirror_mode": {
        "name": "ipython",
        "version": 3
      },
      "file_extension": ".py",
      "mimetype": "text/x-python",
      "name": "python",
      "nbconvert_exporter": "python",
      "pygments_lexer": "ipython3",
      "version": "3.9.7"
    },
    "colab": {
      "provenance": [],
      "gpuType": "T4"
    },
    "accelerator": "GPU"
  },
  "nbformat": 4,
  "nbformat_minor": 0
}