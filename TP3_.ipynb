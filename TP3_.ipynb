{
  "cells": [
    {
      "cell_type": "markdown",
      "metadata": {
        "cell_ktag": "/PlDLt3cLqbp",
        "id": "W1DrjRmYKDyH"
      },
      "source": [
        "# TP 3  : Graph Neural Networks Architecture\n",
        "\n",
        "**Théo Rudkiewicz, Cyriaque Rousselot**"
      ]
    },
    {
      "cell_type": "markdown",
      "metadata": {
        "cell_ktag": "/PlDLt3cLqbp",
        "id": "q74c95hUKDyI"
      },
      "source": [
        "# TUTORIAL"
      ]
    },
    {
      "cell_type": "markdown",
      "metadata": {
        "cell_ktag": "/PlDLt3cLqbp",
        "id": "9jOQdIdzKDyJ"
      },
      "source": [
        "### Install Pytorch Geometric\n",
        "\n",
        "To handle graph data, we use the library Pytorch Geometric : https://pytorch-geometric.readthedocs.io/en/latest/\n",
        "\n",
        "*   If you use _Google Colab_, simply run the following cell to install Pytorch Geometric (**advised**).\n",
        "*   If you plan using your _own environment_, follow the documentation to install Pytorch Geometric : https://pytorch-geometric.readthedocs.io/en/latest/install/installation.html and skip the following cell."
      ]
    },
    {
      "cell_type": "code",
      "execution_count": 3,
      "metadata": {
        "cell_ktag": "/PlDLt3cLqbp",
        "colab": {
          "base_uri": "https://localhost:8080/"
        },
        "id": "MhkGmYGXKDyJ",
        "outputId": "2b83d20e-b05b-4b25-faa4-9ebaeb73fddb"
      },
      "outputs": [
        {
          "output_type": "stream",
          "name": "stdout",
          "text": [
            "Looking in links: https://pytorch-geometric.com/whl/torch-2.5.1+cu124.html\n",
            "Collecting torch-scatter\n",
            "  Downloading https://data.pyg.org/whl/torch-2.5.0%2Bcu124/torch_scatter-2.1.2%2Bpt25cu124-cp311-cp311-linux_x86_64.whl (10.8 MB)\n",
            "\u001b[2K     \u001b[90m━━━━━━━━━━━━━━━━━━━━━━━━━━━━━━━━━━━━━━━━\u001b[0m \u001b[32m10.8/10.8 MB\u001b[0m \u001b[31m61.5 MB/s\u001b[0m eta \u001b[36m0:00:00\u001b[0m\n",
            "\u001b[?25hInstalling collected packages: torch-scatter\n",
            "Successfully installed torch-scatter-2.1.2+pt25cu124\n",
            "Looking in links: https://pytorch-geometric.com/whl/torch-2.5.1+cu124.html\n",
            "Collecting torch-sparse\n",
            "  Downloading https://data.pyg.org/whl/torch-2.5.0%2Bcu124/torch_sparse-0.6.18%2Bpt25cu124-cp311-cp311-linux_x86_64.whl (5.2 MB)\n",
            "\u001b[2K     \u001b[90m━━━━━━━━━━━━━━━━━━━━━━━━━━━━━━━━━━━━━━━━\u001b[0m \u001b[32m5.2/5.2 MB\u001b[0m \u001b[31m62.6 MB/s\u001b[0m eta \u001b[36m0:00:00\u001b[0m\n",
            "\u001b[?25hRequirement already satisfied: scipy in /usr/local/lib/python3.11/dist-packages (from torch-sparse) (1.13.1)\n",
            "Requirement already satisfied: numpy<2.3,>=1.22.4 in /usr/local/lib/python3.11/dist-packages (from scipy->torch-sparse) (1.26.4)\n",
            "Installing collected packages: torch-sparse\n",
            "Successfully installed torch-sparse-0.6.18+pt25cu124\n",
            "Looking in links: https://pytorch-geometric.com/whl/torch-2.5.1+cu124.html\n",
            "Collecting torch-cluster\n",
            "  Downloading https://data.pyg.org/whl/torch-2.5.0%2Bcu124/torch_cluster-1.6.3%2Bpt25cu124-cp311-cp311-linux_x86_64.whl (3.4 MB)\n",
            "\u001b[2K     \u001b[90m━━━━━━━━━━━━━━━━━━━━━━━━━━━━━━━━━━━━━━━━\u001b[0m \u001b[32m3.4/3.4 MB\u001b[0m \u001b[31m61.8 MB/s\u001b[0m eta \u001b[36m0:00:00\u001b[0m\n",
            "\u001b[?25hRequirement already satisfied: scipy in /usr/local/lib/python3.11/dist-packages (from torch-cluster) (1.13.1)\n",
            "Requirement already satisfied: numpy<2.3,>=1.22.4 in /usr/local/lib/python3.11/dist-packages (from scipy->torch-cluster) (1.26.4)\n",
            "Installing collected packages: torch-cluster\n",
            "Successfully installed torch-cluster-1.6.3+pt25cu124\n",
            "Looking in links: https://pytorch-geometric.com/whl/torch-2.5.1+cu124.html\n",
            "Collecting torch-spline-conv\n",
            "  Downloading https://data.pyg.org/whl/torch-2.5.0%2Bcu124/torch_spline_conv-1.2.2%2Bpt25cu124-cp311-cp311-linux_x86_64.whl (1.0 MB)\n",
            "\u001b[2K     \u001b[90m━━━━━━━━━━━━━━━━━━━━━━━━━━━━━━━━━━━━━━━━\u001b[0m \u001b[32m1.0/1.0 MB\u001b[0m \u001b[31m31.6 MB/s\u001b[0m eta \u001b[36m0:00:00\u001b[0m\n",
            "\u001b[?25hInstalling collected packages: torch-spline-conv\n",
            "Successfully installed torch-spline-conv-1.2.2+pt25cu124\n",
            "Collecting torch-geometric\n",
            "  Downloading torch_geometric-2.6.1-py3-none-any.whl.metadata (63 kB)\n",
            "\u001b[2K     \u001b[90m━━━━━━━━━━━━━━━━━━━━━━━━━━━━━━━━━━━━━━━━\u001b[0m \u001b[32m63.1/63.1 kB\u001b[0m \u001b[31m6.0 MB/s\u001b[0m eta \u001b[36m0:00:00\u001b[0m\n",
            "\u001b[?25hRequirement already satisfied: aiohttp in /usr/local/lib/python3.11/dist-packages (from torch-geometric) (3.11.13)\n",
            "Requirement already satisfied: fsspec in /usr/local/lib/python3.11/dist-packages (from torch-geometric) (2024.10.0)\n",
            "Requirement already satisfied: jinja2 in /usr/local/lib/python3.11/dist-packages (from torch-geometric) (3.1.5)\n",
            "Requirement already satisfied: numpy in /usr/local/lib/python3.11/dist-packages (from torch-geometric) (1.26.4)\n",
            "Requirement already satisfied: psutil>=5.8.0 in /usr/local/lib/python3.11/dist-packages (from torch-geometric) (5.9.5)\n",
            "Requirement already satisfied: pyparsing in /usr/local/lib/python3.11/dist-packages (from torch-geometric) (3.2.1)\n",
            "Requirement already satisfied: requests in /usr/local/lib/python3.11/dist-packages (from torch-geometric) (2.32.3)\n",
            "Requirement already satisfied: tqdm in /usr/local/lib/python3.11/dist-packages (from torch-geometric) (4.67.1)\n",
            "Requirement already satisfied: aiohappyeyeballs>=2.3.0 in /usr/local/lib/python3.11/dist-packages (from aiohttp->torch-geometric) (2.4.6)\n",
            "Requirement already satisfied: aiosignal>=1.1.2 in /usr/local/lib/python3.11/dist-packages (from aiohttp->torch-geometric) (1.3.2)\n",
            "Requirement already satisfied: attrs>=17.3.0 in /usr/local/lib/python3.11/dist-packages (from aiohttp->torch-geometric) (25.1.0)\n",
            "Requirement already satisfied: frozenlist>=1.1.1 in /usr/local/lib/python3.11/dist-packages (from aiohttp->torch-geometric) (1.5.0)\n",
            "Requirement already satisfied: multidict<7.0,>=4.5 in /usr/local/lib/python3.11/dist-packages (from aiohttp->torch-geometric) (6.1.0)\n",
            "Requirement already satisfied: propcache>=0.2.0 in /usr/local/lib/python3.11/dist-packages (from aiohttp->torch-geometric) (0.3.0)\n",
            "Requirement already satisfied: yarl<2.0,>=1.17.0 in /usr/local/lib/python3.11/dist-packages (from aiohttp->torch-geometric) (1.18.3)\n",
            "Requirement already satisfied: MarkupSafe>=2.0 in /usr/local/lib/python3.11/dist-packages (from jinja2->torch-geometric) (3.0.2)\n",
            "Requirement already satisfied: charset-normalizer<4,>=2 in /usr/local/lib/python3.11/dist-packages (from requests->torch-geometric) (3.4.1)\n",
            "Requirement already satisfied: idna<4,>=2.5 in /usr/local/lib/python3.11/dist-packages (from requests->torch-geometric) (3.10)\n",
            "Requirement already satisfied: urllib3<3,>=1.21.1 in /usr/local/lib/python3.11/dist-packages (from requests->torch-geometric) (2.3.0)\n",
            "Requirement already satisfied: certifi>=2017.4.17 in /usr/local/lib/python3.11/dist-packages (from requests->torch-geometric) (2025.1.31)\n",
            "Downloading torch_geometric-2.6.1-py3-none-any.whl (1.1 MB)\n",
            "\u001b[2K   \u001b[90m━━━━━━━━━━━━━━━━━━━━━━━━━━━━━━━━━━━━━━━━\u001b[0m \u001b[32m1.1/1.1 MB\u001b[0m \u001b[31m59.3 MB/s\u001b[0m eta \u001b[36m0:00:00\u001b[0m\n",
            "\u001b[?25hInstalling collected packages: torch-geometric\n",
            "Successfully installed torch-geometric-2.6.1\n"
          ]
        }
      ],
      "source": [
        "########## INSTALL TORCH GEOMETRIC ##################\n",
        "# https://pytorch-geometric.readthedocs.io/en/latest/\n",
        "#####################################################\n",
        "import torch\n",
        "\n",
        "\n",
        "def format_pytorch_version(version):\n",
        "    return version.split(\"+\")[0]\n",
        "\n",
        "\n",
        "TORCH_version = torch.__version__\n",
        "TORCH = format_pytorch_version(TORCH_version)\n",
        "\n",
        "\n",
        "def format_cuda_version(version):\n",
        "    return \"cu\" + version.replace(\".\", \"\")\n",
        "\n",
        "\n",
        "CUDA_version = torch.version.cuda\n",
        "CUDA = format_cuda_version(CUDA_version)\n",
        "\n",
        "!pip install torch-scatter     -f https://pytorch-geometric.com/whl/torch-{TORCH}+{CUDA}.html\n",
        "!pip install torch-sparse      -f https://pytorch-geometric.com/whl/torch-{TORCH}+{CUDA}.html\n",
        "!pip install torch-cluster     -f https://pytorch-geometric.com/whl/torch-{TORCH}+{CUDA}.html\n",
        "!pip install torch-spline-conv -f https://pytorch-geometric.com/whl/torch-{TORCH}+{CUDA}.html\n",
        "!pip install torch-geometric\n"
      ]
    },
    {
      "cell_type": "markdown",
      "metadata": {
        "cell_ktag": "/PlDLt3cLqbp",
        "id": "B1f-SaodKDyK"
      },
      "source": [
        "### Import required packages\n",
        "\n",
        "Run the following cell to import all required packages. This cell **must not** be modified.\n",
        "\n",
        "To significantly accelerate your training, it is advised to use GPU. Using Google Colab, you need to activate it :\n",
        "\n",
        "*   Edit --> Notebook Setting --> Hardware accelerator --> GPU"
      ]
    },
    {
      "cell_type": "code",
      "execution_count": 4,
      "metadata": {
        "cell_ktag": "/PlDLt3cLqbp",
        "id": "9OsinppxKDyK"
      },
      "outputs": [],
      "source": [
        "#####################################################\n",
        "################## PACKAGES #########################\n",
        "#####################################################\n",
        "import numpy as np\n",
        "import matplotlib.pyplot as plt\n",
        "\n",
        "import torch.nn as nn\n",
        "import torch_geometric.nn as graphnn\n",
        "from sklearn.metrics import f1_score\n",
        "from torch_geometric.datasets import PPI\n",
        "from torch_geometric.loader import DataLoader"
      ]
    },
    {
      "cell_type": "markdown",
      "metadata": {
        "cell_ktag": "/PlDLt3cLqbp",
        "id": "i63agkMnKDyK"
      },
      "source": [
        "### Dataset\n",
        "\n",
        "We use the Protein-Protein Interaction (PPI) network dataset which includes:\n",
        "- 20 graphs for training\n",
        "- 2 graphs for validation\n",
        "- 2 graphs for testing\n",
        "\n",
        "One graph of the PPI dataset has on average 2372 nodes. Each node has:\n",
        "- 50 features : positional gene sets / motif gene / immunological signatures ...\n",
        "- 121 (binary) labels : gene ontology sets (way to classify gene products like proteins).\n",
        "\n",
        "**This problem aims to predict, for a given PPI graph, the correct nodes' labels**.\n",
        "\n",
        "**It is a node (multi-label) classification task** (trained using supervised learning, with labels to be predicted for each node).\n",
        "\n",
        "For your curiosity, more detailed information on the dataset and some applications:\n",
        "- https://cs.stanford.edu/~jure/pubs/pathways-psb18.pdf\n",
        "- https://arxiv.org/abs/1707.04638\n",
        "\n",
        "To understand how a graph data is implemented in Pytorch Geometric, refer to : https://pytorch-geometric.readthedocs.io/en/latest/get_started/introduction.html\n"
      ]
    },
    {
      "cell_type": "code",
      "execution_count": 3,
      "metadata": {
        "cell_ktag": "/PlDLt3cLqbp",
        "colab": {
          "base_uri": "https://localhost:8080/"
        },
        "id": "814oU_BrKDyK",
        "outputId": "57b30d65-7cfd-49c6-cb75-042026536c53"
      },
      "outputs": [
        {
          "output_type": "stream",
          "name": "stderr",
          "text": [
            "Downloading https://data.dgl.ai/dataset/ppi.zip\n",
            "Extracting ./ppi.zip\n",
            "Processing...\n",
            "/usr/local/lib/python3.11/dist-packages/networkx/readwrite/json_graph/node_link.py:287: FutureWarning: \n",
            "The default value will be changed to `edges=\"edges\" in NetworkX 3.6.\n",
            "\n",
            "To make this warning go away, explicitly set the edges kwarg, e.g.:\n",
            "\n",
            "  nx.node_link_graph(data, edges=\"links\") to preserve current behavior, or\n",
            "  nx.node_link_graph(data, edges=\"edges\") for forward compatibility.\n",
            "  warnings.warn(\n"
          ]
        },
        {
          "output_type": "stream",
          "name": "stdout",
          "text": [
            "Number of samples in the train dataset:  20\n",
            "Number of samples in the val dataset:  2\n",
            "Number of samples in the test dataset:  2\n",
            "Output of one sample from the train dataset:  Data(x=[1767, 50], edge_index=[2, 32318], y=[1767, 121])\n",
            "Edge_index :\n",
            "tensor([[   0,    0,    0,  ..., 1744, 1745, 1749],\n",
            "        [ 372, 1101,  766,  ..., 1745, 1744, 1739]])\n",
            "Number of features per node:  50\n",
            "Number of classes per node:  121\n"
          ]
        },
        {
          "output_type": "stream",
          "name": "stderr",
          "text": [
            "Done!\n"
          ]
        }
      ],
      "source": [
        "### LOAD DATASETS\n",
        "\n",
        "BATCH_SIZE = 2\n",
        "\n",
        "# Train Dataset\n",
        "train_dataset = PPI(root=\"\", split=\"train\")\n",
        "train_dataloader = DataLoader(train_dataset, batch_size=BATCH_SIZE)\n",
        "# Val Dataset\n",
        "val_dataset = PPI(root=\"\", split=\"val\")\n",
        "val_dataloader = DataLoader(val_dataset, batch_size=BATCH_SIZE)\n",
        "# Test Dataset\n",
        "test_dataset = PPI(root=\"\", split=\"test\")\n",
        "test_dataloader = DataLoader(test_dataset, batch_size=BATCH_SIZE)\n",
        "\n",
        "# Number of features and classes\n",
        "n_features, n_classes = train_dataset[0].x.shape[1], train_dataset[0].y.shape[1]\n",
        "\n",
        "print(\"Number of samples in the train dataset: \", len(train_dataset))\n",
        "print(\"Number of samples in the val dataset: \", len(test_dataset))\n",
        "print(\"Number of samples in the test dataset: \", len(test_dataset))\n",
        "print(\"Output of one sample from the train dataset: \", train_dataset[0])\n",
        "print(\"Edge_index :\")\n",
        "print(train_dataset[0].edge_index)\n",
        "print(\"Number of features per node: \", n_features)\n",
        "print(\"Number of classes per node: \", n_classes)"
      ]
    },
    {
      "cell_type": "markdown",
      "metadata": {
        "cell_ktag": "/PlDLt3cLqbp",
        "id": "xDBiC6kyKDyK"
      },
      "source": [
        "### Define a basic Model"
      ]
    },
    {
      "cell_type": "markdown",
      "metadata": {
        "cell_ktag": "/PlDLt3cLqbp",
        "id": "q849i_CBKDyK"
      },
      "source": [
        "Here we define a very simple Graph Neural Network model which will be used as our baseline. This model consists of three graph convolutional layers (from https://arxiv.org/pdf/1609.02907.pdf). The first two layers computes 256 features, followed by an ELU activation function. The last layer is used for (multi-label) classification task, computing 121 features (for each node)."
      ]
    },
    {
      "cell_type": "code",
      "execution_count": 4,
      "metadata": {
        "cell_ktag": "/PlDLt3cLqbp",
        "id": "-y3egROjKDyL"
      },
      "outputs": [],
      "source": [
        "#####################################################\n",
        "################## MODEL ############################\n",
        "#####################################################\n",
        "class BasicGraphModel(nn.Module):\n",
        "    def __init__(self, input_size, hidden_size, output_size):\n",
        "        super().__init__()\n",
        "\n",
        "        self.graphconv1 = graphnn.GCNConv(input_size, hidden_size)\n",
        "        self.graphconv2 = graphnn.GCNConv(hidden_size, hidden_size)\n",
        "        self.graphconv3 = graphnn.GCNConv(hidden_size, output_size)\n",
        "\n",
        "        self.elu = nn.ELU()\n",
        "\n",
        "    def forward(self, x, edge_index):\n",
        "        x = self.graphconv1(x, edge_index)\n",
        "        x = self.elu(x)\n",
        "        x = self.graphconv2(x, edge_index)\n",
        "        x = self.elu(x)\n",
        "        x = self.graphconv3(x, edge_index)\n",
        "\n",
        "        return x"
      ]
    },
    {
      "cell_type": "code",
      "source": [
        "import torch\n",
        "import torch.nn as nn\n",
        "import torch.nn.functional as F\n",
        "from torch_geometric.nn import GATConv\n",
        "\n",
        "class BasicGraphModel(nn.Module):\n",
        "    def __init__(self, input_size, hidden_size, output_size, heads=4, dropout=0.1):\n",
        "        super().__init__()\n",
        "\n",
        "        self.gatconv1 = GATConv(input_size, hidden_size, heads=heads, dropout=dropout)\n",
        "        self.gatconv2 = GATConv(hidden_size * heads, hidden_size, heads=heads, dropout=dropout)\n",
        "        self.gatconv3 = GATConv(hidden_size * heads, output_size, heads=6, concat=False, dropout=dropout)\n",
        "\n",
        "        self.elu = nn.ELU()\n",
        "        self.dropout = nn.Dropout(dropout)\n",
        "\n",
        "        # Projection layers for skip connections (to match dimensions)\n",
        "        self.proj1 = nn.Linear(input_size, hidden_size * heads) if input_size != hidden_size * heads else nn.Identity()\n",
        "        self.proj2 = nn.Linear(hidden_size * heads, hidden_size * heads) if hidden_size * heads != hidden_size * heads else nn.Identity()\n",
        "        self.proj3 = nn.Linear(hidden_size * heads, output_size) if hidden_size * heads != output_size else nn.Identity()\n",
        "\n",
        "    def forward(self, x, edge_index):\n",
        "        # First GAT layer with skip connection\n",
        "        identity1 = self.proj1(x)\n",
        "        x = self.gatconv1(x, edge_index)\n",
        "        x = self.elu(x) + identity1\n",
        "        x = self.dropout(x)\n",
        "\n",
        "        # Second GAT layer with skip connection\n",
        "        identity2 = self.proj2(x)\n",
        "        x = self.gatconv2(x, edge_index)\n",
        "        x = self.elu(x) + identity2\n",
        "        x = self.dropout(x)\n",
        "\n",
        "        # Third GAT layer with skip connection, plus skip from input\n",
        "        identity3 = self.proj3(x)\n",
        "        x = self.gatconv3(x, edge_index)\n",
        "        x = x + identity3\n",
        "\n",
        "        return x\n"
      ],
      "metadata": {
        "id": "fP7p-NMLWk7K"
      },
      "execution_count": 5,
      "outputs": []
    },
    {
      "cell_type": "markdown",
      "metadata": {
        "cell_ktag": "/PlDLt3cLqbp",
        "id": "cdjqawrYKDyL"
      },
      "source": [
        "Next function is designed to evaluate the performance of the model, computing the F1-Score"
      ]
    },
    {
      "cell_type": "code",
      "execution_count": 6,
      "metadata": {
        "cell_ktag": "/PlDLt3cLqbp",
        "id": "eHvzoXQkKDyL"
      },
      "outputs": [],
      "source": [
        "#####################################################\n",
        "############### TEST FUNCTION #######################\n",
        "#####################################################\n",
        "def evaluate(model, loss_fcn, device, dataloader):\n",
        "    score_list_batch = []\n",
        "\n",
        "    model.eval()\n",
        "    for i, batch in enumerate(dataloader):\n",
        "        batch = batch.to(device)\n",
        "        output = model(batch.x, batch.edge_index)\n",
        "        loss_test = loss_fcn(output, batch.y)\n",
        "        predict = np.where(output.detach().cpu().numpy() >= 0, 1, 0)\n",
        "        score = f1_score(batch.y.cpu().numpy(), predict, average=\"micro\")\n",
        "        score_list_batch.append(score)\n",
        "\n",
        "    return np.array(score_list_batch).mean()"
      ]
    },
    {
      "cell_type": "markdown",
      "metadata": {
        "cell_ktag": "/PlDLt3cLqbp",
        "id": "HQEnMNWpKDyL"
      },
      "source": [
        "Next we construct the function to train the model."
      ]
    },
    {
      "cell_type": "code",
      "execution_count": 7,
      "metadata": {
        "cell_ktag": "/PlDLt3cLqbp",
        "id": "qFHivva9KDyL"
      },
      "outputs": [],
      "source": [
        "#####################################################\n",
        "############## TRAIN FUNCTION #######################\n",
        "#####################################################\n",
        "def train(model, loss_fcn, device, optimizer, max_epochs, train_dataloader, val_dataloader):\n",
        "    epoch_list = []\n",
        "    scores_list = []\n",
        "\n",
        "    # loop over epochs\n",
        "    for epoch in range(max_epochs):\n",
        "        model.train()\n",
        "        losses = []\n",
        "        # loop over batches\n",
        "        for i, train_batch in enumerate(train_dataloader):\n",
        "            optimizer.zero_grad()\n",
        "            train_batch_device = train_batch.to(device)\n",
        "            # logits is the output of the model\n",
        "            logits = model(train_batch_device.x, train_batch_device.edge_index)\n",
        "            # compute the loss\n",
        "            loss = loss_fcn(logits, train_batch_device.y)\n",
        "            # optimizer step\n",
        "            loss.backward()\n",
        "            optimizer.step()\n",
        "            losses.append(loss.item())\n",
        "        loss_data = np.array(losses).mean()\n",
        "        print(\"Epoch {:05d} | Loss: {:.4f}\".format(epoch + 1, loss_data))\n",
        "\n",
        "        if epoch % 5 == 0:\n",
        "            # evaluate the model on the validation set\n",
        "            # computes the f1-score (see next function)\n",
        "            score = evaluate(model, loss_fcn, device, val_dataloader)\n",
        "            print(\"F1-Score: {:.4f}\".format(score))\n",
        "            scores_list.append(score)\n",
        "            epoch_list.append(epoch)\n",
        "\n",
        "    return epoch_list, scores_list"
      ]
    },
    {
      "cell_type": "markdown",
      "metadata": {
        "cell_ktag": "/PlDLt3cLqbp",
        "id": "nY8OzA-AKDyL"
      },
      "source": [
        "Let's train this model !"
      ]
    },
    {
      "cell_type": "code",
      "execution_count": 8,
      "metadata": {
        "cell_ktag": "/PlDLt3cLqbp",
        "colab": {
          "base_uri": "https://localhost:8080/"
        },
        "id": "likUw7RkKDyL",
        "outputId": "c0019f3e-8f29-4b2c-b487-1eba63e72a6a"
      },
      "outputs": [
        {
          "output_type": "stream",
          "name": "stdout",
          "text": [
            "\n",
            "Device:  cuda\n",
            "Epoch 00001 | Loss: 1.1170\n",
            "F1-Score: 0.4549\n",
            "Epoch 00002 | Loss: 0.6473\n",
            "Epoch 00003 | Loss: 0.5498\n",
            "Epoch 00004 | Loss: 0.5113\n",
            "Epoch 00005 | Loss: 0.4898\n",
            "Epoch 00006 | Loss: 0.4728\n",
            "F1-Score: 0.5934\n",
            "Epoch 00007 | Loss: 0.4580\n",
            "Epoch 00008 | Loss: 0.4460\n",
            "Epoch 00009 | Loss: 0.4341\n",
            "Epoch 00010 | Loss: 0.4220\n"
          ]
        }
      ],
      "source": [
        "### DEVICE GPU OR CPU : will select GPU if available\n",
        "device = torch.device(\"cuda\" if torch.cuda.is_available() else \"cpu\")\n",
        "print(\"\\nDevice: \", device)\n",
        "\n",
        "### Max number of epochs\n",
        "max_epochs = 10\n",
        "\n",
        "### DEFINE THE MODEL\n",
        "basic_model = BasicGraphModel(input_size=n_features, hidden_size=256, output_size=n_classes, heads=6).to(\n",
        "    device\n",
        ")\n",
        "\n",
        "### DEFINE LOSS FUNCTION\n",
        "loss_fcn = nn.BCEWithLogitsLoss()\n",
        "\n",
        "### DEFINE OPTIMIZER\n",
        "optimizer = torch.optim.Adam(basic_model.parameters(), lr=0.005)\n",
        "\n",
        "### TRAIN THE MODEL\n",
        "epoch_list, basic_model_scores = train(\n",
        "    basic_model,\n",
        "    loss_fcn,\n",
        "    device,\n",
        "    optimizer,\n",
        "    max_epochs,\n",
        "    train_dataloader,\n",
        "    val_dataloader,\n",
        ")\n"
      ]
    },
    {
      "cell_type": "markdown",
      "metadata": {
        "cell_ktag": "/PlDLt3cLqbp",
        "id": "8ZIZBhwdKDyL"
      },
      "source": [
        "Let's evaluate the performance of this basic model"
      ]
    },
    {
      "cell_type": "code",
      "execution_count": 9,
      "metadata": {
        "cell_ktag": "/PlDLt3cLqbp",
        "colab": {
          "base_uri": "https://localhost:8080/",
          "height": 486
        },
        "id": "14iA0UhVKDyM",
        "outputId": "f30a7802-970c-4bc4-8269-0faf83d4be0c"
      },
      "outputs": [
        {
          "output_type": "stream",
          "name": "stdout",
          "text": [
            "Basic Model : F1-Score on the validation set: 0.6670\n"
          ]
        },
        {
          "output_type": "display_data",
          "data": {
            "text/plain": [
              "<Figure size 1000x500 with 1 Axes>"
            ],
            "image/png": "[encoded data removed]"
          },
          "metadata": {}
        }
      ],
      "source": [
        "### F1-SCORE ON VALID DATASET\n",
        "score_valid = evaluate(basic_model, loss_fcn, device, val_dataloader)\n",
        "print(\"Basic Model : F1-Score on the validation set: {:.4f}\".format(score_valid))\n",
        "\n",
        "\n",
        "### PLOT EVOLUTION OF F1-SCORE W.R.T EPOCHS\n",
        "def plot_f1_score(epoch_list, scores):\n",
        "    plt.figure(figsize=[10, 5])\n",
        "    plt.plot(epoch_list, scores)\n",
        "    plt.title(\"Evolution of F1-Score w.r.t epochs\")\n",
        "    plt.ylim([0.0, 1.0])\n",
        "    plt.show()\n",
        "\n",
        "\n",
        "plot_f1_score(epoch_list, basic_model_scores)"
      ]
    },
    {
      "cell_type": "markdown",
      "metadata": {
        "cell_ktag": "/PlDLt3cLqbp",
        "id": "1JAoWUvrKDyM"
      },
      "source": [
        "# QUESTIONS\n",
        "\n",
        "## Grading\n",
        "\n",
        "You will be graded on 5 questions. You will need to provide at least 4 files :\n",
        "1. This Notebook\n",
        "2. `class_model_gnn.py`\n",
        "3. `model.pth` (the file **must be of size less than 50Mo** but 20Mo should be enough to get a very good model)\n",
        "4. `conv_as_message_passing.py`\n",
        "\n",
        "If the function you defined passes all the tests, you will get the full grade. Otherwise we  will look at the intermediate questions in the notebook to give you partial credit.\n",
        "\n",
        "\n",
        "\n",
        " Please provide clear, short and __bold font__ answers.  "
      ]
    },
    {
      "cell_type": "markdown",
      "metadata": {
        "cell_ktag": "/PlDLt3cLqbp",
        "id": "lBDJH-5rKDyM"
      },
      "source": [
        "> Question 1 : Design, build and train a model with a F1-score higher than 93% on validation set (**HINT :** https://arxiv.org/pdf/1710.10903.pdf).\n"
      ]
    },
    {
      "cell_type": "markdown",
      "metadata": {
        "cell_ktag": "/PlDLt3cLqbp",
        "id": "K6b21wqVKDyM"
      },
      "source": [
        " Provide two files : (https://pytorch.org/tutorials/beginner/saving_loading_models.html)\n",
        " -  a file  `class_model_gnn.py` containing the class inheriting from `torch.nn.Module` architecture of your final model to load\n",
        " -  a `model.pth` file : the model weights\n",
        "\n",
        " We will  test your model on final F1-Score on a test set. You must not use the test set for hyperparameter training.\n",
        "\n",
        "Intermediate question :\n",
        "\n",
        " Provide the script for training, and a plot of the training loss.  "
      ]
    },
    {
      "cell_type": "code",
      "source": [
        "import torch\n",
        "import torch.nn as nn\n",
        "import torch.nn.functional as F\n",
        "from torch_geometric.nn import GATConv\n",
        "\n",
        "class StudentModel(nn.Module):\n",
        "    def __init__(self, input_size, hidden_size, output_size, heads_1=8, heads_2=10, dropout=0.1):\n",
        "        super().__init__()\n",
        "\n",
        "        self.gatconv1 = GATConv(input_size, hidden_size, heads=heads_1, dropout=dropout)\n",
        "        self.gatconv2 = GATConv(hidden_size * heads_1, hidden_size, heads=heads_1, dropout=dropout)\n",
        "        self.gatconv3 = GATConv(hidden_size * heads_1, output_size, heads=heads_2, concat=False, dropout=dropout)\n",
        "\n",
        "        self.elu = nn.ELU()\n",
        "        self.dropout = nn.Dropout(dropout)\n",
        "\n",
        "        # Projection layers for skip connections (to match dimensions)\n",
        "        self.proj1 = nn.Linear(input_size, hidden_size * heads_1)\n",
        "        self.proj2 = nn.Identity()\n",
        "        self.proj3 = nn.Linear(hidden_size * heads_1, output_size)\n",
        "\n",
        "    def forward(self, x, edge_index):\n",
        "        # First GAT layer with skip connection\n",
        "        identity1 = self.proj1(x)\n",
        "        x = self.gatconv1(x, edge_index)\n",
        "        x = self.elu(x) + identity1\n",
        "        x = self.dropout(x)\n",
        "\n",
        "        # Second GAT layer with skip connection\n",
        "        identity2 = self.proj2(x)\n",
        "        x = self.gatconv2(x, edge_index)\n",
        "        x = self.elu(x) + identity2\n",
        "        x = self.dropout(x)\n",
        "\n",
        "        # Third GAT layer with skip connection, plus skip from input\n",
        "        identity3 = self.proj3(x)\n",
        "        x = self.gatconv3(x, edge_index)\n",
        "        x = x + identity3\n",
        "\n",
        "        return x\n",
        "\n",
        "    def _initialize_weights(self):\n",
        "        for m in self.modules():\n",
        "            if isinstance(m, GATConv):\n",
        "                for param in m.parameters():\n",
        "                    if param.dim() > 1:  # Only apply Xavier to weight matrices\n",
        "                        nn.init.xavier_normal_(param)\n"
      ],
      "metadata": {
        "id": "T1e67iF28xph"
      },
      "execution_count": 10,
      "outputs": []
    },
    {
      "cell_type": "code",
      "source": [
        "def train_student(model, loss_fcn, device, optimizer, max_epochs, train_dataloader, val_dataloader):\n",
        "    epoch_list = []\n",
        "    scores_list = []\n",
        "    all_losses = []\n",
        "    # loop over epochs\n",
        "    for epoch in range(max_epochs):\n",
        "        model.train()\n",
        "        losses = []\n",
        "        # loop over batches\n",
        "        for i, train_batch in enumerate(train_dataloader):\n",
        "            optimizer.zero_grad()\n",
        "            train_batch_device = train_batch.to(device)\n",
        "            # logits is the output of the model\n",
        "            logits = model(train_batch_device.x, train_batch_device.edge_index)\n",
        "            # compute the loss\n",
        "            loss = loss_fcn(logits, train_batch_device.y)\n",
        "            # optimizer step\n",
        "            loss.backward()\n",
        "            optimizer.step()\n",
        "            all_losses.append(loss.item())\n",
        "        loss_data = np.array(losses).mean()\n",
        "        print(\"Epoch {:05d} | Loss: {:.4f}\".format(epoch + 1, loss_data))\n",
        "\n",
        "        if epoch % 5 == 0:\n",
        "            # evaluate the model on the validation set\n",
        "            # computes the f1-score (see next function)\n",
        "            score = evaluate(model, loss_fcn, device, val_dataloader)\n",
        "            print(\"F1-Score: {:.4f}\".format(score))\n",
        "            scores_list.append(score)\n",
        "            epoch_list.append(epoch)\n",
        "        losses.append(loss_data)\n",
        "\n",
        "    return epoch_list, scores_list, all_losses"
      ],
      "metadata": {
        "id": "EAeERX7q8fj-"
      },
      "execution_count": 11,
      "outputs": []
    },
    {
      "cell_type": "code",
      "source": [
        "### DEVICE GPU OR CPU : will select GPU if available\n",
        "device = torch.device(\"cuda\" if torch.cuda.is_available() else \"cpu\")\n",
        "print(\"\\nDevice: \", device)\n",
        "\n",
        "### Max number of epochs\n",
        "max_epochs = 160\n",
        "\n",
        "### DEFINE THE MODEL\n",
        "model = StudentModel(input_size=n_features, hidden_size=256, output_size=n_classes, heads_1=8, heads_2=12).to(\n",
        "    device\n",
        ")\n",
        "\n",
        "### DEFINE LOSS FUNCTION\n",
        "loss_fcn = nn.BCEWithLogitsLoss()\n",
        "\n",
        "### DEFINE OPTIMIZER\n",
        "optimizer = torch.optim.Adam(model.parameters(), lr=0.0025)\n",
        "\n",
        "### TRAIN THE MODEL\n",
        "epoch_list, model_scores, losses = train_student(\n",
        "    model,\n",
        "    loss_fcn,\n",
        "    device,\n",
        "    optimizer,\n",
        "    max_epochs,\n",
        "    train_dataloader,\n",
        "    val_dataloader,\n",
        ")"
      ],
      "metadata": {
        "colab": {
          "base_uri": "https://localhost:8080/"
        },
        "id": "FGQJUAIf8ndO",
        "outputId": "15018b37-2f97-41fd-eaa1-a9c2be64c36a"
      },
      "execution_count": 15,
      "outputs": [
        {
          "output_type": "stream",
          "name": "stdout",
          "text": [
            "\n",
            "Device:  cuda\n"
          ]
        },
        {
          "output_type": "stream",
          "name": "stderr",
          "text": [
            "<ipython-input-11-b63745bc0103>:21: RuntimeWarning: Mean of empty slice.\n",
            "  loss_data = np.array(losses).mean()\n",
            "/usr/local/lib/python3.11/dist-packages/numpy/core/_methods.py:129: RuntimeWarning: invalid value encountered in scalar divide\n",
            "  ret = ret.dtype.type(ret / rcount)\n"
          ]
        },
        {
          "output_type": "stream",
          "name": "stdout",
          "text": [
            "Epoch 00001 | Loss: nan\n",
            "F1-Score: 0.5035\n"
          ]
        },
        {
          "output_type": "stream",
          "name": "stderr",
          "text": [
            "<ipython-input-11-b63745bc0103>:21: RuntimeWarning: Mean of empty slice.\n",
            "  loss_data = np.array(losses).mean()\n",
            "/usr/local/lib/python3.11/dist-packages/numpy/core/_methods.py:129: RuntimeWarning: invalid value encountered in scalar divide\n",
            "  ret = ret.dtype.type(ret / rcount)\n"
          ]
        },
        {
          "output_type": "stream",
          "name": "stdout",
          "text": [
            "Epoch 00002 | Loss: nan\n",
            "Epoch 00003 | Loss: nan\n",
            "Epoch 00004 | Loss: nan\n",
            "Epoch 00005 | Loss: nan\n",
            "Epoch 00006 | Loss: nan\n",
            "F1-Score: 0.6275\n"
          ]
        },
        {
          "output_type": "stream",
          "name": "stderr",
          "text": [
            "<ipython-input-11-b63745bc0103>:21: RuntimeWarning: Mean of empty slice.\n",
            "  loss_data = np.array(losses).mean()\n",
            "/usr/local/lib/python3.11/dist-packages/numpy/core/_methods.py:129: RuntimeWarning: invalid value encountered in scalar divide\n",
            "  ret = ret.dtype.type(ret / rcount)\n"
          ]
        },
        {
          "output_type": "stream",
          "name": "stdout",
          "text": [
            "Epoch 00007 | Loss: nan\n",
            "Epoch 00008 | Loss: nan\n",
            "Epoch 00009 | Loss: nan\n",
            "Epoch 00010 | Loss: nan\n",
            "Epoch 00011 | Loss: nan\n",
            "F1-Score: 0.7203\n"
          ]
        },
        {
          "output_type": "stream",
          "name": "stderr",
          "text": [
            "<ipython-input-11-b63745bc0103>:21: RuntimeWarning: Mean of empty slice.\n",
            "  loss_data = np.array(losses).mean()\n",
            "/usr/local/lib/python3.11/dist-packages/numpy/core/_methods.py:129: RuntimeWarning: invalid value encountered in scalar divide\n",
            "  ret = ret.dtype.type(ret / rcount)\n"
          ]
        },
        {
          "output_type": "stream",
          "name": "stdout",
          "text": [
            "Epoch 00012 | Loss: nan\n",
            "Epoch 00013 | Loss: nan\n",
            "Epoch 00014 | Loss: nan\n",
            "Epoch 00015 | Loss: nan\n",
            "Epoch 00016 | Loss: nan\n",
            "F1-Score: 0.7962\n"
          ]
        },
        {
          "output_type": "stream",
          "name": "stderr",
          "text": [
            "<ipython-input-11-b63745bc0103>:21: RuntimeWarning: Mean of empty slice.\n",
            "  loss_data = np.array(losses).mean()\n",
            "/usr/local/lib/python3.11/dist-packages/numpy/core/_methods.py:129: RuntimeWarning: invalid value encountered in scalar divide\n",
            "  ret = ret.dtype.type(ret / rcount)\n"
          ]
        },
        {
          "output_type": "stream",
          "name": "stdout",
          "text": [
            "Epoch 00017 | Loss: nan\n",
            "Epoch 00018 | Loss: nan\n",
            "Epoch 00019 | Loss: nan\n",
            "Epoch 00020 | Loss: nan\n",
            "Epoch 00021 | Loss: nan\n",
            "F1-Score: 0.8575\n"
          ]
        },
        {
          "output_type": "stream",
          "name": "stderr",
          "text": [
            "<ipython-input-11-b63745bc0103>:21: RuntimeWarning: Mean of empty slice.\n",
            "  loss_data = np.array(losses).mean()\n",
            "/usr/local/lib/python3.11/dist-packages/numpy/core/_methods.py:129: RuntimeWarning: invalid value encountered in scalar divide\n",
            "  ret = ret.dtype.type(ret / rcount)\n"
          ]
        },
        {
          "output_type": "stream",
          "name": "stdout",
          "text": [
            "Epoch 00022 | Loss: nan\n",
            "Epoch 00023 | Loss: nan\n",
            "Epoch 00024 | Loss: nan\n",
            "Epoch 00025 | Loss: nan\n",
            "Epoch 00026 | Loss: nan\n",
            "F1-Score: 0.8929\n"
          ]
        },
        {
          "output_type": "stream",
          "name": "stderr",
          "text": [
            "<ipython-input-11-b63745bc0103>:21: RuntimeWarning: Mean of empty slice.\n",
            "  loss_data = np.array(losses).mean()\n",
            "/usr/local/lib/python3.11/dist-packages/numpy/core/_methods.py:129: RuntimeWarning: invalid value encountered in scalar divide\n",
            "  ret = ret.dtype.type(ret / rcount)\n"
          ]
        },
        {
          "output_type": "stream",
          "name": "stdout",
          "text": [
            "Epoch 00027 | Loss: nan\n",
            "Epoch 00028 | Loss: nan\n",
            "Epoch 00029 | Loss: nan\n",
            "Epoch 00030 | Loss: nan\n",
            "Epoch 00031 | Loss: nan\n",
            "F1-Score: 0.9142\n"
          ]
        },
        {
          "output_type": "stream",
          "name": "stderr",
          "text": [
            "<ipython-input-11-b63745bc0103>:21: RuntimeWarning: Mean of empty slice.\n",
            "  loss_data = np.array(losses).mean()\n",
            "/usr/local/lib/python3.11/dist-packages/numpy/core/_methods.py:129: RuntimeWarning: invalid value encountered in scalar divide\n",
            "  ret = ret.dtype.type(ret / rcount)\n"
          ]
        },
        {
          "output_type": "stream",
          "name": "stdout",
          "text": [
            "Epoch 00032 | Loss: nan\n",
            "Epoch 00033 | Loss: nan\n",
            "Epoch 00034 | Loss: nan\n",
            "Epoch 00035 | Loss: nan\n",
            "Epoch 00036 | Loss: nan\n",
            "F1-Score: 0.9237\n"
          ]
        },
        {
          "output_type": "stream",
          "name": "stderr",
          "text": [
            "<ipython-input-11-b63745bc0103>:21: RuntimeWarning: Mean of empty slice.\n",
            "  loss_data = np.array(losses).mean()\n",
            "/usr/local/lib/python3.11/dist-packages/numpy/core/_methods.py:129: RuntimeWarning: invalid value encountered in scalar divide\n",
            "  ret = ret.dtype.type(ret / rcount)\n"
          ]
        },
        {
          "output_type": "stream",
          "name": "stdout",
          "text": [
            "Epoch 00037 | Loss: nan\n",
            "Epoch 00038 | Loss: nan\n",
            "Epoch 00039 | Loss: nan\n",
            "Epoch 00040 | Loss: nan\n",
            "Epoch 00041 | Loss: nan\n",
            "F1-Score: 0.9377\n"
          ]
        },
        {
          "output_type": "stream",
          "name": "stderr",
          "text": [
            "<ipython-input-11-b63745bc0103>:21: RuntimeWarning: Mean of empty slice.\n",
            "  loss_data = np.array(losses).mean()\n",
            "/usr/local/lib/python3.11/dist-packages/numpy/core/_methods.py:129: RuntimeWarning: invalid value encountered in scalar divide\n",
            "  ret = ret.dtype.type(ret / rcount)\n"
          ]
        },
        {
          "output_type": "stream",
          "name": "stdout",
          "text": [
            "Epoch 00042 | Loss: nan\n",
            "Epoch 00043 | Loss: nan\n",
            "Epoch 00044 | Loss: nan\n",
            "Epoch 00045 | Loss: nan\n",
            "Epoch 00046 | Loss: nan\n",
            "F1-Score: 0.9460\n"
          ]
        },
        {
          "output_type": "stream",
          "name": "stderr",
          "text": [
            "<ipython-input-11-b63745bc0103>:21: RuntimeWarning: Mean of empty slice.\n",
            "  loss_data = np.array(losses).mean()\n",
            "/usr/local/lib/python3.11/dist-packages/numpy/core/_methods.py:129: RuntimeWarning: invalid value encountered in scalar divide\n",
            "  ret = ret.dtype.type(ret / rcount)\n"
          ]
        },
        {
          "output_type": "stream",
          "name": "stdout",
          "text": [
            "Epoch 00047 | Loss: nan\n",
            "Epoch 00048 | Loss: nan\n",
            "Epoch 00049 | Loss: nan\n",
            "Epoch 00050 | Loss: nan\n",
            "Epoch 00051 | Loss: nan\n",
            "F1-Score: 0.9526\n"
          ]
        },
        {
          "output_type": "stream",
          "name": "stderr",
          "text": [
            "<ipython-input-11-b63745bc0103>:21: RuntimeWarning: Mean of empty slice.\n",
            "  loss_data = np.array(losses).mean()\n",
            "/usr/local/lib/python3.11/dist-packages/numpy/core/_methods.py:129: RuntimeWarning: invalid value encountered in scalar divide\n",
            "  ret = ret.dtype.type(ret / rcount)\n"
          ]
        },
        {
          "output_type": "stream",
          "name": "stdout",
          "text": [
            "Epoch 00052 | Loss: nan\n",
            "Epoch 00053 | Loss: nan\n",
            "Epoch 00054 | Loss: nan\n",
            "Epoch 00055 | Loss: nan\n",
            "Epoch 00056 | Loss: nan\n",
            "F1-Score: 0.9567\n"
          ]
        },
        {
          "output_type": "stream",
          "name": "stderr",
          "text": [
            "<ipython-input-11-b63745bc0103>:21: RuntimeWarning: Mean of empty slice.\n",
            "  loss_data = np.array(losses).mean()\n",
            "/usr/local/lib/python3.11/dist-packages/numpy/core/_methods.py:129: RuntimeWarning: invalid value encountered in scalar divide\n",
            "  ret = ret.dtype.type(ret / rcount)\n"
          ]
        },
        {
          "output_type": "stream",
          "name": "stdout",
          "text": [
            "Epoch 00057 | Loss: nan\n",
            "Epoch 00058 | Loss: nan\n",
            "Epoch 00059 | Loss: nan\n",
            "Epoch 00060 | Loss: nan\n",
            "Epoch 00061 | Loss: nan\n",
            "F1-Score: 0.9597\n"
          ]
        },
        {
          "output_type": "stream",
          "name": "stderr",
          "text": [
            "<ipython-input-11-b63745bc0103>:21: RuntimeWarning: Mean of empty slice.\n",
            "  loss_data = np.array(losses).mean()\n",
            "/usr/local/lib/python3.11/dist-packages/numpy/core/_methods.py:129: RuntimeWarning: invalid value encountered in scalar divide\n",
            "  ret = ret.dtype.type(ret / rcount)\n"
          ]
        },
        {
          "output_type": "stream",
          "name": "stdout",
          "text": [
            "Epoch 00062 | Loss: nan\n",
            "Epoch 00063 | Loss: nan\n",
            "Epoch 00064 | Loss: nan\n",
            "Epoch 00065 | Loss: nan\n",
            "Epoch 00066 | Loss: nan\n",
            "F1-Score: 0.9634\n"
          ]
        },
        {
          "output_type": "stream",
          "name": "stderr",
          "text": [
            "<ipython-input-11-b63745bc0103>:21: RuntimeWarning: Mean of empty slice.\n",
            "  loss_data = np.array(losses).mean()\n",
            "/usr/local/lib/python3.11/dist-packages/numpy/core/_methods.py:129: RuntimeWarning: invalid value encountered in scalar divide\n",
            "  ret = ret.dtype.type(ret / rcount)\n"
          ]
        },
        {
          "output_type": "stream",
          "name": "stdout",
          "text": [
            "Epoch 00067 | Loss: nan\n",
            "Epoch 00068 | Loss: nan\n",
            "Epoch 00069 | Loss: nan\n",
            "Epoch 00070 | Loss: nan\n",
            "Epoch 00071 | Loss: nan\n",
            "F1-Score: 0.9659\n"
          ]
        },
        {
          "output_type": "stream",
          "name": "stderr",
          "text": [
            "<ipython-input-11-b63745bc0103>:21: RuntimeWarning: Mean of empty slice.\n",
            "  loss_data = np.array(losses).mean()\n",
            "/usr/local/lib/python3.11/dist-packages/numpy/core/_methods.py:129: RuntimeWarning: invalid value encountered in scalar divide\n",
            "  ret = ret.dtype.type(ret / rcount)\n"
          ]
        },
        {
          "output_type": "stream",
          "name": "stdout",
          "text": [
            "Epoch 00072 | Loss: nan\n",
            "Epoch 00073 | Loss: nan\n",
            "Epoch 00074 | Loss: nan\n",
            "Epoch 00075 | Loss: nan\n",
            "Epoch 00076 | Loss: nan\n",
            "F1-Score: 0.9683\n"
          ]
        },
        {
          "output_type": "stream",
          "name": "stderr",
          "text": [
            "<ipython-input-11-b63745bc0103>:21: RuntimeWarning: Mean of empty slice.\n",
            "  loss_data = np.array(losses).mean()\n",
            "/usr/local/lib/python3.11/dist-packages/numpy/core/_methods.py:129: RuntimeWarning: invalid value encountered in scalar divide\n",
            "  ret = ret.dtype.type(ret / rcount)\n"
          ]
        },
        {
          "output_type": "stream",
          "name": "stdout",
          "text": [
            "Epoch 00077 | Loss: nan\n",
            "Epoch 00078 | Loss: nan\n",
            "Epoch 00079 | Loss: nan\n",
            "Epoch 00080 | Loss: nan\n",
            "Epoch 00081 | Loss: nan\n",
            "F1-Score: 0.9692\n"
          ]
        },
        {
          "output_type": "stream",
          "name": "stderr",
          "text": [
            "<ipython-input-11-b63745bc0103>:21: RuntimeWarning: Mean of empty slice.\n",
            "  loss_data = np.array(losses).mean()\n",
            "/usr/local/lib/python3.11/dist-packages/numpy/core/_methods.py:129: RuntimeWarning: invalid value encountered in scalar divide\n",
            "  ret = ret.dtype.type(ret / rcount)\n"
          ]
        },
        {
          "output_type": "stream",
          "name": "stdout",
          "text": [
            "Epoch 00082 | Loss: nan\n",
            "Epoch 00083 | Loss: nan\n",
            "Epoch 00084 | Loss: nan\n",
            "Epoch 00085 | Loss: nan\n",
            "Epoch 00086 | Loss: nan\n",
            "F1-Score: 0.9706\n"
          ]
        },
        {
          "output_type": "stream",
          "name": "stderr",
          "text": [
            "<ipython-input-11-b63745bc0103>:21: RuntimeWarning: Mean of empty slice.\n",
            "  loss_data = np.array(losses).mean()\n",
            "/usr/local/lib/python3.11/dist-packages/numpy/core/_methods.py:129: RuntimeWarning: invalid value encountered in scalar divide\n",
            "  ret = ret.dtype.type(ret / rcount)\n"
          ]
        },
        {
          "output_type": "stream",
          "name": "stdout",
          "text": [
            "Epoch 00087 | Loss: nan\n",
            "Epoch 00088 | Loss: nan\n",
            "Epoch 00089 | Loss: nan\n",
            "Epoch 00090 | Loss: nan\n",
            "Epoch 00091 | Loss: nan\n",
            "F1-Score: 0.9711\n"
          ]
        },
        {
          "output_type": "stream",
          "name": "stderr",
          "text": [
            "<ipython-input-11-b63745bc0103>:21: RuntimeWarning: Mean of empty slice.\n",
            "  loss_data = np.array(losses).mean()\n",
            "/usr/local/lib/python3.11/dist-packages/numpy/core/_methods.py:129: RuntimeWarning: invalid value encountered in scalar divide\n",
            "  ret = ret.dtype.type(ret / rcount)\n"
          ]
        },
        {
          "output_type": "stream",
          "name": "stdout",
          "text": [
            "Epoch 00092 | Loss: nan\n",
            "Epoch 00093 | Loss: nan\n",
            "Epoch 00094 | Loss: nan\n",
            "Epoch 00095 | Loss: nan\n",
            "Epoch 00096 | Loss: nan\n",
            "F1-Score: 0.9719\n"
          ]
        },
        {
          "output_type": "stream",
          "name": "stderr",
          "text": [
            "<ipython-input-11-b63745bc0103>:21: RuntimeWarning: Mean of empty slice.\n",
            "  loss_data = np.array(losses).mean()\n",
            "/usr/local/lib/python3.11/dist-packages/numpy/core/_methods.py:129: RuntimeWarning: invalid value encountered in scalar divide\n",
            "  ret = ret.dtype.type(ret / rcount)\n"
          ]
        },
        {
          "output_type": "stream",
          "name": "stdout",
          "text": [
            "Epoch 00097 | Loss: nan\n",
            "Epoch 00098 | Loss: nan\n",
            "Epoch 00099 | Loss: nan\n",
            "Epoch 00100 | Loss: nan\n",
            "Epoch 00101 | Loss: nan\n",
            "F1-Score: 0.9729\n"
          ]
        },
        {
          "output_type": "stream",
          "name": "stderr",
          "text": [
            "<ipython-input-11-b63745bc0103>:21: RuntimeWarning: Mean of empty slice.\n",
            "  loss_data = np.array(losses).mean()\n",
            "/usr/local/lib/python3.11/dist-packages/numpy/core/_methods.py:129: RuntimeWarning: invalid value encountered in scalar divide\n",
            "  ret = ret.dtype.type(ret / rcount)\n"
          ]
        },
        {
          "output_type": "stream",
          "name": "stdout",
          "text": [
            "Epoch 00102 | Loss: nan\n",
            "Epoch 00103 | Loss: nan\n",
            "Epoch 00104 | Loss: nan\n",
            "Epoch 00105 | Loss: nan\n",
            "Epoch 00106 | Loss: nan\n",
            "F1-Score: 0.9739\n"
          ]
        },
        {
          "output_type": "stream",
          "name": "stderr",
          "text": [
            "<ipython-input-11-b63745bc0103>:21: RuntimeWarning: Mean of empty slice.\n",
            "  loss_data = np.array(losses).mean()\n",
            "/usr/local/lib/python3.11/dist-packages/numpy/core/_methods.py:129: RuntimeWarning: invalid value encountered in scalar divide\n",
            "  ret = ret.dtype.type(ret / rcount)\n"
          ]
        },
        {
          "output_type": "stream",
          "name": "stdout",
          "text": [
            "Epoch 00107 | Loss: nan\n",
            "Epoch 00108 | Loss: nan\n",
            "Epoch 00109 | Loss: nan\n",
            "Epoch 00110 | Loss: nan\n",
            "Epoch 00111 | Loss: nan\n",
            "F1-Score: 0.9737\n"
          ]
        },
        {
          "output_type": "stream",
          "name": "stderr",
          "text": [
            "<ipython-input-11-b63745bc0103>:21: RuntimeWarning: Mean of empty slice.\n",
            "  loss_data = np.array(losses).mean()\n",
            "/usr/local/lib/python3.11/dist-packages/numpy/core/_methods.py:129: RuntimeWarning: invalid value encountered in scalar divide\n",
            "  ret = ret.dtype.type(ret / rcount)\n"
          ]
        },
        {
          "output_type": "stream",
          "name": "stdout",
          "text": [
            "Epoch 00112 | Loss: nan\n",
            "Epoch 00113 | Loss: nan\n",
            "Epoch 00114 | Loss: nan\n",
            "Epoch 00115 | Loss: nan\n",
            "Epoch 00116 | Loss: nan\n",
            "F1-Score: 0.9742\n"
          ]
        },
        {
          "output_type": "stream",
          "name": "stderr",
          "text": [
            "<ipython-input-11-b63745bc0103>:21: RuntimeWarning: Mean of empty slice.\n",
            "  loss_data = np.array(losses).mean()\n",
            "/usr/local/lib/python3.11/dist-packages/numpy/core/_methods.py:129: RuntimeWarning: invalid value encountered in scalar divide\n",
            "  ret = ret.dtype.type(ret / rcount)\n"
          ]
        },
        {
          "output_type": "stream",
          "name": "stdout",
          "text": [
            "Epoch 00117 | Loss: nan\n",
            "Epoch 00118 | Loss: nan\n",
            "Epoch 00119 | Loss: nan\n",
            "Epoch 00120 | Loss: nan\n",
            "Epoch 00121 | Loss: nan\n",
            "F1-Score: 0.9752\n"
          ]
        },
        {
          "output_type": "stream",
          "name": "stderr",
          "text": [
            "<ipython-input-11-b63745bc0103>:21: RuntimeWarning: Mean of empty slice.\n",
            "  loss_data = np.array(losses).mean()\n",
            "/usr/local/lib/python3.11/dist-packages/numpy/core/_methods.py:129: RuntimeWarning: invalid value encountered in scalar divide\n",
            "  ret = ret.dtype.type(ret / rcount)\n"
          ]
        },
        {
          "output_type": "stream",
          "name": "stdout",
          "text": [
            "Epoch 00122 | Loss: nan\n",
            "Epoch 00123 | Loss: nan\n",
            "Epoch 00124 | Loss: nan\n",
            "Epoch 00125 | Loss: nan\n",
            "Epoch 00126 | Loss: nan\n",
            "F1-Score: 0.9750\n"
          ]
        },
        {
          "output_type": "stream",
          "name": "stderr",
          "text": [
            "<ipython-input-11-b63745bc0103>:21: RuntimeWarning: Mean of empty slice.\n",
            "  loss_data = np.array(losses).mean()\n",
            "/usr/local/lib/python3.11/dist-packages/numpy/core/_methods.py:129: RuntimeWarning: invalid value encountered in scalar divide\n",
            "  ret = ret.dtype.type(ret / rcount)\n"
          ]
        },
        {
          "output_type": "stream",
          "name": "stdout",
          "text": [
            "Epoch 00127 | Loss: nan\n",
            "Epoch 00128 | Loss: nan\n",
            "Epoch 00129 | Loss: nan\n",
            "Epoch 00130 | Loss: nan\n",
            "Epoch 00131 | Loss: nan\n",
            "F1-Score: 0.9765\n"
          ]
        },
        {
          "output_type": "stream",
          "name": "stderr",
          "text": [
            "<ipython-input-11-b63745bc0103>:21: RuntimeWarning: Mean of empty slice.\n",
            "  loss_data = np.array(losses).mean()\n",
            "/usr/local/lib/python3.11/dist-packages/numpy/core/_methods.py:129: RuntimeWarning: invalid value encountered in scalar divide\n",
            "  ret = ret.dtype.type(ret / rcount)\n"
          ]
        },
        {
          "output_type": "stream",
          "name": "stdout",
          "text": [
            "Epoch 00132 | Loss: nan\n",
            "Epoch 00133 | Loss: nan\n",
            "Epoch 00134 | Loss: nan\n",
            "Epoch 00135 | Loss: nan\n",
            "Epoch 00136 | Loss: nan\n",
            "F1-Score: 0.9770\n"
          ]
        },
        {
          "output_type": "stream",
          "name": "stderr",
          "text": [
            "<ipython-input-11-b63745bc0103>:21: RuntimeWarning: Mean of empty slice.\n",
            "  loss_data = np.array(losses).mean()\n",
            "/usr/local/lib/python3.11/dist-packages/numpy/core/_methods.py:129: RuntimeWarning: invalid value encountered in scalar divide\n",
            "  ret = ret.dtype.type(ret / rcount)\n"
          ]
        },
        {
          "output_type": "stream",
          "name": "stdout",
          "text": [
            "Epoch 00137 | Loss: nan\n",
            "Epoch 00138 | Loss: nan\n",
            "Epoch 00139 | Loss: nan\n",
            "Epoch 00140 | Loss: nan\n",
            "Epoch 00141 | Loss: nan\n",
            "F1-Score: 0.9777\n"
          ]
        },
        {
          "output_type": "stream",
          "name": "stderr",
          "text": [
            "<ipython-input-11-b63745bc0103>:21: RuntimeWarning: Mean of empty slice.\n",
            "  loss_data = np.array(losses).mean()\n",
            "/usr/local/lib/python3.11/dist-packages/numpy/core/_methods.py:129: RuntimeWarning: invalid value encountered in scalar divide\n",
            "  ret = ret.dtype.type(ret / rcount)\n"
          ]
        },
        {
          "output_type": "stream",
          "name": "stdout",
          "text": [
            "Epoch 00142 | Loss: nan\n",
            "Epoch 00143 | Loss: nan\n",
            "Epoch 00144 | Loss: nan\n",
            "Epoch 00145 | Loss: nan\n",
            "Epoch 00146 | Loss: nan\n",
            "F1-Score: 0.9778\n"
          ]
        },
        {
          "output_type": "stream",
          "name": "stderr",
          "text": [
            "<ipython-input-11-b63745bc0103>:21: RuntimeWarning: Mean of empty slice.\n",
            "  loss_data = np.array(losses).mean()\n",
            "/usr/local/lib/python3.11/dist-packages/numpy/core/_methods.py:129: RuntimeWarning: invalid value encountered in scalar divide\n",
            "  ret = ret.dtype.type(ret / rcount)\n"
          ]
        },
        {
          "output_type": "stream",
          "name": "stdout",
          "text": [
            "Epoch 00147 | Loss: nan\n",
            "Epoch 00148 | Loss: nan\n",
            "Epoch 00149 | Loss: nan\n",
            "Epoch 00150 | Loss: nan\n",
            "Epoch 00151 | Loss: nan\n",
            "F1-Score: 0.9757\n"
          ]
        },
        {
          "output_type": "stream",
          "name": "stderr",
          "text": [
            "<ipython-input-11-b63745bc0103>:21: RuntimeWarning: Mean of empty slice.\n",
            "  loss_data = np.array(losses).mean()\n",
            "/usr/local/lib/python3.11/dist-packages/numpy/core/_methods.py:129: RuntimeWarning: invalid value encountered in scalar divide\n",
            "  ret = ret.dtype.type(ret / rcount)\n"
          ]
        },
        {
          "output_type": "stream",
          "name": "stdout",
          "text": [
            "Epoch 00152 | Loss: nan\n",
            "Epoch 00153 | Loss: nan\n",
            "Epoch 00154 | Loss: nan\n",
            "Epoch 00155 | Loss: nan\n",
            "Epoch 00156 | Loss: nan\n",
            "F1-Score: 0.9747\n"
          ]
        },
        {
          "output_type": "stream",
          "name": "stderr",
          "text": [
            "<ipython-input-11-b63745bc0103>:21: RuntimeWarning: Mean of empty slice.\n",
            "  loss_data = np.array(losses).mean()\n",
            "/usr/local/lib/python3.11/dist-packages/numpy/core/_methods.py:129: RuntimeWarning: invalid value encountered in scalar divide\n",
            "  ret = ret.dtype.type(ret / rcount)\n"
          ]
        },
        {
          "output_type": "stream",
          "name": "stdout",
          "text": [
            "Epoch 00157 | Loss: nan\n",
            "Epoch 00158 | Loss: nan\n",
            "Epoch 00159 | Loss: nan\n",
            "Epoch 00160 | Loss: nan\n"
          ]
        }
      ]
    },
    {
      "cell_type": "code",
      "source": [
        "### F1-SCORE ON VALID DATASET\n",
        "score_valid = evaluate(model, loss_fcn, device, val_dataloader)\n",
        "print(\"Basic Model : F1-Score on the validation set: {:.4f}\".format(score_valid))\n",
        "\n",
        "\n",
        "### PLOT EVOLUTION OF F1-SCORE W.R.T EPOCHS\n",
        "def plot_f1_score(epoch_list, scores):\n",
        "    plt.figure(figsize=[10, 5])\n",
        "    plt.plot(epoch_list, scores)\n",
        "    plt.title(\"Evolution of F1-Score w.r.t epochs\")\n",
        "    plt.ylim([0.0, 1.0])\n",
        "    plt.show()\n",
        "\n",
        "\n",
        "plot_f1_score(epoch_list, model_scores)"
      ],
      "metadata": {
        "colab": {
          "base_uri": "https://localhost:8080/",
          "height": 486
        },
        "id": "tj7NUJn-ZC38",
        "outputId": "7f6466fc-42f0-483f-e126-dbe473c46ad2"
      },
      "execution_count": 21,
      "outputs": [
        {
          "output_type": "stream",
          "name": "stdout",
          "text": [
            "Basic Model : F1-Score on the validation set: 0.9757\n"
          ]
        },
        {
          "output_type": "display_data",
          "data": {
            "text/plain": [
              "<Figure size 1000x500 with 1 Axes>"
            ],
            "image/png": "[encoded data removed]"
          },
          "metadata": {}
        }
      ]
    },
    {
      "cell_type": "code",
      "execution_count": 18,
      "metadata": {
        "cell_ktag": "/PlDLt3cLqbp",
        "id": "zrTacHJTKDyM"
      },
      "outputs": [],
      "source": [
        "# import torch\n",
        "# import torch.nn as nn\n",
        "# import torch.nn.functional as F\n",
        "\n",
        "# # Initialize model\n",
        "# model = StudentModel()\n",
        "\n",
        "# ## Save the model\n",
        "# torch.save(model.state_dict(), \"model.pth\")\n",
        "\n",
        "\n",
        "# ### This is the part we will run in the inference to grade your model\n",
        "# ## Load the model\n",
        "# model = StudentModel()  # !  Important : No argument\n",
        "# model.load_state_dict(torch.load(\"model.pth\", weights_only=True))\n",
        "# model.eval()\n",
        "# print(\"Model loaded successfully\")\n"
      ]
    },
    {
      "cell_type": "code",
      "source": [
        "plt.plot(range(1600), losses)\n"
      ],
      "metadata": {
        "colab": {
          "base_uri": "https://localhost:8080/",
          "height": 448
        },
        "id": "AmYVqwCp8HZf",
        "outputId": "8207a040-4253-4123-a764-9c3baf07b288"
      },
      "execution_count": 20,
      "outputs": [
        {
          "output_type": "execute_result",
          "data": {
            "text/plain": [
              "[<matplotlib.lines.Line2D at 0x7f4691add3d0>]"
            ]
          },
          "metadata": {},
          "execution_count": 20
        },
        {
          "output_type": "display_data",
          "data": {
            "text/plain": [
              "<Figure size 640x480 with 1 Axes>"
            ],
            "image/png": "[encoded data removed]"
          },
          "metadata": {}
        }
      ]
    },
    {
      "cell_type": "markdown",
      "metadata": {
        "cell_ktag": "/PlDLt3cLqbp",
        "id": "NP1ENRqoKDyM"
      },
      "source": [
        "## Conv 2D as Message Passing Neural Network\n",
        "\n",
        "\n",
        "## Introduction\n",
        "\n",
        "The use of graph is a way to structure data by adding neighborhood information between features. This then allows to do operations on the data that are local to each node and its neighbors. This is the main idea behind Graph Neural Networks (GNNs). [`pytorch-geometric`](https://pytorch-geometric.readthedocs.io/en/latest/) is a library compatible with PyTorch that allows to easily implement GNNs. The most general structure is the [`MessagePassing`](https://pytorch-geometric.readthedocs.io/en/latest/generated/torch_geometric.nn.conv.MessagePassing.html#torch_geometric.nn.conv.MessagePassing) class that is then used as a base for more specific GNNs as seen in the course ([Graph Convolutional Networks](https://pytorch-geometric.readthedocs.io/en/latest/generated/torch_geometric.nn.conv.GCNConv.html#torch_geometric.nn.conv.GCNConv) or [Graph AttenTion Convolution](https://pytorch-geometric.readthedocs.io/en/latest/generated/torch_geometric.nn.conv.GATConv.html#torch_geometric.nn.conv.GATConv)).\n",
        "\n",
        "On the other hand, you already know an operation that uses the structure of the data to do local operations: the convolution (https://pytorch.org/docs/stable/generated/torch.nn.Conv2d.html). One can see the convolution as a specific case of the message passing neural network. The goal of this notebook is to show how to use the `MessagePassing` class to implement a convolutional neural network.\n",
        "You will be asked to implement 3 functions. You should give back those three functions in a file named `conv_as_message_passing.py`. These functions will then be automatically tested. So be sure to respect the function signature and the function name.\n",
        "\n",
        "\n",
        "## Assumptions\n",
        "\n",
        "To make the implementation easier we will make some assumptions:\n",
        "- the input is a single image (batch size of 1) of size 'C x H x W'\n",
        "- the convolution will be a 3x3 kernel with stride 1 and padding 1.\n",
        "\n",
        "You may also assume that the Conv2D layer has no bias but it will be slightly penalized in the grading.\n",
        "\n",
        "Bonus points will be given if you can handle the cases that are not covered by those assumptions.\n",
        "\n",
        "\n",
        "## Questions\n",
        "\n",
        "### Question 2\n",
        "\n",
        "> Using the formalism used in the [`MessagePassing`](https://pytorch-geometric.readthedocs.io/en/latest/generated/torch_geometric.nn.conv.MessagePassing.html#torch_geometric.nn.conv.MessagePassing) documentation (and on [wikipedia](https://en.wikipedia.org/wiki/Graph_neural_network#Message_passing_layers) with sligthly different notations), explain how theorically you can simulate a 2D convolution using the `MessagePassing` formalism. This may include a pre-processing step to transform the image into a graph and then a post-processing step to transform the graph back into an image. (:warning: Those steps should be independent of the parameters of the convolution, but not necessarily from the hyper-parameters.)\n",
        "$$\\mathbf{x}_{i}^{\\prime} = \\gamma_{\\mathbf{\\Theta}}\\left( \\mathbf{x}_{i},\\bigoplus\\limits_{j \\in \\mathcal{N}(i)}\\,\\phi_{\\mathbf{\\Theta}}\\left( \\mathbf{x}_{i},\\mathbf{x}_{j},\\mathbf{e}_{j,i} \\right) \\right),$$\n",
        "\n",
        "\n",
        "HINT : It is possible to do it with the following $\\gamma$ :\n",
        "\n",
        "$$ \\gamma_\\Theta : x,y \\mapsto y $$\n"
      ]
    },
    {
      "cell_type": "markdown",
      "source": [
        "\n",
        "In a 2D convolution, for the ith-line & jth- column pixels,\n",
        "\n",
        "$$X^{'}_{i,j} = \\sum_{(i', j') \\in \\mathcal{N}(i,j)}W_{i',j'}X_{i+i', j+j'}\\quad  (1)$$  <br>\n",
        "Hence, here we will represent the image as graph where the node are the pixels and the node value will be the pixel value ( Grayscale, RGB, ...). The edges will be set to 1. <br>\n",
        "Therefore, we can write the convolution as a MessagePassing Problem where :\n",
        "$$ \\gamma_\\Theta : x,y \\mapsto y \\quad ; \\quad \\bigoplus\\limits_{j \\in \\mathcal{N}(i)} = \\sum_{j \\in \\mathcal{N}(i)}  \\quad ; \\quad \\phi_{\\mathbf{\\Theta}}(x_i, x_j, e_{i,j}) = \\frac{1}{9}x_j + \\frac{1}{9 |\\mathcal{N}(i)|}x_i $$\n",
        "$$ x^{'}_{i} = \\gamma_{\\Theta}(x_i, \\sum_{j \\in \\mathcal{N}(i)}\\frac{1}{9}x_j  + \\frac{1}{9 |\\mathcal{N}(i)|}x_i)$$\n"
      ],
      "metadata": {
        "id": "vGtUD4NQYI5a"
      }
    },
    {
      "cell_type": "code",
      "execution_count": 5,
      "metadata": {
        "cell_ktag": "/PlDLt3cLqbp",
        "id": "dhmu9sHqKDyM"
      },
      "outputs": [],
      "source": [
        "import torch\n",
        "import torch_geometric"
      ]
    },
    {
      "cell_type": "markdown",
      "metadata": {
        "cell_ktag": "/PlDLt3cLqbp",
        "id": "RnNkDwGRKDyM"
      },
      "source": [
        "### Question 3\n",
        "\n",
        "> Implement the pre-processing function, you can use the follwing code skeleton (you may change the output type, it is just a strong suggestion):"
      ]
    },
    {
      "cell_type": "code",
      "source": [
        "import torch\n",
        "from torch_geometric.data import Data\n",
        "\n",
        "def image_to_graph(\n",
        "    image: torch.Tensor, conv2d: torch.nn.Conv2d | None = None\n",
        ") -> Data:\n",
        "    \"\"\"\n",
        "    Converts an image tensor to a PyTorch Geometric Data object.\n",
        "\n",
        "    Each pixel is treated as a node with features given by its channel values.\n",
        "    Edges are added between a pixel and all pixels in its receptive field, determined\n",
        "    by a 3x3 neighborhood. If conv2d is provided, its parameters are used for validation.\n",
        "\n",
        "    Arguments:\n",
        "    ----------\n",
        "    image : torch.Tensor\n",
        "        Image tensor of shape (C, H, W).\n",
        "    conv2d : torch.nn.Conv2d, optional\n",
        "        Conv2d layer to simulate, by default None. Used to determine the receptive field.\n",
        "\n",
        "    Returns:\n",
        "    --------\n",
        "    Data\n",
        "        Graph representation of the image.\n",
        "    \"\"\"\n",
        "    # Validate image dimensions.\n",
        "    assert image.dim() == 3, f\"Expected 3D tensor, got {image.dim()}D tensor.\"\n",
        "\n",
        "    # If conv2d is provided, ensure its parameters match the expected receptive field.\n",
        "    if conv2d is not None:\n",
        "        assert conv2d.padding[0] == conv2d.padding[1] == 1, \"Expected padding of 1 on both sides.\"\n",
        "        assert conv2d.kernel_size[0] == conv2d.kernel_size[1] == 3, \"Expected kernel size of 3x3.\"\n",
        "        assert conv2d.stride[0] == conv2d.stride[1] == 1, \"Expected stride of 1.\"\n",
        "    # For this implementation, we assume a 3x3 receptive field.\n",
        "    kernel_size = 3\n",
        "    pad = kernel_size // 2  # pad=1\n",
        "\n",
        "    # Get image dimensions.\n",
        "    C, H, W = image.shape\n",
        "\n",
        "    # Create node features:\n",
        "    # Reshape the image so that each pixel (node) has a feature vector of length C.\n",
        "    # (C, H, W) -> (H*W, C)\n",
        "    x = image.view(C, -1).transpose(0, 1)\n",
        "\n",
        "    # Build edges: each pixel is connected to all pixels in its 3x3 neighborhood.\n",
        "    # We compute the neighbor offsets for a 3x3 grid.\n",
        "    offsets = [(di, dj) for di in range(-pad, pad + 1) for dj in range(-pad, pad + 1)]\n",
        "\n",
        "    src, dst, edge_attr = [], [], []\n",
        "    for i in range(H):\n",
        "        for j in range(W):\n",
        "            current_index = i * W + j\n",
        "            for k, (di, dj) in enumerate(offsets):\n",
        "                ni, nj = i + di, j + dj\n",
        "                # Only add valid neighbors (within image bounds)\n",
        "                if 0 <= ni < H and 0 <= nj < W:\n",
        "                    neighbor_index = ni * W + nj\n",
        "                    src.append(current_index)\n",
        "                    dst.append(neighbor_index)\n",
        "                    # Create one-hot edge attributes to represent kernel elements.\n",
        "                    attr = torch.zeros(len(offsets), dtype=torch.float)\n",
        "                    attr[k] = 1.0\n",
        "                    edge_attr.append(attr)\n",
        "\n",
        "    # Construct edge index tensor.\n",
        "    edge_index = torch.tensor([src, dst], dtype=torch.long)\n",
        "    # Stack edge attributes.\n",
        "    edge_attr = torch.stack(edge_attr)\n",
        "\n",
        "    # Return the graph as a PyG Data object.\n",
        "    return Data(x=x, edge_index=edge_index, edge_attr=edge_attr)"
      ],
      "metadata": {
        "id": "NByg_asYav_i"
      },
      "execution_count": 6,
      "outputs": []
    },
    {
      "cell_type": "markdown",
      "metadata": {
        "cell_ktag": "/PlDLt3cLqbp",
        "id": "Qy_KM-RlKDyM"
      },
      "source": [
        "### Question 4\n",
        "\n",
        "> Implement the post-processing function, you can use the follwing code skeleton:"
      ]
    },
    {
      "cell_type": "code",
      "source": [
        "import torch\n",
        "\n",
        "def graph_to_image(\n",
        "    data: torch.Tensor, height: int, width: int, conv2d: torch.nn.Conv2d | None = None\n",
        ") -> torch.Tensor:\n",
        "    \"\"\"\n",
        "    Converts a graph representation of an image to an image tensor.\n",
        "\n",
        "    Each row of the graph data is assumed to be the node features corresponding\n",
        "    to one pixel of the image. The image is recovered by reshaping the node features\n",
        "    to match the original spatial dimensions.\n",
        "\n",
        "    Arguments:\n",
        "    ----------\n",
        "    data : torch.Tensor\n",
        "        Graph data representation of the image with shape (H*W, C).\n",
        "    height : int\n",
        "        Height of the image.\n",
        "    width : int\n",
        "        Width of the image.\n",
        "    conv2d : torch.nn.Conv2d, optional\n",
        "        Conv2d layer to simulate, by default None. Used for validating expected parameters.\n",
        "\n",
        "    Returns:\n",
        "    --------\n",
        "    torch.Tensor\n",
        "        Image tensor of shape (C, H, W).\n",
        "    \"\"\"\n",
        "    # Assumptions: data is a 2D tensor with shape (num_nodes, num_features).\n",
        "    assert data.dim() == 2, f\"Expected 2D tensor, got {data.dim()}D tensor.\"\n",
        "    if conv2d is not None:\n",
        "        assert conv2d.padding[0] == conv2d.padding[1] == 1, \"Expected padding of 1 on both sides.\"\n",
        "        assert conv2d.kernel_size[0] == conv2d.kernel_size[1] == 3, \"Expected kernel size of 3x3.\"\n",
        "        assert conv2d.stride[0] == conv2d.stride[1] == 1, \"Expected stride of 1.\"\n",
        "\n",
        "    num_nodes, num_features = data.shape\n",
        "    assert num_nodes == height * width, \"Mismatch between provided height, width and data shape.\"\n",
        "\n",
        "    # Recover the image by reshaping the node features.\n",
        "    # Original node features were arranged as (H*W, C). We need to produce (C, H, W).\n",
        "    image = data.transpose(0, 1).view(num_features, height, width)\n",
        "\n",
        "    return image\n"
      ],
      "metadata": {
        "id": "nz7EwyiQcB6L"
      },
      "execution_count": 10,
      "outputs": []
    },
    {
      "cell_type": "code",
      "source": [
        "fig, axes = plt.subplots(1, 2, figsize=(10, 5))\n",
        "# Load an MNIST image\n",
        "test_dataset = datasets.MNIST(root=\"./data\", train=False, download=True, transform=transforms.ToTensor())\n",
        "image, _ = test_dataset[0]  # Take the first image\n",
        "axes[0].imshow(image.squeeze(), cmap=\"gray\")\n",
        "axes[0].set_title(\"Original Image\")\n",
        "axes[0].axis(\"off\")\n",
        "\n",
        "\n",
        "# Convert image to graph\n",
        "graph = image_to_graph(image)  # Ajoute une dimension de canal\n",
        "image_recomposed = graph_to_image(graph.x, 28, 28, None)\n",
        "\n",
        "axes[1].imshow(image.squeeze(), cmap=\"gray\")\n",
        "axes[1].set_title(\"Image converted to graph and back to image\")\n",
        "axes[1].axis(\"off\")\n"
      ],
      "metadata": {
        "colab": {
          "base_uri": "https://localhost:8080/",
          "height": 429
        },
        "id": "wTkufJlItSY7",
        "outputId": "b228e31b-3005-4cc2-cb77-36e3e907ab62"
      },
      "execution_count": 19,
      "outputs": [
        {
          "output_type": "execute_result",
          "data": {
            "text/plain": [
              "(-0.5, 27.5, 27.5, -0.5)"
            ]
          },
          "metadata": {},
          "execution_count": 19
        },
        {
          "output_type": "display_data",
          "data": {
            "text/plain": [
              "<Figure size 1000x500 with 2 Axes>"
            ],
            "image/png": "[encoded data removed]"
          },
          "metadata": {}
        }
      ]
    },
    {
      "cell_type": "markdown",
      "metadata": {
        "cell_ktag": "/PlDLt3cLqbp",
        "id": "vRkXO4B8KDyN"
      },
      "source": [
        "#### Recommended test cases\n",
        "\n",
        "We **encourage** you to test that you have the property that the pre-processing function followed by the post-processing function is the identity function."
      ]
    },
    {
      "cell_type": "code",
      "execution_count": 20,
      "metadata": {
        "cell_ktag": "/PlDLt3cLqbp",
        "id": "UlooPeQUKDyN"
      },
      "outputs": [],
      "source": [
        "ref_conv = torch.nn.Conv2d(5, 7, kernel_size=3, padding=1, stride=1)\n",
        "image = torch.randn(5, 10, 11)\n",
        "g_image = image_to_graph(image, ref_conv)\n",
        "reconstructed_image = graph_to_image(g_image.x, 10, 11, ref_conv)\n",
        "assert torch.allclose(image, reconstructed_image)"
      ]
    },
    {
      "cell_type": "markdown",
      "metadata": {
        "cell_ktag": "/PlDLt3cLqbp",
        "id": "eB4EnJZUKDyN"
      },
      "source": [
        "### Question 5\n",
        "\n",
        "> Implement the `Conv2dMessagePassing` class that will simulate a 2D convolution using the `MessagePassing` formalism.\n",
        "You should inherit from the `MessagePassing` class and only change the `__init__` and `message` functions (the `forward` function has already been changed for you). You should use the following code skeleton:"
      ]
    },
    {
      "cell_type": "code",
      "execution_count": 56,
      "metadata": {
        "cell_ktag": "/PlDLt3cLqbp",
        "id": "JXoWv_JMKDyN"
      },
      "outputs": [],
      "source": [
        "class Conv2dMessagePassing(torch_geometric.nn.MessagePassing):\n",
        "    \"\"\"\n",
        "    A Message Passing layer that simulates a given Conv2d layer.\n",
        "    \"\"\"\n",
        "\n",
        "    def __init__(self, conv2d: torch.nn.Conv2d):\n",
        "        # <TO IMPLEMENT>\n",
        "        # Don't forget to call the parent constructor with the correct aguments\n",
        "        # super().__init__(<arguments>)\n",
        "        # </TO IMPLEMENT>\n",
        "        raise NotImplementedError\n",
        "\n",
        "    def forward(self, data):\n",
        "        self.edge_index = data.edge_index\n",
        "\n",
        "        x, edge_index, edge_attr = data.x, data.edge_index, data.edge_attr\n",
        "        out = self.propagate(edge_index, x=x, edge_attr=edge_attr)\n",
        "        return out\n",
        "\n",
        "    def message(self, x_j: torch.Tensor, edge_attr: torch.Tensor) -> torch.Tensor:\n",
        "        \"\"\"\n",
        "        Computes the message to be passed for each edge.\n",
        "        For each edge e = (u, v) in the graph indexed by i,\n",
        "        the message trough the edge e (ie from node u to node v)\n",
        "        should be returned as the i-th line of the output tensor.\n",
        "        (The message is phi(u, v, e) in the formalism.)\n",
        "        To do this you can access the features of the source node\n",
        "        in x_j[i] and the attributes of the edge in edge_attr[i].\n",
        "\n",
        "        Arguments:\n",
        "        ----------\n",
        "        x_j : torch.Tensor\n",
        "            The features of the souce node for each edge (of size E x in_channels).\n",
        "        edge_attr : torch.Tensor\n",
        "            The attributes of the edge (of size E x edge_attr_dim).\n",
        "\n",
        "        Returns:\n",
        "        --------\n",
        "        torch.Tensor\n",
        "            The message to be passed for each edge (of size COMPLETE)\n",
        "        \"\"\"\n",
        "        raise NotImplementedError\n"
      ]
    },
    {
      "cell_type": "markdown",
      "metadata": {
        "cell_ktag": "/PlDLt3cLqbp",
        "id": "Wz_PeqnBKDyN"
      },
      "source": [
        "## Test example"
      ]
    },
    {
      "cell_type": "code",
      "execution_count": 57,
      "metadata": {
        "cell_ktag": "/PlDLt3cLqbp",
        "colab": {
          "base_uri": "https://localhost:8080/",
          "height": 436
        },
        "id": "99tBRvgHKDyN",
        "outputId": "8b6665a5-fbf2-402e-c58b-e575c0d9c8ae"
      },
      "outputs": [
        {
          "output_type": "stream",
          "name": "stdout",
          "text": [
            "number of edges: 868\n",
            "number of nodes: 5\n",
            "torch.Size([868, 5])\n",
            "torch.Size([2, 868])\n"
          ]
        },
        {
          "output_type": "error",
          "ename": "RuntimeError",
          "evalue": "The size of tensor a (868) must match the size of tensor b (5) at non-singleton dimension 1",
          "traceback": [
            "\u001b[0;31m---------------------------------------------------------------------------\u001b[0m",
            "\u001b[0;31mRuntimeError\u001b[0m                              Traceback (most recent call last)",
            "\u001b[0;32m<ipython-input-57-bbb533b631ba>\u001b[0m in \u001b[0;36m<cell line: 0>\u001b[0;34m()\u001b[0m\n\u001b[1;32m     12\u001b[0m \u001b[0mconv_mp\u001b[0m \u001b[0;34m=\u001b[0m \u001b[0mConv2dMessagePassing\u001b[0m\u001b[0;34m(\u001b[0m\u001b[0mref_conv\u001b[0m\u001b[0;34m)\u001b[0m\u001b[0;34m\u001b[0m\u001b[0;34m\u001b[0m\u001b[0m\n\u001b[1;32m     13\u001b[0m \u001b[0;34m\u001b[0m\u001b[0m\n\u001b[0;32m---> 14\u001b[0;31m \u001b[0mg_image\u001b[0m \u001b[0;34m=\u001b[0m \u001b[0mconv_mp\u001b[0m\u001b[0;34m(\u001b[0m\u001b[0mg_image\u001b[0m\u001b[0;34m)\u001b[0m\u001b[0;34m\u001b[0m\u001b[0;34m\u001b[0m\u001b[0m\n\u001b[0m\u001b[1;32m     15\u001b[0m \u001b[0;34m\u001b[0m\u001b[0m\n\u001b[1;32m     16\u001b[0m \u001b[0my_th\u001b[0m \u001b[0;34m=\u001b[0m \u001b[0mref_conv\u001b[0m\u001b[0;34m(\u001b[0m\u001b[0mimage\u001b[0m\u001b[0;34m)\u001b[0m\u001b[0;34m\u001b[0m\u001b[0;34m\u001b[0m\u001b[0m\n",
            "\u001b[0;32m/usr/local/lib/python3.11/dist-packages/torch/nn/modules/module.py\u001b[0m in \u001b[0;36m_wrapped_call_impl\u001b[0;34m(self, *args, **kwargs)\u001b[0m\n\u001b[1;32m   1734\u001b[0m             \u001b[0;32mreturn\u001b[0m \u001b[0mself\u001b[0m\u001b[0;34m.\u001b[0m\u001b[0m_compiled_call_impl\u001b[0m\u001b[0;34m(\u001b[0m\u001b[0;34m*\u001b[0m\u001b[0margs\u001b[0m\u001b[0;34m,\u001b[0m \u001b[0;34m**\u001b[0m\u001b[0mkwargs\u001b[0m\u001b[0;34m)\u001b[0m  \u001b[0;31m# type: ignore[misc]\u001b[0m\u001b[0;34m\u001b[0m\u001b[0;34m\u001b[0m\u001b[0m\n\u001b[1;32m   1735\u001b[0m         \u001b[0;32melse\u001b[0m\u001b[0;34m:\u001b[0m\u001b[0;34m\u001b[0m\u001b[0;34m\u001b[0m\u001b[0m\n\u001b[0;32m-> 1736\u001b[0;31m             \u001b[0;32mreturn\u001b[0m \u001b[0mself\u001b[0m\u001b[0;34m.\u001b[0m\u001b[0m_call_impl\u001b[0m\u001b[0;34m(\u001b[0m\u001b[0;34m*\u001b[0m\u001b[0margs\u001b[0m\u001b[0;34m,\u001b[0m \u001b[0;34m**\u001b[0m\u001b[0mkwargs\u001b[0m\u001b[0;34m)\u001b[0m\u001b[0;34m\u001b[0m\u001b[0;34m\u001b[0m\u001b[0m\n\u001b[0m\u001b[1;32m   1737\u001b[0m \u001b[0;34m\u001b[0m\u001b[0m\n\u001b[1;32m   1738\u001b[0m     \u001b[0;31m# torchrec tests the code consistency with the following code\u001b[0m\u001b[0;34m\u001b[0m\u001b[0;34m\u001b[0m\u001b[0m\n",
            "\u001b[0;32m/usr/local/lib/python3.11/dist-packages/torch/nn/modules/module.py\u001b[0m in \u001b[0;36m_call_impl\u001b[0;34m(self, *args, **kwargs)\u001b[0m\n\u001b[1;32m   1745\u001b[0m                 \u001b[0;32mor\u001b[0m \u001b[0m_global_backward_pre_hooks\u001b[0m \u001b[0;32mor\u001b[0m \u001b[0m_global_backward_hooks\u001b[0m\u001b[0;34m\u001b[0m\u001b[0;34m\u001b[0m\u001b[0m\n\u001b[1;32m   1746\u001b[0m                 or _global_forward_hooks or _global_forward_pre_hooks):\n\u001b[0;32m-> 1747\u001b[0;31m             \u001b[0;32mreturn\u001b[0m \u001b[0mforward_call\u001b[0m\u001b[0;34m(\u001b[0m\u001b[0;34m*\u001b[0m\u001b[0margs\u001b[0m\u001b[0;34m,\u001b[0m \u001b[0;34m**\u001b[0m\u001b[0mkwargs\u001b[0m\u001b[0;34m)\u001b[0m\u001b[0;34m\u001b[0m\u001b[0;34m\u001b[0m\u001b[0m\n\u001b[0m\u001b[1;32m   1748\u001b[0m \u001b[0;34m\u001b[0m\u001b[0m\n\u001b[1;32m   1749\u001b[0m         \u001b[0mresult\u001b[0m \u001b[0;34m=\u001b[0m \u001b[0;32mNone\u001b[0m\u001b[0;34m\u001b[0m\u001b[0;34m\u001b[0m\u001b[0m\n",
            "\u001b[0;32m<ipython-input-56-8a5fdc2bbc0f>\u001b[0m in \u001b[0;36mforward\u001b[0;34m(self, data)\u001b[0m\n\u001b[1;32m     19\u001b[0m \u001b[0;34m\u001b[0m\u001b[0m\n\u001b[1;32m     20\u001b[0m         \u001b[0mx\u001b[0m\u001b[0;34m,\u001b[0m \u001b[0medge_index\u001b[0m\u001b[0;34m,\u001b[0m \u001b[0medge_attr\u001b[0m \u001b[0;34m=\u001b[0m \u001b[0mdata\u001b[0m\u001b[0;34m.\u001b[0m\u001b[0mx\u001b[0m\u001b[0;34m,\u001b[0m \u001b[0mdata\u001b[0m\u001b[0;34m.\u001b[0m\u001b[0medge_index\u001b[0m\u001b[0;34m,\u001b[0m \u001b[0mdata\u001b[0m\u001b[0;34m.\u001b[0m\u001b[0medge_attr\u001b[0m\u001b[0;34m\u001b[0m\u001b[0;34m\u001b[0m\u001b[0m\n\u001b[0;32m---> 21\u001b[0;31m         \u001b[0mout\u001b[0m \u001b[0;34m=\u001b[0m \u001b[0mself\u001b[0m\u001b[0;34m.\u001b[0m\u001b[0mpropagate\u001b[0m\u001b[0;34m(\u001b[0m\u001b[0medge_index\u001b[0m\u001b[0;34m,\u001b[0m \u001b[0mx\u001b[0m\u001b[0;34m=\u001b[0m\u001b[0mx\u001b[0m\u001b[0;34m,\u001b[0m \u001b[0medge_attr\u001b[0m\u001b[0;34m=\u001b[0m\u001b[0medge_attr\u001b[0m\u001b[0;34m)\u001b[0m\u001b[0;34m\u001b[0m\u001b[0;34m\u001b[0m\u001b[0m\n\u001b[0m\u001b[1;32m     22\u001b[0m         \u001b[0;32mreturn\u001b[0m \u001b[0mout\u001b[0m\u001b[0;34m\u001b[0m\u001b[0;34m\u001b[0m\u001b[0m\n\u001b[1;32m     23\u001b[0m \u001b[0;34m\u001b[0m\u001b[0m\n",
            "\u001b[0;32m/usr/local/lib/python3.11/dist-packages/torch_geometric/nn/conv/message_passing.py\u001b[0m in \u001b[0;36mpropagate\u001b[0;34m(self, edge_index, size, **kwargs)\u001b[0m\n\u001b[1;32m    521\u001b[0m                     \u001b[0;32mif\u001b[0m \u001b[0mres\u001b[0m \u001b[0;32mis\u001b[0m \u001b[0;32mnot\u001b[0m \u001b[0;32mNone\u001b[0m\u001b[0;34m:\u001b[0m\u001b[0;34m\u001b[0m\u001b[0;34m\u001b[0m\u001b[0m\n\u001b[1;32m    522\u001b[0m                         \u001b[0mmsg_kwargs\u001b[0m \u001b[0;34m=\u001b[0m \u001b[0mres\u001b[0m\u001b[0;34m[\u001b[0m\u001b[0;36m0\u001b[0m\u001b[0;34m]\u001b[0m \u001b[0;32mif\u001b[0m \u001b[0misinstance\u001b[0m\u001b[0;34m(\u001b[0m\u001b[0mres\u001b[0m\u001b[0;34m,\u001b[0m \u001b[0mtuple\u001b[0m\u001b[0;34m)\u001b[0m \u001b[0;32melse\u001b[0m \u001b[0mres\u001b[0m\u001b[0;34m\u001b[0m\u001b[0;34m\u001b[0m\u001b[0m\n\u001b[0;32m--> 523\u001b[0;31m                 \u001b[0mout\u001b[0m \u001b[0;34m=\u001b[0m \u001b[0mself\u001b[0m\u001b[0;34m.\u001b[0m\u001b[0mmessage\u001b[0m\u001b[0;34m(\u001b[0m\u001b[0;34m**\u001b[0m\u001b[0mmsg_kwargs\u001b[0m\u001b[0;34m)\u001b[0m\u001b[0;34m\u001b[0m\u001b[0;34m\u001b[0m\u001b[0m\n\u001b[0m\u001b[1;32m    524\u001b[0m                 \u001b[0;32mfor\u001b[0m \u001b[0mhook\u001b[0m \u001b[0;32min\u001b[0m \u001b[0mself\u001b[0m\u001b[0;34m.\u001b[0m\u001b[0m_message_forward_hooks\u001b[0m\u001b[0;34m.\u001b[0m\u001b[0mvalues\u001b[0m\u001b[0;34m(\u001b[0m\u001b[0;34m)\u001b[0m\u001b[0;34m:\u001b[0m\u001b[0;34m\u001b[0m\u001b[0;34m\u001b[0m\u001b[0m\n\u001b[1;32m    525\u001b[0m                     \u001b[0mres\u001b[0m \u001b[0;34m=\u001b[0m \u001b[0mhook\u001b[0m\u001b[0;34m(\u001b[0m\u001b[0mself\u001b[0m\u001b[0;34m,\u001b[0m \u001b[0;34m(\u001b[0m\u001b[0mmsg_kwargs\u001b[0m\u001b[0;34m,\u001b[0m \u001b[0;34m)\u001b[0m\u001b[0;34m,\u001b[0m \u001b[0mout\u001b[0m\u001b[0;34m)\u001b[0m\u001b[0;34m\u001b[0m\u001b[0;34m\u001b[0m\u001b[0m\n",
            "\u001b[0;32m<ipython-input-56-8a5fdc2bbc0f>\u001b[0m in \u001b[0;36mmessage\u001b[0;34m(self, x_j, edge_attr)\u001b[0m\n\u001b[1;32m     52\u001b[0m         \u001b[0;31m# Multiply the selected weights with the node features\u001b[0m\u001b[0;34m\u001b[0m\u001b[0;34m\u001b[0m\u001b[0m\n\u001b[1;32m     53\u001b[0m         \u001b[0;31m# and sum across the input channels (dim=1) to get the message for each edge\u001b[0m\u001b[0;34m\u001b[0m\u001b[0;34m\u001b[0m\u001b[0m\n\u001b[0;32m---> 54\u001b[0;31m         \u001b[0mmessages\u001b[0m \u001b[0;34m=\u001b[0m \u001b[0;34m(\u001b[0m\u001b[0mweights\u001b[0m \u001b[0;34m*\u001b[0m \u001b[0mx_j\u001b[0m\u001b[0;34m)\u001b[0m\u001b[0;34m.\u001b[0m\u001b[0msum\u001b[0m\u001b[0;34m(\u001b[0m\u001b[0mdim\u001b[0m\u001b[0;34m=\u001b[0m\u001b[0;36m1\u001b[0m\u001b[0;34m)\u001b[0m\u001b[0;34m\u001b[0m\u001b[0;34m\u001b[0m\u001b[0m\n\u001b[0m\u001b[1;32m     55\u001b[0m \u001b[0;34m\u001b[0m\u001b[0m\n\u001b[1;32m     56\u001b[0m         \u001b[0;31m# Reshape the messages to have shape (E, out_channels)\u001b[0m\u001b[0;34m\u001b[0m\u001b[0;34m\u001b[0m\u001b[0m\n",
            "\u001b[0;31mRuntimeError\u001b[0m: The size of tensor a (868) must match the size of tensor b (5) at non-singleton dimension 1"
          ]
        }
      ],
      "source": [
        "#from conv_as_message_passing import image_to_graph, graph_to_image, Conv2dMessagePassing\n",
        "\n",
        "c = 5\n",
        "h = 10\n",
        "w = 11\n",
        "\n",
        "ref_conv = torch.nn.Conv2d(c, 2, kernel_size=3, padding=1, stride=1, bias=False)\n",
        "image = torch.randn(c, h, w)\n",
        "g_image = image_to_graph(image, ref_conv)\n",
        "ref_conv.weight.data = torch.randn_like(ref_conv.weight.data)\n",
        "\n",
        "conv_mp = Conv2dMessagePassing(ref_conv)\n",
        "\n",
        "g_image = conv_mp(g_image)\n",
        "\n",
        "y_th = ref_conv(image)\n",
        "\n",
        "# ref_conv.weight.data = torch.randn_like(ref_conv.weight.data)\n",
        "# reconstructed_image = graph_to_image(g_image, h, w, ref_conv)\n",
        "\n",
        "# assert torch.allclose(y_th, reconstructed_image, atol=1e-4)\n"
      ]
    },
    {
      "cell_type": "code",
      "source": [],
      "metadata": {
        "id": "HA7I5G5Efhqe"
      },
      "execution_count": 51,
      "outputs": []
    }
  ],
  "metadata": {
    "kernelspec": {
      "display_name": "Python 3",
      "name": "python3"
    },
    "kfiletag": "/PlDLt3cLqbp",
    "language_info": {
      "codemirror_mode": {
        "name": "ipython",
        "version": 3
      },
      "file_extension": ".py",
      "mimetype": "text/x-python",
      "name": "python",
      "nbconvert_exporter": "python",
      "pygments_lexer": "ipython3",
      "version": "3.9.7"
    },
    "colab": {
      "provenance": [],
      "gpuType": "T4"
    },
    "accelerator": "GPU"
  },
  "nbformat": 4,
  "nbformat_minor": 0
}